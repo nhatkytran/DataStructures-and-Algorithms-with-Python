{
 "cells": [
  {
   "cell_type": "code",
   "execution_count": 28,
   "metadata": {},
   "outputs": [],
   "source": [
    "def fact(number):\n",
    "    result = 1\n",
    "    for num in range(1, number + 1):\n",
    "        result *= num\n",
    "    return result\n",
    "\n",
    "\n",
    "def recursive_fact(number):\n",
    "    if number <= 1:\n",
    "        return 1\n",
    "    return number * recursive_fact(number - 1)\n",
    "\n",
    "\n",
    "def fact_memoi():\n",
    "    memo = {}\n",
    "    def inner(number):\n",
    "        if number <= 1:\n",
    "            return 1\n",
    "        try:\n",
    "            return memo[number]\n",
    "        except KeyError:\n",
    "            result = number * inner(number - 1)\n",
    "            memo[number] = result\n",
    "            return result\n",
    "    return inner\n"
   ]
  },
  {
   "cell_type": "code",
   "execution_count": null,
   "metadata": {},
   "outputs": [],
   "source": []
  }
 ],
 "metadata": {
  "kernelspec": {
   "display_name": "Python 3.9.5 64-bit",
   "language": "python",
   "name": "python3"
  },
  "language_info": {
   "codemirror_mode": {
    "name": "ipython",
    "version": 3
   },
   "file_extension": ".py",
   "mimetype": "text/x-python",
   "name": "python",
   "nbconvert_exporter": "python",
   "pygments_lexer": "ipython3",
   "version": "3.9.5"
  },
  "orig_nbformat": 4,
  "vscode": {
   "interpreter": {
    "hash": "b8bdd4e700647ba2b08c59e5df8b7da1dcf50a218bcd4c1bcd9b3dc92e8788e5"
   }
  }
 },
 "nbformat": 4,
 "nbformat_minor": 2
}
