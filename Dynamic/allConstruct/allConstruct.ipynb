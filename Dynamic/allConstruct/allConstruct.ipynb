{
 "cells": [
  {
   "cell_type": "code",
   "execution_count": 17,
   "metadata": {},
   "outputs": [
    {
     "name": "stdout",
     "output_type": "stream",
     "text": [
      "[['purp', 'le'], ['p', 'ur', 'p', 'le']]\n",
      "[['ab', 'cd', 'ef'], ['ab', 'c', 'def'], ['abc', 'def'], ['abcd', 'ef']]\n"
     ]
    }
   ],
   "source": [
    "def all_construct(target, word_bank):\n",
    "    def inner(target):\n",
    "        if target == '':\n",
    "            return [[]]\n",
    "        array = []\n",
    "        for word in word_bank:\n",
    "            try:\n",
    "                position_index = target.index(word)\n",
    "                if position_index == 0:\n",
    "                    result = inner(target[len(word):])\n",
    "                    if len(result):\n",
    "                        combination = list(map(lambda way: [word, *way], result))\n",
    "                        array = [*array, *combination]\n",
    "            except ValueError:\n",
    "                continue\n",
    "        return array\n",
    "    return inner(target)\n",
    "\n",
    "\n",
    "print(all_construct('purple', ['purp', 'p', 'ur', 'le', 'purpl']))\n",
    "print(all_construct('abcdef', ['ab', 'abc', 'cd', 'def', 'abcd', 'ef', 'c']))\n"
   ]
  },
  {
   "cell_type": "markdown",
   "metadata": {},
   "source": []
  },
  {
   "cell_type": "code",
   "execution_count": null,
   "metadata": {},
   "outputs": [],
   "source": []
  }
 ],
 "metadata": {
  "kernelspec": {
   "display_name": "Python 3.9.5 64-bit",
   "language": "python",
   "name": "python3"
  },
  "language_info": {
   "codemirror_mode": {
    "name": "ipython",
    "version": 3
   },
   "file_extension": ".py",
   "mimetype": "text/x-python",
   "name": "python",
   "nbconvert_exporter": "python",
   "pygments_lexer": "ipython3",
   "version": "3.9.5"
  },
  "orig_nbformat": 4,
  "vscode": {
   "interpreter": {
    "hash": "b8bdd4e700647ba2b08c59e5df8b7da1dcf50a218bcd4c1bcd9b3dc92e8788e5"
   }
  }
 },
 "nbformat": 4,
 "nbformat_minor": 2
}
