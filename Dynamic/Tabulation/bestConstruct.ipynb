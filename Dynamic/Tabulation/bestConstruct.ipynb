{
 "cells": [
  {
   "cell_type": "code",
   "execution_count": 7,
   "metadata": {},
   "outputs": [
    {
     "name": "stdout",
     "output_type": "stream",
     "text": [
      "[[], ['p'], None, ['p', 'ur'], ['purp'], ['purpl'], ['purp', 'le']]\n",
      "[[], ['p'], None, ['p', 'ur'], ['purp'], ['purpl'], ['purp', 'le']]\n"
     ]
    }
   ],
   "source": [
    "def best_construct(target, word_bank):\n",
    "    result = [None] * (len(target) + 1)\n",
    "    result[0] = []\n",
    "    for i in range(len(result)):\n",
    "        if result[i] is not None:\n",
    "            for word in word_bank:\n",
    "                try:\n",
    "                    position_index = target[i:].index(word)\n",
    "                    if position_index == 0:\n",
    "                        combination = [*result[i], word]\n",
    "                        next_position = i + len(word)\n",
    "                        if result[next_position] is None or len(combination) < len(result[next_position]):\n",
    "                            result[next_position] = combination\n",
    "                except ValueError:\n",
    "                    continue\n",
    "    return result\n",
    "\n",
    "\n",
    "print(best_construct('purple', ['purp', 'p', 'ur', 'le', 'purpl']))\n",
    "\n",
    "\n",
    "def best_construct(target, word_bank):\n",
    "    result = [None] * (len(target) + 1)\n",
    "    result[0] = []\n",
    "    for i in range(len(result)):\n",
    "        if result[i] is not None:\n",
    "            for word in word_bank:\n",
    "                if target[i:(i + len(word))] == word:\n",
    "                    combination = [*result[i], word]\n",
    "                    next_position = i + len(word)\n",
    "                    if result[next_position] is None or len(combination) < len(result[next_position]):\n",
    "                        result[next_position] = combination\n",
    "    return result\n",
    "\n",
    "\n",
    "print(best_construct('purple', ['purp', 'p', 'ur', 'le', 'purpl']))\n"
   ]
  },
  {
   "cell_type": "code",
   "execution_count": null,
   "metadata": {},
   "outputs": [],
   "source": []
  }
 ],
 "metadata": {
  "kernelspec": {
   "display_name": "Python 3.9.5 64-bit",
   "language": "python",
   "name": "python3"
  },
  "language_info": {
   "codemirror_mode": {
    "name": "ipython",
    "version": 3
   },
   "file_extension": ".py",
   "mimetype": "text/x-python",
   "name": "python",
   "nbconvert_exporter": "python",
   "pygments_lexer": "ipython3",
   "version": "3.9.5"
  },
  "orig_nbformat": 4,
  "vscode": {
   "interpreter": {
    "hash": "b8bdd4e700647ba2b08c59e5df8b7da1dcf50a218bcd4c1bcd9b3dc92e8788e5"
   }
  }
 },
 "nbformat": 4,
 "nbformat_minor": 2
}
