{
 "cells": [
  {
   "cell_type": "code",
   "execution_count": 17,
   "metadata": {},
   "outputs": [
    {
     "name": "stdout",
     "output_type": "stream",
     "text": [
      "[True, False, True, True, True, False, True]\n",
      "[True, False, True, True, True, False, True]\n"
     ]
    }
   ],
   "source": [
    "def can_construct(target, word_bank):\n",
    "    result = [False] * (len(target) + 1)\n",
    "    result[0] = True\n",
    "    for i in range(len(result)):\n",
    "        if result[i]:\n",
    "            for word in word_bank:\n",
    "                try:\n",
    "                    position_index = target[i:].index(word)\n",
    "                    if position_index == 0:\n",
    "                        result[i + len(word)] = True\n",
    "                except ValueError:\n",
    "                    continue\n",
    "    return result\n",
    "\n",
    "\n",
    "print(can_construct('abcdef', ['ab', 'abc', 'cd', 'def', 'abcd']))\n",
    "\n",
    "\n",
    "def can_construct(target, word_bank):\n",
    "    result = [False] * (len(target) + 1)\n",
    "    result[0] = True\n",
    "    for i in range(len(target)):\n",
    "        if result[i]:\n",
    "            for word in word_bank:\n",
    "                if target[i:(i + len(word))] == word:\n",
    "                    result[i + len(word)] = True\n",
    "    return result\n",
    "\n",
    "\n",
    "print(can_construct('abcdef', ['ab', 'abc', 'cd', 'def', 'abcd']))\n"
   ]
  },
  {
   "cell_type": "code",
   "execution_count": null,
   "metadata": {},
   "outputs": [],
   "source": []
  }
 ],
 "metadata": {
  "kernelspec": {
   "display_name": "Python 3.9.5 64-bit",
   "language": "python",
   "name": "python3"
  },
  "language_info": {
   "codemirror_mode": {
    "name": "ipython",
    "version": 3
   },
   "file_extension": ".py",
   "mimetype": "text/x-python",
   "name": "python",
   "nbconvert_exporter": "python",
   "pygments_lexer": "ipython3",
   "version": "3.9.5"
  },
  "orig_nbformat": 4,
  "vscode": {
   "interpreter": {
    "hash": "b8bdd4e700647ba2b08c59e5df8b7da1dcf50a218bcd4c1bcd9b3dc92e8788e5"
   }
  }
 },
 "nbformat": 4,
 "nbformat_minor": 2
}
