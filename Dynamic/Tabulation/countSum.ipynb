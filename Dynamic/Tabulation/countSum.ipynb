{
 "cells": [
  {
   "cell_type": "code",
   "execution_count": 27,
   "metadata": {},
   "outputs": [
    {
     "name": "stdout",
     "output_type": "stream",
     "text": [
      "0 - {'valid': True, 'count': 0}\n",
      "1 - {'valid': False, 'count': 0}\n",
      "2 - {'valid': False, 'count': 0}\n",
      "3 - {'valid': True, 'count': 1}\n",
      "4 - {'valid': True, 'count': 1}\n",
      "5 - {'valid': True, 'count': 1}\n",
      "6 - {'valid': True, 'count': 1}\n",
      "7 - {'valid': True, 'count': 3}\n",
      "---\n",
      "0 - {'valid': True, 'count': 0}\n",
      "1 - {'valid': False, 'count': 0}\n",
      "2 - {'valid': True, 'count': 1}\n",
      "3 - {'valid': True, 'count': 1}\n",
      "4 - {'valid': True, 'count': 1}\n",
      "5 - {'valid': True, 'count': 3}\n",
      "6 - {'valid': True, 'count': 2}\n",
      "7 - {'valid': True, 'count': 3}\n",
      "8 - {'valid': True, 'count': 3}\n"
     ]
    }
   ],
   "source": [
    "def count_sum(target, numbers):\n",
    "    result = list(map(lambda valid: { 'valid': valid, 'count': 0 }, [False] * (target + 1)))\n",
    "    result[0]['valid'] = True\n",
    "    for i in range(len(result)):\n",
    "        if result[i]['valid']:\n",
    "            for number in numbers:\n",
    "                try:\n",
    "                    next_item = result[i + number]\n",
    "                    next_item['valid'] = True\n",
    "                    next_item['count'] += 1\n",
    "                except IndexError:\n",
    "                    continue\n",
    "    return result\n",
    "\n",
    "\n",
    "result = count_sum(7, [5, 3, 4, 7])\n",
    "\n",
    "for i in range(len(result)):\n",
    "    print(i, '-', result[i])\n",
    "\n",
    "print('---')\n",
    "\n",
    "result = count_sum(8, [2, 3, 5])\n",
    "\n",
    "for i in range(len(result)):\n",
    "    print(i, '-', result[i])\n"
   ]
  },
  {
   "cell_type": "code",
   "execution_count": null,
   "metadata": {},
   "outputs": [],
   "source": []
  }
 ],
 "metadata": {
  "kernelspec": {
   "display_name": "Python 3.9.5 64-bit",
   "language": "python",
   "name": "python3"
  },
  "language_info": {
   "codemirror_mode": {
    "name": "ipython",
    "version": 3
   },
   "file_extension": ".py",
   "mimetype": "text/x-python",
   "name": "python",
   "nbconvert_exporter": "python",
   "pygments_lexer": "ipython3",
   "version": "3.9.5"
  },
  "orig_nbformat": 4,
  "vscode": {
   "interpreter": {
    "hash": "b8bdd4e700647ba2b08c59e5df8b7da1dcf50a218bcd4c1bcd9b3dc92e8788e5"
   }
  }
 },
 "nbformat": 4,
 "nbformat_minor": 2
}
