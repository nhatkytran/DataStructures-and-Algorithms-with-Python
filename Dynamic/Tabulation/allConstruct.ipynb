{
 "cells": [
  {
   "cell_type": "code",
   "execution_count": 11,
   "metadata": {},
   "outputs": [
    {
     "name": "stdout",
     "output_type": "stream",
     "text": [
      "[[]]\n",
      "[]\n",
      "[['ab']]\n",
      "[['abc'], ['ab', 'c']]\n",
      "[['abcd'], ['ab', 'cd']]\n",
      "[]\n",
      "[['abc', 'def'], ['ab', 'c', 'def'], ['abcd', 'ef'], ['ab', 'cd', 'ef']]\n",
      "[[]]\n",
      "[]\n",
      "[['ab']]\n",
      "[['abc'], ['ab', 'c']]\n",
      "[['abcd'], ['ab', 'cd']]\n",
      "[]\n",
      "[['abc', 'def'], ['ab', 'c', 'def'], ['abcd', 'ef'], ['ab', 'cd', 'ef']]\n"
     ]
    }
   ],
   "source": [
    "def all_construct(target, word_bank):\n",
    "    result = [[] for _ in [None] * (len(target) + 1)]\n",
    "    result[0] = [[]]\n",
    "    for i in range(len(result)):\n",
    "        if len(result):\n",
    "            for word in word_bank:\n",
    "                try:\n",
    "                    position_index = target[i:].index(word)\n",
    "                    if position_index == 0:\n",
    "                        combination = [[*item, word] for item in result[i]]\n",
    "                        result[i + len(word)] = [*result[i + len(word)], *combination]\n",
    "                except ValueError:\n",
    "                    continue\n",
    "    return result\n",
    "\n",
    "\n",
    "result = all_construct('abcdef', ['ab', 'abc', 'cd', 'def', 'abcd', 'ef', 'c'])\n",
    "\n",
    "for item in result:\n",
    "    print(item)\n",
    "\n",
    "\n",
    "def all_construct(target, word_bank):\n",
    "    result = [[] for _ in [None] * (len(target) + 1)]\n",
    "    result[0] = [[]]\n",
    "    for i in range(len(result)):\n",
    "        if len(result[i]):\n",
    "            for word in word_bank:\n",
    "                if target[i:(i + len(word))] == word:\n",
    "                    combination = [[*item, word] for item in result[i]]\n",
    "                    result[i + len(word)] = [*result[i + len(word)], *combination]\n",
    "    return result\n",
    "\n",
    "\n",
    "result = all_construct('abcdef', ['ab', 'abc', 'cd', 'def', 'abcd', 'ef', 'c'])\n",
    "\n",
    "for item in result:\n",
    "    print(item)\n"
   ]
  },
  {
   "cell_type": "markdown",
   "metadata": {},
   "source": []
  },
  {
   "cell_type": "code",
   "execution_count": null,
   "metadata": {},
   "outputs": [],
   "source": []
  }
 ],
 "metadata": {
  "kernelspec": {
   "display_name": "Python 3.9.5 64-bit",
   "language": "python",
   "name": "python3"
  },
  "language_info": {
   "codemirror_mode": {
    "name": "ipython",
    "version": 3
   },
   "file_extension": ".py",
   "mimetype": "text/x-python",
   "name": "python",
   "nbconvert_exporter": "python",
   "pygments_lexer": "ipython3",
   "version": "3.9.5"
  },
  "orig_nbformat": 4,
  "vscode": {
   "interpreter": {
    "hash": "b8bdd4e700647ba2b08c59e5df8b7da1dcf50a218bcd4c1bcd9b3dc92e8788e5"
   }
  }
 },
 "nbformat": 4,
 "nbformat_minor": 2
}
