{
 "cells": [
  {
   "cell_type": "code",
   "execution_count": 18,
   "metadata": {},
   "outputs": [],
   "source": [
    "def grid(m, n):\n",
    "    result = []\n",
    "    for i in range(m + 1):\n",
    "        result.append([0] * (n + 1))\n",
    "    result[1][1] = 1\n",
    "    for i in range(m + 1):\n",
    "        for j in range(n + 1):\n",
    "            current = result[i][j]\n",
    "            try:\n",
    "                result[i][j + 1] += current\n",
    "            except IndexError:\n",
    "                pass\n",
    "            try:\n",
    "                result[i + 1][j] += current\n",
    "            except IndexError:\n",
    "                pass\n",
    "    return result[m][n]\n"
   ]
  },
  {
   "cell_type": "code",
   "execution_count": null,
   "metadata": {},
   "outputs": [],
   "source": []
  }
 ],
 "metadata": {
  "kernelspec": {
   "display_name": "Python 3.9.5 64-bit",
   "language": "python",
   "name": "python3"
  },
  "language_info": {
   "codemirror_mode": {
    "name": "ipython",
    "version": 3
   },
   "file_extension": ".py",
   "mimetype": "text/x-python",
   "name": "python",
   "nbconvert_exporter": "python",
   "pygments_lexer": "ipython3",
   "version": "3.9.5"
  },
  "orig_nbformat": 4,
  "vscode": {
   "interpreter": {
    "hash": "b8bdd4e700647ba2b08c59e5df8b7da1dcf50a218bcd4c1bcd9b3dc92e8788e5"
   }
  }
 },
 "nbformat": 4,
 "nbformat_minor": 2
}
