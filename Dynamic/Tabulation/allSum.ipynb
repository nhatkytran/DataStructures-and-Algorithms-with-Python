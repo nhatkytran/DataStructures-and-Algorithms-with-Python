{
 "cells": [
  {
   "cell_type": "code",
   "execution_count": 13,
   "metadata": {},
   "outputs": [
    {
     "name": "stdout",
     "output_type": "stream",
     "text": [
      "0 - [[]]\n",
      "1 - []\n",
      "2 - []\n",
      "3 - [[3]]\n",
      "4 - [[4]]\n",
      "5 - [[5]]\n",
      "6 - [[3, 3]]\n",
      "7 - [[7], [3, 4], [4, 3]]\n",
      "---\n",
      "0 - [[]]\n",
      "1 - []\n",
      "2 - [[2]]\n",
      "3 - [[3]]\n",
      "4 - [[2, 2]]\n",
      "5 - [[5], [2, 3], [3, 2]]\n",
      "6 - [[3, 3], [2, 2, 2]]\n",
      "7 - [[2, 5], [2, 2, 3], [5, 2], [2, 3, 2], [3, 2, 2]]\n",
      "8 - [[3, 5], [5, 3], [2, 3, 3], [3, 2, 3], [3, 3, 2], [2, 2, 2, 2]]\n"
     ]
    }
   ],
   "source": [
    "def all_sum(target, numbers):\n",
    "    result = [[] for _ in [None] * (target + 1)]\n",
    "    result[0] = [[]]\n",
    "    for i in range(len(result)):\n",
    "        if len(result[i]):\n",
    "            for number in numbers:\n",
    "                try:\n",
    "                    combination = [[*item, number] for item in result[i]]\n",
    "                    result[i + number] = [*result[i + number], *combination]\n",
    "                except IndexError:\n",
    "                    continue\n",
    "    return result\n",
    "\n",
    "\n",
    "result = all_sum(7, [5, 3, 4, 7])\n",
    "\n",
    "for i in range(len(result)):\n",
    "    print(i, '-', result[i])\n",
    "\n",
    "print('---')\n",
    "\n",
    "result = all_sum(8, [2, 3, 5])\n",
    "\n",
    "for i in range(len(result)):\n",
    "    print(i, '-', result[i])\n"
   ]
  },
  {
   "cell_type": "code",
   "execution_count": null,
   "metadata": {},
   "outputs": [],
   "source": []
  }
 ],
 "metadata": {
  "kernelspec": {
   "display_name": "Python 3.9.5 64-bit",
   "language": "python",
   "name": "python3"
  },
  "language_info": {
   "codemirror_mode": {
    "name": "ipython",
    "version": 3
   },
   "file_extension": ".py",
   "mimetype": "text/x-python",
   "name": "python",
   "nbconvert_exporter": "python",
   "pygments_lexer": "ipython3",
   "version": "3.9.5"
  },
  "orig_nbformat": 4,
  "vscode": {
   "interpreter": {
    "hash": "b8bdd4e700647ba2b08c59e5df8b7da1dcf50a218bcd4c1bcd9b3dc92e8788e5"
   }
  }
 },
 "nbformat": 4,
 "nbformat_minor": 2
}
