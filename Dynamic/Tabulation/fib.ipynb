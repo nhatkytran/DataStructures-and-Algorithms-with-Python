{
 "cells": [
  {
   "cell_type": "code",
   "execution_count": 16,
   "metadata": {},
   "outputs": [],
   "source": [
    "def fib1(number):\n",
    "    result = [0, 1]\n",
    "    for i in range(2, number + 1):\n",
    "        result.append(result[i - 1] + result[i - 2])\n",
    "    return result\n",
    "\n",
    "\n",
    "def fib2(number):\n",
    "    result = [0] * (number + 1)\n",
    "    result[1] = 1\n",
    "    for i in range(number):\n",
    "        try:\n",
    "            result[i + 1] += result[i]\n",
    "            result[i + 2] += result[i]\n",
    "        except IndexError:\n",
    "            return result\n"
   ]
  },
  {
   "cell_type": "code",
   "execution_count": null,
   "metadata": {},
   "outputs": [],
   "source": []
  }
 ],
 "metadata": {
  "kernelspec": {
   "display_name": "Python 3.9.5 64-bit",
   "language": "python",
   "name": "python3"
  },
  "language_info": {
   "codemirror_mode": {
    "name": "ipython",
    "version": 3
   },
   "file_extension": ".py",
   "mimetype": "text/x-python",
   "name": "python",
   "nbconvert_exporter": "python",
   "pygments_lexer": "ipython3",
   "version": "3.9.5"
  },
  "orig_nbformat": 4,
  "vscode": {
   "interpreter": {
    "hash": "b8bdd4e700647ba2b08c59e5df8b7da1dcf50a218bcd4c1bcd9b3dc92e8788e5"
   }
  }
 },
 "nbformat": 4,
 "nbformat_minor": 2
}
