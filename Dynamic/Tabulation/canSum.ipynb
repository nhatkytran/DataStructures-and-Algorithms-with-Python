{
 "cells": [
  {
   "cell_type": "code",
   "execution_count": 10,
   "metadata": {},
   "outputs": [
    {
     "name": "stdout",
     "output_type": "stream",
     "text": [
      "[True, False, False, True, True, True, True, True]\n"
     ]
    }
   ],
   "source": [
    "def can_sum(target, numbers):\n",
    "    result = [False] * (target + 1)\n",
    "    result[0] = True\n",
    "    for i in range(len(result)):\n",
    "        if result[i] == True:\n",
    "            for number in numbers:\n",
    "                try:\n",
    "                    result[i + number] = True\n",
    "                except IndexError:\n",
    "                    continue\n",
    "    return result\n",
    "\n",
    "\n",
    "print(can_sum(7, [5, 3, 4, 7]))\n"
   ]
  },
  {
   "cell_type": "code",
   "execution_count": null,
   "metadata": {},
   "outputs": [],
   "source": []
  }
 ],
 "metadata": {
  "kernelspec": {
   "display_name": "Python 3.9.5 64-bit",
   "language": "python",
   "name": "python3"
  },
  "language_info": {
   "codemirror_mode": {
    "name": "ipython",
    "version": 3
   },
   "file_extension": ".py",
   "mimetype": "text/x-python",
   "name": "python",
   "nbconvert_exporter": "python",
   "pygments_lexer": "ipython3",
   "version": "3.9.5"
  },
  "orig_nbformat": 4,
  "vscode": {
   "interpreter": {
    "hash": "b8bdd4e700647ba2b08c59e5df8b7da1dcf50a218bcd4c1bcd9b3dc92e8788e5"
   }
  }
 },
 "nbformat": 4,
 "nbformat_minor": 2
}
