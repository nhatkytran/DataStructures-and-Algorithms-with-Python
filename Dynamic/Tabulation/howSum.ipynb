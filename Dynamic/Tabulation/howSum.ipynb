{
 "cells": [
  {
   "cell_type": "code",
   "execution_count": 6,
   "metadata": {},
   "outputs": [
    {
     "name": "stdout",
     "output_type": "stream",
     "text": [
      "None\n",
      "[3, 2, 2]\n",
      "[4, 3]\n"
     ]
    }
   ],
   "source": [
    "def how_sum(target, numbers):\n",
    "    result = [None] * (target + 1)\n",
    "    result[0] = []\n",
    "    for i in range(len(result)):\n",
    "        if result[i] is not None:\n",
    "            for number in numbers:\n",
    "                try:\n",
    "                    result[i + number] = [*result[i], number]\n",
    "                except IndexError:\n",
    "                    continue\n",
    "    return result[-1]\n",
    "\n",
    "\n",
    "print(how_sum(7, [2, 4]))\n",
    "print(how_sum(7, [2, 3]))\n",
    "print(how_sum(7, [5, 3, 4, 7]))\n"
   ]
  },
  {
   "cell_type": "code",
   "execution_count": null,
   "metadata": {},
   "outputs": [],
   "source": []
  }
 ],
 "metadata": {
  "kernelspec": {
   "display_name": "Python 3.9.5 64-bit",
   "language": "python",
   "name": "python3"
  },
  "language_info": {
   "codemirror_mode": {
    "name": "ipython",
    "version": 3
   },
   "file_extension": ".py",
   "mimetype": "text/x-python",
   "name": "python",
   "nbconvert_exporter": "python",
   "pygments_lexer": "ipython3",
   "version": "3.9.5"
  },
  "orig_nbformat": 4,
  "vscode": {
   "interpreter": {
    "hash": "b8bdd4e700647ba2b08c59e5df8b7da1dcf50a218bcd4c1bcd9b3dc92e8788e5"
   }
  }
 },
 "nbformat": 4,
 "nbformat_minor": 2
}
