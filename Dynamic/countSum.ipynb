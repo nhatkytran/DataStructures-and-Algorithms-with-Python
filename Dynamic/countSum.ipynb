{
 "cells": [
  {
   "cell_type": "code",
   "execution_count": 5,
   "metadata": {},
   "outputs": [],
   "source": [
    "def count_sum(target_sum, numbers):\n",
    "    def inner(target_sum):\n",
    "        if target_sum == 0:\n",
    "            return 1\n",
    "        if target_sum < 0:\n",
    "            return 0\n",
    "        count = 0\n",
    "        for number in numbers:\n",
    "            count += inner(target_sum - number)\n",
    "        return count\n",
    "    return inner(target_sum)\n",
    "\n",
    "\n",
    "def count_sum_memo(target_sum, numbers):\n",
    "    memo = dict()\n",
    "    def inner(target_sum):\n",
    "        try:\n",
    "            return memo[target_sum]\n",
    "        except KeyError:\n",
    "            if target_sum == 0:\n",
    "                return 1\n",
    "            if target_sum < 0:\n",
    "                return 0\n",
    "            count = 0\n",
    "            for number in numbers:\n",
    "                count += inner(target_sum - number)\n",
    "            memo[target_sum] = count\n",
    "            return count\n",
    "    return inner(target_sum)\n",
    "\n",
    "\n",
    "def count_sum2(target_sum, numbers):\n",
    "    def inner(target_sum):\n",
    "        if target_sum == 0:\n",
    "            return 1\n",
    "        if target_sum < 0:\n",
    "            return 0\n",
    "        return sum(inner(target_sum - number) for number in numbers)\n",
    "    return inner(target_sum)\n",
    "\n",
    "\n",
    "def count_sum2_memo(target_sum, numbers):\n",
    "    memo = dict()\n",
    "    def inner(target_sum):\n",
    "        try:\n",
    "            return memo[target_sum]\n",
    "        except KeyError:\n",
    "            if target_sum == 0:\n",
    "                return 1\n",
    "            if target_sum < 0:\n",
    "                return 0\n",
    "            result = sum(inner(target_sum - number) for number in numbers)\n",
    "            memo[target_sum] = result\n",
    "            return result\n",
    "    return inner(target_sum)\n"
   ]
  },
  {
   "cell_type": "code",
   "execution_count": null,
   "metadata": {},
   "outputs": [],
   "source": []
  }
 ],
 "metadata": {
  "kernelspec": {
   "display_name": "Python 3.9.5 64-bit",
   "language": "python",
   "name": "python3"
  },
  "language_info": {
   "codemirror_mode": {
    "name": "ipython",
    "version": 3
   },
   "file_extension": ".py",
   "mimetype": "text/x-python",
   "name": "python",
   "nbconvert_exporter": "python",
   "pygments_lexer": "ipython3",
   "version": "3.9.5"
  },
  "orig_nbformat": 4,
  "vscode": {
   "interpreter": {
    "hash": "b8bdd4e700647ba2b08c59e5df8b7da1dcf50a218bcd4c1bcd9b3dc92e8788e5"
   }
  }
 },
 "nbformat": 4,
 "nbformat_minor": 2
}
