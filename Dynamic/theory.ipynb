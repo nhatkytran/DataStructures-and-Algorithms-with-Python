{
 "cells": [
  {
   "cell_type": "code",
   "execution_count": null,
   "metadata": {},
   "outputs": [],
   "source": [
    "# Dynamic programming is going to be any instance\n",
    "# where we have some larger problem that we can decompose it\n",
    "# into smaller instances of the same problem, we also have\n",
    "# an overlapping structure\n",
    "\n",
    "# Memoization recipe\n",
    "\n",
    "# 1. Make It Work\n",
    "\n",
    "# - Visualize the problem as a tree\n",
    "# - Implement the tree using recursion\n",
    "# - Test it\n",
    "\n",
    "# 2. Make It Efficient\n",
    "\n",
    "# - Add a memo object\n",
    "# - Add a base case to return memo values\n",
    "# - Store return values into the memo\n"
   ]
  }
 ],
 "metadata": {
  "kernelspec": {
   "display_name": "Python 3.9.5 64-bit",
   "language": "python",
   "name": "python3"
  },
  "language_info": {
   "name": "python",
   "version": "3.9.5"
  },
  "orig_nbformat": 4,
  "vscode": {
   "interpreter": {
    "hash": "b8bdd4e700647ba2b08c59e5df8b7da1dcf50a218bcd4c1bcd9b3dc92e8788e5"
   }
  }
 },
 "nbformat": 4,
 "nbformat_minor": 2
}
