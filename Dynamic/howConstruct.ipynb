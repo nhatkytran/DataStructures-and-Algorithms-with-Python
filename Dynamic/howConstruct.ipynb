{
 "cells": [
  {
   "cell_type": "code",
   "execution_count": 7,
   "metadata": {},
   "outputs": [
    {
     "name": "stdout",
     "output_type": "stream",
     "text": [
      "['abc', 'def']\n",
      "['e', 'e', 'e', 'e', 'e', 'e', 'e', 'e', 'e', 'e', 'e', 'e', 'e', 'e', 'e', 'e', 'e', 'e', 'e', 'e', 'e', 'e', 'e', 'e', 'e', 'e', 'e', 'e', 'e', 'e', 'e', 'e', 'e', 'e', 'e', 'e', 'e', 'e', 'e', 'e', 'e']\n",
      "None\n"
     ]
    }
   ],
   "source": [
    "def how_construct(target, word_bank):\n",
    "    def inner(target):\n",
    "        if target == '':\n",
    "            return []\n",
    "        for word in word_bank:\n",
    "            try:\n",
    "                position_index = target.index(word)\n",
    "                if position_index == 0:\n",
    "                    suffix = target[len(word):]\n",
    "                    result = inner(suffix)\n",
    "                    if result is not None:\n",
    "                        return [word, *result]\n",
    "            except ValueError:\n",
    "                continue\n",
    "        return None\n",
    "    return inner(target)\n",
    "\n",
    "\n",
    "print(how_construct('abcdef', ['ab', 'abc', 'cd', 'def', 'abcd']))\n",
    "\n",
    "\n",
    "def how_construct_memo(target, word_bank):\n",
    "    memo = dict()\n",
    "    def inner(target):\n",
    "        if target in memo:\n",
    "            return memo[target]\n",
    "        if target == '':\n",
    "            return []\n",
    "        for word in word_bank:\n",
    "            try:\n",
    "                position_index = target.index(word)\n",
    "                if position_index == 0:\n",
    "                    suffix = target[len(word):]\n",
    "                    result = inner(suffix)\n",
    "                    if result is not None:\n",
    "                        return [word, *result]\n",
    "            except ValueError:\n",
    "                continue\n",
    "        memo[target] = None\n",
    "        return None\n",
    "    return inner(target)\n",
    "\n",
    "\n",
    "print(how_construct_memo('eeeeeeeeeeeeeeeeeeeeeeeeeeeeeeeeeeeeeeeee', [\n",
    "    'e',\n",
    "    'ee',\n",
    "    'eee',\n",
    "    'eeee',\n",
    "    'eeeee',\n",
    "    'eeeeee',\n",
    "]))\n",
    "print(how_construct_memo('eeeeeeeeeeeeeeeeeeeeeeeeeeeeeeeeeeeeeeeeef', [\n",
    "    'e',\n",
    "    'ee',\n",
    "    'eee',\n",
    "    'eeee',\n",
    "    'eeeee',\n",
    "    'eeeeee',\n",
    "]))\n"
   ]
  },
  {
   "cell_type": "code",
   "execution_count": null,
   "metadata": {},
   "outputs": [],
   "source": []
  }
 ],
 "metadata": {
  "kernelspec": {
   "display_name": "Python 3.9.5 64-bit",
   "language": "python",
   "name": "python3"
  },
  "language_info": {
   "codemirror_mode": {
    "name": "ipython",
    "version": 3
   },
   "file_extension": ".py",
   "mimetype": "text/x-python",
   "name": "python",
   "nbconvert_exporter": "python",
   "pygments_lexer": "ipython3",
   "version": "3.9.5"
  },
  "orig_nbformat": 4,
  "vscode": {
   "interpreter": {
    "hash": "b8bdd4e700647ba2b08c59e5df8b7da1dcf50a218bcd4c1bcd9b3dc92e8788e5"
   }
  }
 },
 "nbformat": 4,
 "nbformat_minor": 2
}
