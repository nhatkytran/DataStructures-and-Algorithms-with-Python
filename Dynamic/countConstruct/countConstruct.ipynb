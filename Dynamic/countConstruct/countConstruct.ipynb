{
 "cells": [
  {
   "cell_type": "code",
   "execution_count": 4,
   "metadata": {},
   "outputs": [
    {
     "name": "stdout",
     "output_type": "stream",
     "text": [
      "2\n",
      "1\n",
      "0\n",
      "4\n",
      "0\n"
     ]
    }
   ],
   "source": [
    "def count_construct(target, word_bank):\n",
    "    def inner(target):\n",
    "        if target == '':\n",
    "            return 1\n",
    "        count = 0\n",
    "        for word in word_bank:\n",
    "            try:\n",
    "                position_index = target.index(word)\n",
    "                if position_index == 0:\n",
    "                    count += inner(target[len(word):])\n",
    "            except ValueError:\n",
    "                continue\n",
    "        return count\n",
    "    return inner(target)\n",
    "\n",
    "\n",
    "print(count_construct('purple', ['purp', 'p', 'ur', 'le', 'purpl']))\n",
    "print(count_construct('abcdef', ['ab', 'abc', 'cd', 'def', 'abcd']))\n",
    "print(count_construct('skateboard', ['bo', 'rd', 'ate', 't', 'ska', 'sk', 'boar']))\n",
    "print(count_construct('enterapotentpot', ['a', 'p', 'ent', 'enter', 'ot', 'o', 't']))\n",
    "\n",
    "\n",
    "def count_construct_memo(target, word_bank):\n",
    "    memo = dict()\n",
    "    def inner(target):\n",
    "        if target in memo:\n",
    "            return memo[target]\n",
    "        if target == '':\n",
    "            return 1\n",
    "        count = 0\n",
    "        for word in word_bank:\n",
    "            try:\n",
    "                position_index = target.index(word)\n",
    "                if position_index == 0:\n",
    "                    suffix = target[len(word):]\n",
    "                    count += inner(suffix)\n",
    "            except ValueError:\n",
    "                continue\n",
    "        memo[target] = count\n",
    "        return count\n",
    "    return inner(target)\n",
    "\n",
    "\n",
    "print(count_construct_memo('eeeeeeeeeeeeeeeeeeeeeeeeeeeeeeeeeeeeeeeeef', [\n",
    "    'e',\n",
    "    'ee',\n",
    "    'eee',\n",
    "    'eeee',\n",
    "    'eeeee',\n",
    "    'eeeeee',\n",
    "]))\n"
   ]
  },
  {
   "cell_type": "code",
   "execution_count": null,
   "metadata": {},
   "outputs": [],
   "source": []
  }
 ],
 "metadata": {
  "kernelspec": {
   "display_name": "Python 3.9.5 64-bit",
   "language": "python",
   "name": "python3"
  },
  "language_info": {
   "codemirror_mode": {
    "name": "ipython",
    "version": 3
   },
   "file_extension": ".py",
   "mimetype": "text/x-python",
   "name": "python",
   "nbconvert_exporter": "python",
   "pygments_lexer": "ipython3",
   "version": "3.9.5"
  },
  "orig_nbformat": 4,
  "vscode": {
   "interpreter": {
    "hash": "b8bdd4e700647ba2b08c59e5df8b7da1dcf50a218bcd4c1bcd9b3dc92e8788e5"
   }
  }
 },
 "nbformat": 4,
 "nbformat_minor": 2
}
