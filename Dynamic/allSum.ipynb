{
 "cells": [
  {
   "cell_type": "code",
   "execution_count": 5,
   "metadata": {},
   "outputs": [
    {
     "name": "stdout",
     "output_type": "stream",
     "text": [
      "[[5, 2], [3, 4], [3, 2, 2], [4, 3], [7], [2, 5], [2, 3, 2], [2, 2, 3]]\n",
      "[[5, 2], [3, 4], [3, 2, 2], [4, 3], [7], [2, 5], [2, 3, 2], [2, 2, 3]]\n"
     ]
    }
   ],
   "source": [
    "def all_sum(target, numbers):\n",
    "    def inner(target):\n",
    "        if target == 0:\n",
    "            return [[]]\n",
    "        if target < 0:\n",
    "            return []\n",
    "        array = []\n",
    "        for number in numbers:\n",
    "            result = inner(target - number)\n",
    "            if len(result):\n",
    "                result = list(map(lambda item: [number, *item], result))\n",
    "                array = [*array, *result]\n",
    "        return array\n",
    "    return inner(target)\n",
    "\n",
    "\n",
    "def all_sum_memo(target, numbers):\n",
    "    memo = dict()\n",
    "    def inner(target):\n",
    "        if target in memo:\n",
    "            return memo[target]\n",
    "        if target == 0:\n",
    "            return [[]]\n",
    "        if target < 0:\n",
    "            return []\n",
    "        array = []\n",
    "        for number in numbers:\n",
    "            result = inner(target - number)\n",
    "            if len(result):\n",
    "                result = list(map(lambda item: [number, *item], result))\n",
    "                array = [*array, *result]\n",
    "        memo[target] = array\n",
    "        return array\n",
    "    return inner(target)\n",
    "\n",
    "\n",
    "print(all_sum(7, [5, 3, 4, 7, 2]))\n",
    "print(all_sum_memo(7, [5, 3, 4, 7, 2]))\n"
   ]
  },
  {
   "cell_type": "code",
   "execution_count": null,
   "metadata": {},
   "outputs": [],
   "source": []
  }
 ],
 "metadata": {
  "kernelspec": {
   "display_name": "Python 3.9.5 64-bit",
   "language": "python",
   "name": "python3"
  },
  "language_info": {
   "codemirror_mode": {
    "name": "ipython",
    "version": 3
   },
   "file_extension": ".py",
   "mimetype": "text/x-python",
   "name": "python",
   "nbconvert_exporter": "python",
   "pygments_lexer": "ipython3",
   "version": "3.9.5"
  },
  "orig_nbformat": 4,
  "vscode": {
   "interpreter": {
    "hash": "b8bdd4e700647ba2b08c59e5df8b7da1dcf50a218bcd4c1bcd9b3dc92e8788e5"
   }
  }
 },
 "nbformat": 4,
 "nbformat_minor": 2
}
