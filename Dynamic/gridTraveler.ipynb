{
 "cells": [
  {
   "cell_type": "code",
   "execution_count": 3,
   "metadata": {},
   "outputs": [],
   "source": [
    "# | S | 0 | 0 |\n",
    "# | 0 | 0 | 0 |\n",
    "# | 0 | 0 | E |\n",
    "\n",
    "# Only turn down or turn right\n",
    "\n",
    "\n",
    "#                  2,3\n",
    "#       1,3                       2,2\n",
    "#  0,3      1,2             1,2          2,1\n",
    "#        0,2   1,1      0,2   1,1      1,1   2,0\n",
    "\n",
    "# Time complexity: O(2 ^ (m + n))\n",
    "# Spce complexity: O(m + n)\n",
    "\n",
    "\n",
    "# After memoization\n",
    "\n",
    "# Time complexity: O(m * n)\n",
    "# Spce complexity: O(m + n)\n",
    "\n",
    "\n",
    "def grid_memo():\n",
    "    memo = dict()\n",
    "    def inner(m, n):\n",
    "        if m == 1 and n == 1:\n",
    "          return 1\n",
    "        if m == 0 or n == 0:\n",
    "            return 0\n",
    "        key1 = f'{m},{n}'\n",
    "        key2 = f'{n},{m}'\n",
    "        try:\n",
    "            try:\n",
    "                result = memo[key1]\n",
    "            except KeyError:\n",
    "                try:\n",
    "                    result = memo[key2]\n",
    "                except KeyError:\n",
    "                    raise KeyError\n",
    "            print(memo)\n",
    "            return result\n",
    "        except KeyError:\n",
    "            result = inner(m - 1, n) + inner(m, n - 1)\n",
    "            if key1 in memo or key2 in memo:\n",
    "                return result\n",
    "            memo[key1] = result\n",
    "            return result\n",
    "    return inner\n",
    "\n",
    "\n",
    "grid_traveler = grid_memo()\n"
   ]
  },
  {
   "cell_type": "code",
   "execution_count": null,
   "metadata": {},
   "outputs": [],
   "source": []
  }
 ],
 "metadata": {
  "kernelspec": {
   "display_name": "Python 3.9.5 64-bit",
   "language": "python",
   "name": "python3"
  },
  "language_info": {
   "codemirror_mode": {
    "name": "ipython",
    "version": 3
   },
   "file_extension": ".py",
   "mimetype": "text/x-python",
   "name": "python",
   "nbconvert_exporter": "python",
   "pygments_lexer": "ipython3",
   "version": "3.9.5"
  },
  "orig_nbformat": 4,
  "vscode": {
   "interpreter": {
    "hash": "b8bdd4e700647ba2b08c59e5df8b7da1dcf50a218bcd4c1bcd9b3dc92e8788e5"
   }
  }
 },
 "nbformat": 4,
 "nbformat_minor": 2
}
