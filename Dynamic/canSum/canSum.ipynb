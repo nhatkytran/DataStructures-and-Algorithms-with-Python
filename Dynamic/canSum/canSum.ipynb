{
 "cells": [
  {
   "cell_type": "code",
   "execution_count": 15,
   "metadata": {},
   "outputs": [],
   "source": [
    "def can_sum(sum_target, numbers):\n",
    "    def inner(sum_target):\n",
    "        if sum_target == 0:\n",
    "            return True\n",
    "        if sum_target < 0:\n",
    "            return False\n",
    "        for number in numbers:\n",
    "            if inner(sum_target - number):\n",
    "                return True\n",
    "        return False\n",
    "    return inner(sum_target)\n",
    "\n",
    "\n",
    "def can_sum2(sum_target, numbers):\n",
    "    def inner(sum_target):\n",
    "        if sum_target == 0:\n",
    "            return True\n",
    "        if sum_target < 0:\n",
    "            return False\n",
    "        return any(inner(sum_target - number) for number in numbers)\n",
    "    return inner(sum_target)\n",
    "\n",
    "\n",
    "def can_sum_memo(sum_target, numbers):\n",
    "    memo = dict()\n",
    "    def inner(sum_target):\n",
    "        if sum_target in memo:\n",
    "            return memo[sum_target]\n",
    "        if sum_target == 0:\n",
    "            return True\n",
    "        if sum_target < 0:\n",
    "            return False\n",
    "        for number in numbers:\n",
    "            if inner(sum_target - number):\n",
    "                memo[sum_target] = True\n",
    "                return True\n",
    "        memo[sum_target] = False\n",
    "        return False\n",
    "    return inner(sum_target)\n"
   ]
  },
  {
   "cell_type": "code",
   "execution_count": null,
   "metadata": {},
   "outputs": [],
   "source": []
  }
 ],
 "metadata": {
  "kernelspec": {
   "display_name": "Python 3.9.5 64-bit",
   "language": "python",
   "name": "python3"
  },
  "language_info": {
   "codemirror_mode": {
    "name": "ipython",
    "version": 3
   },
   "file_extension": ".py",
   "mimetype": "text/x-python",
   "name": "python",
   "nbconvert_exporter": "python",
   "pygments_lexer": "ipython3",
   "version": "3.9.5"
  },
  "orig_nbformat": 4,
  "vscode": {
   "interpreter": {
    "hash": "b8bdd4e700647ba2b08c59e5df8b7da1dcf50a218bcd4c1bcd9b3dc92e8788e5"
   }
  }
 },
 "nbformat": 4,
 "nbformat_minor": 2
}
