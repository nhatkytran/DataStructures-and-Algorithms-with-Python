{
 "cells": [
  {
   "cell_type": "code",
   "execution_count": 7,
   "metadata": {},
   "outputs": [
    {
     "name": "stdout",
     "output_type": "stream",
     "text": [
      "[3, 4]\n",
      "None\n",
      "None\n",
      "[7, 7, 7, 7, 7, 7, 7, 7, 7, 7, 7, 7, 7, 7, 7, 7, 7, 7, 7, 7, 7, 7, 7, 7, 7, 7, 7, 7, 7, 7, 15, 15, 15, 15, 15, 15]\n"
     ]
    }
   ],
   "source": [
    "def how_sum(sum_target, numbers):\n",
    "    def inner(sum_target):\n",
    "        if sum_target == 0:\n",
    "            return []\n",
    "        if sum_target < 0:\n",
    "            return None\n",
    "        for number in numbers:\n",
    "            remainder = sum_target - number\n",
    "            result = inner(remainder)\n",
    "            if result is not None:\n",
    "                return [number, *result]\n",
    "        return None\n",
    "    return inner(sum_target)\n",
    "\n",
    "\n",
    "def how_sum_memo(sum_target, numbers):\n",
    "    memo = dict()\n",
    "    def inner(sum_target):\n",
    "        if sum_target == 0:\n",
    "            return []\n",
    "        if sum_target < 0:\n",
    "            return None\n",
    "        if sum_target in memo:\n",
    "            return memo[sum_target]\n",
    "        for number in numbers:\n",
    "            remainder = sum_target - number\n",
    "            result = inner(remainder)\n",
    "            if result is not None:\n",
    "                memo[sum_target] = [number, *result]\n",
    "                return [number, *result]\n",
    "        memo[sum_target] = None\n",
    "        return None\n",
    "    return inner(sum_target)\n",
    "\n",
    "\n",
    "print(how_sum_memo(7, [5, 3, 4, 7]))\n",
    "print(how_sum_memo(7, [2, 4]))\n",
    "print(how_sum_memo(300, [7, 14]))\n",
    "print(how_sum_memo(300, [7, 15]))\n"
   ]
  },
  {
   "cell_type": "code",
   "execution_count": null,
   "metadata": {},
   "outputs": [],
   "source": []
  },
  {
   "cell_type": "code",
   "execution_count": null,
   "metadata": {},
   "outputs": [],
   "source": []
  }
 ],
 "metadata": {
  "kernelspec": {
   "display_name": "Python 3.9.5 64-bit",
   "language": "python",
   "name": "python3"
  },
  "language_info": {
   "codemirror_mode": {
    "name": "ipython",
    "version": 3
   },
   "file_extension": ".py",
   "mimetype": "text/x-python",
   "name": "python",
   "nbconvert_exporter": "python",
   "pygments_lexer": "ipython3",
   "version": "3.9.5"
  },
  "orig_nbformat": 4,
  "vscode": {
   "interpreter": {
    "hash": "b8bdd4e700647ba2b08c59e5df8b7da1dcf50a218bcd4c1bcd9b3dc92e8788e5"
   }
  }
 },
 "nbformat": 4,
 "nbformat_minor": 2
}
