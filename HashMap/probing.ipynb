{
 "cells": [
  {
   "cell_type": "code",
   "execution_count": 59,
   "metadata": {},
   "outputs": [
    {
     "name": "stdout",
     "output_type": "stream",
     "text": [
      "0 --> ['michael', 'MICHAEL']\n",
      "1 --> ['graham', 'GRAHAM']\n",
      "2 --> ['join', 'JOIN']\n",
      "3 --> ['alexander', 'ALEXANDER']\n",
      "4 --> ['eric', 'ERIC']\n"
     ]
    }
   ],
   "source": [
    "class HashMap:\n",
    "    def __init__(self, size):\n",
    "        self.table = [None] * size\n",
    "        self.size = size\n",
    "\n",
    "    def _hash(self, key):\n",
    "        return sum(ord(letter) for letter in key) % self.size\n",
    "\n",
    "    def prob_sequence(self, start):\n",
    "        for i in range(self.size):\n",
    "            prob = i + start\n",
    "            if prob >= self.size:\n",
    "                prob -= self.size\n",
    "            yield prob\n",
    "\n",
    "    def set(self, key, value):\n",
    "        index = self._hash(key)\n",
    "        if not self.table[index]:\n",
    "            self.table[index] = [key, value]\n",
    "            return\n",
    "        probs = self.prob_sequence(index)\n",
    "        next(probs) # Current index is already checked\n",
    "        while True:\n",
    "            try:\n",
    "                current_index = next(probs)\n",
    "                if not self.table[current_index]:\n",
    "                    self.table[current_index] = [key, value]\n",
    "                    raise StopIteration\n",
    "            except StopIteration:\n",
    "                break\n",
    "\n",
    "    def get(self, key):\n",
    "        index = self._hash(key)\n",
    "        current_pair = self.table[index]\n",
    "        if not current_pair:\n",
    "            return\n",
    "        if current_pair[0] == key:\n",
    "            return current_pair[1]\n",
    "        probs = self.prob_sequence(index)\n",
    "        next(probs)\n",
    "        while True:\n",
    "            try:\n",
    "                current_index = next(probs)\n",
    "                if self.table[current_index][0] == key:\n",
    "                    return self.table[current_index][1]\n",
    "            except StopIteration:\n",
    "                break\n",
    "\n",
    "    def remove(self, key):\n",
    "        index = self._hash(key)\n",
    "        if self.table[index]:\n",
    "            if self.table[index][0] == key:\n",
    "                self.table[index] = None\n",
    "                return\n",
    "            probs = self.prob_sequence(index)\n",
    "            next(probs)\n",
    "            while True:\n",
    "                try:\n",
    "                    current_index = next(probs)\n",
    "                    if self.table[current_index][0] == key:\n",
    "                        self.table[current_index] = None\n",
    "                        raise StopIteration\n",
    "                except StopIteration:\n",
    "                    break\n",
    "\n",
    "    def display(self):\n",
    "        for i in range(len(self.table)):\n",
    "            if self.table[i] is not None:\n",
    "                print(i, '-->', self.table[i])\n",
    "\n",
    "\n",
    "hashmap = HashMap(5)\n",
    "\n",
    "hashmap.set('alexander', 'ALEXANDER')\n",
    "hashmap.set('join', 'JOIN')\n",
    "hashmap.set('eric', 'ERIC')\n",
    "hashmap.set('michael', 'MICHAEL')\n",
    "hashmap.set('graham', 'GRAHAM')\n",
    "\n",
    "hashmap.display()\n"
   ]
  },
  {
   "cell_type": "code",
   "execution_count": null,
   "metadata": {},
   "outputs": [],
   "source": []
  }
 ],
 "metadata": {
  "kernelspec": {
   "display_name": "Python 3.9.5 64-bit",
   "language": "python",
   "name": "python3"
  },
  "language_info": {
   "codemirror_mode": {
    "name": "ipython",
    "version": 3
   },
   "file_extension": ".py",
   "mimetype": "text/x-python",
   "name": "python",
   "nbconvert_exporter": "python",
   "pygments_lexer": "ipython3",
   "version": "3.9.5"
  },
  "orig_nbformat": 4,
  "vscode": {
   "interpreter": {
    "hash": "b8bdd4e700647ba2b08c59e5df8b7da1dcf50a218bcd4c1bcd9b3dc92e8788e5"
   }
  }
 },
 "nbformat": 4,
 "nbformat_minor": 2
}
