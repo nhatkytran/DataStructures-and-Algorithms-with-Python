{
 "cells": [
  {
   "cell_type": "code",
   "execution_count": 3,
   "metadata": {},
   "outputs": [],
   "source": [
    "class HashMap:\n",
    "    def __init__(self, size):\n",
    "        self.table = [None] * size\n",
    "        self.size = size\n",
    "\n",
    "    def _hash(self, key):\n",
    "        return sum(ord(char) for char in key) % self.size\n",
    "\n",
    "    def set(self, key, value):\n",
    "        index = self._hash(key)\n",
    "        if not self.table[index]:\n",
    "            self.table[index] = [[key, value]]\n",
    "        else:\n",
    "            exist_index = None\n",
    "            array = self.table[index]\n",
    "            for i in range(len(array)):\n",
    "                if array[i][0] == key:\n",
    "                    exist_index = i\n",
    "            if exist_index is not None:\n",
    "                array[exist_index] = [key, value]\n",
    "            else:\n",
    "                array.append([key, value])\n",
    "\n",
    "    def get(self, key):\n",
    "        index = self._hash(key)\n",
    "        if self.table[index]:\n",
    "            for item in self.table[index]:\n",
    "                if item[0] == key:\n",
    "                    return item[1]\n",
    "\n",
    "    def remove(self, key):\n",
    "        index = self._hash(key)\n",
    "        if self.table[index]:\n",
    "            self.table[index] = [\n",
    "                item for item in self.table[index] if item[0] != key]\n",
    "            if len(self.table[index]) == 0:\n",
    "                self.table[index] = None\n",
    "            \n",
    "            \n",
    "hashmap = HashMap(50)\n"
   ]
  },
  {
   "cell_type": "code",
   "execution_count": null,
   "metadata": {},
   "outputs": [],
   "source": []
  }
 ],
 "metadata": {
  "kernelspec": {
   "display_name": "Python 3.9.5 64-bit",
   "language": "python",
   "name": "python3"
  },
  "language_info": {
   "codemirror_mode": {
    "name": "ipython",
    "version": 3
   },
   "file_extension": ".py",
   "mimetype": "text/x-python",
   "name": "python",
   "nbconvert_exporter": "python",
   "pygments_lexer": "ipython3",
   "version": "3.9.5 (v3.9.5:0a7dcbdb13, May  3 2021, 13:17:02) \n[Clang 6.0 (clang-600.0.57)]"
  },
  "orig_nbformat": 4,
  "vscode": {
   "interpreter": {
    "hash": "b8bdd4e700647ba2b08c59e5df8b7da1dcf50a218bcd4c1bcd9b3dc92e8788e5"
   }
  }
 },
 "nbformat": 4,
 "nbformat_minor": 2
}
