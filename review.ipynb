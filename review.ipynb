{
 "cells": [
  {
   "cell_type": "code",
   "execution_count": 3,
   "metadata": {},
   "outputs": [
    {
     "name": "stdout",
     "output_type": "stream",
     "text": [
      "2\n",
      "4\n",
      "3\n"
     ]
    }
   ],
   "source": [
    "class Trie:\n",
    "    def __init__(self):\n",
    "        self.links = [None] * 26\n",
    "        self.ew = 0\n",
    "        self.cp = 0\n",
    "\n",
    "    def index(self, char):\n",
    "        return ord(char) - ord('a')\n",
    "    \n",
    "    def contains(self, char):\n",
    "        return self.links[self.index(char)] is not None\n",
    "    \n",
    "    def push(self, char):\n",
    "        self.links[self.index(char)] = self.__class__()\n",
    "\n",
    "    def get(self, char):\n",
    "        return self.links[self.index(char)]\n",
    "    \n",
    "    def incEnd(self):\n",
    "        self.ew += 1\n",
    "    \n",
    "    def incPre(self):\n",
    "        self.cp += 1\n",
    "\n",
    "    def decEnd(self):\n",
    "        self.ew -= 1\n",
    "\n",
    "    def decPre(self):\n",
    "        self.cp -= 1\n",
    "\n",
    "    def getEnd(self):\n",
    "        return self.ew\n",
    "    \n",
    "    def getPre(self):\n",
    "        return self.cp\n",
    "\n",
    "\n",
    "class Tries:\n",
    "    def __init__(self):\n",
    "        self.root = Trie()\n",
    "\n",
    "    def insert(self, word):\n",
    "        cur = self.root\n",
    "        for char in word:\n",
    "            if not cur.contains(char):\n",
    "                cur.push(char)\n",
    "            cur = cur.get(char)\n",
    "            cur.incPre()\n",
    "        cur.incEnd()\n",
    "\n",
    "    def countWordsEndWith(self, word):\n",
    "        cur = self.root\n",
    "        for char in word:\n",
    "            if not cur.contains(char):\n",
    "                return 0\n",
    "            cur = cur.get(char)\n",
    "        return cur.getEnd()\n",
    "    \n",
    "    def countWordsStartWith(self, word):\n",
    "        cur = self.root\n",
    "        for char in word:\n",
    "            if not cur.contains(char):\n",
    "                return 0\n",
    "            cur = cur.get(char)\n",
    "        return cur.getPre()\n",
    "    \n",
    "    def erase(self, word):\n",
    "        cur = self.root\n",
    "        for char in word:\n",
    "            cur = cur.get(char)\n",
    "            cur.decPre()\n",
    "        cur.decEnd()\n",
    "\n",
    "\n",
    "tries = Tries()\n",
    "\n",
    "tries.insert('apple')\n",
    "tries.insert('apple')\n",
    "tries.insert('apps')\n",
    "tries.insert('apps')\n",
    "\n",
    "print(tries.countWordsEndWith('apple'))\n",
    "print(tries.countWordsStartWith('app'))\n",
    "tries.erase('apps')\n",
    "print(tries.countWordsStartWith('app'))\n"
   ]
  },
  {
   "cell_type": "code",
   "execution_count": null,
   "metadata": {},
   "outputs": [],
   "source": []
  }
 ],
 "metadata": {
  "kernelspec": {
   "display_name": "Python 3",
   "language": "python",
   "name": "python3"
  },
  "language_info": {
   "codemirror_mode": {
    "name": "ipython",
    "version": 3
   },
   "file_extension": ".py",
   "mimetype": "text/x-python",
   "name": "python",
   "nbconvert_exporter": "python",
   "pygments_lexer": "ipython3",
   "version": "3.10.2"
  },
  "orig_nbformat": 4,
  "vscode": {
   "interpreter": {
    "hash": "aee8b7b246df8f9039afb4144a1f6fd8d2ca17a180786b69acc140d282b71a49"
   }
  }
 },
 "nbformat": 4,
 "nbformat_minor": 2
}
