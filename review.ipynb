{
 "cells": [
  {
   "cell_type": "code",
   "execution_count": 20,
   "metadata": {},
   "outputs": [
    {
     "name": "stdout",
     "output_type": "stream",
     "text": [
      "[1, 1, 11, 23, 45, 116, 117, 391, 1000]\n"
     ]
    }
   ],
   "source": [
    "from math import floor, log10\n",
    "\n",
    "\n",
    "def get_digit(number, place):\n",
    "    return (abs(number) // 10**place) % 10\n",
    "\n",
    "\n",
    "def digit_count(number):\n",
    "    if number == 0: return 1\n",
    "    return floor(log10(abs(number))) + 1\n",
    "\n",
    "\n",
    "def most_digit(numbers):\n",
    "    return max(digit_count(number) for number in numbers)\n",
    "\n",
    "\n",
    "def radix_sort(numbers):\n",
    "    k = most_digit(numbers)\n",
    "    for i in range(k):\n",
    "        bucket = [[] for _ in range(10)]\n",
    "        for number in numbers:\n",
    "            digit = get_digit(number, i)\n",
    "            bucket[digit].append(number)\n",
    "        numbers = []\n",
    "        for item in bucket:\n",
    "            if item: numbers.extend(item)\n",
    "    return numbers\n",
    "\n",
    "\n",
    "print(radix_sort([11, 1, 23, 1, 45, 116, 117, 1000, 391]))\n"
   ]
  },
  {
   "cell_type": "code",
   "execution_count": null,
   "metadata": {},
   "outputs": [],
   "source": []
  }
 ],
 "metadata": {
  "kernelspec": {
   "display_name": "Python 3",
   "language": "python",
   "name": "python3"
  },
  "language_info": {
   "codemirror_mode": {
    "name": "ipython",
    "version": 3
   },
   "file_extension": ".py",
   "mimetype": "text/x-python",
   "name": "python",
   "nbconvert_exporter": "python",
   "pygments_lexer": "ipython3",
   "version": "3.10.2"
  },
  "orig_nbformat": 4,
  "vscode": {
   "interpreter": {
    "hash": "aee8b7b246df8f9039afb4144a1f6fd8d2ca17a180786b69acc140d282b71a49"
   }
  }
 },
 "nbformat": 4,
 "nbformat_minor": 2
}
