{
 "cells": [
  {
   "cell_type": "code",
   "execution_count": 13,
   "metadata": {},
   "outputs": [
    {
     "name": "stdout",
     "output_type": "stream",
     "text": [
      "Counter({'Mac': 85, 'Airpods': 79, 'Ipad': 59, 'Iphone': 47, 'Macbook': 29})\n",
      "Counter({'Mac': 17, 'Airpods': 15, 'Macbook': 14, 'Ipad': 12, 'Iphone': 11})\n",
      "Counter({'Mac': 68, 'Airpods': 64, 'Ipad': 47, 'Iphone': 36, 'Macbook': 15})\n",
      "[('Mac', 68), ('Airpods', 64)]\n"
     ]
    }
   ],
   "source": [
    "import random\n",
    "from collections import Counter\n",
    "from itertools import repeat, chain\n",
    "\n",
    "\n",
    "random.seed(0)\n",
    "\n",
    "\n",
    "products = ['Mac', 'Macbook', 'Ipad', 'Iphone', 'Airpods']\n",
    "\n",
    "sold = ((random.choice(products), random.randint(1, 5)) \\\n",
    "            for _ in range(100))\n",
    "refund = ((random.choice(products), random.randint(1, 5)) \\\n",
    "            for _ in range(20))\n",
    "\n",
    "\n",
    "sold_counter = Counter(chain.from_iterable(repeat(*item) for item in sold))\n",
    "refund_counter = Counter(chain.from_iterable(repeat(*item) for item in refund))\n",
    "net_counter = sold_counter - refund_counter\n",
    "most_net_counter = net_counter.most_common(2)\n",
    "\n",
    "print(sold_counter)\n",
    "print(refund_counter)\n",
    "print(net_counter)\n",
    "print(most_net_counter)\n",
    "\n"
   ]
  },
  {
   "cell_type": "code",
   "execution_count": null,
   "metadata": {},
   "outputs": [],
   "source": []
  }
 ],
 "metadata": {
  "kernelspec": {
   "display_name": "Python 3.10.2 64-bit",
   "language": "python",
   "name": "python3"
  },
  "language_info": {
   "codemirror_mode": {
    "name": "ipython",
    "version": 3
   },
   "file_extension": ".py",
   "mimetype": "text/x-python",
   "name": "python",
   "nbconvert_exporter": "python",
   "pygments_lexer": "ipython3",
   "version": "3.10.2"
  },
  "orig_nbformat": 4,
  "vscode": {
   "interpreter": {
    "hash": "aee8b7b246df8f9039afb4144a1f6fd8d2ca17a180786b69acc140d282b71a49"
   }
  }
 },
 "nbformat": 4,
 "nbformat_minor": 2
}
