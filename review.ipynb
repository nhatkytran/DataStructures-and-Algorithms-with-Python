{
 "cells": [
  {
   "cell_type": "code",
   "execution_count": 4,
   "metadata": {},
   "outputs": [
    {
     "name": "stdout",
     "output_type": "stream",
     "text": [
      "True\n",
      "True\n",
      "False\n"
     ]
    }
   ],
   "source": [
    "class Trie:\n",
    "    def __init__(self):\n",
    "        self.alpha = [None] * 26\n",
    "        self.flag = False\n",
    "\n",
    "    def index(self, char):\n",
    "        return ord(char) - ord('a')\n",
    "    \n",
    "    def contains(self, char):\n",
    "        return self.alpha[self.index(char)] != None\n",
    "    \n",
    "    def push(self, char):\n",
    "        self.alpha[self.index(char)] = self.__class__()\n",
    "\n",
    "    def get(self, char):\n",
    "        return self.alpha[self.index(char)]\n",
    "    \n",
    "    def setEnd(self):\n",
    "        self.flag = True\n",
    "\n",
    "\n",
    "class Tries:\n",
    "    def __init__(self):\n",
    "        self.root = Trie()\n",
    "\n",
    "    def insert(self, word):\n",
    "        cur = self.root\n",
    "        for char in word:\n",
    "            if not cur.contains(char):\n",
    "                cur.push(char)\n",
    "            cur = cur.get(char)\n",
    "        cur.setEnd()\n",
    "\n",
    "    def search(self, word):\n",
    "        cur = self.root\n",
    "        for char in word:\n",
    "            if not cur.contains(char):\n",
    "                return False\n",
    "            cur = cur.get(char)\n",
    "        return cur.flag\n",
    "\n",
    "    def startsWith(self, word):\n",
    "        cur = self.root\n",
    "        for char in word:\n",
    "            if not cur.contains(char):\n",
    "                return False\n",
    "            cur = cur.get(char)\n",
    "        return True\n",
    "\n",
    "\n",
    "type=[1,1,2,3,2]\n",
    "value=['hello','help','help','hel','hel']\n",
    "\n",
    "tries = Tries()\n",
    "\n",
    "for i in range(len(type)):\n",
    "    if(type[i]==1):\n",
    "        tries.insert(value[i])\n",
    "    elif(type[i]==2):\n",
    "        print(tries.search(value[i]))\n",
    "    else:\n",
    "        print(tries.startsWith(value[i]))\n"
   ]
  },
  {
   "cell_type": "code",
   "execution_count": null,
   "metadata": {},
   "outputs": [],
   "source": []
  }
 ],
 "metadata": {
  "kernelspec": {
   "display_name": "Python 3",
   "language": "python",
   "name": "python3"
  },
  "language_info": {
   "codemirror_mode": {
    "name": "ipython",
    "version": 3
   },
   "file_extension": ".py",
   "mimetype": "text/x-python",
   "name": "python",
   "nbconvert_exporter": "python",
   "pygments_lexer": "ipython3",
   "version": "3.10.2"
  },
  "orig_nbformat": 4,
  "vscode": {
   "interpreter": {
    "hash": "aee8b7b246df8f9039afb4144a1f6fd8d2ca17a180786b69acc140d282b71a49"
   }
  }
 },
 "nbformat": 4,
 "nbformat_minor": 2
}
