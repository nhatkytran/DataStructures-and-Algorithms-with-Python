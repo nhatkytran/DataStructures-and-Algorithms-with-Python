{
 "cells": [
  {
   "cell_type": "code",
   "execution_count": 2,
   "metadata": {},
   "outputs": [
    {
     "name": "stdout",
     "output_type": "stream",
     "text": [
      "15\n"
     ]
    }
   ],
   "source": [
    "class Trie:\n",
    "    def __init__(self):\n",
    "        self.links = [None] * 2\n",
    "\n",
    "    def contains(self, bit):\n",
    "        return self.links[int(bit)] is not None\n",
    "    \n",
    "    def push(self, bit):\n",
    "        self.links[int(bit)] = self.__class__()\n",
    "\n",
    "    def get(self, bit):\n",
    "        return self.links[int(bit)]\n",
    "\n",
    "\n",
    "class Tries:\n",
    "    def __init__(self):\n",
    "        self.root = Trie()\n",
    "\n",
    "    def getNumBits(self, num):\n",
    "        return '{:032b}'.format(num)\n",
    "    \n",
    "    def insert(self, num):\n",
    "        numBits = self.getNumBits(num)\n",
    "        cur = self.root\n",
    "        for bit in numBits:\n",
    "            bit = int(bit)\n",
    "            if not cur.contains(bit):\n",
    "                cur.push(bit)\n",
    "            cur = cur.get(bit)\n",
    "\n",
    "    def getMax(self, num):\n",
    "        numBits = self.getNumBits(num)\n",
    "        cur = self.root\n",
    "        max_value = 0\n",
    "        for i in range(len(numBits)):\n",
    "            bit = int(numBits[i])\n",
    "            if cur.contains(bit ^ 1):\n",
    "                max_value |= (1 << len(numBits) - i - 1)\n",
    "                cur = cur.get(bit ^ 1)\n",
    "            else:\n",
    "                cur = cur.get(bit)\n",
    "        return max_value\n",
    "\n",
    "\n",
    "def findMaxXOR(arr1, arr2):\n",
    "    tries = Tries()\n",
    "    for num in arr1:\n",
    "        tries.insert(num)\n",
    "    max_value = 0\n",
    "    for num in arr2:\n",
    "        max_value = max(max_value, tries.getMax(num))\n",
    "    return max_value\n",
    "\n",
    "\n",
    "print(findMaxXOR([6, 8], [7, 8, 2]))\n"
   ]
  },
  {
   "cell_type": "code",
   "execution_count": null,
   "metadata": {},
   "outputs": [],
   "source": []
  }
 ],
 "metadata": {
  "kernelspec": {
   "display_name": "Python 3",
   "language": "python",
   "name": "python3"
  },
  "language_info": {
   "codemirror_mode": {
    "name": "ipython",
    "version": 3
   },
   "file_extension": ".py",
   "mimetype": "text/x-python",
   "name": "python",
   "nbconvert_exporter": "python",
   "pygments_lexer": "ipython3",
   "version": "3.10.2"
  },
  "orig_nbformat": 4,
  "vscode": {
   "interpreter": {
    "hash": "aee8b7b246df8f9039afb4144a1f6fd8d2ca17a180786b69acc140d282b71a49"
   }
  }
 },
 "nbformat": 4,
 "nbformat_minor": 2
}
