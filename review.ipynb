{
 "cells": [
  {
   "cell_type": "code",
   "execution_count": 2,
   "metadata": {},
   "outputs": [
    {
     "data": {
      "text/plain": [
       "8"
      ]
     },
     "execution_count": 2,
     "metadata": {},
     "output_type": "execute_result"
    }
   ],
   "source": [
    "class Trie:\n",
    "    def __init__(self):\n",
    "        self.alpha = [None] * 26\n",
    "\n",
    "    def index(self, char):\n",
    "        return ord(char) - ord('a')\n",
    "    \n",
    "    def contains(self, char):\n",
    "        return self.alpha[self.index(char)] is not None\n",
    "    \n",
    "    def push(self, char):\n",
    "        self.alpha[self.index(char)] = self.__class__()\n",
    "\n",
    "    def get(self, char):\n",
    "        return self.alpha[self.index(char)]\n",
    "\n",
    "\n",
    "class Tries:\n",
    "    def __init__(self):\n",
    "        self.root = Trie()\n",
    "        \n",
    "    def countPrefixes(self, word):\n",
    "        count = 0\n",
    "        for i in range(len(word)):\n",
    "            cur = self.root\n",
    "            for j in range(i, len(word)):\n",
    "                if not cur.contains(word[j]):\n",
    "                    cur.push(word[j])\n",
    "                    count += 1\n",
    "                cur = cur.get(word[j])\n",
    "        return count + 1\n",
    "\n",
    "\n",
    "tries = Tries()\n",
    "\n",
    "tries.countPrefixes('abab')\n"
   ]
  },
  {
   "cell_type": "code",
   "execution_count": null,
   "metadata": {},
   "outputs": [],
   "source": []
  }
 ],
 "metadata": {
  "kernelspec": {
   "display_name": "Python 3",
   "language": "python",
   "name": "python3"
  },
  "language_info": {
   "codemirror_mode": {
    "name": "ipython",
    "version": 3
   },
   "file_extension": ".py",
   "mimetype": "text/x-python",
   "name": "python",
   "nbconvert_exporter": "python",
   "pygments_lexer": "ipython3",
   "version": "3.10.2"
  },
  "orig_nbformat": 4,
  "vscode": {
   "interpreter": {
    "hash": "aee8b7b246df8f9039afb4144a1f6fd8d2ca17a180786b69acc140d282b71a49"
   }
  }
 },
 "nbformat": 4,
 "nbformat_minor": 2
}
