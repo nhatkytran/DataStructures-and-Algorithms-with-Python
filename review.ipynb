{
 "cells": [
  {
   "cell_type": "code",
   "execution_count": 48,
   "metadata": {},
   "outputs": [
    {
     "name": "stdout",
     "output_type": "stream",
     "text": [
      "[1, 2, 3, 4, 5, 6, 7, 8]\n",
      "5\n"
     ]
    }
   ],
   "source": [
    "def pivot_sort(nums, left, right):\n",
    "    pivot = nums[right - 1]\n",
    "    pointer = left\n",
    "    for i in range(left, right):\n",
    "        if nums[i] < pivot:\n",
    "            nums[i], nums[pointer] = nums[pointer], nums[i]\n",
    "            pointer += 1\n",
    "    nums[pointer], nums[right - 1] = nums[right - 1], nums[pointer]\n",
    "    return pointer\n",
    "\n",
    "\n",
    "def quick_sort(nums, left, right):\n",
    "    if not left < right:\n",
    "        return\n",
    "    pointer = pivot_sort(nums, left, right)\n",
    "    quick_sort(nums, left, pointer)\n",
    "    quick_sort(nums, pointer + 1, right)\n",
    "    return nums\n",
    "\n",
    "\n",
    "array = [7, 2, 1, 6, 8, 5, 3, 4]\n",
    "print(quick_sort(array, 0, len(array)))\n",
    "print(pivot_sort([7, 2, 1, 6, 8, 5, 3, 4], 4, 8))"
   ]
  },
  {
   "cell_type": "code",
   "execution_count": null,
   "metadata": {},
   "outputs": [],
   "source": []
  }
 ],
 "metadata": {
  "kernelspec": {
   "display_name": "Python 3",
   "language": "python",
   "name": "python3"
  },
  "language_info": {
   "codemirror_mode": {
    "name": "ipython",
    "version": 3
   },
   "file_extension": ".py",
   "mimetype": "text/x-python",
   "name": "python",
   "nbconvert_exporter": "python",
   "pygments_lexer": "ipython3",
   "version": "3.10.2"
  },
  "orig_nbformat": 4,
  "vscode": {
   "interpreter": {
    "hash": "aee8b7b246df8f9039afb4144a1f6fd8d2ca17a180786b69acc140d282b71a49"
   }
  }
 },
 "nbformat": 4,
 "nbformat_minor": 2
}
