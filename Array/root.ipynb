{
 "cells": [
  {
   "cell_type": "code",
   "execution_count": 36,
   "metadata": {},
   "outputs": [],
   "source": [
    "array = [\n",
    "    'root/About.vue',\n",
    "    'root/Directory/index.vue',\n",
    "    'root/Directory/Demo.vue',\n",
    "    'root/Directory/Flavors.vue',\n",
    "]\n",
    "\n",
    "def makeTree(array):\n",
    "    result = []\n",
    "    \n",
    "    def inner(src, splitted, index=0):\n",
    "        if index == len(splitted) - 1:\n",
    "            src.append({ 'key': splitted[index], 'children': [] })\n",
    "            return;\n",
    "        new_item = None\n",
    "        for item in src:\n",
    "            if item['key'] == splitted[index]:\n",
    "                new_item = item\n",
    "        if not new_item:\n",
    "            new_item = { 'key': splitted[index], 'children': [] }\n",
    "            src.append(new_item)\n",
    "        inner(new_item['children'], splitted, index + 1)\n",
    "\n",
    "    for item in array:\n",
    "        inner(result, item.split('/'))\n",
    "    return result\n"
   ]
  }
 ],
 "metadata": {
  "kernelspec": {
   "display_name": "Python 3.9.5 64-bit",
   "language": "python",
   "name": "python3"
  },
  "language_info": {
   "codemirror_mode": {
    "name": "ipython",
    "version": 3
   },
   "file_extension": ".py",
   "mimetype": "text/x-python",
   "name": "python",
   "nbconvert_exporter": "python",
   "pygments_lexer": "ipython3",
   "version": "3.9.5"
  },
  "orig_nbformat": 4,
  "vscode": {
   "interpreter": {
    "hash": "b8bdd4e700647ba2b08c59e5df8b7da1dcf50a218bcd4c1bcd9b3dc92e8788e5"
   }
  }
 },
 "nbformat": 4,
 "nbformat_minor": 2
}
