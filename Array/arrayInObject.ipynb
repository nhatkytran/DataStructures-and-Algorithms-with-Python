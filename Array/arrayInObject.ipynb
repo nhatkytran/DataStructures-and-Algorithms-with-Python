{
 "cells": [
  {
   "cell_type": "code",
   "execution_count": 4,
   "metadata": {},
   "outputs": [],
   "source": [
    "raw_data = {\n",
    "    'key1': [1, 2, 3],\n",
    "    'key2': {\n",
    "        'key21': [4, 5],\n",
    "        'key22': {\n",
    "            'key221': [6, 7, 8, 9]\n",
    "        }\n",
    "    },\n",
    "    'key3': {\n",
    "        'key31': [10]\n",
    "    }\n",
    "}\n",
    "\n",
    "def recursion(array, result=[]):\n",
    "    for key in array:\n",
    "        if isinstance(array[key], list):\n",
    "            result = [*result, *array[key]]\n",
    "            continue\n",
    "        result = recursion(array[key], result)\n",
    "    return result\n"
   ]
  },
  {
   "cell_type": "code",
   "execution_count": null,
   "metadata": {},
   "outputs": [],
   "source": []
  }
 ],
 "metadata": {
  "kernelspec": {
   "display_name": "Python 3.9.5 64-bit",
   "language": "python",
   "name": "python3"
  },
  "language_info": {
   "codemirror_mode": {
    "name": "ipython",
    "version": 3
   },
   "file_extension": ".py",
   "mimetype": "text/x-python",
   "name": "python",
   "nbconvert_exporter": "python",
   "pygments_lexer": "ipython3",
   "version": "3.9.5"
  },
  "orig_nbformat": 4,
  "vscode": {
   "interpreter": {
    "hash": "b8bdd4e700647ba2b08c59e5df8b7da1dcf50a218bcd4c1bcd9b3dc92e8788e5"
   }
  }
 },
 "nbformat": 4,
 "nbformat_minor": 2
}
