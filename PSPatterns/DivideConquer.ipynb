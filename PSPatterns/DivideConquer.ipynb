{
 "cells": [
  {
   "cell_type": "code",
   "execution_count": 14,
   "metadata": {},
   "outputs": [
    {
     "name": "stdout",
     "output_type": "stream",
     "text": [
      "0\n",
      "1\n",
      "2\n",
      "3\n",
      "4\n",
      "5\n",
      "6\n"
     ]
    }
   ],
   "source": [
    "def search(target, numbers):\n",
    "    left = 0\n",
    "    right = len(numbers) - 1\n",
    "    while left <= right:\n",
    "        middle = left + (right - left) // 2\n",
    "        if numbers[middle] == target:\n",
    "            return middle\n",
    "        if numbers[middle] < target:\n",
    "            left = middle + 1\n",
    "        if numbers[middle] > target:\n",
    "            right = middle - 1\n",
    "    return -1\n",
    "\n",
    "\n",
    "numbers = [1, 2, 3, 4, 5, 6, 7]\n",
    "\n",
    "for number in numbers:\n",
    "    print(search(number, numbers))\n"
   ]
  },
  {
   "cell_type": "code",
   "execution_count": null,
   "metadata": {},
   "outputs": [],
   "source": []
  }
 ],
 "metadata": {
  "kernelspec": {
   "display_name": "Python 3.9.5 64-bit",
   "language": "python",
   "name": "python3"
  },
  "language_info": {
   "codemirror_mode": {
    "name": "ipython",
    "version": 3
   },
   "file_extension": ".py",
   "mimetype": "text/x-python",
   "name": "python",
   "nbconvert_exporter": "python",
   "pygments_lexer": "ipython3",
   "version": "3.9.5"
  },
  "orig_nbformat": 4,
  "vscode": {
   "interpreter": {
    "hash": "b8bdd4e700647ba2b08c59e5df8b7da1dcf50a218bcd4c1bcd9b3dc92e8788e5"
   }
  }
 },
 "nbformat": 4,
 "nbformat_minor": 2
}
