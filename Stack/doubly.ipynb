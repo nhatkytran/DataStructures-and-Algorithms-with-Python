{
 "cells": [
  {
   "cell_type": "code",
   "execution_count": 13,
   "metadata": {},
   "outputs": [],
   "source": [
    "class Stack:\n",
    "    def __init__(self):\n",
    "        self.top = None\n",
    "        self.size = 0\n",
    "\n",
    "    class NodeStack:\n",
    "        def __init__(self, value):\n",
    "            self.value = value\n",
    "            self.prev = None\n",
    "            self.next = None\n",
    "\n",
    "    def __len__(self):\n",
    "        return self.size\n",
    "\n",
    "    def __repr__(self):\n",
    "        represent = '<-- ' if self.size else ''\n",
    "        current = self.top\n",
    "        while current:\n",
    "            if current.next is None:\n",
    "                represent += f'{current.value} -->'\n",
    "            else:\n",
    "                represent += f'{current.value} <--> '\n",
    "            current = current.next\n",
    "        return represent\n",
    "    \n",
    "    def push(self, value):\n",
    "        new_node = self.NodeStack(value)\n",
    "        if not self.size:\n",
    "            self.top = new_node\n",
    "        else:\n",
    "            new_node.next = self.top\n",
    "            self.top.prev = new_node\n",
    "            self.top = new_node\n",
    "        self.size += 1\n",
    "\n",
    "    def pop(self):\n",
    "        if not self.size:\n",
    "            return None\n",
    "        popped_node = self.top\n",
    "        self.top = self.top.next\n",
    "        if self.top:\n",
    "            self.top.prev = None\n",
    "        self.size -= 1\n",
    "        return popped_node\n",
    "\n",
    "\n",
    "stack = Stack()\n"
   ]
  },
  {
   "cell_type": "code",
   "execution_count": null,
   "metadata": {},
   "outputs": [],
   "source": []
  }
 ],
 "metadata": {
  "kernelspec": {
   "display_name": "Python 3.9.5 64-bit",
   "language": "python",
   "name": "python3"
  },
  "language_info": {
   "codemirror_mode": {
    "name": "ipython",
    "version": 3
   },
   "file_extension": ".py",
   "mimetype": "text/x-python",
   "name": "python",
   "nbconvert_exporter": "python",
   "pygments_lexer": "ipython3",
   "version": "3.9.5"
  },
  "orig_nbformat": 4,
  "vscode": {
   "interpreter": {
    "hash": "b8bdd4e700647ba2b08c59e5df8b7da1dcf50a218bcd4c1bcd9b3dc92e8788e5"
   }
  }
 },
 "nbformat": 4,
 "nbformat_minor": 2
}
