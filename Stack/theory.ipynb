{
 "cells": [
  {
   "cell_type": "code",
   "execution_count": null,
   "metadata": {},
   "outputs": [],
   "source": [
    "# What is a Stack?\n",
    "\n",
    "# - Collection of items\n",
    "# - Add to top of Stack (push)\n",
    "# - Remove top of Stack (pop)\n",
    "# - Last in first out (LIFO)\n",
    "\n",
    "# What is a Stack useful for?\n",
    "\n",
    "# - Tracking a history of steps\n",
    "# - Browser history\n",
    "# - Backtracking algorithms\n",
    "\n",
    "# Depth First Traversal\n",
    "# => Stack\n",
    "# => Explore one direction as far as possible before switching directions\n",
    "\n",
    "# Breadth First Traversal\n",
    "# => Queue\n",
    "# => Explore all direction evenly\n",
    "\n",
    "# Monotonous Stack\n",
    "# https://leetcode.com/problems/final-prices-with-a-special-discount-in-a-shop/\n"
   ]
  }
 ],
 "metadata": {
  "kernelspec": {
   "display_name": "Python 3.9.5 64-bit",
   "language": "python",
   "name": "python3"
  },
  "language_info": {
   "name": "python",
   "version": "3.9.5"
  },
  "orig_nbformat": 4,
  "vscode": {
   "interpreter": {
    "hash": "b8bdd4e700647ba2b08c59e5df8b7da1dcf50a218bcd4c1bcd9b3dc92e8788e5"
   }
  }
 },
 "nbformat": 4,
 "nbformat_minor": 2
}
