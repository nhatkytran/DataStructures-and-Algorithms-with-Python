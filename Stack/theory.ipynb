{
 "cells": [
  {
   "cell_type": "code",
   "execution_count": null,
   "metadata": {},
   "outputs": [],
   "source": [
    "# What is a Stack?\n",
    "\n",
    "# - Collection of items\n",
    "# - Add to top of Stack (push)\n",
    "# - Remove top of Stack (pop)\n",
    "# - Last in first out (LIFO)\n",
    "\n",
    "# What is a Stack useful for?\n",
    "\n",
    "# - Tracking a history of steps\n",
    "# - Browser history\n",
    "# - Backtracking algorithms"
   ]
  }
 ],
 "metadata": {
  "language_info": {
   "name": "python"
  },
  "orig_nbformat": 4
 },
 "nbformat": 4,
 "nbformat_minor": 2
}
