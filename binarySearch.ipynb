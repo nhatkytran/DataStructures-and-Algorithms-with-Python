{
 "cells": [
  {
   "cell_type": "code",
   "execution_count": null,
   "metadata": {},
   "outputs": [],
   "source": [
    "# Check the first value greater than a target\n",
    "# It can be a value \"right\" => Use a variale to store the value right and keep searching\n",
    "list_3 = [1, 2, 3, 4, 5, 6, 7, 8, 9]\n",
    "target3 = 2\n",
    "\n",
    "\n",
    "def first_greater(list_, target):\n",
    "    left = 0\n",
    "    right = len(list_) - 1\n",
    "    result = None\n",
    "\n",
    "    while left <= right:\n",
    "        middle = left + (right - left) // 2\n",
    "\n",
    "        if list_[middle] > target:\n",
    "            result = list_[middle]\n",
    "            right = middle - 1\n",
    "        else:\n",
    "            left = middle + 1\n",
    "    \n",
    "    return result\n",
    "\n",
    "\n",
    "# Check the first value less than a target\n",
    "list_4 = [1, 2, 3, 4, 5, 6, 7, 8, 9]\n",
    "target4 = 8\n",
    "\n",
    "\n",
    "def less_than(list_, target):\n",
    "    left = 0\n",
    "    right = len(list_) - 1\n",
    "    result = None\n",
    "\n",
    "    while left <= right:\n",
    "        middle = left + (right - left) // 2\n",
    "\n",
    "        if list_[middle] < target:\n",
    "            result = list_[middle]\n",
    "            left = middle + 1\n",
    "        else:\n",
    "            right = middle - 1\n",
    "\n",
    "    return result"
   ]
  },
  {
   "cell_type": "code",
   "execution_count": null,
   "metadata": {},
   "outputs": [],
   "source": []
  }
 ],
 "metadata": {
  "kernelspec": {
   "display_name": "Python 3.9.5 64-bit",
   "language": "python",
   "name": "python3"
  },
  "language_info": {
   "codemirror_mode": {
    "name": "ipython",
    "version": 3
   },
   "file_extension": ".py",
   "mimetype": "text/x-python",
   "name": "python",
   "nbconvert_exporter": "python",
   "pygments_lexer": "ipython3",
   "version": "3.9.5"
  },
  "orig_nbformat": 4,
  "vscode": {
   "interpreter": {
    "hash": "b8bdd4e700647ba2b08c59e5df8b7da1dcf50a218bcd4c1bcd9b3dc92e8788e5"
   }
  }
 },
 "nbformat": 4,
 "nbformat_minor": 2
}
