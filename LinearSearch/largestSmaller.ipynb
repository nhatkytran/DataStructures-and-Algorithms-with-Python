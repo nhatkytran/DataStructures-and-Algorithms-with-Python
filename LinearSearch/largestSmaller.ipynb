{
 "cells": [
  {
   "cell_type": "code",
   "execution_count": 37,
   "metadata": {},
   "outputs": [
    {
     "name": "stdout",
     "output_type": "stream",
     "text": [
      "4\n"
     ]
    }
   ],
   "source": [
    "# Point from start\n",
    "def largest(list_, target):\n",
    "    result = -1\n",
    "    for i in range(len(list_)):\n",
    "        if list_[i] >= target:\n",
    "            break\n",
    "        result = i\n",
    "    return result\n",
    "\n",
    "\n",
    "def recursive_largest(list_, target, pointer=0, result=-1):\n",
    "    if pointer == len(list_) or list_[pointer] >= target:\n",
    "        return result\n",
    "    result = pointer\n",
    "    return recursive_largest(list_, target, pointer + 1, result)\n",
    "    \n",
    "\n",
    "def recursive_largest_affl(list_, target, pointer=0, result=-1):\n",
    "    try:\n",
    "        if list_[pointer] >= target:\n",
    "            return result\n",
    "        result = pointer\n",
    "        return largest_affl(list_, target, pointer + 1, result)\n",
    "    except IndexError:\n",
    "        return result\n",
    "\n",
    "\n",
    "# Point from end\n",
    "def end(list_, target):\n",
    "    for i in range(len(list_)):\n",
    "        last = len(list_) - (i + 1)\n",
    "        if list_[last] < target:\n",
    "            return last\n",
    "    return -1\n",
    "\n",
    "\n",
    "def recursive_end(list_, target):\n",
    "    if not len(list_):\n",
    "        return -1\n",
    "    if list_[-1] < target:\n",
    "        return len(list_) - 1\n",
    "    return recursive_end(list_[:-1], target)\n",
    "\n",
    "\n",
    "def recursive_end_affl(list_, target):\n",
    "    try:\n",
    "        if list_[-1] < target:\n",
    "            return len(list_) - 1\n",
    "        return recursive_end_affl(list_[:-1], target)\n",
    "    except IndexError:\n",
    "        return -1\n",
    "\n",
    "\n",
    "# Point from center\n",
    "def center(list_, target):\n",
    "    pointer = len(list_) // 2\n",
    "    if list_[pointer] >= target:\n",
    "        for i in range(pointer):\n",
    "            last = pointer - (i + 1)\n",
    "            if list_[last] < target:\n",
    "                return last\n",
    "        return - 1\n",
    "    if list_[pointer] < target:\n",
    "        result = pointer\n",
    "        for i in range(pointer + 1, len(list_)):\n",
    "            if list_[i] >= target:\n",
    "                break\n",
    "            result = i\n",
    "        return result\n",
    "\n",
    "\n",
    "# print(center([1,3,5,7,9], 70))"
   ]
  },
  {
   "cell_type": "code",
   "execution_count": null,
   "metadata": {},
   "outputs": [],
   "source": []
  }
 ],
 "metadata": {
  "kernelspec": {
   "display_name": "Python 3.9.5 64-bit",
   "language": "python",
   "name": "python3"
  },
  "language_info": {
   "codemirror_mode": {
    "name": "ipython",
    "version": 3
   },
   "file_extension": ".py",
   "mimetype": "text/x-python",
   "name": "python",
   "nbconvert_exporter": "python",
   "pygments_lexer": "ipython3",
   "version": "3.9.5"
  },
  "orig_nbformat": 4,
  "vscode": {
   "interpreter": {
    "hash": "b8bdd4e700647ba2b08c59e5df8b7da1dcf50a218bcd4c1bcd9b3dc92e8788e5"
   }
  }
 },
 "nbformat": 4,
 "nbformat_minor": 2
}
