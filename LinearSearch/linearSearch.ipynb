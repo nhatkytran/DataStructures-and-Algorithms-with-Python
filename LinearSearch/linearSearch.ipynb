{
 "cells": [
  {
   "cell_type": "code",
   "execution_count": 9,
   "metadata": {},
   "outputs": [
    {
     "name": "stdout",
     "output_type": "stream",
     "text": [
      "-1\n"
     ]
    }
   ],
   "source": [
    "list_ = [1, 2, 3, 4, 5, 6, 7, 8, 9]\n",
    "target = 8\n",
    "\n",
    "\n",
    "# O(n)\n",
    "def linear(list_, target):\n",
    "    rng = range(len(list_) - 1)\n",
    "\n",
    "    for i in rng:\n",
    "      if list_[i] == target:\n",
    "        return i\n",
    "\n",
    "    return -1\n",
    "\n",
    "\n",
    "# O(n / 2)\n",
    "def linear_half(list_, target):\n",
    "    pointer = (len(list_) - 1) // 2\n",
    "\n",
    "    while 0 <= pointer <= (len(list_) - 1):\n",
    "        if list_[pointer] == target:\n",
    "            return pointer\n",
    "        elif list_[pointer] < target:\n",
    "            pointer += 1\n",
    "        else:\n",
    "            pointer -= 1\n",
    "\n",
    "    return -1\n",
    "\n",
    "\n",
    "# Recursive linear seach\n",
    "list_ = [1, 2, 3, 4, 5, 6, 7, 8, 9]\n",
    "target = 8\n",
    "\n",
    "\n",
    "# O(n)\n",
    "def recursive_linear(list_, target, count={ 'count': 0 }):\n",
    "    if len(list_) == 0:\n",
    "        return -1\n",
    "\n",
    "    if list_[0] == target:\n",
    "        return count['count']\n",
    "    else:\n",
    "        count['count'] += 1\n",
    "        return recursive_linear(list_[1:], target)\n",
    "\n",
    "\n",
    "# O(n / 2)\n",
    "def recursive_linear_half(list_, target, index=None):\n",
    "    if index is None:\n",
    "        index = len(list_) // 2\n",
    "    if index < 0 or index > len(list_) - 1:\n",
    "        return -1\n",
    "\n",
    "    if list_[index] == target:\n",
    "        return index\n",
    "    elif list_[index] < target:\n",
    "        return recursive_linear_half(list_, target, index + 1)\n",
    "    else:\n",
    "        return recursive_linear_half(list_, target, index - 1)"
   ]
  },
  {
   "cell_type": "code",
   "execution_count": null,
   "metadata": {},
   "outputs": [],
   "source": []
  }
 ],
 "metadata": {
  "kernelspec": {
   "display_name": "Python 3.9.5 64-bit",
   "language": "python",
   "name": "python3"
  },
  "language_info": {
   "codemirror_mode": {
    "name": "ipython",
    "version": 3
   },
   "file_extension": ".py",
   "mimetype": "text/x-python",
   "name": "python",
   "nbconvert_exporter": "python",
   "pygments_lexer": "ipython3",
   "version": "3.9.5"
  },
  "orig_nbformat": 4,
  "vscode": {
   "interpreter": {
    "hash": "b8bdd4e700647ba2b08c59e5df8b7da1dcf50a218bcd4c1bcd9b3dc92e8788e5"
   }
  }
 },
 "nbformat": 4,
 "nbformat_minor": 2
}
