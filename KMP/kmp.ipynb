{
 "cells": [
  {
   "cell_type": "code",
   "execution_count": 40,
   "metadata": {},
   "outputs": [
    {
     "name": "stdout",
     "output_type": "stream",
     "text": [
      "[0, 1, 2, 0, 1, 2, 3, 3, 4, 5, 0, 1, 2]\n"
     ]
    }
   ],
   "source": [
    "def getLPS(needle):\n",
    "    lps = [0] * len(needle)\n",
    "    prevLPS = 0\n",
    "    index = 1\n",
    "    while index < len(needle):\n",
    "        if needle[index] == needle[prevLPS]:\n",
    "            lps[index] = prevLPS + 1\n",
    "            prevLPS += 1\n",
    "            index += 1\n",
    "        else:\n",
    "            if prevLPS == 0:\n",
    "                lps[index] = 0\n",
    "                index += 1\n",
    "            else:\n",
    "                # prevLPS -= 1\n",
    "                prevLPS = lps[prevLPS - 1]\n",
    "    return lps\n",
    "\n",
    "\n",
    "def getLPS(needle):\n",
    "    lps = [0] * len(needle)\n",
    "    prevLPS = 0\n",
    "    index = 1\n",
    "    while index < len(needle):\n",
    "        if needle[index] == needle[prevLPS]:\n",
    "            lps[index] = prevLPS + 1\n",
    "            prevLPS += 1\n",
    "            index += 1\n",
    "        elif prevLPS == 0:\n",
    "            lps[index] = 0\n",
    "            index += 1\n",
    "        else:\n",
    "            prevLPS = lps[prevLPS - 1]\n",
    "    return lps\n",
    "\n",
    "\n",
    "print(getLPS('AAACAAAACAXAA'))\n"
   ]
  },
  {
   "cell_type": "code",
   "execution_count": null,
   "metadata": {},
   "outputs": [],
   "source": []
  }
 ],
 "metadata": {
  "kernelspec": {
   "display_name": "Python 3",
   "language": "python",
   "name": "python3"
  },
  "language_info": {
   "codemirror_mode": {
    "name": "ipython",
    "version": 3
   },
   "file_extension": ".py",
   "mimetype": "text/x-python",
   "name": "python",
   "nbconvert_exporter": "python",
   "pygments_lexer": "ipython3",
   "version": "3.10.2"
  },
  "orig_nbformat": 4
 },
 "nbformat": 4,
 "nbformat_minor": 2
}
