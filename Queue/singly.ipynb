{
 "cells": [
  {
   "cell_type": "code",
   "execution_count": 15,
   "metadata": {},
   "outputs": [],
   "source": [
    "class Queue:\n",
    "    def __init__(self):\n",
    "        self.top = None\n",
    "        self.end = None\n",
    "        self.size = 0\n",
    "\n",
    "    class NodeQueue:\n",
    "        def __init__(self, value):\n",
    "            self.value = value;\n",
    "            self.next = None\n",
    "\n",
    "    def __len__():\n",
    "        return self.size\n",
    "\n",
    "    def __repr__(self):\n",
    "        represent = ''\n",
    "        current = self.top\n",
    "        while current:\n",
    "            represent += f'{current.value} --> '\n",
    "            current = current.next\n",
    "        return represent\n",
    "\n",
    "    def push(self, value):\n",
    "        new_node = self.NodeQueue(value)\n",
    "        if not self.size:\n",
    "            self.top = new_node\n",
    "            self.end = new_node\n",
    "        else:\n",
    "            self.end.next = new_node\n",
    "            self.end = self.end.next\n",
    "        self.size += 1\n",
    "\n",
    "    def pop(self):\n",
    "        popped_node = None\n",
    "        if not self.size:\n",
    "            return popped_node\n",
    "        elif self.size == 1:\n",
    "            popped_node = self.top\n",
    "            self.top = None\n",
    "            self.end = None\n",
    "        else:\n",
    "            current = self.top\n",
    "            while current:\n",
    "                if current.next is self.end:\n",
    "                    break\n",
    "                current = current.next\n",
    "            popped_node = current.next\n",
    "            current.next = None\n",
    "            self.end = current\n",
    "        self.size -= 1\n",
    "        return popped_node\n",
    "\n",
    "\n",
    "queue = Queue()\n"
   ]
  },
  {
   "cell_type": "code",
   "execution_count": null,
   "metadata": {},
   "outputs": [],
   "source": []
  },
  {
   "cell_type": "code",
   "execution_count": null,
   "metadata": {},
   "outputs": [],
   "source": []
  }
 ],
 "metadata": {
  "kernelspec": {
   "display_name": "Python 3.9.5 64-bit",
   "language": "python",
   "name": "python3"
  },
  "language_info": {
   "codemirror_mode": {
    "name": "ipython",
    "version": 3
   },
   "file_extension": ".py",
   "mimetype": "text/x-python",
   "name": "python",
   "nbconvert_exporter": "python",
   "pygments_lexer": "ipython3",
   "version": "3.9.5"
  },
  "orig_nbformat": 4,
  "vscode": {
   "interpreter": {
    "hash": "b8bdd4e700647ba2b08c59e5df8b7da1dcf50a218bcd4c1bcd9b3dc92e8788e5"
   }
  }
 },
 "nbformat": 4,
 "nbformat_minor": 2
}
