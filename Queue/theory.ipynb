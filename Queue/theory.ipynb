{
 "cells": [
  {
   "cell_type": "code",
   "execution_count": null,
   "metadata": {},
   "outputs": [],
   "source": [
    "# Queue\n",
    "\n",
    "# - Collection of items\n",
    "# - Add to back of queue (enqueue)\n",
    "# - Remove front of queue (dequeue)\n",
    "# - Fist in first out (FIFO)\n",
    "\n",
    "# What is a Queue useful for?\n",
    "\n",
    "# - \"First come, first serve\" order\n",
    "# - Tracking requests for a limited resources\n",
    "# - Graph algorithms"
   ]
  }
 ],
 "metadata": {
  "kernelspec": {
   "display_name": "Python 3.9.5 64-bit",
   "language": "python",
   "name": "python3"
  },
  "language_info": {
   "name": "python",
   "version": "3.9.5"
  },
  "orig_nbformat": 4,
  "vscode": {
   "interpreter": {
    "hash": "b8bdd4e700647ba2b08c59e5df8b7da1dcf50a218bcd4c1bcd9b3dc92e8788e5"
   }
  }
 },
 "nbformat": 4,
 "nbformat_minor": 2
}
