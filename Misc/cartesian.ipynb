{
 "cells": [
  {
   "cell_type": "code",
   "execution_count": 1,
   "metadata": {},
   "outputs": [
    {
     "name": "stdout",
     "output_type": "stream",
     "text": [
      "[[1, 3], [1, 4], [1, 5], [2, 3], [2, 4], [2, 5]]\n"
     ]
    }
   ],
   "source": [
    "def cartesian(numbers1, numbers2):\n",
    "    result = []\n",
    "    for number1 in numbers1:\n",
    "        for number2 in numbers2:\n",
    "            result.append([number1, number2])\n",
    "    return result\n",
    "\n",
    "\n",
    "numbers1 = [1, 2]\n",
    "numbers2 = [3, 4, 5]\n",
    "\n",
    "print(cartesian(numbers1, numbers2))\n"
   ]
  },
  {
   "cell_type": "code",
   "execution_count": null,
   "metadata": {},
   "outputs": [],
   "source": []
  }
 ],
 "metadata": {
  "kernelspec": {
   "display_name": "Python 3.9.5 64-bit",
   "language": "python",
   "name": "python3"
  },
  "language_info": {
   "codemirror_mode": {
    "name": "ipython",
    "version": 3
   },
   "file_extension": ".py",
   "mimetype": "text/x-python",
   "name": "python",
   "nbconvert_exporter": "python",
   "pygments_lexer": "ipython3",
   "version": "3.9.5"
  },
  "orig_nbformat": 4,
  "vscode": {
   "interpreter": {
    "hash": "b8bdd4e700647ba2b08c59e5df8b7da1dcf50a218bcd4c1bcd9b3dc92e8788e5"
   }
  }
 },
 "nbformat": 4,
 "nbformat_minor": 2
}
