{
 "cells": [
  {
   "cell_type": "code",
   "execution_count": 15,
   "metadata": {},
   "outputs": [
    {
     "name": "stdout",
     "output_type": "stream",
     "text": [
      "[0]\n",
      "---\n",
      "[0, 1]\n",
      "---\n",
      "[0, 1, 2]\n",
      "---\n",
      "[0, 1, 2, 3]\n",
      "---\n",
      "[0, 1, 2, 3, 5]\n",
      "---\n"
     ]
    }
   ],
   "source": [
    "# Given a staircase of n steps. You can either climb a staircase 1 step or 2 steps at a time\n",
    "\n",
    "\n",
    "# Count\n",
    "\n",
    "\n",
    "def staircase(number):\n",
    "    result = [0] * (number + 1)\n",
    "    try:\n",
    "        result[1], result[2] = 1, 2\n",
    "    except IndexError:\n",
    "        return result\n",
    "    for i in range(3, number + 1):\n",
    "        result[i] = result[i - 1] + result[i - 2]\n",
    "    return result\n",
    "\n",
    "\n",
    "for i in range(5):\n",
    "    print(staircase(i))\n",
    "    print('---')\n"
   ]
  },
  {
   "cell_type": "code",
   "execution_count": null,
   "metadata": {},
   "outputs": [],
   "source": []
  }
 ],
 "metadata": {
  "kernelspec": {
   "display_name": "Python 3.9.5 64-bit",
   "language": "python",
   "name": "python3"
  },
  "language_info": {
   "codemirror_mode": {
    "name": "ipython",
    "version": 3
   },
   "file_extension": ".py",
   "mimetype": "text/x-python",
   "name": "python",
   "nbconvert_exporter": "python",
   "pygments_lexer": "ipython3",
   "version": "3.9.5"
  },
  "orig_nbformat": 4,
  "vscode": {
   "interpreter": {
    "hash": "b8bdd4e700647ba2b08c59e5df8b7da1dcf50a218bcd4c1bcd9b3dc92e8788e5"
   }
  }
 },
 "nbformat": 4,
 "nbformat_minor": 2
}
