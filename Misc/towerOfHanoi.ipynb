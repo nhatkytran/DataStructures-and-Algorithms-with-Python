{
 "cells": [
  {
   "cell_type": "code",
   "execution_count": 17,
   "metadata": {},
   "outputs": [
    {
     "name": "stdout",
     "output_type": "stream",
     "text": [
      "Move < 1 > from < A > to < C >\n",
      "Move < 2 > from < A > to < B >\n",
      "Move < 1 > from < C > to < B >\n",
      "Move < 3 > from < A > to < C >\n",
      "Move < 1 > from < B > to < A >\n",
      "Move < 2 > from < B > to < C >\n",
      "Move < 1 > from < A > to < C >\n",
      "1 --> 3\n",
      "1 --> 2\n",
      "3 --> 2\n",
      "1 --> 3\n",
      "2 --> 1\n",
      "2 --> 3\n",
      "1 --> 3\n"
     ]
    }
   ],
   "source": [
    "def tower(n, fromRod, otherRod, toRod):\n",
    "    if n == 1:\n",
    "        return print(f'Move < {n} > from < {fromRod} > to < {toRod} >')\n",
    "    tower(n - 1, fromRod, toRod, otherRod)\n",
    "    print(f'Move < {n} > from < {fromRod} > to < {toRod} >')\n",
    "    tower(n - 1, otherRod, fromRod, toRod)\n",
    "\n",
    "\n",
    "tower(3, 'A', 'B', 'C')\n",
    "\n",
    "\n",
    "path = lambda start, end: print(f'{start} --> {end}')\n",
    "\n",
    "def tower(n, start, end):\n",
    "    if n == 1:\n",
    "        return path(start, end)\n",
    "    other = 6 - (start + end)\n",
    "    tower(n - 1, start, other)\n",
    "    path(start, end)\n",
    "    tower(n - 1, other, end)\n",
    "\n",
    "\n",
    "tower(3, 1, 3)\n"
   ]
  },
  {
   "cell_type": "code",
   "execution_count": null,
   "metadata": {},
   "outputs": [],
   "source": []
  }
 ],
 "metadata": {
  "kernelspec": {
   "display_name": "Python 3.9.5 64-bit",
   "language": "python",
   "name": "python3"
  },
  "language_info": {
   "codemirror_mode": {
    "name": "ipython",
    "version": 3
   },
   "file_extension": ".py",
   "mimetype": "text/x-python",
   "name": "python",
   "nbconvert_exporter": "python",
   "pygments_lexer": "ipython3",
   "version": "3.9.5"
  },
  "orig_nbformat": 4,
  "vscode": {
   "interpreter": {
    "hash": "b8bdd4e700647ba2b08c59e5df8b7da1dcf50a218bcd4c1bcd9b3dc92e8788e5"
   }
  }
 },
 "nbformat": 4,
 "nbformat_minor": 2
}
