{
 "cells": [
  {
   "cell_type": "code",
   "execution_count": null,
   "metadata": {},
   "outputs": [],
   "source": [
    "# Combinatorics\n",
    "# Field of math concerned with counting things\n",
    "\n",
    "# Combinations\n",
    "# A collection of things where the order does not matter\n",
    "\n",
    "# Combinations of [a, b] => [], [a], [b], [a, b]\n",
    "#        []\n",
    "#   []         [a]\n",
    "# []   [b]   [a] [a, b]\n",
    "#  Binary decision\n",
    "# => Given a set of n things, there are 2 ** n possible combinations\n",
    "\n",
    "# Coding\n",
    "# Input: [a, b, c]\n",
    "# Out put: [[], [a], [b], [c], [a, b], [a, c], [b, c], [a, b, c]]\n",
    "\n",
    "# Permutaion\n",
    "# A collection of things where the order matters\n",
    "\n",
    "# Permutations of [a, b, c]\n",
    "# [a, b, c]\n",
    "# [a, c, b]\n",
    "# [b, a, c]\n",
    "# [b, c, a]\n",
    "# [c, a, b]\n",
    "# [c, b, a]\n",
    "#                               []\n",
    "#                              [a]\n",
    "#              [a, b]                       [b, a]\n",
    "# [c, a, b] [a, c, b] [a, b, c]   [c, b, a] [b, c, a] [b, a, c]\n",
    "# => Given a set of n things, there are n! factorial permutaions"
   ]
  }
 ],
 "metadata": {
  "kernelspec": {
   "display_name": "Python 3.9.5 64-bit",
   "language": "python",
   "name": "python3"
  },
  "language_info": {
   "name": "python",
   "version": "3.9.5"
  },
  "orig_nbformat": 4,
  "vscode": {
   "interpreter": {
    "hash": "b8bdd4e700647ba2b08c59e5df8b7da1dcf50a218bcd4c1bcd9b3dc92e8788e5"
   }
  }
 },
 "nbformat": 4,
 "nbformat_minor": 2
}
