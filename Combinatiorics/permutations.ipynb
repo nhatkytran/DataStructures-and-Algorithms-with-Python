{
 "cells": [
  {
   "cell_type": "code",
   "execution_count": 27,
   "metadata": {},
   "outputs": [
    {
     "name": "stdout",
     "output_type": "stream",
     "text": [
      "[[1, 2], [2, 1]]\n"
     ]
    }
   ],
   "source": [
    "def my(list_):\n",
    "    result = [[]]\n",
    "    for item in list_:\n",
    "        new_result = []\n",
    "        for perm in result:\n",
    "            for i in range(len(perm) + 1):\n",
    "                new_perm = [*perm]\n",
    "                new_perm.insert(i, item)\n",
    "                new_result.append(new_perm)\n",
    "        result = new_result\n",
    "    return result\n",
    "\n",
    "\n",
    "def recursive_my(list_):\n",
    "    def inner(list_iter):\n",
    "        try:\n",
    "            item = next(list_iter)\n",
    "            perms = inner(list_iter)\n",
    "            new_perms = []\n",
    "            for perm in perms:\n",
    "                for i in range(len(perm) + 1):\n",
    "                    new_perm = [*perm]\n",
    "                    new_perm.insert(i, item)\n",
    "                    new_perms.append(new_perm)\n",
    "            return new_perms\n",
    "        except StopIteration:\n",
    "            return [[]]\n",
    "    return inner(iter(list_))\n"
   ]
  },
  {
   "cell_type": "code",
   "execution_count": null,
   "metadata": {},
   "outputs": [],
   "source": []
  }
 ],
 "metadata": {
  "kernelspec": {
   "display_name": "Python 3.9.5 64-bit",
   "language": "python",
   "name": "python3"
  },
  "language_info": {
   "codemirror_mode": {
    "name": "ipython",
    "version": 3
   },
   "file_extension": ".py",
   "mimetype": "text/x-python",
   "name": "python",
   "nbconvert_exporter": "python",
   "pygments_lexer": "ipython3",
   "version": "3.9.5"
  },
  "orig_nbformat": 4,
  "vscode": {
   "interpreter": {
    "hash": "b8bdd4e700647ba2b08c59e5df8b7da1dcf50a218bcd4c1bcd9b3dc92e8788e5"
   }
  }
 },
 "nbformat": 4,
 "nbformat_minor": 2
}
