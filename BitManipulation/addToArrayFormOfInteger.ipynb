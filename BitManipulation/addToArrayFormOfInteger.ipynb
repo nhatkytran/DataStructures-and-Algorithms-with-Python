{
 "cells": [
  {
   "cell_type": "code",
   "execution_count": 7,
   "metadata": {},
   "outputs": [
    {
     "name": "stdout",
     "output_type": "stream",
     "text": [
      "[1, 2, 3, 4]\n",
      "[1, 0, 2, 1]\n"
     ]
    }
   ],
   "source": [
    "class Solution:\n",
    "    # Run time error\n",
    "    def addToArrayForm(self, num, k):\n",
    "        str_num = ''\n",
    "        for n in num: str_num += str(n)\n",
    "        num = int(str_num) + k\n",
    "        return [int(n) for n in str(num)]\n",
    "\n",
    "    def addToArrayForm(self, num, k):\n",
    "        num.reverse()\n",
    "        pointer = 0\n",
    "        while k:\n",
    "            digit = k % 10\n",
    "            if pointer < len(num):\n",
    "                num[pointer] += digit\n",
    "            else:\n",
    "                num.append(digit)\n",
    "            carry = num[pointer] // 10\n",
    "            num[pointer] %= 10\n",
    "            k //= 10\n",
    "            k += carry\n",
    "            pointer += 1\n",
    "        num.reverse()\n",
    "        return num\n",
    "\n",
    "\n",
    "s = Solution()\n",
    "\n",
    "print(s.addToArrayForm([1,2,0,0], 34))\n",
    "print(s.addToArrayForm([2,1,5], 806))\n"
   ]
  },
  {
   "cell_type": "code",
   "execution_count": null,
   "metadata": {},
   "outputs": [],
   "source": []
  }
 ],
 "metadata": {
  "kernelspec": {
   "display_name": "Python 3",
   "language": "python",
   "name": "python3"
  },
  "language_info": {
   "codemirror_mode": {
    "name": "ipython",
    "version": 3
   },
   "file_extension": ".py",
   "mimetype": "text/x-python",
   "name": "python",
   "nbconvert_exporter": "python",
   "pygments_lexer": "ipython3",
   "version": "3.10.2"
  },
  "orig_nbformat": 4
 },
 "nbformat": 4,
 "nbformat_minor": 2
}
