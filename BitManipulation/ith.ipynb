{
 "cells": [
  {
   "cell_type": "code",
   "execution_count": null,
   "metadata": {},
   "outputs": [],
   "source": [
    "# Checking for ith set bit"
   ]
  },
  {
   "cell_type": "code",
   "execution_count": 3,
   "metadata": {},
   "outputs": [
    {
     "name": "stdout",
     "output_type": "stream",
     "text": [
      "False\n",
      "True\n",
      "False\n",
      "True\n"
     ]
    }
   ],
   "source": [
    "def check_ith_set_bit(num, i):\n",
    "    mask = 1 << i\n",
    "    return num & mask != 0\n",
    "\n",
    "\n",
    "num1 = 10  # 1010 in binary, 2nd bit is set\n",
    "\n",
    "print(check_ith_set_bit(num1, 0))\n",
    "print(check_ith_set_bit(num1, 1))\n",
    "print(check_ith_set_bit(num1, 2))\n",
    "print(check_ith_set_bit(num1, 3))\n"
   ]
  },
  {
   "cell_type": "code",
   "execution_count": 4,
   "metadata": {},
   "outputs": [
    {
     "name": "stdout",
     "output_type": "stream",
     "text": [
      "False\n",
      "True\n",
      "False\n",
      "True\n"
     ]
    }
   ],
   "source": [
    "def check_ith_set_bit(num, i):\n",
    "    mask = num >> i\n",
    "    return 1 & mask != 0\n",
    "\n",
    "\n",
    "num1 = 10  # 1010 in binary, 2nd bit is set\n",
    "\n",
    "print(check_ith_set_bit(num1, 0))\n",
    "print(check_ith_set_bit(num1, 1))\n",
    "print(check_ith_set_bit(num1, 2))\n",
    "print(check_ith_set_bit(num1, 3))\n"
   ]
  },
  {
   "cell_type": "code",
   "execution_count": 7,
   "metadata": {},
   "outputs": [
    {
     "data": {
      "text/plain": [
       "16"
      ]
     },
     "execution_count": 7,
     "metadata": {},
     "output_type": "execute_result"
    }
   ],
   "source": []
  },
  {
   "cell_type": "code",
   "execution_count": null,
   "metadata": {},
   "outputs": [],
   "source": []
  }
 ],
 "metadata": {
  "kernelspec": {
   "display_name": "Python 3",
   "language": "python",
   "name": "python3"
  },
  "language_info": {
   "codemirror_mode": {
    "name": "ipython",
    "version": 3
   },
   "file_extension": ".py",
   "mimetype": "text/x-python",
   "name": "python",
   "nbconvert_exporter": "python",
   "pygments_lexer": "ipython3",
   "version": "3.10.2"
  },
  "orig_nbformat": 4
 },
 "nbformat": 4,
 "nbformat_minor": 2
}
