{
 "cells": [
  {
   "cell_type": "code",
   "execution_count": null,
   "metadata": {},
   "outputs": [],
   "source": [
    "# & operator\n",
    "# all 1 --> 1\n",
    "# any 0 --> 0\n",
    "\n",
    "# or operator\n",
    "# any 1 --> 1\n",
    "# all 0 --> 0\n",
    "\n",
    "# xor operator\n",
    "# even 1 --> 0\n",
    "# odd 1 --> 1\n"
   ]
  }
 ],
 "metadata": {
  "language_info": {
   "name": "python"
  },
  "orig_nbformat": 4
 },
 "nbformat": 4,
 "nbformat_minor": 2
}
