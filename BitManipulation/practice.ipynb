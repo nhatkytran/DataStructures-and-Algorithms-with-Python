{
 "cells": [
  {
   "cell_type": "code",
   "execution_count": 1,
   "metadata": {},
   "outputs": [],
   "source": [
    "# & operator\n",
    "# all 1 --> 1\n",
    "# any 0 --> 0\n",
    "\n",
    "# or operator\n",
    "# any 1 --> 1\n",
    "# all 0 --> 0\n",
    "\n",
    "# xor operator\n",
    "# even 1 --> 0\n",
    "# odd 1 --> 1\n"
   ]
  },
  {
   "cell_type": "code",
   "execution_count": 2,
   "metadata": {},
   "outputs": [
    {
     "name": "stdout",
     "output_type": "stream",
     "text": [
      "1\n"
     ]
    }
   ],
   "source": [
    "# Find a single number in array\n",
    "\n",
    "def find_single(nums):\n",
    "    result = 0\n",
    "    for num in nums:\n",
    "        result ^= num\n",
    "    return result\n",
    "\n",
    "\n",
    "print(find_single([2,1,2,5,6,5,7,7,6]))\n"
   ]
  },
  {
   "cell_type": "code",
   "execution_count": 3,
   "metadata": {},
   "outputs": [],
   "source": [
    "# Swap a = 5 and b = 7\n",
    "\n",
    "# First: a = a ^ b\n",
    "# a = 5 ^ 7\n",
    "# b = 7\n",
    "\n",
    "# Second: b = a ^ b\n",
    "# a = 5 ^ 7\n",
    "# b = 5 ^ 7 ^ 7 = 5\n",
    "\n",
    "# Third: a = a ^ b\n",
    "# a = 5 ^ 7 ^ 5 = 7\n",
    "# b = 5\n"
   ]
  },
  {
   "cell_type": "code",
   "execution_count": 22,
   "metadata": {},
   "outputs": [
    {
     "name": "stdout",
     "output_type": "stream",
     "text": [
      "1\n",
      "3\n",
      "0\n",
      "4\n",
      "-\n",
      "5\n",
      "7\n",
      "0\n",
      "8\n"
     ]
    }
   ],
   "source": [
    "# Given n, print XOR of all number between (1 - n)\n",
    "# For example: n = 5 --> 1 ^ 2 ^ 3 ^ 4 ^ 5\n",
    "\n",
    "def xor_n(n):\n",
    "    mol = n % 4\n",
    "    if mol == 0: return n\n",
    "    if mol == 1: return n\n",
    "    if mol == 2: return n + 1\n",
    "    if mol == 3: return 0\n",
    "\n",
    "\n",
    "# mod 4 pattern\n",
    "\n",
    "print(xor_n(1)) # 1\n",
    "print(xor_n(2)) # 3\n",
    "print(xor_n(3)) # 0\n",
    "print(xor_n(4)) # 4\n",
    "print('-')\n",
    "print(xor_n(5)) # 5\n",
    "print(xor_n(6)) # 7\n",
    "print(xor_n(7)) # 0\n",
    "print(xor_n(8)) # 8\n"
   ]
  },
  {
   "cell_type": "code",
   "execution_count": null,
   "metadata": {},
   "outputs": [],
   "source": []
  }
 ],
 "metadata": {
  "kernelspec": {
   "display_name": "Python 3",
   "language": "python",
   "name": "python3"
  },
  "language_info": {
   "codemirror_mode": {
    "name": "ipython",
    "version": 3
   },
   "file_extension": ".py",
   "mimetype": "text/x-python",
   "name": "python",
   "nbconvert_exporter": "python",
   "pygments_lexer": "ipython3",
   "version": "3.10.2"
  },
  "orig_nbformat": 4
 },
 "nbformat": 4,
 "nbformat_minor": 2
}
