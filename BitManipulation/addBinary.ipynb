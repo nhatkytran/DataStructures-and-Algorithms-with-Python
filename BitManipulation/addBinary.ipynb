{
 "cells": [
  {
   "cell_type": "code",
   "execution_count": 3,
   "metadata": {},
   "outputs": [
    {
     "name": "stdout",
     "output_type": "stream",
     "text": [
      "10101\n"
     ]
    }
   ],
   "source": [
    "class Solution:\n",
    "    def addBinary(self, a, b):\n",
    "        def toNum(string):\n",
    "            num = 0\n",
    "            for bi, to in zip(string[::-1], range(10000)):\n",
    "                if bi == '1': num += 2 ** to\n",
    "            return num\n",
    "        num = toNum(a) + toNum(b)\n",
    "        return bin(num).replace(\"0b\", \"\")\n",
    "    \n",
    "    def addBinary(self, a, b):\n",
    "        return bin(int(a, 2) + int(b, 2)).replace(\"0b\", \"\")\n",
    "    \n",
    "    def addBinary(self, a, b):\n",
    "        result = ''\n",
    "        a, b = a[::-1], b[::-1]\n",
    "        carry = 0\n",
    "        for i in range(max(len(a), len(b))):\n",
    "            bitA = int(a[i]) if i < len(a) else 0\n",
    "            bitB = int(b[i]) if i < len(b) else 0\n",
    "            total = bitA + bitB + carry\n",
    "            result = str(total % 2) + result\n",
    "            carry = total // 2\n",
    "        if carry: result = '1' + result\n",
    "        return result\n",
    "\n",
    "\n",
    "s = Solution()\n",
    "\n",
    "# print(s.addBinary(\"11\", \"1\"))\n",
    "print(s.addBinary(\"1010\", \"1011\"))\n"
   ]
  },
  {
   "cell_type": "code",
   "execution_count": null,
   "metadata": {},
   "outputs": [],
   "source": []
  }
 ],
 "metadata": {
  "kernelspec": {
   "display_name": "Python 3",
   "language": "python",
   "name": "python3"
  },
  "language_info": {
   "codemirror_mode": {
    "name": "ipython",
    "version": 3
   },
   "file_extension": ".py",
   "mimetype": "text/x-python",
   "name": "python",
   "nbconvert_exporter": "python",
   "pygments_lexer": "ipython3",
   "version": "3.10.2"
  },
  "orig_nbformat": 4
 },
 "nbformat": 4,
 "nbformat_minor": 2
}
