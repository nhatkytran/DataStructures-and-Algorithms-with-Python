{
 "cells": [
  {
   "cell_type": "code",
   "execution_count": 11,
   "metadata": {},
   "outputs": [
    {
     "name": "stdout",
     "output_type": "stream",
     "text": [
      "100\n",
      "10101\n"
     ]
    }
   ],
   "source": [
    "class Solution:\n",
    "    def addBinary(self, a, b):\n",
    "        def toNum(string):\n",
    "            num = 0\n",
    "            for bi, to in zip(string[::-1], range(10000)):\n",
    "                if bi == '1': num += 2 ** to\n",
    "            return num\n",
    "        num = toNum(a) + toNum(b)\n",
    "        return bin(num).replace(\"0b\", \"\")\n",
    "    \n",
    "    def addBinary(self, a, b):\n",
    "        return bin(int(a, 2) + int(b, 2)).replace(\"0b\", \"\")\n",
    "\n",
    "\n",
    "s = Solution()\n",
    "\n",
    "print(s.addBinary(\"11\", \"1\"))\n",
    "print(s.addBinary(\"1010\", \"1011\"))\n"
   ]
  },
  {
   "cell_type": "code",
   "execution_count": null,
   "metadata": {},
   "outputs": [],
   "source": []
  }
 ],
 "metadata": {
  "kernelspec": {
   "display_name": "Python 3",
   "language": "python",
   "name": "python3"
  },
  "language_info": {
   "codemirror_mode": {
    "name": "ipython",
    "version": 3
   },
   "file_extension": ".py",
   "mimetype": "text/x-python",
   "name": "python",
   "nbconvert_exporter": "python",
   "pygments_lexer": "ipython3",
   "version": "3.10.2"
  },
  "orig_nbformat": 4
 },
 "nbformat": 4,
 "nbformat_minor": 2
}
