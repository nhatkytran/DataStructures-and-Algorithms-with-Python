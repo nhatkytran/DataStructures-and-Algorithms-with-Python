{
 "cells": [
  {
   "cell_type": "markdown",
   "metadata": {},
   "source": []
  },
  {
   "cell_type": "code",
   "execution_count": 6,
   "metadata": {},
   "outputs": [
    {
     "name": "stdout",
     "output_type": "stream",
     "text": [
      "3\n"
     ]
    }
   ],
   "source": [
    "class Solution:\n",
    "    def minFlips(self, a, b, c):\n",
    "        result = 0\n",
    "        for i in range(32):\n",
    "            x = y = z = False\n",
    "            if (a >> i) & 1: x = True\n",
    "            if (b >> i) & 1: y = True\n",
    "            if (c >> i) & 1: z = True\n",
    "            if z:\n",
    "                if not x and not y:\n",
    "                    result += 1\n",
    "            else:\n",
    "                if x and y:\n",
    "                    result += 2\n",
    "                elif x or y:\n",
    "                    result += 1\n",
    "        return result\n",
    "\n",
    "\n",
    "s = Solution()\n",
    "\n",
    "print(s.minFlips(a = 2, b = 6, c = 5))\n"
   ]
  },
  {
   "cell_type": "code",
   "execution_count": null,
   "metadata": {},
   "outputs": [],
   "source": []
  }
 ],
 "metadata": {
  "kernelspec": {
   "display_name": "Python 3",
   "language": "python",
   "name": "python3"
  },
  "language_info": {
   "codemirror_mode": {
    "name": "ipython",
    "version": 3
   },
   "file_extension": ".py",
   "mimetype": "text/x-python",
   "name": "python",
   "nbconvert_exporter": "python",
   "pygments_lexer": "ipython3",
   "version": "3.10.2"
  },
  "orig_nbformat": 4
 },
 "nbformat": 4,
 "nbformat_minor": 2
}
