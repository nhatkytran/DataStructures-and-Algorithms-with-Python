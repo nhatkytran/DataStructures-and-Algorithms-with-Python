{
 "cells": [
  {
   "cell_type": "code",
   "execution_count": 2,
   "metadata": {},
   "outputs": [
    {
     "name": "stdout",
     "output_type": "stream",
     "text": [
      "True\n",
      "False\n"
     ]
    }
   ],
   "source": [
    "class Solution:\n",
    "    def isPerfectSquare(self, num):\n",
    "        left = 1\n",
    "        right = num\n",
    "        while left <= right:\n",
    "            middle = left + (right - left) // 2\n",
    "            power = middle ** 2\n",
    "            if power == num:\n",
    "                return True\n",
    "            if power < num:\n",
    "                left = middle + 1\n",
    "            if power > num:\n",
    "                right = middle - 1\n",
    "        return False\n",
    "    \n",
    "\n",
    "s = Solution()\n",
    "\n",
    "print(s.isPerfectSquare(16))\n",
    "print(s.isPerfectSquare(14))\n"
   ]
  },
  {
   "cell_type": "code",
   "execution_count": null,
   "metadata": {},
   "outputs": [],
   "source": []
  }
 ],
 "metadata": {
  "kernelspec": {
   "display_name": "Python 3",
   "language": "python",
   "name": "python3"
  },
  "language_info": {
   "codemirror_mode": {
    "name": "ipython",
    "version": 3
   },
   "file_extension": ".py",
   "mimetype": "text/x-python",
   "name": "python",
   "nbconvert_exporter": "python",
   "pygments_lexer": "ipython3",
   "version": "3.10.2"
  },
  "orig_nbformat": 4
 },
 "nbformat": 4,
 "nbformat_minor": 2
}
