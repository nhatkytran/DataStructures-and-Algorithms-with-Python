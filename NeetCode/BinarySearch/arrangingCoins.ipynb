{
 "cells": [
  {
   "cell_type": "code",
   "execution_count": 10,
   "metadata": {},
   "outputs": [
    {
     "name": "stdout",
     "output_type": "stream",
     "text": [
      "2\n",
      "3\n",
      "0\n",
      "1\n",
      "1\n"
     ]
    }
   ],
   "source": [
    "class Solution:\n",
    "    def arrangeCoins(self, n):\n",
    "        order = 1\n",
    "        while n >= order:\n",
    "            n -= order\n",
    "            order += 1\n",
    "        return order - 1\n",
    "    \n",
    "\n",
    "s = Solution()\n",
    "\n",
    "print(s.arrangeCoins(5))\n",
    "print(s.arrangeCoins(8))\n",
    "print(s.arrangeCoins(0))\n",
    "print(s.arrangeCoins(1))\n",
    "print(s.arrangeCoins(2))\n"
   ]
  },
  {
   "cell_type": "code",
   "execution_count": null,
   "metadata": {},
   "outputs": [],
   "source": []
  }
 ],
 "metadata": {
  "kernelspec": {
   "display_name": "Python 3",
   "language": "python",
   "name": "python3"
  },
  "language_info": {
   "codemirror_mode": {
    "name": "ipython",
    "version": 3
   },
   "file_extension": ".py",
   "mimetype": "text/x-python",
   "name": "python",
   "nbconvert_exporter": "python",
   "pygments_lexer": "ipython3",
   "version": "3.10.2"
  },
  "orig_nbformat": 4
 },
 "nbformat": 4,
 "nbformat_minor": 2
}
