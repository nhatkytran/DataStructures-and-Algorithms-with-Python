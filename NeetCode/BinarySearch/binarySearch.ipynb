{
 "cells": [
  {
   "cell_type": "code",
   "execution_count": 4,
   "metadata": {},
   "outputs": [
    {
     "name": "stdout",
     "output_type": "stream",
     "text": [
      "4\n",
      "-1\n"
     ]
    }
   ],
   "source": [
    "class Solution:\n",
    "    def search(self, nums, target):\n",
    "        left = 0\n",
    "        right = len(nums) - 1\n",
    "        while left <= right:\n",
    "            middle = left + (right - left) // 2\n",
    "            if nums[middle] == target:\n",
    "                return middle\n",
    "            if nums[middle] < target:\n",
    "                left = middle + 1\n",
    "            if nums[middle] > target:\n",
    "                right = middle - 1\n",
    "        return -1\n",
    "\n",
    "\n",
    "s = Solution()\n",
    "\n",
    "print(s.search([-1, 0, 3, 5, 9, 12], 9))\n",
    "print(s.search([-1, 0, 3, 5, 9, 12], 2))\n"
   ]
  },
  {
   "cell_type": "code",
   "execution_count": null,
   "metadata": {},
   "outputs": [],
   "source": []
  }
 ],
 "metadata": {
  "kernelspec": {
   "display_name": "Python 3",
   "language": "python",
   "name": "python3"
  },
  "language_info": {
   "codemirror_mode": {
    "name": "ipython",
    "version": 3
   },
   "file_extension": ".py",
   "mimetype": "text/x-python",
   "name": "python",
   "nbconvert_exporter": "python",
   "pygments_lexer": "ipython3",
   "version": "3.10.2"
  },
  "orig_nbformat": 4
 },
 "nbformat": 4,
 "nbformat_minor": 2
}
