{
 "cells": [
  {
   "cell_type": "code",
   "execution_count": 3,
   "metadata": {},
   "outputs": [
    {
     "name": "stdout",
     "output_type": "stream",
     "text": [
      "[55, 39, 41, 18, 27, 12, 33]\n",
      "[41, 39, 33, 18, 27, 12]\n"
     ]
    }
   ],
   "source": [
    "class MaxBinaryHeap:\n",
    "    def __init__(self):\n",
    "        self.values = [41, 39, 33, 18, 27, 12]\n",
    "\n",
    "    def see(self):\n",
    "        print(self.values)\n",
    "\n",
    "    def insert(self, element):\n",
    "        self.values.append(element)\n",
    "        self.bubbleUp()\n",
    "\n",
    "    def getParentIndex(self, index):\n",
    "        if index % 2 == 0: diff = 2\n",
    "        else: diff = 1\n",
    "        return int((index - diff) / 2)\n",
    "\n",
    "    def bubbleUp(self):\n",
    "        index = len(self.values) - 1\n",
    "        if index <= 0: return\n",
    "        while True:\n",
    "            parent_index = self.getParentIndex(index)\n",
    "            if parent_index < 0 or \\\n",
    "                self.values[parent_index] >= self.values[index]: break\n",
    "            self.values[parent_index], self.values[index] = self.values[index], self.values[parent_index]\n",
    "            index = parent_index\n",
    "    \n",
    "    def getChildIndices(self, index):\n",
    "        return index * 2 + 1, index * 2 + 2\n",
    "\n",
    "    def extractMax(self):\n",
    "        self.values[0] = self.values[-1]\n",
    "        max_value = self.values.pop()\n",
    "        self.bubbleDown()\n",
    "        return max_value\n",
    "    \n",
    "    def bubbleDown(self):\n",
    "        length = len(self.values)\n",
    "        if length <= 1: return\n",
    "        index = 0\n",
    "        while True:\n",
    "            left_index, right_index = self.getChildIndices(index)\n",
    "            if left_index >= length:\n",
    "                break\n",
    "            side_index = left_index\n",
    "            if right_index < length and self.values[right_index] >= self.values[left_index]:\n",
    "                side_index = right_index\n",
    "            if self.values[index] >= self.values[side_index]:\n",
    "                break\n",
    "            self.values[index], self.values[side_index] = self.values[side_index], self.values[index]\n",
    "            index = side_index\n",
    "\n",
    "\n",
    "m = MaxBinaryHeap()\n",
    "\n",
    "m.insert(55)\n",
    "m.see()\n",
    "\n",
    "m.extractMax()\n",
    "m.see()\n"
   ]
  },
  {
   "cell_type": "code",
   "execution_count": null,
   "metadata": {},
   "outputs": [],
   "source": []
  }
 ],
 "metadata": {
  "kernelspec": {
   "display_name": "Python 3",
   "language": "python",
   "name": "python3"
  },
  "language_info": {
   "codemirror_mode": {
    "name": "ipython",
    "version": 3
   },
   "file_extension": ".py",
   "mimetype": "text/x-python",
   "name": "python",
   "nbconvert_exporter": "python",
   "pygments_lexer": "ipython3",
   "version": "3.10.2"
  },
  "orig_nbformat": 4
 },
 "nbformat": 4,
 "nbformat_minor": 2
}
