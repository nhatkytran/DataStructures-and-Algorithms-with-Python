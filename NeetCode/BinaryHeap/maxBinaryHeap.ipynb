{
 "cells": [
  {
   "cell_type": "code",
   "execution_count": 4,
   "metadata": {},
   "outputs": [
    {
     "name": "stdout",
     "output_type": "stream",
     "text": [
      "[55, 39, 41, 18, 27, 12, 33]\n"
     ]
    }
   ],
   "source": [
    "class MaxBinaryHeap:\n",
    "    def __init__(self):\n",
    "        self.values = [41, 39, 33, 18, 27, 12]\n",
    "\n",
    "    def see(self):\n",
    "        print(self.values)\n",
    "\n",
    "    def insert(self, element):\n",
    "        self.values.append(element)\n",
    "        self.bubbleUp()\n",
    "\n",
    "    def getParentIndex(self, index):\n",
    "        if index % 2 == 0: diff = 2\n",
    "        else: diff = 1\n",
    "        return int((index - diff) / 2)\n",
    "\n",
    "    def bubbleUp(self):\n",
    "        index = len(self.values) - 1\n",
    "        while True:\n",
    "            parent_index = self.getParentIndex(index)\n",
    "            if parent_index < 0 or \\\n",
    "                self.values[parent_index] >= self.values[index]: break\n",
    "            self.values[parent_index], self.values[index] = self.values[index], self.values[parent_index]\n",
    "            index = parent_index\n",
    "\n",
    "\n",
    "m = MaxBinaryHeap()\n",
    "\n",
    "m.insert(55)\n",
    "m.see()\n"
   ]
  },
  {
   "cell_type": "code",
   "execution_count": null,
   "metadata": {},
   "outputs": [],
   "source": []
  }
 ],
 "metadata": {
  "kernelspec": {
   "display_name": "Python 3",
   "language": "python",
   "name": "python3"
  },
  "language_info": {
   "codemirror_mode": {
    "name": "ipython",
    "version": 3
   },
   "file_extension": ".py",
   "mimetype": "text/x-python",
   "name": "python",
   "nbconvert_exporter": "python",
   "pygments_lexer": "ipython3",
   "version": "3.10.2"
  },
  "orig_nbformat": 4
 },
 "nbformat": 4,
 "nbformat_minor": 2
}
