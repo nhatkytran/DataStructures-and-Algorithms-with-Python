{
 "cells": [
  {
   "cell_type": "code",
   "execution_count": 5,
   "metadata": {},
   "outputs": [
    {
     "name": "stdout",
     "output_type": "stream",
     "text": [
      "1(2(4))(3)\n"
     ]
    }
   ],
   "source": [
    "# Definition for a binary tree node.\n",
    "class TreeNode:\n",
    "    def __init__(self, val=0, left=None, right=None):\n",
    "        self.val = val\n",
    "        self.left = left\n",
    "        self.right = right\n",
    "\n",
    "\n",
    "n1 = TreeNode(1)\n",
    "n2 = TreeNode(2)\n",
    "n3 = TreeNode(3)\n",
    "n4 = TreeNode(4)\n",
    "\n",
    "n1.left = n2\n",
    "n1.right = n3\n",
    "n2.left = n4\n",
    "\n",
    "\n",
    "class Solution:\n",
    "    def tree2str(self, root):\n",
    "        if not root:\n",
    "            return ''\n",
    "        left = self.tree2str(root.left)\n",
    "        right = self.tree2str(root.right)\n",
    "        string = '' # if not left and not right\n",
    "        if left and right: string = f'({left})({right})'\n",
    "        if left and not right: string = f'({left})'\n",
    "        if not left and right: string = f'()({right})'\n",
    "        return f'{root.val}{string}'\n",
    "    \n",
    "    def tree2str(self, root):\n",
    "        if not root:\n",
    "            return ''\n",
    "        if not root.left and not root.right:\n",
    "            return str(root.val)\n",
    "        left = self.tree2str(root.left)\n",
    "        right = self.tree2str(root.right)\n",
    "        string = '' # if not left and not right\n",
    "        if left and right: string = f'({left})({right})'\n",
    "        if left and not right: string = f'({left})'\n",
    "        if not left and right: string = f'()({right})'\n",
    "        return f'{root.val}{string}'\n",
    "\n",
    "\n",
    "s = Solution()\n",
    "\n",
    "print(s.tree2str(n1))\n"
   ]
  },
  {
   "cell_type": "code",
   "execution_count": null,
   "metadata": {},
   "outputs": [],
   "source": []
  }
 ],
 "metadata": {
  "kernelspec": {
   "display_name": "Python 3",
   "language": "python",
   "name": "python3"
  },
  "language_info": {
   "codemirror_mode": {
    "name": "ipython",
    "version": 3
   },
   "file_extension": ".py",
   "mimetype": "text/x-python",
   "name": "python",
   "nbconvert_exporter": "python",
   "pygments_lexer": "ipython3",
   "version": "3.10.2"
  },
  "orig_nbformat": 4
 },
 "nbformat": 4,
 "nbformat_minor": 2
}
