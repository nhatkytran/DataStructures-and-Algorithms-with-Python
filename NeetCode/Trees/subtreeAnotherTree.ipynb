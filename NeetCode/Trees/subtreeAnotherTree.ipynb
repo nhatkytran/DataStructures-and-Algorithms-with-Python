{
 "cells": [
  {
   "cell_type": "code",
   "execution_count": 6,
   "metadata": {},
   "outputs": [
    {
     "name": "stdout",
     "output_type": "stream",
     "text": [
      "[<__main__.NodeTree object at 0x109fb0730>, <__main__.NodeTree object at 0x109fb0dc0>]\n"
     ]
    }
   ],
   "source": [
    "class NodeTree:\n",
    "    def __init__(self, value):\n",
    "        self.val = value\n",
    "        self.left = None\n",
    "        self.right = None\n",
    "\n",
    "\n",
    "class Solution:\n",
    "    # Assume that both trees have unique values\n",
    "    def isSubtree(self, root, subRoot):\n",
    "        def find_inner_root(root):\n",
    "            if not root:\n",
    "                return []\n",
    "            if root.val == subRoot.val:\n",
    "                return root\n",
    "            return find_inner_root(root.left) or find_inner_root(root.right)\n",
    "        def sameTree(root1, root2):\n",
    "            if not root1 and not root2:\n",
    "                return True\n",
    "            if (not root1 and root2) or (root1 and not root2) or (root1.val != root2.val):\n",
    "                return False\n",
    "            return sameTree(root1.left, root2.left) and sameTree(root1.right, root2.right)\n",
    "        return sameTree(find_inner_root(root), subRoot)\n",
    "    \n",
    "    # Nodes can have same value\n",
    "    def isSubtree(self, root, subRoot):\n",
    "        def find_inner_root(root):\n",
    "            if not root:\n",
    "                return []\n",
    "            result = []\n",
    "            if root.val == subRoot.val:\n",
    "                result.append(root)\n",
    "            return [*result, *find_inner_root(root.left), *find_inner_root(root.right)]\n",
    "        def sameTree(root1, root2):\n",
    "            if not root1 and not root2:\n",
    "                return True\n",
    "            if (not root1 and root2) or (root1 and not root2) or (root1.val != root2.val):\n",
    "                return False\n",
    "            return sameTree(root1.left, root2.left) and sameTree(root1.right, root2.right)\n",
    "        return any(sameTree(node, subRoot) for node in find_inner_root(root))\n",
    "\n",
    "\n",
    "s = Solution()\n"
   ]
  },
  {
   "cell_type": "code",
   "execution_count": null,
   "metadata": {},
   "outputs": [],
   "source": []
  }
 ],
 "metadata": {
  "kernelspec": {
   "display_name": "Python 3",
   "language": "python",
   "name": "python3"
  },
  "language_info": {
   "codemirror_mode": {
    "name": "ipython",
    "version": 3
   },
   "file_extension": ".py",
   "mimetype": "text/x-python",
   "name": "python",
   "nbconvert_exporter": "python",
   "pygments_lexer": "ipython3",
   "version": "3.10.2"
  },
  "orig_nbformat": 4
 },
 "nbformat": 4,
 "nbformat_minor": 2
}
