{
 "cells": [
  {
   "cell_type": "code",
   "execution_count": 5,
   "metadata": {},
   "outputs": [
    {
     "name": "stdout",
     "output_type": "stream",
     "text": [
      "True\n"
     ]
    }
   ],
   "source": [
    "# Definition for a binary tree node.\n",
    "# class TreeNode:\n",
    "#     def __init__(self, val=0, left=None, right=None):\n",
    "#         self.val = val\n",
    "#         self.left = left\n",
    "#         self.right = right\n",
    "class Solution:\n",
    "    def isBalanced(self, root):\n",
    "        def inner(root):\n",
    "            if not root:\n",
    "                return [True, -1]\n",
    "            left_balance, left_height = inner(root.left)\n",
    "            right_balance, right_height = inner(root.right)\n",
    "            current_balance = abs(left_height - right_height) <= 1\n",
    "            return [left_balance and right_balance and current_balance, 1 + max(left_height, right_height)]\n",
    "        return inner(root)[0]\n",
    "    \n",
    "    def isBalanced(self, root):\n",
    "        stack = []\n",
    "        current = root\n",
    "        last = None\n",
    "        depths = {}\n",
    "        while current or stack:\n",
    "            if current:\n",
    "                stack.append(current)\n",
    "                current = current.left\n",
    "            else:\n",
    "                current = stack[-1]\n",
    "                if not current.right or last == current.right:\n",
    "                    current = stack.pop()\n",
    "                    left = depths.get(current.left, -1)\n",
    "                    right = depths.get(current.right, -1)\n",
    "                    if not abs(left - right) <= 1:\n",
    "                        return False\n",
    "                    depths[current] = 1 + max(left, right)\n",
    "                    last = current\n",
    "                    current = None\n",
    "                else:\n",
    "                    current = current.right\n",
    "        return True\n",
    "    \n",
    "\n",
    "class NodeTree:\n",
    "    def __init__(self, value):\n",
    "        self.value = value\n",
    "        self.left = None\n",
    "        self.right = None\n",
    "\n",
    "\n",
    "node0 = NodeTree(3)\n",
    "node1 = NodeTree(9)\n",
    "node2 = NodeTree(20)\n",
    "node3 = NodeTree(15)\n",
    "node4 = NodeTree(7)\n",
    "\n",
    "node0.left = node1\n",
    "node0.right = node2\n",
    "node2.left = node3\n",
    "node2.right = node4\n",
    "\n",
    "\n",
    "s = Solution()\n",
    "\n",
    "print(s.isBalanced(node0))\n"
   ]
  },
  {
   "cell_type": "code",
   "execution_count": null,
   "metadata": {},
   "outputs": [],
   "source": []
  }
 ],
 "metadata": {
  "kernelspec": {
   "display_name": "Python 3",
   "language": "python",
   "name": "python3"
  },
  "language_info": {
   "codemirror_mode": {
    "name": "ipython",
    "version": 3
   },
   "file_extension": ".py",
   "mimetype": "text/x-python",
   "name": "python",
   "nbconvert_exporter": "python",
   "pygments_lexer": "ipython3",
   "version": "3.10.2"
  },
  "orig_nbformat": 4
 },
 "nbformat": 4,
 "nbformat_minor": 2
}
