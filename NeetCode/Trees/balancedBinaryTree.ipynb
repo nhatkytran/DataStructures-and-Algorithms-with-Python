{
 "cells": [
  {
   "cell_type": "code",
   "execution_count": 2,
   "metadata": {},
   "outputs": [],
   "source": [
    "# Definition for a binary tree node.\n",
    "# class TreeNode:\n",
    "#     def __init__(self, val=0, left=None, right=None):\n",
    "#         self.val = val\n",
    "#         self.left = left\n",
    "#         self.right = right\n",
    "class Solution:\n",
    "    def isBalanced(self, root):\n",
    "        def inner(root):\n",
    "            if not root:\n",
    "                return [True, -1]\n",
    "            left_balance, left_height = inner(root.left)\n",
    "            right_balance, right_height = inner(root.right)\n",
    "            current_balance = abs(left_height - right_height) <= 1\n",
    "            return [left_balance and right_balance and current_balance, 1 + max(left_height, right_height)]\n",
    "        return inner(root)[0]\n",
    "    \n",
    "    def isBalanced(self, root):\n",
    "        stack = []\n",
    "        current = root\n",
    "        \n",
    "        \n"
   ]
  },
  {
   "cell_type": "code",
   "execution_count": null,
   "metadata": {},
   "outputs": [],
   "source": []
  }
 ],
 "metadata": {
  "kernelspec": {
   "display_name": "Python 3",
   "language": "python",
   "name": "python3"
  },
  "language_info": {
   "codemirror_mode": {
    "name": "ipython",
    "version": 3
   },
   "file_extension": ".py",
   "mimetype": "text/x-python",
   "name": "python",
   "nbconvert_exporter": "python",
   "pygments_lexer": "ipython3",
   "version": "3.10.2"
  },
  "orig_nbformat": 4
 },
 "nbformat": 4,
 "nbformat_minor": 2
}
