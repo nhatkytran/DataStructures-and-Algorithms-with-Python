{
 "cells": [
  {
   "cell_type": "code",
   "execution_count": null,
   "metadata": {},
   "outputs": [],
   "source": [
    "class TreeNode:\n",
    "    def __init__(self, val=0, left=None, right=None):\n",
    "        self.val = val\n",
    "        self.left = left\n",
    "        self.right = right\n",
    "\n",
    "\n",
    "class Solution:\n",
    "    # nums is in asending order\n",
    "    def addNode(self, root, value):\n",
    "        node = TreeNode(value )\n",
    "        current = root\n",
    "        while current:\n",
    "            if node.val < current.val:\n",
    "                if current.left == None:\n",
    "                    current.left = node\n",
    "                else:\n",
    "                    current = current.left\n",
    "            else:\n",
    "                if current.right == None:\n",
    "                    current.right = node\n",
    "                else:\n",
    "                    current = current.right\n",
    "\n",
    "    def sortedArrayToBST(self, nums):\n",
    "        if not nums:\n",
    "            return None\n",
    "        if len(nums) == 1:\n",
    "            return TreeNode(nums[-1])\n",
    "        middle = len(nums) // 2\n",
    "        "
   ]
  },
  {
   "cell_type": "code",
   "execution_count": null,
   "metadata": {},
   "outputs": [],
   "source": []
  }
 ],
 "metadata": {
  "kernelspec": {
   "display_name": "Python 3",
   "language": "python",
   "name": "python3"
  },
  "language_info": {
   "codemirror_mode": {
    "name": "ipython",
    "version": 3
   },
   "file_extension": ".py",
   "mimetype": "text/x-python",
   "name": "python",
   "nbconvert_exporter": "python",
   "pygments_lexer": "ipython3",
   "version": "3.10.2"
  },
  "orig_nbformat": 4
 },
 "nbformat": 4,
 "nbformat_minor": 2
}
