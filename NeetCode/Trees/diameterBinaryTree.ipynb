{
 "cells": [
  {
   "cell_type": "code",
   "execution_count": 28,
   "metadata": {},
   "outputs": [
    {
     "name": "stdout",
     "output_type": "stream",
     "text": [
      "4\n"
     ]
    }
   ],
   "source": [
    "#       0\n",
    "#     /   \\\n",
    "#    1     2\n",
    "#  /  \\      \\\n",
    "# 3    4       5\n",
    "\n",
    "\n",
    "class NodeTree:\n",
    "    def __init__(self, value):\n",
    "        self.val = value\n",
    "        self.left = None\n",
    "        self.right = None\n",
    "\n",
    "\n",
    "node0 = NodeTree(0)\n",
    "node1 = NodeTree(1)\n",
    "node2 = NodeTree(2)\n",
    "node3 = NodeTree(3)\n",
    "node4 = NodeTree(4)\n",
    "node5 = NodeTree(5)\n",
    "\n",
    "node0.left = node1\n",
    "node0.right = node2\n",
    "node1.left = node3\n",
    "node1.right = node4\n",
    "node2.right = node5\n",
    "\n",
    "\n",
    "class Solution:\n",
    "    def diameterOfBinaryTree(self, root):\n",
    "        # in case no root\n",
    "        if not root: return 0\n",
    "\n",
    "        # find all paths from root to node\n",
    "        def inner(root):\n",
    "            if not root.left and not root.right:\n",
    "                return [[root]]\n",
    "            left_items = []\n",
    "            if root.left:\n",
    "                left_items = inner(root.left)\n",
    "                for i in range(len(left_items)):\n",
    "                    left_items[i] = [root, *left_items[i]]\n",
    "            right_items = []\n",
    "            if root.right:\n",
    "                right_items = inner(root.right)\n",
    "                for i in range(len(right_items)):\n",
    "                    right_items[i] = [root, *right_items[i]]\n",
    "            return [*left_items, *right_items]\n",
    "        all_paths = inner(root)\n",
    "        if (len(all_paths)) == 1:\n",
    "            return len(all_paths[0]) - 1\n",
    "\n",
    "        # max_length between node\n",
    "        max_length = 0\n",
    "        for i in range(len(all_paths) - 1):\n",
    "            for j in range(i + 1, len(all_paths)):\n",
    "                unique_nodes = len(set(all_paths[i] + all_paths[j]) - set(all_paths[i]).intersection(set(all_paths[j])))\n",
    "                max_length = max(max_length, unique_nodes)\n",
    "\n",
    "        # in case root to node\n",
    "        return max(max_length, max(len(path) - 1 for path in all_paths))\n",
    "    \n",
    "    def diameterOfBinaryTree(self, root):\n",
    "        pass\n",
    "\n",
    "\n",
    "s = Solution()\n",
    "\n",
    "print(s.diameterOfBinaryTree(node0))\n"
   ]
  },
  {
   "cell_type": "code",
   "execution_count": null,
   "metadata": {},
   "outputs": [],
   "source": []
  }
 ],
 "metadata": {
  "kernelspec": {
   "display_name": "Python 3",
   "language": "python",
   "name": "python3"
  },
  "language_info": {
   "codemirror_mode": {
    "name": "ipython",
    "version": 3
   },
   "file_extension": ".py",
   "mimetype": "text/x-python",
   "name": "python",
   "nbconvert_exporter": "python",
   "pygments_lexer": "ipython3",
   "version": "3.10.2"
  },
  "orig_nbformat": 4
 },
 "nbformat": 4,
 "nbformat_minor": 2
}
