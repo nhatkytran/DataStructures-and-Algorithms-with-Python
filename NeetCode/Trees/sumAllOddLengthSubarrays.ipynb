{
 "cells": [
  {
   "cell_type": "code",
   "execution_count": 5,
   "metadata": {},
   "outputs": [
    {
     "name": "stdout",
     "output_type": "stream",
     "text": [
      "58\n"
     ]
    }
   ],
   "source": [
    "class Solution:\n",
    "    def sumSlidingWindow(self, arr, n):\n",
    "        first_sum = sum(arr[i] for i in range(n))\n",
    "        total = first_sum\n",
    "        for i in range(n, len(arr)):\n",
    "            first_sum = first_sum + arr[i] - arr[i - n]\n",
    "            total += first_sum\n",
    "        return total\n",
    "    \n",
    "    def sumOddLengthSubarrays(self, arr):\n",
    "        return sum(self.sumSlidingWindow(arr, i) for i in range(1, len(arr) + 1, 2))\n",
    "    \n",
    "    def sumOddLengthSubarrays(self, arr):\n",
    "        total = 0\n",
    "        for l in range(1, len(arr) + 1, 2):\n",
    "            for i in range(len(arr) - l + 1):\n",
    "                total += sum(arr[i:(i + l)])\n",
    "        return total\n",
    "\n",
    "\n",
    "s = Solution()\n",
    "\n",
    "print(s.sumOddLengthSubarrays([1, 4, 2, 5, 3]))\n"
   ]
  },
  {
   "cell_type": "code",
   "execution_count": null,
   "metadata": {},
   "outputs": [],
   "source": []
  }
 ],
 "metadata": {
  "kernelspec": {
   "display_name": "Python 3",
   "language": "python",
   "name": "python3"
  },
  "language_info": {
   "codemirror_mode": {
    "name": "ipython",
    "version": 3
   },
   "file_extension": ".py",
   "mimetype": "text/x-python",
   "name": "python",
   "nbconvert_exporter": "python",
   "pygments_lexer": "ipython3",
   "version": "3.10.2"
  },
  "orig_nbformat": 4
 },
 "nbformat": 4,
 "nbformat_minor": 2
}
