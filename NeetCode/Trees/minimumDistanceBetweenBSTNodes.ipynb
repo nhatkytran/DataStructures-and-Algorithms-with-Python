{
 "cells": [
  {
   "cell_type": "code",
   "execution_count": 3,
   "metadata": {},
   "outputs": [
    {
     "name": "stdout",
     "output_type": "stream",
     "text": [
      "1\n"
     ]
    }
   ],
   "source": [
    "# Definition for a binary tree node.\n",
    "class TreeNode:\n",
    "    def __init__(self, val=0, left=None, right=None):\n",
    "        self.val = val\n",
    "        self.left = left\n",
    "        self.right = right\n",
    "\n",
    "\n",
    "n4 = TreeNode(4)\n",
    "n2 = TreeNode(2)\n",
    "n6 = TreeNode(6)\n",
    "n1 = TreeNode(1)\n",
    "n3 = TreeNode(3)\n",
    "\n",
    "n4.left = n2\n",
    "n4.right = n6\n",
    "n2.left = n1\n",
    "n2.right = n3\n",
    "\n",
    "\n",
    "class Solution:\n",
    "    def minDiffInBST(self, root):\n",
    "        order = []\n",
    "        def inner(root):\n",
    "            if not root:\n",
    "                return\n",
    "            inner(root.left)\n",
    "            order.append(root.val)\n",
    "            inner(root.right)\n",
    "        inner(root)\n",
    "        return min(order[i] - order[i - 1] for i in range(1, len(order)))\n",
    "    \n",
    "    # On the fly\n",
    "\n",
    "    # Stack\n",
    "\n",
    "\n",
    "s = Solution()\n",
    "\n",
    "print(s.minDiffInBST(n4))"
   ]
  },
  {
   "cell_type": "code",
   "execution_count": null,
   "metadata": {},
   "outputs": [],
   "source": []
  }
 ],
 "metadata": {
  "kernelspec": {
   "display_name": "Python 3",
   "language": "python",
   "name": "python3"
  },
  "language_info": {
   "codemirror_mode": {
    "name": "ipython",
    "version": 3
   },
   "file_extension": ".py",
   "mimetype": "text/x-python",
   "name": "python",
   "nbconvert_exporter": "python",
   "pygments_lexer": "ipython3",
   "version": "3.10.2"
  },
  "orig_nbformat": 4
 },
 "nbformat": 4,
 "nbformat_minor": 2
}
