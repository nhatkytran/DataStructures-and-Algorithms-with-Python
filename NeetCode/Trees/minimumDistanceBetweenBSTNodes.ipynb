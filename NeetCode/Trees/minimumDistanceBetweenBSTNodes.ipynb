{
 "cells": [
  {
   "cell_type": "code",
   "execution_count": 36,
   "metadata": {},
   "outputs": [
    {
     "name": "stdout",
     "output_type": "stream",
     "text": [
      "None\n"
     ]
    }
   ],
   "source": [
    "# Definition for a binary tree node.\n",
    "class TreeNode:\n",
    "    def __init__(self, val=0, left=None, right=None):\n",
    "        self.val = val\n",
    "        self.left = left\n",
    "        self.right = right\n",
    "\n",
    "\n",
    "n0 = TreeNode(0)\n",
    "n2236 = TreeNode(2236)\n",
    "n1277 = TreeNode(1277)\n",
    "n2776 = TreeNode(2776)\n",
    "n519 = TreeNode(519)\n",
    "\n",
    "n0.right = n2236\n",
    "n2236.left = n1277\n",
    "n2236.right = n2776\n",
    "n1277.left = n519\n",
    "\n",
    "\n",
    "class Solution:\n",
    "    def minDiffInBST(self, root):\n",
    "        order = []\n",
    "        def inner(root):\n",
    "            if not root:\n",
    "                return\n",
    "            inner(root.left)\n",
    "            order.append(root.val)\n",
    "            inner(root.right)\n",
    "        inner(root)\n",
    "        return min(order[i] - order[i - 1] for i in range(1, len(order)))\n",
    "    \n",
    "    # Stack\n",
    "    def minDiffInBST(self, root):\n",
    "        order = []\n",
    "        stack = [(root, False)]\n",
    "        while stack:\n",
    "            node, visited = stack.pop()\n",
    "            if visited:\n",
    "                order.append(node.val)\n",
    "            else:\n",
    "                if node.right: stack.append((node.right, False))\n",
    "                stack.append((node, True))\n",
    "                if node.left: stack.append((node.left, False))\n",
    "                print(order)\n",
    "        return min(order[i] - order[i - 1] for i in range(1, len(order)))\n",
    "    \n",
    "    def minDiffInBST(self, root):\n",
    "        result = None\n",
    "        prev = None\n",
    "        stack = [(root, False)]\n",
    "        while stack:\n",
    "            node, visited = stack.pop()\n",
    "            if visited:\n",
    "                if prev is not None:\n",
    "                    if result is None or node.val - prev < result:\n",
    "                        result = node.val - prev\n",
    "                prev = node.val\n",
    "            else:\n",
    "                if node.right: stack.append((node.right, False))\n",
    "                stack.append((node, True))\n",
    "                if node.left: stack.append((node.left, False))\n",
    "        return result\n",
    "    \n",
    "    # Stack 2\n",
    "    def minDiffInBST(self, root):\n",
    "        pass\n",
    "\n",
    "\n",
    "s = Solution()\n",
    "\n",
    "print(s.minDiffInBST(n0))"
   ]
  },
  {
   "cell_type": "code",
   "execution_count": null,
   "metadata": {},
   "outputs": [],
   "source": []
  }
 ],
 "metadata": {
  "kernelspec": {
   "display_name": "Python 3",
   "language": "python",
   "name": "python3"
  },
  "language_info": {
   "codemirror_mode": {
    "name": "ipython",
    "version": 3
   },
   "file_extension": ".py",
   "mimetype": "text/x-python",
   "name": "python",
   "nbconvert_exporter": "python",
   "pygments_lexer": "ipython3",
   "version": "3.10.2"
  },
  "orig_nbformat": 4
 },
 "nbformat": 4,
 "nbformat_minor": 2
}
