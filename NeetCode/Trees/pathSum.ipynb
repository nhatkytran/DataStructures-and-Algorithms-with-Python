{
 "cells": [
  {
   "cell_type": "code",
   "execution_count": 1,
   "metadata": {},
   "outputs": [],
   "source": [
    "class TreeNode:\n",
    "    def __init__(self, val=0, left=None, right=None):\n",
    "        self.val = val\n",
    "        self.left = left\n",
    "        self.right = right\n",
    "\n",
    "\n",
    "class Solution:\n",
    "    def hasPathSum(self, root, targetSum):\n",
    "        if not root: return False\n",
    "        def inner(root):\n",
    "            if not root: return [[float('inf')]]\n",
    "            if not root.left and not root.right: return [[root.val]]\n",
    "            result = []\n",
    "            left = inner(root.left)\n",
    "            result = [[root.val, *item] for item in left]\n",
    "            right = inner(root.right)\n",
    "            result.extend([root.val, *item] for item in right)\n",
    "            return result\n",
    "        paths = inner(root)\n",
    "        sum_paths = set(sum(path) for path in paths)\n",
    "        return targetSum in sum_paths\n",
    "    \n",
    "    def hasPathSum(self, root, targetSum):\n",
    "        if not root: return False\n",
    "        if not root.left and not root.right: return root.val == targetSum\n",
    "        return self.hasPathSum(root.left, targetSum - root.val) or self.hasPathSum(root.right, targetSum - root.val)\n",
    "    \n",
    "    def hasPathSum(self, root, targetSum):\n",
    "        if not root:\n",
    "            return False\n",
    "        stack = [(root, targetSum)]\n",
    "        while stack:\n",
    "            node, sumVal = stack.pop()\n",
    "            if not node.left and not node.right and node.val == sumVal:\n",
    "                return True\n",
    "            if node.left:\n",
    "                stack.append((node.left, sumVal - node.val))\n",
    "            if node.right:\n",
    "                stack.append((node.right, sumVal - node.val))\n",
    "        return False\n"
   ]
  },
  {
   "cell_type": "code",
   "execution_count": null,
   "metadata": {},
   "outputs": [],
   "source": []
  }
 ],
 "metadata": {
  "kernelspec": {
   "display_name": "Python 3",
   "language": "python",
   "name": "python3"
  },
  "language_info": {
   "codemirror_mode": {
    "name": "ipython",
    "version": 3
   },
   "file_extension": ".py",
   "mimetype": "text/x-python",
   "name": "python",
   "nbconvert_exporter": "python",
   "pygments_lexer": "ipython3",
   "version": "3.10.2"
  },
  "orig_nbformat": 4
 },
 "nbformat": 4,
 "nbformat_minor": 2
}
