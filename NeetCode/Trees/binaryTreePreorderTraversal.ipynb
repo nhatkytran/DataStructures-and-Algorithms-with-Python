{
 "cells": [
  {
   "cell_type": "code",
   "execution_count": null,
   "metadata": {},
   "outputs": [],
   "source": [
    "# Definition for a binary tree node.\n",
    "# class TreeNode:\n",
    "#     def __init__(self, val=0, left=None, right=None):\n",
    "#         self.val = val\n",
    "#         self.left = left\n",
    "#         self.right = right\n",
    "class Solution:\n",
    "    def preorderTraversal(self, root):\n",
    "        if not root:\n",
    "            return []\n",
    "        return [root.val, *self.preorderTraversal(root.left), *self.preorderTraversal(root.right)]\n",
    "    \n",
    "    def preorderTraversal(self, root):\n",
    "        if not root:\n",
    "            return []\n",
    "        result = []\n",
    "        stack = [root]\n",
    "        while stack:\n",
    "            node = stack.pop()\n",
    "            result.append(node.val)\n",
    "            if node.right:\n",
    "                stack.append(node.right)\n",
    "            if node.left:\n",
    "                stack.append(node.left)\n",
    "        return result\n",
    "    \n",
    "    def preorderTraversal(self, root):\n",
    "        result = []\n",
    "        stack = []\n",
    "        current = root\n",
    "        while current or stack:\n",
    "            if current:\n",
    "                result.append(current.val)\n",
    "                stack.append(current.right)\n",
    "                current = current.left\n",
    "            else:\n",
    "                current = stack.pop()\n",
    "        return result\n",
    "    \n",
    "    def preorderTraversal(self, root):\n",
    "        result = []\n",
    "        stack = [(root, False)]\n",
    "        while stack:\n",
    "            node, visited = stack.pop()\n",
    "            if node:\n",
    "                if visited:\n",
    "                    result.append(node.val)\n",
    "                else:\n",
    "                    stack.append((node.right, False))\n",
    "                    stack.append((node.left, False))\n",
    "                    stack.append((node, True))\n",
    "        return result\n"
   ]
  },
  {
   "cell_type": "code",
   "execution_count": null,
   "metadata": {},
   "outputs": [],
   "source": []
  }
 ],
 "metadata": {
  "kernelspec": {
   "display_name": "Python 3",
   "language": "python",
   "name": "python3"
  },
  "language_info": {
   "codemirror_mode": {
    "name": "ipython",
    "version": 3
   },
   "file_extension": ".py",
   "mimetype": "text/x-python",
   "name": "python",
   "nbconvert_exporter": "python",
   "pygments_lexer": "ipython3",
   "version": "3.10.2"
  },
  "orig_nbformat": 4
 },
 "nbformat": 4,
 "nbformat_minor": 2
}
