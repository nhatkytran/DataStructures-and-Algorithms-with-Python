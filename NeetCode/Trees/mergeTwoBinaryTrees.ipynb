{
 "cells": [
  {
   "cell_type": "code",
   "execution_count": null,
   "metadata": {},
   "outputs": [],
   "source": [
    "class TreeNode:\n",
    "    def __init__(self, val=0, left=None, right=None):\n",
    "        self.val = val\n",
    "        self.left = left\n",
    "        self.right = right\n",
    "\n",
    "\n",
    "class Solution:\n",
    "    def mergeTrees(self, root1, root2):\n",
    "        if not root1 and not root2: return\n",
    "        if root1 and not root2: return root1\n",
    "        if not root1 and root2: return root2\n",
    "        root = TreeNode(root1.val + root2.val)\n",
    "        root.left = self.mergeTrees(root1.left, root2.left)\n",
    "        root.right = self.mergeTrees(root1.right, root2.right)\n",
    "        return root\n",
    "    \n",
    "    def mergeTrees(self, root1, root2):\n",
    "        if not root1 and not root2: return\n",
    "        if root1 and not root2: return root1\n",
    "        if not root1 and root2: return root2\n",
    "        queue1 = [root1]\n",
    "        queue2 = [root2]\n",
    "        while queue1 and queue2:\n",
    "            node1, node2 = queue1.pop(0), queue2.pop(0)\n",
    "            if node1 and node2:\n",
    "                node1.val = node1.val + node2.val\n",
    "                if not node1.left and node2.left:\n",
    "                    node1.left = TreeNode(0)\n",
    "                if not node1.right and node2.right:\n",
    "                    node1.right = TreeNode(0)\n",
    "                queue1.append(node1.left)\n",
    "                queue1.append(node1.right)\n",
    "                queue2.append(node2.left)\n",
    "                queue2.append(node2.right)\n",
    "        return root1\n"
   ]
  },
  {
   "cell_type": "code",
   "execution_count": null,
   "metadata": {},
   "outputs": [],
   "source": []
  }
 ],
 "metadata": {
  "kernelspec": {
   "display_name": "Python 3",
   "language": "python",
   "name": "python3"
  },
  "language_info": {
   "codemirror_mode": {
    "name": "ipython",
    "version": 3
   },
   "file_extension": ".py",
   "mimetype": "text/x-python",
   "name": "python",
   "nbconvert_exporter": "python",
   "pygments_lexer": "ipython3",
   "version": "3.10.2"
  },
  "orig_nbformat": 4
 },
 "nbformat": 4,
 "nbformat_minor": 2
}
