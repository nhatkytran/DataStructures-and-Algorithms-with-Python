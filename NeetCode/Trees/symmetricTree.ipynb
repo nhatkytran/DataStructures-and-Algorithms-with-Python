{
 "cells": [
  {
   "cell_type": "code",
   "execution_count": 18,
   "metadata": {},
   "outputs": [
    {
     "name": "stdout",
     "output_type": "stream",
     "text": [
      "---\n",
      "1\n",
      "---\n",
      "2\n",
      "2\n",
      "---\n",
      "3\n",
      "4\n",
      "4\n",
      "3\n",
      "---\n",
      "None\n",
      "None\n",
      "None\n",
      "None\n",
      "None\n",
      "None\n",
      "None\n",
      "None\n",
      "True\n"
     ]
    }
   ],
   "source": [
    "# Definition for a binary tree node.\n",
    "class TreeNode:\n",
    "    def __init__(self, val=0, left=None, right=None):\n",
    "        self.val = val\n",
    "        self.left = left\n",
    "        self.right = right\n",
    "\n",
    "\n",
    "n1 = TreeNode(1)\n",
    "n21 = TreeNode(2)\n",
    "n22 = TreeNode(2)\n",
    "n31 = TreeNode(3)\n",
    "n32 = TreeNode(3)\n",
    "n41 = TreeNode(4)\n",
    "n42 = TreeNode(4)\n",
    "\n",
    "n1.left = n21\n",
    "n1.right = n22\n",
    "n21.left = n31\n",
    "n21.right = n41\n",
    "n22.left = n42\n",
    "n22.right = n32\n",
    "\n",
    "\n",
    "class Solution:\n",
    "    def isSymmetric(self, root):\n",
    "        def check(items):\n",
    "            i = 0\n",
    "            j = len(items) - 1\n",
    "            while i <= j:\n",
    "                if items[i] != items[j]:\n",
    "                    return False\n",
    "                i += 1\n",
    "                j -= 1\n",
    "            return True\n",
    "        queue = [root]\n",
    "        while queue:\n",
    "            length = len(queue)\n",
    "            if not check([queue[i].val if queue[i] else None for i in range(length)]):\n",
    "                return False\n",
    "            for _ in range(length):\n",
    "                node = queue.pop(0)\n",
    "                if node:\n",
    "                    queue.append(node.left if node.left else None)\n",
    "                    queue.append(node.right if node.right else None)\n",
    "        return True\n",
    "\n",
    "\n",
    "s = Solution()\n",
    "\n",
    "print(s.isSymmetric(n1))\n"
   ]
  },
  {
   "cell_type": "code",
   "execution_count": null,
   "metadata": {},
   "outputs": [],
   "source": []
  }
 ],
 "metadata": {
  "kernelspec": {
   "display_name": "Python 3",
   "language": "python",
   "name": "python3"
  },
  "language_info": {
   "codemirror_mode": {
    "name": "ipython",
    "version": 3
   },
   "file_extension": ".py",
   "mimetype": "text/x-python",
   "name": "python",
   "nbconvert_exporter": "python",
   "pygments_lexer": "ipython3",
   "version": "3.10.2"
  },
  "orig_nbformat": 4
 },
 "nbformat": 4,
 "nbformat_minor": 2
}
