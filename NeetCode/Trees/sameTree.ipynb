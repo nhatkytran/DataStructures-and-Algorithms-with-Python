{
 "cells": [
  {
   "cell_type": "code",
   "execution_count": 9,
   "metadata": {},
   "outputs": [
    {
     "name": "stdout",
     "output_type": "stream",
     "text": [
      "12\n",
      "[('right', <__main__.NodeTree object at 0x10a428af0>), ('left', <__main__.NodeTree object at 0x10a42b820>), ('right', <__main__.NodeTree object at 0x10a428af0>), ('left', <__main__.NodeTree object at 0x10a42b820>)]\n",
      "[]\n",
      "False\n"
     ]
    }
   ],
   "source": [
    "class NodeTree:\n",
    "    def __init__(self, value):\n",
    "        self.val = value\n",
    "        self.left = None\n",
    "        self.right = None\n",
    "\n",
    "\n",
    "node0 = NodeTree(1)\n",
    "node1 = NodeTree(2)\n",
    "node2 = NodeTree(3)\n",
    "\n",
    "node0.left = node1\n",
    "node0.right = node2\n",
    "\n",
    "\n",
    "class Solution:\n",
    "    def isSameTree(self, p, q):\n",
    "        if not p and not q:\n",
    "            return True\n",
    "        if (not p and q) or (not q and p):\n",
    "            return False\n",
    "        stack1 = [('root', p)]\n",
    "        stack2 = [('root', q)]\n",
    "        while stack1 and stack2:\n",
    "            side1, node1 = stack1.pop()\n",
    "            side2, node2 = stack2.pop()\n",
    "            if side1 != side2 or node1.val != node2.val:\n",
    "                return False\n",
    "            if (not node1.right and node2.right) or (node1.right and not node2.right):\n",
    "                return False\n",
    "            if node1.right and node2.right:\n",
    "                stack1.append(('right', node1.right))\n",
    "                stack2.append(('right', node2.right))\n",
    "            if (not node1.left and node2.left) or (node1.left and not node2.left):\n",
    "                return False\n",
    "            if node1.left and node2.left:\n",
    "                stack1.append(('left', node1.left))\n",
    "                stack2.append(('left', node2.left))\n",
    "        return True\n",
    "    \n",
    "\n",
    "s = Solution()\n",
    "\n",
    "print(s.isSameTree(node0, node0))\n"
   ]
  },
  {
   "cell_type": "code",
   "execution_count": null,
   "metadata": {},
   "outputs": [],
   "source": []
  }
 ],
 "metadata": {
  "kernelspec": {
   "display_name": "Python 3",
   "language": "python",
   "name": "python3"
  },
  "language_info": {
   "codemirror_mode": {
    "name": "ipython",
    "version": 3
   },
   "file_extension": ".py",
   "mimetype": "text/x-python",
   "name": "python",
   "nbconvert_exporter": "python",
   "pygments_lexer": "ipython3",
   "version": "3.10.2"
  },
  "orig_nbformat": 4
 },
 "nbformat": 4,
 "nbformat_minor": 2
}
