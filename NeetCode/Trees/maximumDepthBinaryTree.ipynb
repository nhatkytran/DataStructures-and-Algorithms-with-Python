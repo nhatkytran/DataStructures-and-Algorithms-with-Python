{
 "cells": [
  {
   "cell_type": "code",
   "execution_count": 5,
   "metadata": {},
   "outputs": [
    {
     "data": {
      "text/plain": [
       "1"
      ]
     },
     "execution_count": 5,
     "metadata": {},
     "output_type": "execute_result"
    }
   ],
   "source": [
    "# Definition for a binary tree node.\n",
    "# class TreeNode:\n",
    "#     def __init__(self, val=0, left=None, right=None):\n",
    "#         self.val = val\n",
    "#         self.left = left\n",
    "#         self.right = right\n",
    "class Solution:\n",
    "    def maxDepth(self, root):\n",
    "        if not root:\n",
    "            return 0\n",
    "        return 1 + max(self.maxDepth(root.left), self.maxDepth(root.right))\n",
    "    \n",
    "    def maxDepth(self, root):\n",
    "        max_length = 0\n",
    "        if not root: return max_length\n",
    "        stack = [(root, 1)]\n",
    "        while stack:\n",
    "            node, level = stack.pop()\n",
    "            if level > max_length: max_length = level\n",
    "            if node.left: stack.append((node.left, level + 1))\n",
    "            if node.right: stack.append((node.right, level + 1))\n",
    "        return max_length\n",
    "    \n",
    "    def maxDepth(self, root):\n",
    "        max_length = 0\n",
    "        if not root: return max_length\n",
    "        queue = [root]\n",
    "        while queue:\n",
    "            length = len(queue)\n",
    "            for _ in range(length):\n",
    "                node = queue.pop(0)\n",
    "                if node.left: queue.append(node.left)\n",
    "                if node.right: queue.append(node.right)\n",
    "            max_length += 1\n",
    "        return max_length\n",
    "    \n",
    "    def maxDepth(self, root):\n",
    "        def inner(root, depth):\n",
    "            if not root: return depth\n",
    "            return max(inner(root.left, depth + 1), inner(root.right, depth + 1))\n",
    "        return inner(root, 0)\n"
   ]
  },
  {
   "cell_type": "code",
   "execution_count": null,
   "metadata": {},
   "outputs": [],
   "source": []
  }
 ],
 "metadata": {
  "kernelspec": {
   "display_name": "Python 3",
   "language": "python",
   "name": "python3"
  },
  "language_info": {
   "codemirror_mode": {
    "name": "ipython",
    "version": 3
   },
   "file_extension": ".py",
   "mimetype": "text/x-python",
   "name": "python",
   "nbconvert_exporter": "python",
   "pygments_lexer": "ipython3",
   "version": "3.10.2"
  },
  "orig_nbformat": 4
 },
 "nbformat": 4,
 "nbformat_minor": 2
}
