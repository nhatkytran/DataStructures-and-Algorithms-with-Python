{
 "cells": [
  {
   "cell_type": "code",
   "execution_count": 17,
   "metadata": {},
   "outputs": [
    {
     "name": "stdout",
     "output_type": "stream",
     "text": [
      "True\n",
      "True\n",
      "False\n",
      "False\n",
      "True\n"
     ]
    }
   ],
   "source": [
    "class Solution:\n",
    "    def __init__(self):\n",
    "        self.paren_pair = {\n",
    "            ')': '(',\n",
    "            '}': '{',\n",
    "            ']': '['\n",
    "        }\n",
    "        self.paren_open = self.paren_pair.values()\n",
    "\n",
    "    def isValid(self, s):\n",
    "        stack = []\n",
    "        for char in s:\n",
    "            if char in self.paren_open:\n",
    "                stack.append(char)\n",
    "            else:\n",
    "                if len(stack) == 0:\n",
    "                    return False\n",
    "                last = stack.pop()\n",
    "                if self.paren_pair[char] != last:\n",
    "                    return False\n",
    "        if len(stack): return False\n",
    "        return True\n",
    "\n",
    "\n",
    "s = Solution()\n",
    "\n",
    "print(s.isValid('()'))\n",
    "print(s.isValid('()[]{}'))\n",
    "print(s.isValid('(]'))\n",
    "print(s.isValid('([)]')) # False is expected\n",
    "print(s.isValid('{[]}')) # True is expected\n"
   ]
  },
  {
   "cell_type": "code",
   "execution_count": null,
   "metadata": {},
   "outputs": [],
   "source": []
  }
 ],
 "metadata": {
  "kernelspec": {
   "display_name": "Python 3",
   "language": "python",
   "name": "python3"
  },
  "language_info": {
   "codemirror_mode": {
    "name": "ipython",
    "version": 3
   },
   "file_extension": ".py",
   "mimetype": "text/x-python",
   "name": "python",
   "nbconvert_exporter": "python",
   "pygments_lexer": "ipython3",
   "version": "3.10.2"
  },
  "orig_nbformat": 4
 },
 "nbformat": 4,
 "nbformat_minor": 2
}
