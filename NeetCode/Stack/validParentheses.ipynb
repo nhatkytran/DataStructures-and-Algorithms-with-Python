{
 "cells": [
  {
   "cell_type": "code",
   "execution_count": 6,
   "metadata": {},
   "outputs": [
    {
     "name": "stdout",
     "output_type": "stream",
     "text": [
      "True\n",
      "True\n",
      "False\n",
      "False\n",
      "True\n"
     ]
    }
   ],
   "source": [
    "class Solution:\n",
    "    def isValid(self, s):\n",
    "        map = {')': '(', '}': '{', ']': '['}\n",
    "        stack = []\n",
    "        for char in s:\n",
    "            if char not in map:\n",
    "                stack.append(char)\n",
    "            elif len(stack) == 0 or map[char] != stack.pop():\n",
    "                return False\n",
    "        return not stack\n",
    "\n",
    "\n",
    "s = Solution()\n",
    "\n",
    "print(s.isValid('()'))\n",
    "print(s.isValid('()[]{}'))\n",
    "print(s.isValid('(]'))\n",
    "print(s.isValid('([)]')) # False is expected\n",
    "print(s.isValid('{[]}')) # True is expected\n"
   ]
  },
  {
   "cell_type": "code",
   "execution_count": null,
   "metadata": {},
   "outputs": [],
   "source": []
  }
 ],
 "metadata": {
  "kernelspec": {
   "display_name": "Python 3",
   "language": "python",
   "name": "python3"
  },
  "language_info": {
   "codemirror_mode": {
    "name": "ipython",
    "version": 3
   },
   "file_extension": ".py",
   "mimetype": "text/x-python",
   "name": "python",
   "nbconvert_exporter": "python",
   "pygments_lexer": "ipython3",
   "version": "3.10.2"
  },
  "orig_nbformat": 4
 },
 "nbformat": 4,
 "nbformat_minor": 2
}
