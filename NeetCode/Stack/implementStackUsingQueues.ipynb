{
 "cells": [
  {
   "cell_type": "code",
   "execution_count": 1,
   "metadata": {},
   "outputs": [
    {
     "ename": "NameError",
     "evalue": "name 'deque' is not defined",
     "output_type": "error",
     "traceback": [
      "\u001b[0;31m---------------------------------------------------------------------------\u001b[0m",
      "\u001b[0;31mNameError\u001b[0m                                 Traceback (most recent call last)",
      "\u001b[1;32m/Users/trannhatky/Documents/ADPY/NeetCode/Stack/implementStackUsingQueues.ipynb Cell 1\u001b[0m in \u001b[0;36m2\n\u001b[1;32m     <a href='vscode-notebook-cell:/Users/trannhatky/Documents/ADPY/NeetCode/Stack/implementStackUsingQueues.ipynb#W0sZmlsZQ%3D%3D?line=14'>15</a>\u001b[0m         \u001b[39mreturn\u001b[39;00m \u001b[39mnot\u001b[39;00m \u001b[39mself\u001b[39m\u001b[39m.\u001b[39mstack\n\u001b[1;32m     <a href='vscode-notebook-cell:/Users/trannhatky/Documents/ADPY/NeetCode/Stack/implementStackUsingQueues.ipynb#W0sZmlsZQ%3D%3D?line=17'>18</a>\u001b[0m s \u001b[39m=\u001b[39m MyStack()\n\u001b[0;32m---> <a href='vscode-notebook-cell:/Users/trannhatky/Documents/ADPY/NeetCode/Stack/implementStackUsingQueues.ipynb#W0sZmlsZQ%3D%3D?line=19'>20</a>\u001b[0m \u001b[39mprint\u001b[39m(deque())\n",
      "\u001b[0;31mNameError\u001b[0m: name 'deque' is not defined"
     ]
    }
   ],
   "source": [
    "class MyStack:\n",
    "    def __init__(self):\n",
    "        self.stack = []\n",
    "\n",
    "    def push(self, x: int) -> None:\n",
    "        self.stack.append(x)\n",
    "\n",
    "    def pop(self) -> int:\n",
    "        return self.stack.pop()\n",
    "\n",
    "    def top(self) -> int:\n",
    "        return self.stack[-1]\n",
    "\n",
    "    def empty(self) -> bool:\n",
    "        return not self.stack\n",
    "    \n",
    "\n",
    "class MyStack:\n",
    "    def __init__(self):\n",
    "        self.queue = []\n",
    "\n",
    "    def push(self, x: int) -> None:\n",
    "        self.queue.append(x)\n",
    "\n",
    "    def pop(self) -> int:\n",
    "        for _ in range(len(self.queue) - 1):\n",
    "            self.queue.append(self.queue.pop(0))\n",
    "        return self.queue.pop(0)\n",
    "\n",
    "    def top(self) -> int:\n",
    "        return self.queue[-1]\n",
    "\n",
    "    def empty(self) -> bool:\n",
    "        return not self.queue\n",
    "\n",
    "\n",
    "s = MyStack()\n"
   ]
  },
  {
   "cell_type": "code",
   "execution_count": null,
   "metadata": {},
   "outputs": [],
   "source": []
  }
 ],
 "metadata": {
  "kernelspec": {
   "display_name": "Python 3",
   "language": "python",
   "name": "python3"
  },
  "language_info": {
   "codemirror_mode": {
    "name": "ipython",
    "version": 3
   },
   "file_extension": ".py",
   "mimetype": "text/x-python",
   "name": "python",
   "nbconvert_exporter": "python",
   "pygments_lexer": "ipython3",
   "version": "3.10.2"
  },
  "orig_nbformat": 4
 },
 "nbformat": 4,
 "nbformat_minor": 2
}
