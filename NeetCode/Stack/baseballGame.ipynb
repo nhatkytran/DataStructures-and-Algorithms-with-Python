{
 "cells": [
  {
   "cell_type": "code",
   "execution_count": 14,
   "metadata": {},
   "outputs": [
    {
     "name": "stdout",
     "output_type": "stream",
     "text": [
      "30\n",
      "27\n",
      "0\n",
      "-117\n"
     ]
    }
   ],
   "source": [
    "class Solution:\n",
    "    def calPoints(self, operations):\n",
    "        stack = []\n",
    "        for op in operations:\n",
    "            if op == 'C':\n",
    "                stack.pop()\n",
    "            elif op == 'D':\n",
    "                stack.append(stack[-1] * 2)\n",
    "            elif op == '+':\n",
    "                stack.append(stack[-1] + stack[-2])\n",
    "            else:\n",
    "                stack.append(int(op))\n",
    "        return sum(stack)\n",
    "    \n",
    "    def calPoints(self, operations):\n",
    "        for i in range(len(operations)):\n",
    "            if operations[i] == 'C':\n",
    "                j = i - 1\n",
    "                while operations[j] == 0: j -= 1\n",
    "                operations[i] = 0\n",
    "                operations[j] = 0\n",
    "            elif operations[i] == 'D':\n",
    "                j = i - 1\n",
    "                while operations[j] == 0: j -= 1\n",
    "                operations[i] = operations[j] * 2\n",
    "            elif operations[i] == '+':\n",
    "                j = i - 1\n",
    "                while operations[j] == 0: j -= 1\n",
    "                k = j - 1\n",
    "                while operations[k] == 0: k -= 1\n",
    "                operations[i] = operations[j] + operations[k]\n",
    "            else:\n",
    "                operations[i] = int(operations[i])\n",
    "        return sum(operations)\n",
    "            \n",
    "    \n",
    "\n",
    "s = Solution()\n",
    "\n",
    "print(s.calPoints([\"5\",\"2\",\"C\",\"D\",\"+\"]))\n",
    "print(s.calPoints([\"5\",\"-2\",\"4\",\"C\",\"D\",\"9\",\"+\",\"+\"]))\n",
    "print(s.calPoints([\"1\",\"C\"]))\n",
    "print(s.calPoints([\"-60\",\"D\",\"-36\",\"30\",\"13\",\"C\",\"C\",\"-33\",\"53\",\"79\"]))\n"
   ]
  },
  {
   "cell_type": "code",
   "execution_count": null,
   "metadata": {},
   "outputs": [],
   "source": []
  }
 ],
 "metadata": {
  "kernelspec": {
   "display_name": "Python 3",
   "language": "python",
   "name": "python3"
  },
  "language_info": {
   "codemirror_mode": {
    "name": "ipython",
    "version": 3
   },
   "file_extension": ".py",
   "mimetype": "text/x-python",
   "name": "python",
   "nbconvert_exporter": "python",
   "pygments_lexer": "ipython3",
   "version": "3.10.2"
  },
  "orig_nbformat": 4
 },
 "nbformat": 4,
 "nbformat_minor": 2
}
