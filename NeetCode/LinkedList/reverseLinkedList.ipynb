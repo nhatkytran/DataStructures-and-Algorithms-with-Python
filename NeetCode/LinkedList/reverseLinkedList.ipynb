{
 "cells": [
  {
   "cell_type": "code",
   "execution_count": 16,
   "metadata": {},
   "outputs": [
    {
     "name": "stdout",
     "output_type": "stream",
     "text": [
      "0 --> 1 --> 2 --> \n",
      "2 --> 1 --> 0 --> \n"
     ]
    }
   ],
   "source": [
    "class LinkedList:\n",
    "    def __init__(self):\n",
    "        self.head = None\n",
    "        self.size = 0\n",
    "\n",
    "    class Node:\n",
    "        def __init__(self, value):\n",
    "            self.value = value\n",
    "            self.next = None\n",
    "\n",
    "    def append(self, value):\n",
    "        node = self.Node(value)\n",
    "        if not self.head:\n",
    "            self.head = node\n",
    "        else:\n",
    "            current = self.head\n",
    "            while current.next:\n",
    "                current = current.next\n",
    "            current.next = node\n",
    "        self.size += 1\n",
    "\n",
    "    def view(self):\n",
    "        rpr = ''\n",
    "        current = self.head\n",
    "        while current:\n",
    "            rpr += f'{current.value} --> '\n",
    "            current = current.next\n",
    "        print(rpr)\n",
    "\n",
    "    def reverse(self):\n",
    "        if self.head:\n",
    "            self._reverse(self.head)\n",
    "\n",
    "    def _reverse(self, current):\n",
    "        if not current.next:\n",
    "            self.head = current\n",
    "        if current.next:\n",
    "            self._reverse(current.next)\n",
    "            current.next.next = current\n",
    "        current.next = None\n",
    "\n",
    "    def _reverse(self, current):\n",
    "        self.head = current\n",
    "        if current.next:\n",
    "            self.head = self._reverse(current.next)\n",
    "            current.next.next = current\n",
    "        current.next = None\n",
    "        return self.head\n",
    "    \n",
    "\n",
    "ll = LinkedList()\n",
    "\n",
    "for i in range(3):\n",
    "    ll.append(i)\n",
    "\n",
    "ll.view()\n",
    "\n",
    "ll.reverse()\n",
    "\n",
    "ll.view()\n"
   ]
  },
  {
   "cell_type": "code",
   "execution_count": null,
   "metadata": {},
   "outputs": [],
   "source": []
  }
 ],
 "metadata": {
  "kernelspec": {
   "display_name": "Python 3",
   "language": "python",
   "name": "python3"
  },
  "language_info": {
   "codemirror_mode": {
    "name": "ipython",
    "version": 3
   },
   "file_extension": ".py",
   "mimetype": "text/x-python",
   "name": "python",
   "nbconvert_exporter": "python",
   "pygments_lexer": "ipython3",
   "version": "3.10.2"
  },
  "orig_nbformat": 4
 },
 "nbformat": 4,
 "nbformat_minor": 2
}
