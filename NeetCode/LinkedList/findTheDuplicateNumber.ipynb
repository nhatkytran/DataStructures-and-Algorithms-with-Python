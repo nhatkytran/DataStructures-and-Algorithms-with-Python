{
 "cells": [
  {
   "cell_type": "code",
   "execution_count": 6,
   "metadata": {},
   "outputs": [
    {
     "name": "stdout",
     "output_type": "stream",
     "text": [
      "2\n"
     ]
    }
   ],
   "source": [
    "class Solution:\n",
    "    def findDuplicate(self, nums):\n",
    "        slow = 0\n",
    "        fast = 0\n",
    "        while True:\n",
    "            slow = nums[slow]\n",
    "            fast = nums[nums[fast]]\n",
    "            if slow == fast:\n",
    "                break\n",
    "        slow2 = 0\n",
    "        while True:\n",
    "            slow = nums[slow]\n",
    "            slow2 = nums[slow2]\n",
    "            if slow == slow2:\n",
    "                return slow\n",
    "\n",
    "\n",
    "s = Solution()\n",
    "\n",
    "print(s.findDuplicate([1, 2, 3, 4, 2]))\n"
   ]
  },
  {
   "cell_type": "code",
   "execution_count": null,
   "metadata": {},
   "outputs": [],
   "source": []
  }
 ],
 "metadata": {
  "kernelspec": {
   "display_name": "Python 3",
   "language": "python",
   "name": "python3"
  },
  "language_info": {
   "codemirror_mode": {
    "name": "ipython",
    "version": 3
   },
   "file_extension": ".py",
   "mimetype": "text/x-python",
   "name": "python",
   "nbconvert_exporter": "python",
   "pygments_lexer": "ipython3",
   "version": "3.9.5 (v3.9.5:0a7dcbdb13, May  3 2021, 13:17:02) \n[Clang 6.0 (clang-600.0.57)]"
  },
  "orig_nbformat": 4,
  "vscode": {
   "interpreter": {
    "hash": "b8bdd4e700647ba2b08c59e5df8b7da1dcf50a218bcd4c1bcd9b3dc92e8788e5"
   }
  }
 },
 "nbformat": 4,
 "nbformat_minor": 2
}
