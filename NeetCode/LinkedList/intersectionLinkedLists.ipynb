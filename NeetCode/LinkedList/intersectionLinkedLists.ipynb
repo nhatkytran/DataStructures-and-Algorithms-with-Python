{
 "cells": [
  {
   "cell_type": "code",
   "execution_count": 1,
   "metadata": {},
   "outputs": [],
   "source": [
    "class Solution:\n",
    "    def getIntersectionNode(self, headA, headB):\n",
    "        hash_setA = set()\n",
    "        while headA:\n",
    "            hash_setA.add(headA)\n",
    "            headA = headA.next\n",
    "        while headB:\n",
    "            if headB in hash_setA:\n",
    "                return headB\n",
    "            headB = headB.next\n",
    "\n",
    "    def getIntersectionNode(self, headA, headB):\n",
    "        lengthA = 0\n",
    "        currentA = headA\n",
    "        while currentA:\n",
    "            lengthA += 1\n",
    "            currentA = currentA.next\n",
    "        lengthB = 0\n",
    "        currentB = headB\n",
    "        while currentB:\n",
    "            lengthB += 1\n",
    "            currentB = currentB.next\n",
    "        step = abs(lengthA - lengthB)\n",
    "        while step > 0:\n",
    "            if lengthA > lengthB:\n",
    "                headA = headA.next\n",
    "            else:\n",
    "                headB = headB.next\n",
    "            step -= 1\n",
    "        while headA and headB:\n",
    "            if headA is headB:\n",
    "                return headA\n",
    "            headA = headA.next\n",
    "            headB = headB.next\n",
    "\n",
    "    def getIntersectionNode(self, headA, headB):\n",
    "        current = headA\n",
    "        while current.next: current = current.next\n",
    "        current.next = headB\n",
    "        slow = headA\n",
    "        fast = headA\n",
    "        while fast and fast.next:\n",
    "            slow = slow.next\n",
    "            fast = fast.next.next\n",
    "            if slow == fast:\n",
    "                slow = headA\n",
    "                while slow != fast:\n",
    "                    slow = slow.next\n",
    "                    fast = fast.next\n",
    "                current.next = None\n",
    "                return slow\n",
    "        current.next = None\n",
    "        return None\n"
   ]
  },
  {
   "cell_type": "code",
   "execution_count": null,
   "metadata": {},
   "outputs": [],
   "source": []
  }
 ],
 "metadata": {
  "kernelspec": {
   "display_name": "Python 3",
   "language": "python",
   "name": "python3"
  },
  "language_info": {
   "codemirror_mode": {
    "name": "ipython",
    "version": 3
   },
   "file_extension": ".py",
   "mimetype": "text/x-python",
   "name": "python",
   "nbconvert_exporter": "python",
   "pygments_lexer": "ipython3",
   "version": "3.10.2"
  },
  "orig_nbformat": 4
 },
 "nbformat": 4,
 "nbformat_minor": 2
}
