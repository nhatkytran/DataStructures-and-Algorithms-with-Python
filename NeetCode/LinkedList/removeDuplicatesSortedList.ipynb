{
 "cells": [
  {
   "cell_type": "code",
   "execution_count": 13,
   "metadata": {},
   "outputs": [
    {
     "name": "stdout",
     "output_type": "stream",
     "text": [
      "<__main__.ListNode object at 0x1129f8820>\n"
     ]
    }
   ],
   "source": [
    "class ListNode:\n",
    "    def __init__(self, val=0, next=None):\n",
    "        self.val = val\n",
    "        self.next = next\n",
    "\n",
    "\n",
    "class Solution:\n",
    "    def deleteDuplicates(self, head):\n",
    "        start = ListNode(-1)\n",
    "        start.next = head\n",
    "        while start.next:\n",
    "            if start.next.val == start.val:\n",
    "                start.next = start.next.next\n",
    "            else:\n",
    "                start = start.next\n",
    "        return head\n",
    "    \n",
    "    def deleteDuplicate(self, head):\n",
    "        if not head:\n",
    "            return\n",
    "        prev = head\n",
    "        current = head.next\n",
    "        while current:\n",
    "            if current.val == prev.val:\n",
    "                prev.next = current.next\n",
    "                current = current.next\n",
    "            else:\n",
    "                prev = current\n",
    "                current = current.next\n",
    "        return head\n",
    "\n",
    "\n",
    "s = Solution()\n",
    "\n",
    "head = ListNode(1)\n",
    "head.next = ListNode(1)\n",
    "head.next.next = ListNode(2)\n",
    "\n",
    "print(s.deleteDuplicates(head))\n"
   ]
  },
  {
   "cell_type": "code",
   "execution_count": null,
   "metadata": {},
   "outputs": [],
   "source": []
  }
 ],
 "metadata": {
  "kernelspec": {
   "display_name": "Python 3",
   "language": "python",
   "name": "python3"
  },
  "language_info": {
   "codemirror_mode": {
    "name": "ipython",
    "version": 3
   },
   "file_extension": ".py",
   "mimetype": "text/x-python",
   "name": "python",
   "nbconvert_exporter": "python",
   "pygments_lexer": "ipython3",
   "version": "3.10.2"
  },
  "orig_nbformat": 4
 },
 "nbformat": 4,
 "nbformat_minor": 2
}
