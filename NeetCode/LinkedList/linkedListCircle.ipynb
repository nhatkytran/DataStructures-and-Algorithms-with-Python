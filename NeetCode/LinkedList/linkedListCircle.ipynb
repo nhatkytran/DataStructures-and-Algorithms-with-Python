{
 "cells": [
  {
   "cell_type": "code",
   "execution_count": 14,
   "metadata": {},
   "outputs": [
    {
     "name": "stdout",
     "output_type": "stream",
     "text": [
      "True\n",
      "True\n",
      "False\n"
     ]
    }
   ],
   "source": [
    "class Node:\n",
    "    def __init__(self, value):\n",
    "        self.value = value\n",
    "        self.next = None\n",
    "\n",
    "\n",
    "class LinkedList:\n",
    "    def __init__(self):\n",
    "        self.head = None\n",
    "\n",
    "    def __repr__(self):\n",
    "        rpr = ''\n",
    "        current_node = self.head\n",
    "        while current_node:\n",
    "            print('-->', current_node.value)\n",
    "            rpr += f'{current_node.value} --> '\n",
    "            current_node = current_node.next\n",
    "        return rpr\n",
    "\n",
    "    def add_node(self, value):\n",
    "        if self.head is None:\n",
    "            self.head = Node(value)\n",
    "        else:\n",
    "            current_node = self.head\n",
    "            while current_node.next is not None:\n",
    "                current_node = current_node.next\n",
    "            current_node.next = Node(value)\n",
    "\n",
    "    def add_nodes(self, list_value):\n",
    "        for value in list_value:\n",
    "            self.add_node(value)\n",
    "\n",
    "    def add_node_circle(self, pos):\n",
    "        if pos == -1: return\n",
    "        last_node = self.head\n",
    "        while last_node.next is not None:\n",
    "            last_node = last_node.next\n",
    "        if pos == 0:\n",
    "            last_node.next = self.head\n",
    "        else:\n",
    "            pos_node = self.head\n",
    "            for _ in range(pos):\n",
    "                pos_node = pos_node.next\n",
    "            last_node.next = pos_node\n",
    "\n",
    "\n",
    "ll1 = LinkedList()\n",
    "ll1.add_nodes([3,2,0,-4])\n",
    "ll1.add_node_circle(1)\n",
    "\n",
    "ll2 = LinkedList()\n",
    "ll2.add_nodes([1, 2])\n",
    "ll2.add_node_circle(0)\n",
    "\n",
    "ll3 = LinkedList()\n",
    "ll3.add_nodes([1])\n",
    "ll3.add_node_circle(-1)\n",
    "\n",
    "class Solution:\n",
    "    # Time Complexity --> O(n)\n",
    "    # Space Complexity --> O(n)\n",
    "    def hasCircle(self, head):\n",
    "        if head:\n",
    "            hashset = set([head])\n",
    "            while head.next is not None:\n",
    "                head = head.next\n",
    "                if head in hashset: return True\n",
    "                else: hashset.add(head)\n",
    "        return False\n",
    "\n",
    "    # Time Complexity --> O(n)\n",
    "    # Space complexity --> O(1)\n",
    "    def hasCircle(self, head):\n",
    "        slow, fast = head, head\n",
    "        while fast and fast.next:\n",
    "            slow = slow.next\n",
    "            fast = fast.next.next\n",
    "            if slow is fast:\n",
    "                return True\n",
    "        return False\n",
    "\n",
    "\n",
    "s = Solution()\n",
    "\n",
    "print(s.hasCircle(ll1.head))\n",
    "print(s.hasCircle(ll2.head))\n",
    "print(s.hasCircle(ll3.head))\n"
   ]
  },
  {
   "cell_type": "code",
   "execution_count": null,
   "metadata": {},
   "outputs": [],
   "source": []
  }
 ],
 "metadata": {
  "kernelspec": {
   "display_name": "Python 3",
   "language": "python",
   "name": "python3"
  },
  "language_info": {
   "codemirror_mode": {
    "name": "ipython",
    "version": 3
   },
   "file_extension": ".py",
   "mimetype": "text/x-python",
   "name": "python",
   "nbconvert_exporter": "python",
   "pygments_lexer": "ipython3",
   "version": "3.9.5"
  },
  "orig_nbformat": 4,
  "vscode": {
   "interpreter": {
    "hash": "b8bdd4e700647ba2b08c59e5df8b7da1dcf50a218bcd4c1bcd9b3dc92e8788e5"
   }
  }
 },
 "nbformat": 4,
 "nbformat_minor": 2
}
