{
 "cells": [
  {
   "cell_type": "code",
   "execution_count": 17,
   "metadata": {},
   "outputs": [
    {
     "name": "stdout",
     "output_type": "stream",
     "text": [
      "5\n",
      "4\n",
      "6\n"
     ]
    }
   ],
   "source": [
    "import re\n",
    "\n",
    "\n",
    "class Solution:\n",
    "    def lengthOfLastWord(self, s):\n",
    "        s = re.split(r'\\s+', s)\n",
    "        for i in range(len(s) - 1, -1, -1):\n",
    "            if s[i] != '':\n",
    "                return len(s[i])\n",
    "        \n",
    "\n",
    "    def lengthOfLastWord(self, s):\n",
    "        last_word = ''\n",
    "        for i in range(len(s) - 1, -1, -1):\n",
    "            if s[i] != ' ':\n",
    "                last_word = s[i] + last_word\n",
    "            else:\n",
    "                if last_word != '':\n",
    "                    break\n",
    "        return len(last_word)\n",
    "\n",
    "    def lengthOfLastWord(self, s):\n",
    "        result = 0\n",
    "        for i in range(len(s) - 1, -1, -1):\n",
    "            if s[i] != ' ':\n",
    "                result += 1\n",
    "            else:\n",
    "                if result != 0:\n",
    "                    break\n",
    "        return result\n",
    "\n",
    "    def lengthOfLastWord(self, s):\n",
    "        return len(s.rstrip().split(' ')[-1])\n",
    "\n",
    "s = Solution()\n",
    "\n",
    "print(s.lengthOfLastWord('Hello World'))\n",
    "print(s.lengthOfLastWord('   fly me   to   the moon  '))\n",
    "print(s.lengthOfLastWord('luffy is still joyboy'))\n"
   ]
  },
  {
   "cell_type": "code",
   "execution_count": null,
   "metadata": {},
   "outputs": [],
   "source": []
  }
 ],
 "metadata": {
  "kernelspec": {
   "display_name": "Python 3",
   "language": "python",
   "name": "python3"
  },
  "language_info": {
   "codemirror_mode": {
    "name": "ipython",
    "version": 3
   },
   "file_extension": ".py",
   "mimetype": "text/x-python",
   "name": "python",
   "nbconvert_exporter": "python",
   "pygments_lexer": "ipython3",
   "version": "3.9.5 (v3.9.5:0a7dcbdb13, May  3 2021, 13:17:02) \n[Clang 6.0 (clang-600.0.57)]"
  },
  "orig_nbformat": 4,
  "vscode": {
   "interpreter": {
    "hash": "b8bdd4e700647ba2b08c59e5df8b7da1dcf50a218bcd4c1bcd9b3dc92e8788e5"
   }
  }
 },
 "nbformat": 4,
 "nbformat_minor": 2
}
