{
 "cells": [
  {
   "cell_type": "code",
   "execution_count": 33,
   "metadata": {},
   "outputs": [
    {
     "name": "stdout",
     "output_type": "stream",
     "text": [
      "1\n",
      "-1\n",
      "-3\n"
     ]
    }
   ],
   "source": [
    "class NumArray:\n",
    "    def __init__(self, nums):\n",
    "        self.nums = nums\n",
    "\n",
    "    def sumRange(self, left, right):\n",
    "        return sum(self.nums[i] for i in range(left, right + 1))\n",
    "    \n",
    "    def __init__(self, nums):\n",
    "        self.prefix = [nums[0]]\n",
    "        for i in range(1, len(nums)):\n",
    "            self.prefix.append(self.prefix[-1] + nums[i])\n",
    "\n",
    "    def sumRange(self, left, right):\n",
    "        return self.prefix[right] - (self.prefix[left - 1] if left > 0 else 0)\n",
    "    \n",
    "    def __init__(self, nums):\n",
    "        self.prefix = [0]\n",
    "        for num in nums:\n",
    "            self.prefix.append(self.prefix[-1] + num)\n",
    "\n",
    "    def sumRange(self, left, right):\n",
    "        return self.prefix[right + 1] - self.prefix[left]\n",
    "    \n",
    "    \n",
    "numArray = NumArray([-2, 0, 3, -5, 2, -1])\n",
    "\n",
    "print(numArray.sumRange(0, 2)) # (-2) + 0 + 3 = 1\n",
    "print(numArray.sumRange(2, 5)) # 3 + (-5) + 2 + (-1) = -1\n",
    "print(numArray.sumRange(0, 5)) # (-2) + 0 + 3 + (-5) + 2 + (-1) = -3\n"
   ]
  },
  {
   "cell_type": "code",
   "execution_count": null,
   "metadata": {},
   "outputs": [],
   "source": []
  }
 ],
 "metadata": {
  "kernelspec": {
   "display_name": "Python 3",
   "language": "python",
   "name": "python3"
  },
  "language_info": {
   "codemirror_mode": {
    "name": "ipython",
    "version": 3
   },
   "file_extension": ".py",
   "mimetype": "text/x-python",
   "name": "python",
   "nbconvert_exporter": "python",
   "pygments_lexer": "ipython3",
   "version": "3.10.2"
  },
  "orig_nbformat": 4
 },
 "nbformat": 4,
 "nbformat_minor": 2
}
