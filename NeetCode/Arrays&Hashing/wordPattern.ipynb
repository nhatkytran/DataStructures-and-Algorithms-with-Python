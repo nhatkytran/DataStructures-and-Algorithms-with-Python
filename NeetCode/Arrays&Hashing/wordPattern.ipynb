{
 "cells": [
  {
   "cell_type": "code",
   "execution_count": 7,
   "metadata": {},
   "outputs": [
    {
     "name": "stdout",
     "output_type": "stream",
     "text": [
      "True\n",
      "False\n",
      "False\n",
      "False\n"
     ]
    }
   ],
   "source": [
    "class Solution:\n",
    "    def wordPattern(self, pattern, s):\n",
    "        hash_map_pattern = {}\n",
    "        hash_map_s = {}\n",
    "        s_pattern = s.split(' ')\n",
    "        if len(pattern) != len(s_pattern):\n",
    "            return False\n",
    "        for pattern_letter, s_word in zip(pattern, s_pattern):\n",
    "            if pattern_letter not in hash_map_pattern:\n",
    "                hash_map_pattern[pattern_letter] = s_word\n",
    "            elif hash_map_pattern[pattern_letter] != s_word:\n",
    "                return False\n",
    "            if s_word not in hash_map_s:\n",
    "                hash_map_s[s_word] = pattern_letter\n",
    "            elif hash_map_s[s_word] != pattern_letter:\n",
    "                return False\n",
    "        return True\n",
    "\n",
    "\n",
    "\n",
    "s = Solution()\n",
    "\n",
    "print(s.wordPattern(\"abba\", \"dog cat cat dog\"))\n",
    "print(s.wordPattern(\"abba\", \"dog cat cat fish\"))\n",
    "print(s.wordPattern(\"aaaa\", \"dog cat cat dog\"))\n",
    "print(s.wordPattern(\"aaa\", \"aa aa aa aa\"))\n"
   ]
  },
  {
   "cell_type": "code",
   "execution_count": null,
   "metadata": {},
   "outputs": [],
   "source": []
  }
 ],
 "metadata": {
  "kernelspec": {
   "display_name": "Python 3",
   "language": "python",
   "name": "python3"
  },
  "language_info": {
   "codemirror_mode": {
    "name": "ipython",
    "version": 3
   },
   "file_extension": ".py",
   "mimetype": "text/x-python",
   "name": "python",
   "nbconvert_exporter": "python",
   "pygments_lexer": "ipython3",
   "version": "3.10.2"
  },
  "orig_nbformat": 4
 },
 "nbformat": 4,
 "nbformat_minor": 2
}
