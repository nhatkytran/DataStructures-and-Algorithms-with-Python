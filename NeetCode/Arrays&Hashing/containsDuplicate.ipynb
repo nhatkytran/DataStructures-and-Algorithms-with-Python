{
 "cells": [
  {
   "cell_type": "code",
   "execution_count": 15,
   "metadata": {},
   "outputs": [
    {
     "name": "stdout",
     "output_type": "stream",
     "text": [
      "True\n",
      "False\n",
      "True\n"
     ]
    }
   ],
   "source": [
    "class Solution:\n",
    "    # Use hash dictionary\n",
    "    # Time complexity --> O(2n) --> O(n)\n",
    "    # Space comlecity --> O(n)\n",
    "    def duplicate(self, nums):\n",
    "        cache = {}\n",
    "        for num in nums:\n",
    "            cache[num] = cache.get(num, 0) + 1\n",
    "        for frequency in cache.values():\n",
    "            if frequency > 1:\n",
    "                return True\n",
    "        return False\n",
    "\n",
    "    # Use hashset\n",
    "    # Time complexity --> O(n)\n",
    "    # Space comlecity --> O(n)\n",
    "    def duplicate(self, nums):\n",
    "        hashset = set()\n",
    "        for num in nums:\n",
    "            if num in hashset:\n",
    "                return True\n",
    "            hashset.add(num)\n",
    "        return False\n",
    "\n",
    "    def duplicate(self, nums):\n",
    "        hashset = set(nums)\n",
    "        return len(hashset) != len(nums)\n",
    "\n",
    "    # Use sort\n",
    "    # Time complexity --> O(n)\n",
    "    # Space comlecity --> O(n)\n",
    "    def duplicate(self, nums):\n",
    "        sorted_nums = sorted(nums)\n",
    "        for i in range(1, len(sorted_nums)):\n",
    "            if sorted_nums[i] == sorted_nums[i - 1]:\n",
    "                return True\n",
    "        return False\n",
    "\n",
    "\n",
    "s = Solution()\n",
    "\n",
    "print(s.duplicate([1,2,3,1]))\n",
    "print(s.duplicate([1,2,3,4]))\n",
    "print(s.duplicate([1,1,1,3,3,4,3,2,4,2]))\n"
   ]
  },
  {
   "cell_type": "code",
   "execution_count": null,
   "metadata": {},
   "outputs": [],
   "source": []
  }
 ],
 "metadata": {
  "kernelspec": {
   "display_name": "Python 3",
   "language": "python",
   "name": "python3"
  },
  "language_info": {
   "codemirror_mode": {
    "name": "ipython",
    "version": 3
   },
   "file_extension": ".py",
   "mimetype": "text/x-python",
   "name": "python",
   "nbconvert_exporter": "python",
   "pygments_lexer": "ipython3",
   "version": "3.9.5 (v3.9.5:0a7dcbdb13, May  3 2021, 13:17:02) \n[Clang 6.0 (clang-600.0.57)]"
  },
  "orig_nbformat": 4,
  "vscode": {
   "interpreter": {
    "hash": "b8bdd4e700647ba2b08c59e5df8b7da1dcf50a218bcd4c1bcd9b3dc92e8788e5"
   }
  }
 },
 "nbformat": 4,
 "nbformat_minor": 2
}
