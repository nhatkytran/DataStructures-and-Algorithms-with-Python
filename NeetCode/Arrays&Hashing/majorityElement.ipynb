{
 "cells": [
  {
   "cell_type": "code",
   "execution_count": 3,
   "metadata": {},
   "outputs": [
    {
     "name": "stdout",
     "output_type": "stream",
     "text": [
      "3\n",
      "2\n"
     ]
    }
   ],
   "source": [
    "class Solution:\n",
    "    def majorityElement(self, nums):\n",
    "        hash_map = {}\n",
    "        for num in nums:\n",
    "            hash_map[num] = hash_map.get(num, 0) + 1\n",
    "        max_value = -float('inf')\n",
    "        target_num = None\n",
    "        for key, value in hash_map.items():\n",
    "            if value > max_value:\n",
    "                max_value = value\n",
    "                target_num = key\n",
    "        return target_num\n",
    "\n",
    "\n",
    "s = Solution()\n",
    "\n",
    "\n",
    "print(s.majorityElement([3, 2, 3]))\n",
    "print(s.majorityElement([2, 2, 1, 1, 1, 2, 2]))\n"
   ]
  },
  {
   "cell_type": "code",
   "execution_count": null,
   "metadata": {},
   "outputs": [],
   "source": []
  }
 ],
 "metadata": {
  "kernelspec": {
   "display_name": "Python 3",
   "language": "python",
   "name": "python3"
  },
  "language_info": {
   "codemirror_mode": {
    "name": "ipython",
    "version": 3
   },
   "file_extension": ".py",
   "mimetype": "text/x-python",
   "name": "python",
   "nbconvert_exporter": "python",
   "pygments_lexer": "ipython3",
   "version": "3.10.2"
  },
  "orig_nbformat": 4
 },
 "nbformat": 4,
 "nbformat_minor": 2
}
