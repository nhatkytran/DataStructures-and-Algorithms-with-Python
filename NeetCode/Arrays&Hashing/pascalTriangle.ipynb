{
 "cells": [
  {
   "cell_type": "code",
   "execution_count": 31,
   "metadata": {},
   "outputs": [
    {
     "name": "stdout",
     "output_type": "stream",
     "text": [
      "[[1], [1, 1], [1, 2, 1], [1, 3, 3, 1], [1, 4, 6, 4, 1]]\n",
      "[[1]]\n"
     ]
    }
   ],
   "source": [
    "class Solution:\n",
    "    def generate(self, numRows):\n",
    "        result = []\n",
    "        for num in range(numRows):\n",
    "            if result: prev_row = result[-1]\n",
    "            row = [1] * (num + 1)\n",
    "            for i in range(1, num): # length(row) = num + 1\n",
    "                row[i] = prev_row[i] + prev_row[i - 1]\n",
    "            result.append(row)\n",
    "        return result\n",
    "\n",
    "    def generate(self, numRows):\n",
    "        result = []\n",
    "        for num in range(1, numRows + 1):\n",
    "            if result: prev_row = result[-1]\n",
    "            row = [1] * num\n",
    "            for i in range(1, num - 1): # length(row) = num\n",
    "                row[i] = prev_row[i] + prev_row[i - 1]\n",
    "            result.append(row)\n",
    "        return result\n",
    "\n",
    "    def generate(self, numRows):\n",
    "        result = []\n",
    "        for num in range(numRows):\n",
    "            if result: prev_row = result[-1]\n",
    "            row = []\n",
    "            for i in range(num + 1):\n",
    "                if i == 0 or i == num:\n",
    "                    row.append(1)\n",
    "                else:\n",
    "                    row.append(prev_row[i] + prev_row[i - 1])\n",
    "            result.append(row)\n",
    "        return result\n",
    "        \n",
    "\n",
    "s = Solution()\n",
    "\n",
    "print(s.generate(5))\n",
    "print(s.generate(1))\n"
   ]
  },
  {
   "cell_type": "code",
   "execution_count": null,
   "metadata": {},
   "outputs": [],
   "source": [
    "\n"
   ]
  }
 ],
 "metadata": {
  "kernelspec": {
   "display_name": "Python 3",
   "language": "python",
   "name": "python3"
  },
  "language_info": {
   "codemirror_mode": {
    "name": "ipython",
    "version": 3
   },
   "file_extension": ".py",
   "mimetype": "text/x-python",
   "name": "python",
   "nbconvert_exporter": "python",
   "pygments_lexer": "ipython3",
   "version": "3.9.5"
  },
  "orig_nbformat": 4,
  "vscode": {
   "interpreter": {
    "hash": "b8bdd4e700647ba2b08c59e5df8b7da1dcf50a218bcd4c1bcd9b3dc92e8788e5"
   }
  }
 },
 "nbformat": 4,
 "nbformat_minor": 2
}
