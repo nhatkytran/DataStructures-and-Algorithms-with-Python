{
 "cells": [
  {
   "cell_type": "code",
   "execution_count": 38,
   "metadata": {},
   "outputs": [
    {
     "name": "stdout",
     "output_type": "stream",
     "text": [
      "[18, 6, 6, 6, 1, -1]\n",
      "[-1]\n"
     ]
    }
   ],
   "source": [
    "class Solution:\n",
    "    # O(n^2)\n",
    "    def replaceElements(self, arr):\n",
    "        for i in range(len(arr)):\n",
    "            rightMax = -1\n",
    "            for j in range(i + 1, len(arr)):\n",
    "                if arr[j] > rightMax:\n",
    "                    rightMax = arr[j]\n",
    "            arr[i] = rightMax\n",
    "        return arr\n",
    "\n",
    "    # < O(n^2)\n",
    "    def replaceElements(self, arr):\n",
    "        maxRight = arr[0]\n",
    "        for i in range(len(arr)):\n",
    "            if arr[i] == maxRight:\n",
    "                maxRight = -1\n",
    "                for j in range(i + 1, len(arr)):\n",
    "                    if arr[j] > maxRight:\n",
    "                        maxRight = arr[j]\n",
    "            arr[i] = maxRight\n",
    "        return arr\n",
    "\n",
    "    def replaceElements(self, arr):\n",
    "        maxRight = arr[0]\n",
    "        for i in range(len(arr)):\n",
    "            if arr[i] == maxRight:\n",
    "                # In case arr[(i + 1):] == []\n",
    "                maxRight = max(-1, -1, *arr[(i + 1):])\n",
    "            arr[i] = maxRight\n",
    "        return arr\n",
    "\n",
    "    # O(n)\n",
    "    def replaceElements(self, arr):\n",
    "        maxRight = -1\n",
    "        for i in range(len(arr) - 1, -1, -1):\n",
    "            arr[i], maxRight = maxRight, max(arr[i], maxRight)\n",
    "        return arr\n",
    "\n",
    "\n",
    "s = Solution()\n",
    "\n",
    "print(s.replaceElements([17,18,5,4,6,1]))\n",
    "print(s.replaceElements([400]))\n"
   ]
  },
  {
   "cell_type": "code",
   "execution_count": null,
   "metadata": {},
   "outputs": [],
   "source": []
  }
 ],
 "metadata": {
  "kernelspec": {
   "display_name": "Python 3",
   "language": "python",
   "name": "python3"
  },
  "language_info": {
   "codemirror_mode": {
    "name": "ipython",
    "version": 3
   },
   "file_extension": ".py",
   "mimetype": "text/x-python",
   "name": "python",
   "nbconvert_exporter": "python",
   "pygments_lexer": "ipython3",
   "version": "3.9.5"
  },
  "orig_nbformat": 4,
  "vscode": {
   "interpreter": {
    "hash": "b8bdd4e700647ba2b08c59e5df8b7da1dcf50a218bcd4c1bcd9b3dc92e8788e5"
   }
  }
 },
 "nbformat": 4,
 "nbformat_minor": 2
}
