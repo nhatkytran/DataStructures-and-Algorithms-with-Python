{
 "cells": [
  {
   "cell_type": "code",
   "execution_count": 35,
   "metadata": {},
   "outputs": [
    {
     "name": "stdout",
     "output_type": "stream",
     "text": [
      "[5, 6]\n",
      "[2]\n"
     ]
    }
   ],
   "source": [
    "class Solution:\n",
    "    def findDisappearedNumbers(self, nums):\n",
    "        return [*({num for num in range(1, len(nums) + 1)} - set(nums))]\n",
    "    \n",
    "    def findDisappearedNumbers(self, nums):\n",
    "        result = []\n",
    "        for num in range(1, len(nums) + 1):\n",
    "            if num not in nums:\n",
    "                result.append(num)\n",
    "        return result\n",
    "    \n",
    "    def findDisappearedNumbers(self, nums):\n",
    "        result = []\n",
    "        hash_set = set(nums)\n",
    "        for num in range(1, len(nums) + 1):\n",
    "            if num not in hash_set:\n",
    "                result.append(num)\n",
    "    \n",
    "    def findDisappearedNumbers(self, nums):\n",
    "        result = []\n",
    "        for num in nums:\n",
    "            index = abs(num) - 1\n",
    "            if nums[index] > 0:\n",
    "                nums[index] *= -1\n",
    "        for i in range(len(nums)):\n",
    "            if nums[i] > 0:\n",
    "                result.append(i + 1)\n",
    "        return result\n",
    "    \n",
    "    def findDisappearedNumbers(self, nums):\n",
    "        for num in nums:\n",
    "            index = abs(num) - 1\n",
    "            nums[index] = -abs(nums[index])\n",
    "        return [i + 1 for i, num in enumerate(nums) if num > 0]\n",
    "        \n",
    "\n",
    "s = Solution()\n",
    "\n",
    "print(s.findDisappearedNumbers([4, 3, 2, 7, 8, 2, 3, 1]))\n",
    "print(s.findDisappearedNumbers([1, 1]))\n"
   ]
  },
  {
   "cell_type": "code",
   "execution_count": null,
   "metadata": {},
   "outputs": [],
   "source": []
  }
 ],
 "metadata": {
  "kernelspec": {
   "display_name": "Python 3",
   "language": "python",
   "name": "python3"
  },
  "language_info": {
   "codemirror_mode": {
    "name": "ipython",
    "version": 3
   },
   "file_extension": ".py",
   "mimetype": "text/x-python",
   "name": "python",
   "nbconvert_exporter": "python",
   "pygments_lexer": "ipython3",
   "version": "3.10.2"
  },
  "orig_nbformat": 4
 },
 "nbformat": 4,
 "nbformat_minor": 2
}
