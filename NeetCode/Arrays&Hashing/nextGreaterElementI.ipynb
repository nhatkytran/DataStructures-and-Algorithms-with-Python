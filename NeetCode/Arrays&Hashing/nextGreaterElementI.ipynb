{
 "cells": [
  {
   "cell_type": "code",
   "execution_count": 19,
   "metadata": {},
   "outputs": [
    {
     "name": "stdout",
     "output_type": "stream",
     "text": [
      "None\n",
      "None\n",
      "None\n"
     ]
    }
   ],
   "source": [
    "class Solution:\n",
    "    def nextGreaterElement(self, nums1, nums2):\n",
    "        result = []\n",
    "        for num1 in nums1:\n",
    "            index = nums2.index(num1)\n",
    "            right_num = -1\n",
    "            for i in range(index + 1, len(nums2)):\n",
    "                if nums2[i] > num1:\n",
    "                    right_num = nums2[i]\n",
    "                    break\n",
    "            result.append(right_num)\n",
    "        return result\n",
    "    \n",
    "\n",
    "    def nextGreaterElement(self, nums1, nums2):\n",
    "        for i in range(len(nums2)):\n",
    "            if nums2[i] in nums1:\n",
    "                pass\n",
    "        \n",
    "\n",
    "\n",
    "s = Solution()\n",
    "\n",
    "print(s.nextGreaterElement([4, 1, 2], [1, 3, 4, 2]))\n",
    "print(s.nextGreaterElement([2, 4], [1, 2, 3, 4]))\n",
    "print(s.nextGreaterElement([1, 3, 5, 2, 4], [6, 5, 4, 3, 2, 1, 7]))\n"
   ]
  },
  {
   "cell_type": "code",
   "execution_count": null,
   "metadata": {},
   "outputs": [],
   "source": []
  }
 ],
 "metadata": {
  "kernelspec": {
   "display_name": "Python 3",
   "language": "python",
   "name": "python3"
  },
  "language_info": {
   "codemirror_mode": {
    "name": "ipython",
    "version": 3
   },
   "file_extension": ".py",
   "mimetype": "text/x-python",
   "name": "python",
   "nbconvert_exporter": "python",
   "pygments_lexer": "ipython3",
   "version": "3.10.2"
  },
  "orig_nbformat": 4
 },
 "nbformat": 4,
 "nbformat_minor": 2
}
