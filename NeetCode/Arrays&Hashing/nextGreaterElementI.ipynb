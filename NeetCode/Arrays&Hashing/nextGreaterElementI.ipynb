{
 "cells": [
  {
   "cell_type": "code",
   "execution_count": 22,
   "metadata": {},
   "outputs": [
    {
     "name": "stdout",
     "output_type": "stream",
     "text": [
      "[-1, 3, -1]\n",
      "[3, -1]\n",
      "[7, 7, 7, 7, 7]\n"
     ]
    }
   ],
   "source": [
    "class Solution:\n",
    "    def nextGreaterElement(self, nums1, nums2):\n",
    "        result = []\n",
    "        for num1 in nums1:\n",
    "            index = nums2.index(num1)\n",
    "            right_num = -1\n",
    "            for i in range(index + 1, len(nums2)):\n",
    "                if nums2[i] > num1:\n",
    "                    right_num = nums2[i]\n",
    "                    break\n",
    "            result.append(right_num)\n",
    "        return result\n",
    "    \n",
    "\n",
    "    def nextGreaterElement(self, nums1, nums2):\n",
    "        result = [-1] * len(nums1)\n",
    "        for i in range(len(nums2)):\n",
    "            if nums2[i] in nums1:\n",
    "                index = nums1.index(nums2[i])\n",
    "                for j in range(i + 1, len(nums2)):\n",
    "                    if nums2[j] > nums2[i]:\n",
    "                        result[index] = nums2[j]\n",
    "                        break\n",
    "        return result\n",
    "\n",
    "    def nextGreaterElement(self, nums1, nums2):\n",
    "        hash_map = {}\n",
    "        for i in range(len(nums2)):\n",
    "            hash_map[nums2[i]] = nums2[i + 1] if i != len(nums2) - 1 else -1\n",
    "        for i in range(len(nums1)):\n",
    "            right_num = hash_map[nums1[i]]\n",
    "            while right_num != -1:\n",
    "                if right_num > nums1[i]:\n",
    "                    break\n",
    "                right_num = hash_map[right_num]\n",
    "            nums1[i] = right_num\n",
    "        return nums1\n",
    "    \n",
    "    def nextGreaterElementI(self, nums1, nums2):\n",
    "        hash_map = {}\n",
    "        for i in range(len(nums2)):\n",
    "            max_right = -1\n",
    "            for j in range(i + 1, len(nums2)):\n",
    "                if nums2[j] > nums2[i]:\n",
    "                    max_right = nums2[j]\n",
    "                    break\n",
    "            hash_map[nums2[i]] = max_right\n",
    "        for i in range(len(nums1)):\n",
    "            nums1[i] = hash_map[nums1[i]]\n",
    "        return nums1\n",
    "    \n",
    "    # def nextGreaterElement(self, nums1, nums2):\n",
    "    #     pass\n",
    "                    \n",
    "        \n",
    "\n",
    "\n",
    "s = Solution()\n",
    "\n",
    "print(s.nextGreaterElement([4, 1, 2], [1, 3, 4, 2]))\n",
    "print(s.nextGreaterElement([2, 4], [1, 2, 3, 4]))\n",
    "print(s.nextGreaterElement([1, 3, 5, 2, 4], [6, 5, 4, 3, 2, 1, 7]))\n"
   ]
  },
  {
   "cell_type": "code",
   "execution_count": null,
   "metadata": {},
   "outputs": [],
   "source": []
  }
 ],
 "metadata": {
  "kernelspec": {
   "display_name": "Python 3",
   "language": "python",
   "name": "python3"
  },
  "language_info": {
   "codemirror_mode": {
    "name": "ipython",
    "version": 3
   },
   "file_extension": ".py",
   "mimetype": "text/x-python",
   "name": "python",
   "nbconvert_exporter": "python",
   "pygments_lexer": "ipython3",
   "version": "3.10.2"
  },
  "orig_nbformat": 4
 },
 "nbformat": 4,
 "nbformat_minor": 2
}
