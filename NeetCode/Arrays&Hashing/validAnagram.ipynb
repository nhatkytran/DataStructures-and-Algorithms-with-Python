{
 "cells": [
  {
   "cell_type": "code",
   "execution_count": 10,
   "metadata": {},
   "outputs": [
    {
     "name": "stdout",
     "output_type": "stream",
     "text": [
      "True\n",
      "False\n",
      "False\n"
     ]
    }
   ],
   "source": [
    "class Solution:\n",
    "    def isAnagram(self, s, t):\n",
    "        if len(s) != len(t):\n",
    "            return False\n",
    "        cache1 = {}\n",
    "        cache2 = {}\n",
    "        for letter in s:\n",
    "            cache1[letter] = cache1.get(letter, 0) + 1\n",
    "        for letter in t:\n",
    "            cache2[letter] = cache2.get(letter, 0) + 1\n",
    "        if len(cache1) != len(cache2):\n",
    "            return False\n",
    "        for letter in cache1:\n",
    "            try:\n",
    "                if cache1[letter] != cache2[letter]:\n",
    "                    return False\n",
    "            except KeyError:\n",
    "                return False\n",
    "        return True\n",
    "\n",
    "    def isAnagram(self, s, t):\n",
    "        if len(s) != len(t):\n",
    "            return False\n",
    "        s = sorted(s)\n",
    "        t = sorted(t)\n",
    "        for s_letter, t_letter in zip(s, t):\n",
    "            if s_letter != t_letter:\n",
    "                return False\n",
    "        return True\n",
    "\n",
    "    def isAnagram(self, s, t):\n",
    "        if len(s) != len(t):\n",
    "            return False\n",
    "        return sorted(s) == sorted(t)\n",
    "\n",
    "    def isAnagram(self, s, t):\n",
    "        if len(s) != len(t):\n",
    "            return False\n",
    "        cache1 = {}\n",
    "        cache2 = {}\n",
    "        for s_letter, t_letter in zip(s, t):\n",
    "            cache1[s_letter] = cache1.get(s_letter, 0) + 1\n",
    "            cache2[t_letter] = cache2.get(t_letter, 0) + 1\n",
    "        return cache1 == cache2\n",
    "\n",
    "    def isAnagram(self, s, t):\n",
    "        if len(s) != len(t):\n",
    "            return False\n",
    "        cache = {}\n",
    "        for letter in s:\n",
    "            cache[letter] = cache.get(letter, 0) + 1\n",
    "        for letter in t:\n",
    "            try:\n",
    "                cache[letter] -= 1\n",
    "                if cache[letter] < 0:\n",
    "                    return False\n",
    "            except KeyError:\n",
    "                return False\n",
    "        return True\n",
    "\n",
    "\n",
    "\n",
    "solution = Solution()\n",
    "\n",
    "s = 'anagram'\n",
    "t = 'nagaram'\n",
    "print(solution.isAnagram(s, t))\n",
    "\n",
    "s = 'anagram'\n",
    "t = 'nagarnm'\n",
    "print(solution.isAnagram(s, t))\n",
    "\n",
    "s = 'anagramx'\n",
    "t = 'nagaramy'\n",
    "print(solution.isAnagram(s, t))\n",
    "\n"
   ]
  },
  {
   "cell_type": "code",
   "execution_count": null,
   "metadata": {},
   "outputs": [],
   "source": []
  }
 ],
 "metadata": {
  "kernelspec": {
   "display_name": "Python 3",
   "language": "python",
   "name": "python3"
  },
  "language_info": {
   "codemirror_mode": {
    "name": "ipython",
    "version": 3
   },
   "file_extension": ".py",
   "mimetype": "text/x-python",
   "name": "python",
   "nbconvert_exporter": "python",
   "pygments_lexer": "ipython3",
   "version": "3.9.5 (v3.9.5:0a7dcbdb13, May  3 2021, 13:17:02) \n[Clang 6.0 (clang-600.0.57)]"
  },
  "orig_nbformat": 4,
  "vscode": {
   "interpreter": {
    "hash": "b8bdd4e700647ba2b08c59e5df8b7da1dcf50a218bcd4c1bcd9b3dc92e8788e5"
   }
  }
 },
 "nbformat": 4,
 "nbformat_minor": 2
}
