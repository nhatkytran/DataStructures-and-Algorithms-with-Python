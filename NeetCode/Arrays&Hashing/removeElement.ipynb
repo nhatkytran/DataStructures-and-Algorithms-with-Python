{
 "cells": [
  {
   "cell_type": "code",
   "execution_count": 18,
   "metadata": {},
   "outputs": [
    {
     "name": "stdout",
     "output_type": "stream",
     "text": [
      "[2, 2]\n",
      "2\n",
      "[0, 1, 3, 0, 4]\n",
      "5\n"
     ]
    }
   ],
   "source": [
    "class Solution:\n",
    "    def removeElement(self, nums, val):\n",
    "        pointer = 0\n",
    "        for num in nums:\n",
    "            if num != val:\n",
    "                nums[pointer] = num\n",
    "                pointer += 1\n",
    "        return pointer\n",
    "    \n",
    "    def removeElement(self, nums, val):\n",
    "        start = 0\n",
    "        end = len(nums) - 1\n",
    "        while start <= end:\n",
    "            if nums[start] == val:\n",
    "                nums[start], nums[end] = nums[end], nums[start]\n",
    "                end -= 1\n",
    "            else:\n",
    "                start += 1\n",
    "        return start\n",
    "    \n",
    "    def removeElement(self, nums, val):\n",
    "        for _ in range(nums.count(val)):  # loop how many val is in the list\n",
    "            nums.remove(val)  # remove each val one by one\n",
    "        return len(nums)  # return len of nums\n",
    "\n",
    "\n",
    "s = Solution()\n",
    "\n",
    "\n",
    "print(s.removeElement([3, 2, 2, 3], 3))\n",
    "print(s.removeElement([0, 1, 2, 2, 3, 0, 4, 2], 2))\n"
   ]
  },
  {
   "cell_type": "code",
   "execution_count": null,
   "metadata": {},
   "outputs": [],
   "source": []
  }
 ],
 "metadata": {
  "kernelspec": {
   "display_name": "Python 3",
   "language": "python",
   "name": "python3"
  },
  "language_info": {
   "codemirror_mode": {
    "name": "ipython",
    "version": 3
   },
   "file_extension": ".py",
   "mimetype": "text/x-python",
   "name": "python",
   "nbconvert_exporter": "python",
   "pygments_lexer": "ipython3",
   "version": "3.10.2"
  },
  "orig_nbformat": 4
 },
 "nbformat": 4,
 "nbformat_minor": 2
}
