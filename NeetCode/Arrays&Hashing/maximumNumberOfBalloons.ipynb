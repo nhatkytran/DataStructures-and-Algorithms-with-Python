{
 "cells": [
  {
   "cell_type": "code",
   "execution_count": 19,
   "metadata": {},
   "outputs": [
    {
     "name": "stdout",
     "output_type": "stream",
     "text": [
      "1\n",
      "2\n",
      "0\n",
      "0\n"
     ]
    }
   ],
   "source": [
    "class Solution:\n",
    "    def maxNumberOfBalloons(self, text):\n",
    "        hash_map = {\n",
    "            'b': 0,\n",
    "            'a': 0,\n",
    "            'l': 0,\n",
    "            'o': 0,\n",
    "            'n': 0\n",
    "        }\n",
    "        for letter in text:\n",
    "            if letter in hash_map:\n",
    "                hash_map[letter] += 1\n",
    "        hash_map['l'] = hash_map['l'] // 2\n",
    "        hash_map['o'] = hash_map['o'] // 2\n",
    "        return min(hash_map.values())\n",
    "    \n",
    "    def maxNumberOfBalloons(self, text):\n",
    "        hash_balloon = {}\n",
    "        hash_text = {}\n",
    "        for letter in 'balloon':\n",
    "            hash_balloon[letter] = hash_balloon.get(letter, 0) + 1\n",
    "        for letter in text:\n",
    "            hash_text[letter] = hash_text.get(letter, 0) + 1\n",
    "        try:\n",
    "            return min(hash_text[letter] // hash_balloon[letter] for letter in hash_balloon)\n",
    "        except KeyError:\n",
    "            return 0\n",
    "\n",
    "\n",
    "s = Solution()\n",
    "\n",
    "print(s.maxNumberOfBalloons(\"nlaebolko\"))\n",
    "print(s.maxNumberOfBalloons(\"loonbalxballpoon\"))\n",
    "print(s.maxNumberOfBalloons(\"leetcode\"))\n",
    "print(s.maxNumberOfBalloons(\"balon\"))\n"
   ]
  },
  {
   "cell_type": "code",
   "execution_count": null,
   "metadata": {},
   "outputs": [],
   "source": []
  }
 ],
 "metadata": {
  "kernelspec": {
   "display_name": "Python 3",
   "language": "python",
   "name": "python3"
  },
  "language_info": {
   "codemirror_mode": {
    "name": "ipython",
    "version": 3
   },
   "file_extension": ".py",
   "mimetype": "text/x-python",
   "name": "python",
   "nbconvert_exporter": "python",
   "pygments_lexer": "ipython3",
   "version": "3.10.2"
  },
  "orig_nbformat": 4
 },
 "nbformat": 4,
 "nbformat_minor": 2
}
