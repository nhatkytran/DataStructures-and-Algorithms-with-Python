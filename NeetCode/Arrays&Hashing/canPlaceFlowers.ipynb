{
 "cells": [
  {
   "cell_type": "code",
   "execution_count": 32,
   "metadata": {},
   "outputs": [
    {
     "name": "stdout",
     "output_type": "stream",
     "text": [
      "True\n",
      "False\n",
      "True\n",
      "True\n",
      "True\n",
      "False\n",
      "True\n",
      "True\n"
     ]
    }
   ],
   "source": [
    "class Solution:\n",
    "    def canPlaceFlowers(self, flowerbed, n):\n",
    "        if n == 0:\n",
    "            return True\n",
    "        if len(flowerbed) == 1:\n",
    "            return True if flowerbed[0] == 0 else False\n",
    "        for i in range(len(flowerbed)):\n",
    "            if n == 0: return True\n",
    "            if flowerbed[i] == 1:\n",
    "                continue\n",
    "            if i == 0:\n",
    "                if flowerbed[i + 1] == 1:\n",
    "                    continue\n",
    "            elif i == len(flowerbed) - 1:\n",
    "                if flowerbed[i - 1] == 1:\n",
    "                    continue\n",
    "            elif flowerbed[i + 1] == 1 or flowerbed[i - 1] == 1:\n",
    "                continue\n",
    "            flowerbed[i] = 1\n",
    "            n -= 1\n",
    "        return True if n == 0 else False\n",
    "\n",
    "s = Solution()\n",
    "\n",
    "print(s.canPlaceFlowers([1, 0, 0, 0, 1], 1))\n",
    "print(s.canPlaceFlowers([1, 0, 0, 0, 1], 2))\n",
    "print(s.canPlaceFlowers([0, 0, 1, 0, 0], 2))\n",
    "print(s.canPlaceFlowers([1, 0, 0, 0, 1, 0, 0], 2))\n",
    "print(s.canPlaceFlowers([0, 1, 0, 1, 0, 1, 0, 0], 1))\n",
    "print(s.canPlaceFlowers([0, 1, 0], 1))\n",
    "print(s.canPlaceFlowers([0], 1))\n",
    "print(s.canPlaceFlowers([0], 0))\n"
   ]
  },
  {
   "cell_type": "code",
   "execution_count": null,
   "metadata": {},
   "outputs": [],
   "source": []
  }
 ],
 "metadata": {
  "kernelspec": {
   "display_name": "Python 3",
   "language": "python",
   "name": "python3"
  },
  "language_info": {
   "codemirror_mode": {
    "name": "ipython",
    "version": 3
   },
   "file_extension": ".py",
   "mimetype": "text/x-python",
   "name": "python",
   "nbconvert_exporter": "python",
   "pygments_lexer": "ipython3",
   "version": "3.10.2"
  },
  "orig_nbformat": 4
 },
 "nbformat": 4,
 "nbformat_minor": 2
}
