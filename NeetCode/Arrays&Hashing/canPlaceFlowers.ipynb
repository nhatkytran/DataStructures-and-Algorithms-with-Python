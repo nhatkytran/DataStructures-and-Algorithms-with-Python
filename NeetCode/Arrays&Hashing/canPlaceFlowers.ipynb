{
 "cells": [
  {
   "cell_type": "code",
   "execution_count": 22,
   "metadata": {},
   "outputs": [
    {
     "name": "stdout",
     "output_type": "stream",
     "text": [
      "True\n"
     ]
    }
   ],
   "source": [
    "class Solution:\n",
    "    def canPlaceFlowers(self, flowerbed, n):\n",
    "        if n == 0:\n",
    "            return True\n",
    "        if len(flowerbed) == 1 and n == 1:\n",
    "            return True if flowerbed[0] == 0 else False\n",
    "        for i in range(len(flowerbed)):\n",
    "            if n == 0: return True\n",
    "            if flowerbed[i] == 1:\n",
    "                continue\n",
    "            if i == 0:\n",
    "                if flowerbed[i + 1] == 1:\n",
    "                    continue\n",
    "            elif i == len(flowerbed) - 1:\n",
    "                if flowerbed[i - 1] == 1:\n",
    "                    continue\n",
    "            elif flowerbed[i + 1] == 1 or flowerbed[i - 1] == 1:\n",
    "                continue\n",
    "            flowerbed[i] = 1\n",
    "            n -= 1\n",
    "        return True if n == 0 else False\n",
    "    \n",
    "    def canPlaceFlowers(self, flowerbed, n):\n",
    "        if n == 0: return True\n",
    "        for i in range(len(flowerbed)):\n",
    "            if flowerbed[i] == 0 and (i == 0 or flowerbed[i - 1] == 0) and (i == len(flowerbed) - 1 or flowerbed[i + 1] == 0):  # can place?\n",
    "                n -= 1\n",
    "                if n == 0: return True\n",
    "                flowerbed[i] = 1  # palce!\n",
    "        return False\n",
    "    \n",
    "    def canPlaceFlowers(self, flowerbed, n):\n",
    "        if n == 0:\n",
    "            return True\n",
    "        planted = 0 # 0 0 0 --> can plant flower\n",
    "        count = 1 # Instead append 0 at head\n",
    "        flowerbed.append(0)\n",
    "        for f in flowerbed:\n",
    "            if f == 0:\n",
    "                count += 1\n",
    "                if count == 3:\n",
    "                    planted += 1\n",
    "                    count = 1 # [1, 0, 0, 0, 0, 0, 1]\n",
    "            if f == 1:\n",
    "                count = 0\n",
    "        return planted >= n # Greater for the case that flowerbed has more available spots than n\n",
    "    \n",
    "    def canPlaceFowers(self, flowerbed, n):\n",
    "        zeros, ans = 1, 0 # Easier handling of prefixes, just initialize zeros to 1\n",
    "        for f in flowerbed:\n",
    "            if f == 0:\n",
    "                zeros += 1\n",
    "            if f == 1:\n",
    "                ans += (zeros - 1) // 2\n",
    "                zeros = 0\n",
    "        return ans + (zeros // 2) >= n # Note that suffix zeros need not -1\n",
    "                \n",
    "\n",
    "s = Solution()\n",
    "\n",
    "# print(s.canPlaceFlowers([1, 0, 0, 0, 1], 1))\n",
    "# print(s.canPlaceFlowers([1, 0, 0, 0, 1], 2))\n",
    "# print(s.canPlaceFlowers([0, 0, 1, 0, 0], 2))\n",
    "# print(s.canPlaceFlowers([1, 0, 0, 0, 1, 0, 0], 2))\n",
    "# print(s.canPlaceFlowers([0, 1, 0, 1, 0, 1, 0, 0], 1))\n",
    "# print(s.canPlaceFlowers([0, 1, 0], 1))\n",
    "# print(s.canPlaceFlowers([0], 1))\n",
    "# print(s.canPlaceFlowers([0], 0))\n",
    "print(s.canPlaceFlowers([1, 0, 0, 0, 0, 0, 1], 2))\n",
    "# print(s.canPlaceFlowers([0, 0, 0, 0, 0, 0, 1], 3))\n"
   ]
  },
  {
   "cell_type": "code",
   "execution_count": null,
   "metadata": {},
   "outputs": [],
   "source": []
  }
 ],
 "metadata": {
  "kernelspec": {
   "display_name": "Python 3",
   "language": "python",
   "name": "python3"
  },
  "language_info": {
   "codemirror_mode": {
    "name": "ipython",
    "version": 3
   },
   "file_extension": ".py",
   "mimetype": "text/x-python",
   "name": "python",
   "nbconvert_exporter": "python",
   "pygments_lexer": "ipython3",
   "version": "3.10.2"
  },
  "orig_nbformat": 4
 },
 "nbformat": 4,
 "nbformat_minor": 2
}
