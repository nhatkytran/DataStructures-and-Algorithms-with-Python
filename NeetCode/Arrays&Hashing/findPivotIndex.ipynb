{
 "cells": [
  {
   "cell_type": "code",
   "execution_count": 11,
   "metadata": {},
   "outputs": [
    {
     "name": "stdout",
     "output_type": "stream",
     "text": [
      "3\n",
      "-1\n",
      "0\n",
      "-1\n",
      "2\n",
      "0\n"
     ]
    }
   ],
   "source": [
    "class Solution:\n",
    "    def pivotIndex(self, nums):\n",
    "        for i in range(len(nums)):\n",
    "            left_total = 0\n",
    "            right_total = 0\n",
    "            for j in range(i):\n",
    "                left_total += nums[j]\n",
    "            for j in range(i + 1, len(nums)):\n",
    "                right_total += nums[j]\n",
    "            if left_total == right_total:\n",
    "                return i\n",
    "        return -1\n",
    "    \n",
    "    def pivotIndex(self, nums):\n",
    "        left_total = 0\n",
    "        right_total = sum(nums[i] for i in range(1, len(nums)))\n",
    "        if left_total == right_total:\n",
    "            return 0\n",
    "        for i in range(1, len(nums)):\n",
    "            left_total += nums[i - 1]\n",
    "            right_total -= nums[i] \n",
    "            if left_total == right_total:\n",
    "                return i\n",
    "        return -1\n",
    "    \n",
    "    def pivotIndex(self, nums):\n",
    "        def inner(mid_point, left_total, right_total):\n",
    "            if left_total == right_total:\n",
    "                return mid_point\n",
    "            if mid_point == len(nums) - 1:\n",
    "                return -1\n",
    "            return inner(mid_point + 1, left_total + nums[mid_point], right_total - nums[mid_point + 1])\n",
    "        return inner(0, 0, sum(nums[i] for i in range(1, len(nums))))\n",
    "    \n",
    "    def pivotIndex(self, nums):\n",
    "        total = sum(nums)\n",
    "        left_total = 0\n",
    "        for i in range(len(nums)):\n",
    "            right_total = total - nums[i] - left_total\n",
    "            if left_total == right_total:\n",
    "                return i\n",
    "            left_total += nums[i]\n",
    "        return -1\n",
    "\n",
    "s = Solution()\n",
    "\n",
    "print(s.pivotIndex([1, 7, 3, 6, 5, 6]))\n",
    "print(s.pivotIndex([1, 2, 3]))\n",
    "print(s.pivotIndex([2, 1, -1]))\n",
    "print(s.pivotIndex([-1, -1, -1, -1, -1, -1]))\n",
    "print(s.pivotIndex([-1, -1, -1, -1, -1, 0]))\n",
    "print(s.pivotIndex([-1, -1, -1, 0, 1, 1]))\n"
   ]
  },
  {
   "cell_type": "code",
   "execution_count": null,
   "metadata": {},
   "outputs": [],
   "source": []
  }
 ],
 "metadata": {
  "kernelspec": {
   "display_name": "Python 3",
   "language": "python",
   "name": "python3"
  },
  "language_info": {
   "codemirror_mode": {
    "name": "ipython",
    "version": 3
   },
   "file_extension": ".py",
   "mimetype": "text/x-python",
   "name": "python",
   "nbconvert_exporter": "python",
   "pygments_lexer": "ipython3",
   "version": "3.10.2"
  },
  "orig_nbformat": 4
 },
 "nbformat": 4,
 "nbformat_minor": 2
}
