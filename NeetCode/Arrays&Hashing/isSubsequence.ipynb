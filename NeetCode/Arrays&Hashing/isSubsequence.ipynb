{
 "cells": [
  {
   "cell_type": "code",
   "execution_count": 8,
   "metadata": {},
   "outputs": [
    {
     "name": "stdout",
     "output_type": "stream",
     "text": [
      "True\n",
      "False\n",
      "False\n"
     ]
    }
   ],
   "source": [
    "class Solution(object):\n",
    "    def isSubsequence(self, s, t):\n",
    "        check_position = 0\n",
    "        for letter in s:\n",
    "            try:\n",
    "                while letter != t[check_position]:\n",
    "                    check_position += 1\n",
    "                check_position += 1\n",
    "            except IndexError:\n",
    "                return False\n",
    "        return True\n",
    "\n",
    "    def isSubsequence(self, s, t):\n",
    "        i, j = 0, 0\n",
    "        while i < len(s):\n",
    "            try:\n",
    "                if s[i] == t[j]:\n",
    "                    i += 1\n",
    "                j += 1\n",
    "            except IndexError:\n",
    "                return False\n",
    "        return True\n",
    "\n",
    "    def isSubsequence(self, s, t):\n",
    "        i, j = 0, 0\n",
    "        while i < len(s) and j < len(t):\n",
    "            if s[i] == t[j]:\n",
    "                i += 1\n",
    "            j += 1\n",
    "        return i == len(s)\n",
    "\n",
    "\n",
    "s = Solution()\n",
    "\n",
    "print(s.isSubsequence('abc', 'ahbgdc'))\n",
    "print(s.isSubsequence('axc', 'ahbgdc'))\n",
    "print(s.isSubsequence('aaaaaa', 'bbaaaa'))\n"
   ]
  },
  {
   "cell_type": "code",
   "execution_count": null,
   "metadata": {},
   "outputs": [],
   "source": []
  }
 ],
 "metadata": {
  "kernelspec": {
   "display_name": "Python 3",
   "language": "python",
   "name": "python3"
  },
  "language_info": {
   "codemirror_mode": {
    "name": "ipython",
    "version": 3
   },
   "file_extension": ".py",
   "mimetype": "text/x-python",
   "name": "python",
   "nbconvert_exporter": "python",
   "pygments_lexer": "ipython3",
   "version": "3.9.5 (v3.9.5:0a7dcbdb13, May  3 2021, 13:17:02) \n[Clang 6.0 (clang-600.0.57)]"
  },
  "orig_nbformat": 4,
  "vscode": {
   "interpreter": {
    "hash": "b8bdd4e700647ba2b08c59e5df8b7da1dcf50a218bcd4c1bcd9b3dc92e8788e5"
   }
  }
 },
 "nbformat": 4,
 "nbformat_minor": 2
}
