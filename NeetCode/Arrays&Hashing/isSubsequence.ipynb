{
 "cells": [
  {
   "cell_type": "code",
   "execution_count": 10,
   "metadata": {},
   "outputs": [
    {
     "name": "stdout",
     "output_type": "stream",
     "text": [
      "True\n",
      "False\n",
      "False\n"
     ]
    }
   ],
   "source": [
    "class Solution(object):\n",
    "    def isSubsequence(self, s, t):\n",
    "        check_position = 0\n",
    "        for letter in s:\n",
    "            try:\n",
    "                while letter != t[check_position]:\n",
    "                    check_position += 1\n",
    "                check_position += 1\n",
    "            except IndexError:\n",
    "                return False\n",
    "        return True\n",
    "\n",
    "\n",
    "s = Solution()\n",
    "\n",
    "print(s.isSubsequence('abc', 'ahbgdc'))\n",
    "print(s.isSubsequence('axc', 'ahbgdc'))\n",
    "print(s.isSubsequence('aaaaaa', 'bbaaaa'))\n"
   ]
  },
  {
   "cell_type": "code",
   "execution_count": null,
   "metadata": {},
   "outputs": [],
   "source": []
  }
 ],
 "metadata": {
  "kernelspec": {
   "display_name": "Python 3",
   "language": "python",
   "name": "python3"
  },
  "language_info": {
   "codemirror_mode": {
    "name": "ipython",
    "version": 3
   },
   "file_extension": ".py",
   "mimetype": "text/x-python",
   "name": "python",
   "nbconvert_exporter": "python",
   "pygments_lexer": "ipython3",
   "version": "3.9.5"
  },
  "orig_nbformat": 4,
  "vscode": {
   "interpreter": {
    "hash": "b8bdd4e700647ba2b08c59e5df8b7da1dcf50a218bcd4c1bcd9b3dc92e8788e5"
   }
  }
 },
 "nbformat": 4,
 "nbformat_minor": 2
}
