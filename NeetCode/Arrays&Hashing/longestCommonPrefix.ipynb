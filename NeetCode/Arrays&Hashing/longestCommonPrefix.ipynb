{
 "cells": [
  {
   "cell_type": "code",
   "execution_count": 8,
   "metadata": {},
   "outputs": [
    {
     "name": "stdout",
     "output_type": "stream",
     "text": [
      "fl\n"
     ]
    }
   ],
   "source": [
    "class Solution:\n",
    "    def longestCommonPrefix(self, strs):\n",
    "        result = ''\n",
    "        index = 0\n",
    "        while True:\n",
    "            try:\n",
    "                common_letter: str = None\n",
    "                for word in strs:\n",
    "                    if common_letter is None:\n",
    "                        common_letter = word[index]\n",
    "                    elif common_letter != word[index]:\n",
    "                        raise ValueError\n",
    "                result = f'{result}{common_letter}'\n",
    "                index += 1\n",
    "            except (IndexError, ValueError):\n",
    "                return result\n",
    "\n",
    "    def longestCommonPrefix(self, strs):\n",
    "        result = ''\n",
    "        for letters in zip(*strs):\n",
    "            common_letter = ''\n",
    "            for letter in letters:\n",
    "                if not common_letter:\n",
    "                    common_letter = letter\n",
    "                elif letter != common_letter:\n",
    "                    return result\n",
    "            result = f'{result}{common_letter}'\n",
    "        return result\n",
    "\n",
    "    # https://stackoverflow.com/questions/4856717/javascript-equivalent-of-pythons-zip-function\n",
    "\n",
    "    def longestCommonPrefix(self, strs):\n",
    "        result = []\n",
    "        for letters in zip(*strs):\n",
    "            lts = set(letters)\n",
    "            if len(lts) == 1: result.append(*lts)\n",
    "            else: break\n",
    "        return ''.join(result)\n",
    "\n",
    "    def longestCommonPrefix(self, strs):\n",
    "        result = ''\n",
    "        for i in range(len(strs[0])):\n",
    "            for s in strs:\n",
    "                if i == len(s) or s[i] != strs[0][i]:\n",
    "                    return result\n",
    "            result = f'{result}{strs[0][i]}'\n",
    "        return result\n",
    "\n",
    "\n",
    "s = Solution()\n",
    "\n",
    "print(s.longestCommonPrefix(['flower', 'flow', 'flight']))\n",
    "# print(s.longestCommonPrefix(['dog', 'racecar', 'car']))\n"
   ]
  },
  {
   "cell_type": "code",
   "execution_count": null,
   "metadata": {},
   "outputs": [],
   "source": []
  }
 ],
 "metadata": {
  "kernelspec": {
   "display_name": "Python 3",
   "language": "python",
   "name": "python3"
  },
  "language_info": {
   "codemirror_mode": {
    "name": "ipython",
    "version": 3
   },
   "file_extension": ".py",
   "mimetype": "text/x-python",
   "name": "python",
   "nbconvert_exporter": "python",
   "pygments_lexer": "ipython3",
   "version": "3.9.5"
  },
  "orig_nbformat": 4,
  "vscode": {
   "interpreter": {
    "hash": "b8bdd4e700647ba2b08c59e5df8b7da1dcf50a218bcd4c1bcd9b3dc92e8788e5"
   }
  }
 },
 "nbformat": 4,
 "nbformat_minor": 2
}
