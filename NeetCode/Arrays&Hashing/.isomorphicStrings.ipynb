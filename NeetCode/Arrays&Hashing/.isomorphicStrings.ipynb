{
 "cells": [
  {
   "cell_type": "code",
   "execution_count": 4,
   "metadata": {},
   "outputs": [
    {
     "name": "stdout",
     "output_type": "stream",
     "text": [
      "True\n",
      "False\n",
      "True\n",
      "False\n"
     ]
    }
   ],
   "source": [
    "class Solution:\n",
    "    def isIsomorphic(self, s, t):\n",
    "        if len(s) != len(t):\n",
    "            return False\n",
    "        hash_map_s = {}\n",
    "        for i in range(len(s)):\n",
    "            if s[i] not in hash_map_s:\n",
    "                hash_map_s[s[i]] = t[i]\n",
    "            else:\n",
    "                if hash_map_s[s[i]] != t[i]:\n",
    "                    return False\n",
    "        hash_map_t = {}\n",
    "        for i in range(len(t)):\n",
    "            if t[i] not in hash_map_t:\n",
    "                hash_map_t[t[i]] = s[i]\n",
    "            else:\n",
    "                if hash_map_t[t[i]] != s[i]:\n",
    "                    return False\n",
    "        return True\n",
    "\n",
    "    def isIsomorphic(self, s, t):\n",
    "        if len(s) != len(t):\n",
    "            return False\n",
    "        hash_map_s = {}\n",
    "        hash_map_t = {}\n",
    "        for i in range(len(s)):\n",
    "            if s[i] not in hash_map_s:\n",
    "                hash_map_s[s[i]] = t[i]\n",
    "            else:\n",
    "                if hash_map_s[s[i]] != t[i]:\n",
    "                    return False\n",
    "            if t[i] not in hash_map_t:\n",
    "                hash_map_t[t[i]] = s[i]\n",
    "            else:\n",
    "                if hash_map_t[t[i]] != s[i]:\n",
    "                    return False\n",
    "        return True\n",
    "\n",
    "    def isIsomorphic(self, s, t):\n",
    "        return len(set(zip(s, t))) == len(set(s)) and len(set(zip(t, s))) == len(set(t))\n",
    "\n",
    "\n",
    "\n",
    "s = Solution()\n",
    "\n",
    "print(s.isIsomorphic(\"egg\", \"add\"))\n",
    "print(s.isIsomorphic(\"foo\", \"bar\"))\n",
    "print(s.isIsomorphic(\"paper\", \"title\"))\n",
    "print(s.isIsomorphic(\"badc\", \"baba\"))\n"
   ]
  },
  {
   "cell_type": "code",
   "execution_count": null,
   "metadata": {},
   "outputs": [],
   "source": []
  }
 ],
 "metadata": {
  "kernelspec": {
   "display_name": "Python 3",
   "language": "python",
   "name": "python3"
  },
  "language_info": {
   "codemirror_mode": {
    "name": "ipython",
    "version": 3
   },
   "file_extension": ".py",
   "mimetype": "text/x-python",
   "name": "python",
   "nbconvert_exporter": "python",
   "pygments_lexer": "ipython3",
   "version": "3.10.2"
  },
  "orig_nbformat": 4
 },
 "nbformat": 4,
 "nbformat_minor": 2
}
