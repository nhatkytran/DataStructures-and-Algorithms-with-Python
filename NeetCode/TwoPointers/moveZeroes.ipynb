{
 "cells": [
  {
   "cell_type": "code",
   "execution_count": 19,
   "metadata": {},
   "outputs": [
    {
     "name": "stdout",
     "output_type": "stream",
     "text": [
      "[1, 3, 12, 0, 0]\n",
      "[0]\n",
      "[1, 0, 0]\n",
      "[4, 2, 4, 3, 5, 1, 0, 0, 0, 0]\n"
     ]
    }
   ],
   "source": [
    "class Solution:\n",
    "    def moveZeros(self, nums):\n",
    "        left, right = 0, len(nums) - 1\n",
    "        while left < right:\n",
    "            if nums[left] == 0:\n",
    "                for i in range(left, right):\n",
    "                    nums[i], nums[i + 1] = nums[i + 1], nums[i]\n",
    "                right -= 1\n",
    "            else:\n",
    "                left += 1\n",
    "        return nums\n",
    "    \n",
    "    def moveZeros(self, nums):\n",
    "        nums_assist = [None] * len(nums)\n",
    "        left, right = 0, len(nums) - 1\n",
    "        for num in nums:\n",
    "            if num == 0:\n",
    "                nums_assist[right] = num\n",
    "                right -= 1\n",
    "            else:\n",
    "                nums_assist[left] = num\n",
    "                left += 1\n",
    "        for i in range(len(nums)):\n",
    "            nums[i] = nums_assist[i]\n",
    "        return nums\n",
    "    \n",
    "    def moveZeros(self, nums):\n",
    "        start_nums = []\n",
    "        last_nums = []\n",
    "        left, right = 0, len(nums) - 1\n",
    "        while left < right:\n",
    "            if nums[left] == 0:\n",
    "                if nums[right] != 0:\n",
    "                    last_nums.append(nums[right])\n",
    "                    nums[right] = 0\n",
    "                right -= 1\n",
    "            else:\n",
    "                start_nums.append(nums[left])\n",
    "                left += 1\n",
    "        order_nums = start_nums + last_nums[::-1]\n",
    "        for i in range(len(order_nums)):\n",
    "            nums[i] = order_nums[i]\n",
    "        return nums\n",
    "\n",
    "    def moveZeros(self, nums):\n",
    "        anchor = 0\n",
    "        for explorer in range(len(nums)):\n",
    "            if nums[explorer] != 0:\n",
    "                nums[anchor], nums[explorer] = nums[explorer], nums[anchor]\n",
    "                anchor += 1\n",
    "        return nums\n",
    "    \n",
    "    def moveZeros(self, nums):\n",
    "        start = 0\n",
    "        for i in range(len(nums)):\n",
    "            if nums[i] != 0:\n",
    "                nums[start], nums[i] = nums[i], nums[start]\n",
    "                start += 1\n",
    "        return nums\n",
    "    \n",
    "    def moveZeros(self, nums):\n",
    "        start = 0\n",
    "        for i in range(len(nums)):\n",
    "            if nums[i] != 0 and nums[start] == 0:\n",
    "                nums[start], nums[i] = nums[i], nums[start]\n",
    "            if nums[start] != 0:\n",
    "                start += 1\n",
    "        return nums\n",
    "\n",
    "\n",
    "s = Solution()\n",
    "\n",
    "print(s.moveZeros([0, 1, 0, 3, 12]))\n",
    "print(s.moveZeros([0]))\n",
    "print(s.moveZeros([0, 1, 0]))\n",
    "print(s.moveZeros([4,2,4,0,0,3,0,5,1,0]))\n"
   ]
  },
  {
   "cell_type": "code",
   "execution_count": null,
   "metadata": {},
   "outputs": [],
   "source": []
  }
 ],
 "metadata": {
  "kernelspec": {
   "display_name": "Python 3",
   "language": "python",
   "name": "python3"
  },
  "language_info": {
   "codemirror_mode": {
    "name": "ipython",
    "version": 3
   },
   "file_extension": ".py",
   "mimetype": "text/x-python",
   "name": "python",
   "nbconvert_exporter": "python",
   "pygments_lexer": "ipython3",
   "version": "3.10.2"
  },
  "orig_nbformat": 4
 },
 "nbformat": 4,
 "nbformat_minor": 2
}
