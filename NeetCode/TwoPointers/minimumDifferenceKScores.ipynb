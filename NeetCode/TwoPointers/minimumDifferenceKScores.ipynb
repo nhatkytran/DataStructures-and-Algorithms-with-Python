{
 "cells": [
  {
   "cell_type": "code",
   "execution_count": 3,
   "metadata": {},
   "outputs": [
    {
     "name": "stdout",
     "output_type": "stream",
     "text": [
      "0\n",
      "2\n"
     ]
    }
   ],
   "source": [
    "class Solution:\n",
    "    # Something wrong --> Don't understand the problem\n",
    "    def minimumDifference(self, nums, k):\n",
    "        if k == 1:\n",
    "            return 0\n",
    "        nums.sort()\n",
    "        min_value = float('inf')\n",
    "        for i in range(len(nums) - (k - 1)):\n",
    "            min_value = min(min_value, nums[i + (k - 1)] - nums[i])\n",
    "        return min_value\n",
    "        \n",
    "\n",
    "\n",
    "s = Solution()\n",
    "\n",
    "print(s.minimumDifference([90], 1))\n",
    "print(s.minimumDifference([9, 4, 1, 7], 2))\n"
   ]
  },
  {
   "cell_type": "code",
   "execution_count": null,
   "metadata": {},
   "outputs": [],
   "source": []
  }
 ],
 "metadata": {
  "kernelspec": {
   "display_name": "Python 3",
   "language": "python",
   "name": "python3"
  },
  "language_info": {
   "codemirror_mode": {
    "name": "ipython",
    "version": 3
   },
   "file_extension": ".py",
   "mimetype": "text/x-python",
   "name": "python",
   "nbconvert_exporter": "python",
   "pygments_lexer": "ipython3",
   "version": "3.10.2"
  },
  "orig_nbformat": 4
 },
 "nbformat": 4,
 "nbformat_minor": 2
}
