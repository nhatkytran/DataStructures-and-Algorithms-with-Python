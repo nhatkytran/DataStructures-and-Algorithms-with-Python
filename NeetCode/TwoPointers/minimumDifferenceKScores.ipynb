{
 "cells": [
  {
   "cell_type": "code",
   "execution_count": 9,
   "metadata": {},
   "outputs": [
    {
     "name": "stdout",
     "output_type": "stream",
     "text": [
      "0\n",
      "2\n"
     ]
    }
   ],
   "source": [
    "class Solution:\n",
    "    # Something wrong --> Don't understand the problem\n",
    "    def minimumDifference(self, nums, k):\n",
    "        if k == 1:\n",
    "            return 0\n",
    "        nums.sort()\n",
    "        min_value = float('inf')\n",
    "        for i in range(len(nums) - (k - 1)):\n",
    "            min_value = min(min_value, nums[i + (k - 1)] - nums[i])\n",
    "        # return min_value\n",
    "    \n",
    "    def minimumDifference(self, nums, k):\n",
    "        nums.sort()\n",
    "        left = 0\n",
    "        right = left + k - 1\n",
    "        min_value = float('inf')\n",
    "        while right < len(nums):\n",
    "            difference = nums[right] - nums[left]\n",
    "            if difference < min_value:\n",
    "                min_value = difference\n",
    "            left += 1\n",
    "            right += 1\n",
    "        return min_value\n",
    "    \n",
    "    def merge(self, l1, l2):\n",
    "        result = []\n",
    "        left = 0\n",
    "        right = 0\n",
    "        while left < len(l1) and right < len(l2):\n",
    "            if l1[left] < l2[right]:\n",
    "                result.append(l1[left])\n",
    "                left += 1\n",
    "            else:\n",
    "                result.append(l2[right])\n",
    "                right += 1\n",
    "        result.extend(l1[left:])\n",
    "        result.extend(l2[right:])\n",
    "        return result\n",
    "    \n",
    "    def merge_sort(self, nums):\n",
    "        if len(nums) <= 1:\n",
    "            return nums\n",
    "        mid = len(nums) // 2\n",
    "        left_result = self.merge_sort(nums[:mid])\n",
    "        right_result = self.merge_sort(nums[mid:])\n",
    "        return self.merge(left_result, right_result)\n",
    "    \n",
    "    def minimumDifference(self, nums, k):\n",
    "        nums = self.merge_sort(nums)\n",
    "        left = 0\n",
    "        right = left + k - 1\n",
    "        min_value = float('inf')\n",
    "        while right < len(nums):\n",
    "            difference = nums[right] - nums[left]\n",
    "            if difference < min_value:\n",
    "                min_value = difference\n",
    "            left += 1\n",
    "            right += 1\n",
    "        return min_value\n",
    "\n",
    "\n",
    "s = Solution()\n",
    "\n",
    "print(s.minimumDifference([90], 1))\n",
    "print(s.minimumDifference([9, 4, 1, 7], 2))\n"
   ]
  },
  {
   "cell_type": "code",
   "execution_count": null,
   "metadata": {},
   "outputs": [],
   "source": []
  }
 ],
 "metadata": {
  "kernelspec": {
   "display_name": "Python 3",
   "language": "python",
   "name": "python3"
  },
  "language_info": {
   "codemirror_mode": {
    "name": "ipython",
    "version": 3
   },
   "file_extension": ".py",
   "mimetype": "text/x-python",
   "name": "python",
   "nbconvert_exporter": "python",
   "pygments_lexer": "ipython3",
   "version": "3.10.2"
  },
  "orig_nbformat": 4
 },
 "nbformat": 4,
 "nbformat_minor": 2
}
