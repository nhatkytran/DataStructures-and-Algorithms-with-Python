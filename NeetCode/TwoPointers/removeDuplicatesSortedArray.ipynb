{
 "cells": [
  {
   "cell_type": "code",
   "execution_count": 11,
   "metadata": {},
   "outputs": [
    {
     "name": "stdout",
     "output_type": "stream",
     "text": [
      "([1, 2, 2], 2)\n",
      "([0, 1, 2, 3, 4, 2, 2, 3, 3, 4], 5)\n",
      "([1], 1)\n"
     ]
    }
   ],
   "source": [
    "class Solution:\n",
    "    def removeDuplicates(self, nums):\n",
    "        hash_set = set()\n",
    "        start = 0\n",
    "        for i in range(len(nums)):\n",
    "            if nums[i] not in hash_set:\n",
    "                nums[start] = nums[i]\n",
    "                start += 1\n",
    "                hash_set.add(nums[i])\n",
    "        return len(hash_set)\n",
    "    \n",
    "    def removeDuplicates(self, nums):\n",
    "        start = 0\n",
    "        prev_num = None\n",
    "        for i in range(len(nums)):\n",
    "            if nums[i] != prev_num:\n",
    "                nums[start] = nums[i]\n",
    "                start += 1\n",
    "                prev_num = nums[i]\n",
    "        return start\n",
    "    \n",
    "    def removeDuplicates(self, nums):\n",
    "        left = 1\n",
    "        for right in range(1, len(nums)):\n",
    "            if nums[right] != nums[right - 1]:\n",
    "                nums[left] = nums[right]\n",
    "                left += 1\n",
    "        return nums, left\n",
    "    \n",
    "\n",
    "s = Solution()\n",
    "\n",
    "print(s.removeDuplicates([1, 1, 2]))\n",
    "print(s.removeDuplicates([0, 0, 1, 1, 1, 2, 2, 3, 3, 4]))\n",
    "print(s.removeDuplicates([1]))\n"
   ]
  },
  {
   "cell_type": "code",
   "execution_count": null,
   "metadata": {},
   "outputs": [],
   "source": []
  }
 ],
 "metadata": {
  "kernelspec": {
   "display_name": "Python 3",
   "language": "python",
   "name": "python3"
  },
  "language_info": {
   "codemirror_mode": {
    "name": "ipython",
    "version": 3
   },
   "file_extension": ".py",
   "mimetype": "text/x-python",
   "name": "python",
   "nbconvert_exporter": "python",
   "pygments_lexer": "ipython3",
   "version": "3.10.2"
  },
  "orig_nbformat": 4
 },
 "nbformat": 4,
 "nbformat_minor": 2
}
