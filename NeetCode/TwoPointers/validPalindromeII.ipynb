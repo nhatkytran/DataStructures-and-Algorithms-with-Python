{
 "cells": [
  {
   "cell_type": "code",
   "execution_count": 18,
   "metadata": {},
   "outputs": [
    {
     "name": "stdout",
     "output_type": "stream",
     "text": [
      "True\n",
      "True\n",
      "False\n"
     ]
    }
   ],
   "source": [
    "class Solution:\n",
    "    # Time Limit Exceeded\n",
    "    def validPalindrome(self, s: str) -> bool:\n",
    "        for i in range(len(s)):\n",
    "            left = 0\n",
    "            right = len(s) - 1\n",
    "            valid = True\n",
    "            while left < right:\n",
    "                if left == i:\n",
    "                    left += 1\n",
    "                elif right == i:\n",
    "                    right -= 1\n",
    "                elif s[left] != s[right]:\n",
    "                    valid = False\n",
    "                    break\n",
    "                else:\n",
    "                    left += 1\n",
    "                    right -= 1\n",
    "            if valid: return True\n",
    "        return False\n",
    "    \n",
    "    # Time Limit Exceeded\n",
    "    def validPalindrome(self, s: str) -> bool:\n",
    "        for i in range(len(s)):\n",
    "            letters = [s[j] for j in range(len(s)) if j != i]\n",
    "            if letters == letters[::-1]:\n",
    "                return True\n",
    "        return False\n",
    "\n",
    "\n",
    "s = Solution()\n",
    "\n",
    "print(s.validPalindrome('aba'))\n",
    "print(s.validPalindrome('abca'))\n",
    "print(s.validPalindrome('abc'))\n"
   ]
  },
  {
   "cell_type": "code",
   "execution_count": null,
   "metadata": {},
   "outputs": [],
   "source": []
  }
 ],
 "metadata": {
  "kernelspec": {
   "display_name": "Python 3",
   "language": "python",
   "name": "python3"
  },
  "language_info": {
   "codemirror_mode": {
    "name": "ipython",
    "version": 3
   },
   "file_extension": ".py",
   "mimetype": "text/x-python",
   "name": "python",
   "nbconvert_exporter": "python",
   "pygments_lexer": "ipython3",
   "version": "3.10.2"
  },
  "orig_nbformat": 4
 },
 "nbformat": 4,
 "nbformat_minor": 2
}
