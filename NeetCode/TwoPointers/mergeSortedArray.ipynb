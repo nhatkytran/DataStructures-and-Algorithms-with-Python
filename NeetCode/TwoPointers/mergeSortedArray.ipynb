{
 "cells": [
  {
   "cell_type": "code",
   "execution_count": 21,
   "metadata": {},
   "outputs": [
    {
     "name": "stdout",
     "output_type": "stream",
     "text": [
      "5\n",
      "[1, 2, 3, 4, 5, 6]\n"
     ]
    }
   ],
   "source": [
    "class Solution:\n",
    "    def partition(self, nums, left, right):\n",
    "        pivot = right - 1\n",
    "        start = left\n",
    "        for i in range(left, right - 1):\n",
    "            if nums[i] < nums[pivot]:\n",
    "                nums[start], nums[i] = nums[i], nums[start]\n",
    "                start += 1\n",
    "        nums[start], nums[pivot] = nums[pivot], nums[start]\n",
    "        return start\n",
    "    \n",
    "    def quick_sort(self, nums, left, right):\n",
    "        if not left < right:\n",
    "            return\n",
    "        pivot = self.partition(nums, left, right)\n",
    "        self.quick_sort(nums, left, pivot)\n",
    "        self.quick_sort(nums, pivot + 1, right)\n",
    "        return nums\n",
    "    \n",
    "    def merge(self, nums1, m, nums2, n):\n",
    "        for i in range(m, m + n):\n",
    "            print(i)\n",
    "            nums1[i] = nums2[i - m]\n",
    "        return self.quick_sort(nums1, 0, len(nums1))\n",
    "\n",
    "\n",
    "s = Solution()\n",
    "\n",
    "# print(s.merge([1, 2, 3, 0, 0, 0], 3, [2 ,5, 6], 3))\n",
    "print(s.merge([1, 2, 4, 5, 6, 0], 5, [3], 1))\n"
   ]
  },
  {
   "cell_type": "code",
   "execution_count": null,
   "metadata": {},
   "outputs": [],
   "source": []
  }
 ],
 "metadata": {
  "kernelspec": {
   "display_name": "Python 3",
   "language": "python",
   "name": "python3"
  },
  "language_info": {
   "codemirror_mode": {
    "name": "ipython",
    "version": 3
   },
   "file_extension": ".py",
   "mimetype": "text/x-python",
   "name": "python",
   "nbconvert_exporter": "python",
   "pygments_lexer": "ipython3",
   "version": "3.10.2"
  },
  "orig_nbformat": 4
 },
 "nbformat": 4,
 "nbformat_minor": 2
}
