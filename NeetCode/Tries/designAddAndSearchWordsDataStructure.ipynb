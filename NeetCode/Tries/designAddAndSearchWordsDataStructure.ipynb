{
 "cells": [
  {
   "cell_type": "code",
   "execution_count": 8,
   "metadata": {},
   "outputs": [],
   "source": [
    "class Node:\n",
    "    def __init__(self):\n",
    "        self.alpha = {}\n",
    "        self.flag = False\n",
    "\n",
    "    def keys(self):\n",
    "        return self.alpha.keys()\n",
    "\n",
    "    def contains(self, char):\n",
    "        return char in self.alpha\n",
    "    \n",
    "    def push(self, char):\n",
    "        self.alpha[char] = self.__class__()\n",
    "\n",
    "    def get(self, char):\n",
    "        return self.alpha[char]\n",
    "    \n",
    "    def setEnd(self):\n",
    "        self.flag = True\n",
    "\n",
    "    def isEnd(self):\n",
    "        return self.flag\n",
    "\n",
    "\n",
    "class WordDictionary:\n",
    "    def __init__(self):\n",
    "        self.root = Node()\n",
    "\n",
    "    def addWord(self, word):\n",
    "        cur = self.root\n",
    "        for char in word:\n",
    "            if not cur.contains(char):\n",
    "                cur.push(char)\n",
    "            cur = cur.get(char)\n",
    "        cur.setEnd()\n",
    "\n",
    "    def search(self, word):\n",
    "        def inner(cur, index=0):\n",
    "            if index == len(word):\n",
    "                return cur.isEnd()\n",
    "            char = word[index]\n",
    "            if char != '.':\n",
    "                if not cur.contains(char):\n",
    "                    return False\n",
    "                return inner(cur.get(char), index + 1)\n",
    "            else:\n",
    "                valid = False\n",
    "                for key in cur.keys():\n",
    "                    if inner(cur.get(key), index + 1):\n",
    "                        valid = True\n",
    "                return valid\n",
    "        return inner(self.root)\n",
    "\n",
    "\n",
    "tries = WordDictionary()\n"
   ]
  },
  {
   "cell_type": "code",
   "execution_count": null,
   "metadata": {},
   "outputs": [],
   "source": []
  }
 ],
 "metadata": {
  "kernelspec": {
   "display_name": "Python 3",
   "language": "python",
   "name": "python3"
  },
  "language_info": {
   "codemirror_mode": {
    "name": "ipython",
    "version": 3
   },
   "file_extension": ".py",
   "mimetype": "text/x-python",
   "name": "python",
   "nbconvert_exporter": "python",
   "pygments_lexer": "ipython3",
   "version": "3.10.2"
  },
  "orig_nbformat": 4
 },
 "nbformat": 4,
 "nbformat_minor": 2
}
