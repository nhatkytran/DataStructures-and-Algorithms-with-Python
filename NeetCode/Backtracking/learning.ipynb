{
 "cells": [
  {
   "cell_type": "code",
   "execution_count": 1,
   "metadata": {},
   "outputs": [
    {
     "name": "stdout",
     "output_type": "stream",
     "text": [
      "nhatkytran\n",
      "nhatkytran\n",
      "nhatkytran\n",
      "nhatkytran\n",
      "nhatkytran\n"
     ]
    }
   ],
   "source": [
    "def printTimes(time, num, name):\n",
    "    if time >= num: return\n",
    "    print(name)\n",
    "    printTimes(time + 1, num, name)\n",
    "\n",
    "\n",
    "printTimes(0, 5, 'nhatkytran')\n"
   ]
  },
  {
   "cell_type": "code",
   "execution_count": 2,
   "metadata": {},
   "outputs": [
    {
     "name": "stdout",
     "output_type": "stream",
     "text": [
      "1\n",
      "2\n",
      "3\n",
      "4\n",
      "5\n"
     ]
    }
   ],
   "source": [
    "def oneToN(i, n):\n",
    "    if i > n: return\n",
    "    print(i)\n",
    "    oneToN(i + 1, n)\n",
    "\n",
    "\n",
    "oneToN(1, 5)\n"
   ]
  },
  {
   "cell_type": "code",
   "execution_count": 3,
   "metadata": {},
   "outputs": [
    {
     "name": "stdout",
     "output_type": "stream",
     "text": [
      "5\n",
      "4\n",
      "3\n",
      "2\n",
      "1\n",
      "None\n"
     ]
    }
   ],
   "source": [
    "def nToOne(n):\n",
    "    if n < 1: return\n",
    "    print(n)\n",
    "    nToOne(n - 1)\n",
    "\n",
    "\n",
    "print(nToOne(5))\n"
   ]
  },
  {
   "cell_type": "code",
   "execution_count": 4,
   "metadata": {},
   "outputs": [
    {
     "name": "stdout",
     "output_type": "stream",
     "text": [
      "1\n",
      "2\n",
      "3\n",
      "4\n",
      "5\n"
     ]
    }
   ],
   "source": [
    "def oneToNBack(i):\n",
    "    if i < 1: return\n",
    "    oneToNBack(i - 1)\n",
    "    print(i)\n",
    "\n",
    "\n",
    "oneToNBack(5)\n"
   ]
  },
  {
   "cell_type": "code",
   "execution_count": 5,
   "metadata": {},
   "outputs": [
    {
     "name": "stdout",
     "output_type": "stream",
     "text": [
      "5\n",
      "4\n",
      "3\n",
      "2\n",
      "1\n"
     ]
    }
   ],
   "source": [
    "def nToOneBack(i, n):\n",
    "    if i > n: return\n",
    "    nToOneBack(i + 1, n)\n",
    "    print(i)\n",
    "\n",
    "\n",
    "nToOneBack(1, 5)\n"
   ]
  },
  {
   "cell_type": "code",
   "execution_count": null,
   "metadata": {},
   "outputs": [],
   "source": []
  }
 ],
 "metadata": {
  "kernelspec": {
   "display_name": "Python 3",
   "language": "python",
   "name": "python3"
  },
  "language_info": {
   "codemirror_mode": {
    "name": "ipython",
    "version": 3
   },
   "file_extension": ".py",
   "mimetype": "text/x-python",
   "name": "python",
   "nbconvert_exporter": "python",
   "pygments_lexer": "ipython3",
   "version": "3.10.2"
  },
  "orig_nbformat": 4
 },
 "nbformat": 4,
 "nbformat_minor": 2
}
