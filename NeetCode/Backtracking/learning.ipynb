{
 "cells": [
  {
   "cell_type": "code",
   "execution_count": 1,
   "metadata": {},
   "outputs": [
    {
     "name": "stdout",
     "output_type": "stream",
     "text": [
      "nhatkytran\n",
      "nhatkytran\n",
      "nhatkytran\n",
      "nhatkytran\n",
      "nhatkytran\n"
     ]
    }
   ],
   "source": [
    "def printTimes(time, num, name):\n",
    "    if time >= num: return\n",
    "    print(name)\n",
    "    printTimes(time + 1, num, name)\n",
    "\n",
    "\n",
    "printTimes(0, 5, 'nhatkytran')\n"
   ]
  },
  {
   "cell_type": "code",
   "execution_count": 2,
   "metadata": {},
   "outputs": [
    {
     "name": "stdout",
     "output_type": "stream",
     "text": [
      "1\n",
      "2\n",
      "3\n",
      "4\n",
      "5\n"
     ]
    }
   ],
   "source": [
    "def oneToN(i, n):\n",
    "    if i > n: return\n",
    "    print(i)\n",
    "    oneToN(i + 1, n)\n",
    "\n",
    "\n",
    "oneToN(1, 5)\n"
   ]
  },
  {
   "cell_type": "code",
   "execution_count": 3,
   "metadata": {},
   "outputs": [
    {
     "name": "stdout",
     "output_type": "stream",
     "text": [
      "5\n",
      "4\n",
      "3\n",
      "2\n",
      "1\n",
      "None\n"
     ]
    }
   ],
   "source": [
    "def nToOne(n):\n",
    "    if n < 1: return\n",
    "    print(n)\n",
    "    nToOne(n - 1)\n",
    "\n",
    "\n",
    "print(nToOne(5))\n"
   ]
  },
  {
   "cell_type": "code",
   "execution_count": 4,
   "metadata": {},
   "outputs": [
    {
     "name": "stdout",
     "output_type": "stream",
     "text": [
      "1\n",
      "2\n",
      "3\n",
      "4\n",
      "5\n"
     ]
    }
   ],
   "source": [
    "def oneToNBack(i):\n",
    "    if i < 1: return\n",
    "    oneToNBack(i - 1)\n",
    "    print(i)\n",
    "\n",
    "\n",
    "oneToNBack(5)\n"
   ]
  },
  {
   "cell_type": "code",
   "execution_count": 5,
   "metadata": {},
   "outputs": [
    {
     "name": "stdout",
     "output_type": "stream",
     "text": [
      "5\n",
      "4\n",
      "3\n",
      "2\n",
      "1\n"
     ]
    }
   ],
   "source": [
    "def nToOneBack(i, n):\n",
    "    if i > n: return\n",
    "    nToOneBack(i + 1, n)\n",
    "    print(i)\n",
    "\n",
    "\n",
    "nToOneBack(1, 5)\n"
   ]
  },
  {
   "cell_type": "code",
   "execution_count": 2,
   "metadata": {},
   "outputs": [
    {
     "name": "stdout",
     "output_type": "stream",
     "text": [
      "6\n"
     ]
    }
   ],
   "source": [
    "def sumToN(n, sum=0):\n",
    "    if n < 1: return sum\n",
    "    return sumToN(n - 1, sum + n)\n",
    "\n",
    "\n",
    "print(sumToN(3))\n"
   ]
  },
  {
   "cell_type": "code",
   "execution_count": 3,
   "metadata": {},
   "outputs": [
    {
     "name": "stdout",
     "output_type": "stream",
     "text": [
      "6\n"
     ]
    }
   ],
   "source": [
    "def sumToN(n):\n",
    "    if n < 1: return n\n",
    "    return n + sumToN(n - 1)\n",
    "\n",
    "\n",
    "print(sumToN(3))\n"
   ]
  },
  {
   "cell_type": "code",
   "execution_count": 4,
   "metadata": {},
   "outputs": [
    {
     "name": "stdout",
     "output_type": "stream",
     "text": [
      "[2, 4, 3, 2, 1]\n"
     ]
    }
   ],
   "source": [
    "def reverse(arr):\n",
    "    left, right = 0, len(arr) - 1\n",
    "    while left < right:\n",
    "        arr[left], arr[right] = arr[right], arr[left]\n",
    "        left += 1\n",
    "        right -= 1\n",
    "    return arr\n",
    "\n",
    "\n",
    "print(reverse([1, 2, 3, 4, 2]))\n"
   ]
  },
  {
   "cell_type": "code",
   "execution_count": 6,
   "metadata": {},
   "outputs": [
    {
     "name": "stdout",
     "output_type": "stream",
     "text": [
      "[2, 4, 3, 2, 1]\n"
     ]
    }
   ],
   "source": [
    "arr = [1, 2, 3, 4, 2]\n",
    "\n",
    "def reverse(left, right):\n",
    "    if not left < right: return\n",
    "    arr[left], arr[right] = arr[right], arr[left]\n",
    "    reverse(left + 1, right - 1)\n",
    "\n",
    "\n",
    "reverse(0, len(arr) - 1)\n",
    "\n",
    "print(arr)\n"
   ]
  },
  {
   "cell_type": "code",
   "execution_count": 9,
   "metadata": {},
   "outputs": [
    {
     "name": "stdout",
     "output_type": "stream",
     "text": [
      "[2, 4, 3, 2, 1]\n"
     ]
    }
   ],
   "source": [
    "arr = [1, 2, 3, 4, 2]\n",
    "result = []\n",
    "\n",
    "def reverse(index):\n",
    "    if not index < len(arr): return\n",
    "    reverse(index + 1)\n",
    "    result.append(arr[index])\n",
    "\n",
    "\n",
    "reverse(index=0)\n",
    "\n",
    "print(result)\n"
   ]
  },
  {
   "cell_type": "code",
   "execution_count": 10,
   "metadata": {},
   "outputs": [
    {
     "name": "stdout",
     "output_type": "stream",
     "text": [
      "[2, 4, 3, 2, 1]\n"
     ]
    }
   ],
   "source": [
    "arr = [1, 2, 3, 4, 2]\n",
    "n = len(arr)\n",
    "\n",
    "def reverse(index):\n",
    "    if index >= n // 2: return\n",
    "    arr[index], arr[n - index - 1] = arr[n - index - 1], arr[index]\n",
    "    reverse(index + 1)\n",
    "\n",
    "\n",
    "reverse(index=0)\n",
    "\n",
    "print(arr)\n"
   ]
  },
  {
   "cell_type": "code",
   "execution_count": 11,
   "metadata": {},
   "outputs": [
    {
     "name": "stdout",
     "output_type": "stream",
     "text": [
      "True\n",
      "True\n",
      "False\n",
      "False\n"
     ]
    }
   ],
   "source": [
    "def palindrome(string, index=0):\n",
    "    if not index < len(string) // 2: return True\n",
    "    if string[index] != string[len(string) - index - 1]: return False\n",
    "    return palindrome(string, index + 1)\n",
    "\n",
    "\n",
    "print(palindrome('MADAM'))\n",
    "print(palindrome('ABCCBA'))\n",
    "print(palindrome('MADSM'))\n",
    "print(palindrome('ABCDBA'))\n"
   ]
  },
  {
   "cell_type": "code",
   "execution_count": 4,
   "metadata": {},
   "outputs": [
    {
     "name": "stdout",
     "output_type": "stream",
     "text": [
      "0\n",
      "1\n",
      "5\n"
     ]
    }
   ],
   "source": [
    "def fib(n):\n",
    "    if n <= 1: return n\n",
    "    return fib(n - 1) + fib(n - 2)\n",
    "\n",
    "\n",
    "print(fib(0))\n",
    "print(fib(1))\n",
    "print(fib(5))\n"
   ]
  },
  {
   "cell_type": "code",
   "execution_count": 6,
   "metadata": {},
   "outputs": [
    {
     "name": "stdout",
     "output_type": "stream",
     "text": [
      "['', 'a', 'b', 'ab', 'c', 'ac', 'bc', 'abc']\n"
     ]
    }
   ],
   "source": [
    "def power(string):\n",
    "    subsequences = ['']\n",
    "    for char in string:\n",
    "        new_sub = [sub + char for sub in subsequences]\n",
    "        subsequences += new_sub\n",
    "    return subsequences\n",
    "\n",
    "\n",
    "print(power('abc'))\n"
   ]
  },
  {
   "cell_type": "code",
   "execution_count": 7,
   "metadata": {},
   "outputs": [
    {
     "name": "stdout",
     "output_type": "stream",
     "text": [
      "['', 'a', 'b', 'ab', 'c', 'ac', 'bc', 'abc']\n"
     ]
    }
   ],
   "source": [
    "def power(string):\n",
    "    n = len(string)\n",
    "    sn = 2 ** n\n",
    "    subs = []\n",
    "    for i in range(sn):\n",
    "        char = ''\n",
    "        for j in range(n):\n",
    "            if i & 1 << j != 0:\n",
    "                char += string[j]\n",
    "        subs.append(char)\n",
    "    return subs\n",
    "\n",
    "\n",
    "print(power('abc'))\n"
   ]
  },
  {
   "cell_type": "code",
   "execution_count": 15,
   "metadata": {},
   "outputs": [
    {
     "name": "stdout",
     "output_type": "stream",
     "text": [
      "[3, 1, 2]\n",
      "[3, 1]\n",
      "[3, 2]\n",
      "[3]\n",
      "[1, 2]\n",
      "[1]\n",
      "[2]\n",
      "[]\n",
      "None\n"
     ]
    }
   ],
   "source": [
    "def power(numbers):\n",
    "    def inner(index, arr):\n",
    "        if index >= len(numbers):\n",
    "            print(arr)\n",
    "            return\n",
    "        arr.append(numbers[index])\n",
    "        inner(index + 1, arr)\n",
    "        arr.remove(numbers[index])\n",
    "        inner(index + 1, arr)\n",
    "    inner(index=0, arr=[])\n",
    "\n",
    "\n",
    "print(power([3, 1, 2]))\n"
   ]
  },
  {
   "cell_type": "code",
   "execution_count": null,
   "metadata": {},
   "outputs": [],
   "source": []
  }
 ],
 "metadata": {
  "kernelspec": {
   "display_name": "Python 3",
   "language": "python",
   "name": "python3"
  },
  "language_info": {
   "codemirror_mode": {
    "name": "ipython",
    "version": 3
   },
   "file_extension": ".py",
   "mimetype": "text/x-python",
   "name": "python",
   "nbconvert_exporter": "python",
   "pygments_lexer": "ipython3",
   "version": "3.10.2"
  },
  "orig_nbformat": 4
 },
 "nbformat": 4,
 "nbformat_minor": 2
}
