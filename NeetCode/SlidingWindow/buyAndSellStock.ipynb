{
 "cells": [
  {
   "cell_type": "code",
   "execution_count": 8,
   "metadata": {},
   "outputs": [
    {
     "name": "stdout",
     "output_type": "stream",
     "text": [
      "5\n",
      "0\n"
     ]
    }
   ],
   "source": [
    "class Solution:\n",
    "    def maxProfit(self, prices):\n",
    "        profit = 0\n",
    "        for i in range(len(prices)):\n",
    "            for j in range(i + 1, len(prices)):\n",
    "                pro = prices[j] - prices[i]\n",
    "                if pro > profit:\n",
    "                    profit = pro\n",
    "        return profit\n",
    "    \n",
    "    def maxProfit(self, prices):\n",
    "        profit = 0\n",
    "        start = 2\n",
    "        while start <= len(prices):\n",
    "            left = 0\n",
    "            right = start - 1\n",
    "            while right < len(prices):\n",
    "                pro = prices[right] - prices[left]\n",
    "                if pro > profit:\n",
    "                    profit = pro\n",
    "                left += 1\n",
    "                right += 1\n",
    "            start += 1\n",
    "        return profit\n",
    "\n",
    "\n",
    "s = Solution()\n",
    "\n",
    "print(s.maxProfit([7, 1, 5, 3, 6, 4]))\n",
    "print(s.maxProfit([7, 6, 4, 3, 1]))\n"
   ]
  },
  {
   "cell_type": "code",
   "execution_count": null,
   "metadata": {},
   "outputs": [],
   "source": []
  }
 ],
 "metadata": {
  "kernelspec": {
   "display_name": "Python 3",
   "language": "python",
   "name": "python3"
  },
  "language_info": {
   "codemirror_mode": {
    "name": "ipython",
    "version": 3
   },
   "file_extension": ".py",
   "mimetype": "text/x-python",
   "name": "python",
   "nbconvert_exporter": "python",
   "pygments_lexer": "ipython3",
   "version": "3.10.2"
  },
  "orig_nbformat": 4
 },
 "nbformat": 4,
 "nbformat_minor": 2
}
