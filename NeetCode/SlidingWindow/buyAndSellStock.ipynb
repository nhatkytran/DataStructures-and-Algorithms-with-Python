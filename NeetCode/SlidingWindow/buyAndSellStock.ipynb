{
 "cells": [
  {
   "cell_type": "code",
   "execution_count": 20,
   "metadata": {},
   "outputs": [
    {
     "name": "stdout",
     "output_type": "stream",
     "text": [
      "5\n",
      "0\n"
     ]
    }
   ],
   "source": [
    "class Solution:\n",
    "    def maxProfit(self, prices):\n",
    "        profit = 0\n",
    "        for i in range(len(prices)):\n",
    "            for j in range(i + 1, len(prices)):\n",
    "                pro = prices[j] - prices[i]\n",
    "                if pro > profit:\n",
    "                    profit = pro\n",
    "        return profit\n",
    "    \n",
    "    def maxProfit(self, prices):\n",
    "        profit = 0\n",
    "        start = 2\n",
    "        while start <= len(prices):\n",
    "            left = 0\n",
    "            right = start - 1\n",
    "            while right < len(prices):\n",
    "                pro = prices[right] - prices[left]\n",
    "                if pro > profit:\n",
    "                    profit = pro\n",
    "                left += 1\n",
    "                right += 1\n",
    "            start += 1\n",
    "        return profit\n",
    "    \n",
    "    def maxProfit(self, prices):\n",
    "        min_value = prices[0]\n",
    "        profit = 0\n",
    "        for i in range(1, len(prices)):\n",
    "            new_profit = prices[i] - min_value\n",
    "            if new_profit > profit:\n",
    "                profit = new_profit\n",
    "            if prices[i] < min_value:\n",
    "                min_value = prices[i]\n",
    "        return profit\n",
    "    \n",
    "    def maxProfit(self, prices):\n",
    "        left = 0\n",
    "        right = 1\n",
    "        profit = 0\n",
    "        while right < len(prices):\n",
    "            new_profit = prices[right] - prices[left]\n",
    "            if new_profit > profit:\n",
    "                profit = new_profit\n",
    "            if prices[right] < prices[left]:\n",
    "                left = right\n",
    "            right += 1\n",
    "        return profit\n",
    "    \n",
    "    def maxProfit(self, prices):\n",
    "        left = 0\n",
    "        right = 1\n",
    "        profit = 0\n",
    "        while right < len(prices):\n",
    "            if prices[right] > prices[left]:\n",
    "                profit = max(profit, prices[right] - prices[left])\n",
    "            else:\n",
    "                left = right\n",
    "            right += 1\n",
    "        return profit\n",
    "    \n",
    "    def maxProfit(self, prices):\n",
    "        profit = 0\n",
    "        lowest = prices[0]\n",
    "        for price in prices:\n",
    "            if price < lowest:\n",
    "                lowest = price\n",
    "            profit = max(profit, price - lowest)\n",
    "        return profit\n",
    "\n",
    "\n",
    "s = Solution()\n",
    "\n",
    "print(s.maxProfit([7, 1, 5, 3, 6, 4]))\n",
    "print(s.maxProfit([7, 6, 4, 3, 1]))\n"
   ]
  },
  {
   "cell_type": "code",
   "execution_count": null,
   "metadata": {},
   "outputs": [],
   "source": []
  }
 ],
 "metadata": {
  "kernelspec": {
   "display_name": "Python 3",
   "language": "python",
   "name": "python3"
  },
  "language_info": {
   "codemirror_mode": {
    "name": "ipython",
    "version": 3
   },
   "file_extension": ".py",
   "mimetype": "text/x-python",
   "name": "python",
   "nbconvert_exporter": "python",
   "pygments_lexer": "ipython3",
   "version": "3.10.2"
  },
  "orig_nbformat": 4
 },
 "nbformat": 4,
 "nbformat_minor": 2
}
