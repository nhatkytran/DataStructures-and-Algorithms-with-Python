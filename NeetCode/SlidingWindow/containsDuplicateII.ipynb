{
 "cells": [
  {
   "cell_type": "code",
   "execution_count": 6,
   "metadata": {},
   "outputs": [
    {
     "name": "stdout",
     "output_type": "stream",
     "text": [
      "True\n",
      "True\n",
      "False\n"
     ]
    }
   ],
   "source": [
    "class Solution:\n",
    "    def containsNearbyDuplicate(self, nums, k):\n",
    "        hash_set = set()\n",
    "        for i in range(len(nums)):\n",
    "            if nums[i] not in hash_set:\n",
    "                for j in range(i + 1, len(nums)):\n",
    "                    if nums[j] == nums[i] and j - i <= k:\n",
    "                        return True\n",
    "            else:\n",
    "                hash_set.add(nums[i])\n",
    "        return False\n",
    "    \n",
    "    def containsNearbyDuplicate(self, nums, k):\n",
    "        hash_map = {}\n",
    "        for i in range(len(nums)):\n",
    "            if nums[i] in hash_map:\n",
    "                for point in hash_map[nums[i]]:\n",
    "                    if i - point <= k:\n",
    "                        return True\n",
    "                hash_map[nums[i]].append(i)\n",
    "            else:\n",
    "                hash_map[nums[i]] = [i]\n",
    "        return False\n",
    "    \n",
    "    def containsNearbyDuplicate(self, nums, k):\n",
    "        hash_map = {}\n",
    "        for i in range(len(nums)):\n",
    "            if nums[i] in hash_map:\n",
    "                if i - hash_map[nums[i]] <= k:\n",
    "                    return True\n",
    "            hash_map[nums[i]] = i\n",
    "        return False\n",
    "\n",
    "\n",
    "s = Solution()\n",
    "\n",
    "print(s.containsNearbyDuplicate([1, 2, 3, 1], 3))\n",
    "print(s.containsNearbyDuplicate([1, 0, 1, 1], 1))\n",
    "print(s.containsNearbyDuplicate([1, 2, 3, 1, 2, 3], 2))\n"
   ]
  },
  {
   "cell_type": "code",
   "execution_count": null,
   "metadata": {},
   "outputs": [],
   "source": []
  }
 ],
 "metadata": {
  "kernelspec": {
   "display_name": "Python 3",
   "language": "python",
   "name": "python3"
  },
  "language_info": {
   "codemirror_mode": {
    "name": "ipython",
    "version": 3
   },
   "file_extension": ".py",
   "mimetype": "text/x-python",
   "name": "python",
   "nbconvert_exporter": "python",
   "pygments_lexer": "ipython3",
   "version": "3.10.2"
  },
  "orig_nbformat": 4
 },
 "nbformat": 4,
 "nbformat_minor": 2
}
