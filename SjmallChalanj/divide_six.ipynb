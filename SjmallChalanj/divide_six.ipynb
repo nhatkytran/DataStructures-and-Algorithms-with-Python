{
 "cells": [
  {
   "cell_type": "code",
   "execution_count": 5,
   "metadata": {},
   "outputs": [],
   "source": [
    "# Number 0 --> n => print number that mods 6 == 0\n",
    "\n",
    "\n",
    "def six_divide(number):\n",
    "    if number < 6:\n",
    "        print('No value')\n",
    "        return\n",
    "    current_number = 0\n",
    "    is_divided = False\n",
    "    while current_number <= number:\n",
    "        if current_number % 6 == 0:\n",
    "            is_divided = True\n",
    "            print(current_number)\n",
    "        current_number += 6 if is_divided else 1\n",
    "\n",
    "\n",
    "def six_divide(number):\n",
    "    if number < 6:\n",
    "        print('No value')\n",
    "        return\n",
    "    left_number, right_number = 0, number\n",
    "    left_divided = right_divided = False\n",
    "    while left_number < right_number:\n",
    "        if left_number % 6 == 0:\n",
    "            left_divided = True\n",
    "            print(left_number)\n",
    "        if right_number % 6 == 0:\n",
    "            right_divided = True\n",
    "            print(right_number)\n",
    "        left_number += 6 if left_divided else 1\n",
    "        right_number -= 6 if right_divided else 1\n",
    "    if left_number == right_number and left_number % 6 == 0:\n",
    "        print(left_number)\n"
   ]
  },
  {
   "cell_type": "code",
   "execution_count": null,
   "metadata": {},
   "outputs": [],
   "source": []
  }
 ],
 "metadata": {
  "kernelspec": {
   "display_name": "Python 3.9.5 64-bit",
   "language": "python",
   "name": "python3"
  },
  "language_info": {
   "codemirror_mode": {
    "name": "ipython",
    "version": 3
   },
   "file_extension": ".py",
   "mimetype": "text/x-python",
   "name": "python",
   "nbconvert_exporter": "python",
   "pygments_lexer": "ipython3",
   "version": "3.9.5"
  },
  "orig_nbformat": 4,
  "vscode": {
   "interpreter": {
    "hash": "b8bdd4e700647ba2b08c59e5df8b7da1dcf50a218bcd4c1bcd9b3dc92e8788e5"
   }
  }
 },
 "nbformat": 4,
 "nbformat_minor": 2
}
