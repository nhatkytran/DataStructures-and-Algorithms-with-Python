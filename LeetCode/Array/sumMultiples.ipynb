{
 "cells": [
  {
   "cell_type": "code",
   "execution_count": 3,
   "metadata": {},
   "outputs": [
    {
     "name": "stdout",
     "output_type": "stream",
     "text": [
      "21\n",
      "40\n",
      "30\n"
     ]
    }
   ],
   "source": [
    "class Solution:\n",
    "    def sumOfMultiples(self, n):\n",
    "        result = 0\n",
    "        for num in range(3, n + 1):\n",
    "            if num % 3 == 0 or num % 5 == 0 or num % 7 == 0:\n",
    "                result += num\n",
    "        return result\n",
    "    \n",
    "    def sumOfMultiples(self, n):\n",
    "        return sum(num for num in range(3, n + 1) if num % 3 == 0 or num % 5 == 0 or num % 7 == 0)\n",
    "\n",
    "\n",
    "s = Solution()\n",
    "\n",
    "print(s.sumOfMultiples(7))\n",
    "print(s.sumOfMultiples(10))\n",
    "print(s.sumOfMultiples(9))\n"
   ]
  },
  {
   "cell_type": "code",
   "execution_count": null,
   "metadata": {},
   "outputs": [],
   "source": []
  }
 ],
 "metadata": {
  "kernelspec": {
   "display_name": "Python 3",
   "language": "python",
   "name": "python3"
  },
  "language_info": {
   "codemirror_mode": {
    "name": "ipython",
    "version": 3
   },
   "file_extension": ".py",
   "mimetype": "text/x-python",
   "name": "python",
   "nbconvert_exporter": "python",
   "pygments_lexer": "ipython3",
   "version": "3.10.2"
  },
  "orig_nbformat": 4
 },
 "nbformat": 4,
 "nbformat_minor": 2
}
