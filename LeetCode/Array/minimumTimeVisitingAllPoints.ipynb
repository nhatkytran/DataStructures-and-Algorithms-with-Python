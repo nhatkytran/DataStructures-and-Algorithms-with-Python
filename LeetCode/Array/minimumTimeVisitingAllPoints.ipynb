{
 "cells": [
  {
   "cell_type": "code",
   "execution_count": 3,
   "metadata": {},
   "outputs": [
    {
     "name": "stdout",
     "output_type": "stream",
     "text": [
      "7\n",
      "5\n"
     ]
    }
   ],
   "source": [
    "class Solution:\n",
    "    def minTimeToVisitAllPoints(self, points):\n",
    "        if not points:\n",
    "            return 0\n",
    "        steps = 0\n",
    "        start_point = points[0]\n",
    "        for i in range(1, len(points)):\n",
    "            x, y = points[i]\n",
    "            start_x, start_y = start_point\n",
    "            while start_x != x and start_y != y:\n",
    "                start_x += 1 if start_x < x else -1\n",
    "                start_y += 1 if start_y < y else -1\n",
    "                steps += 1\n",
    "            while start_x != x:\n",
    "                start_x += 1 if start_x < x else -1\n",
    "                steps += 1\n",
    "            while start_y != y:\n",
    "                start_y += 1 if start_y < y else -1\n",
    "                steps += 1\n",
    "            start_point = points[i]\n",
    "        return steps\n",
    "\n",
    "\n",
    "s = Solution()\n",
    "\n",
    "print(s.minTimeToVisitAllPoints([[1,1],[3,4],[-1,0]]))\n",
    "print(s.minTimeToVisitAllPoints([[3,2],[-2,2]]))\n"
   ]
  },
  {
   "cell_type": "code",
   "execution_count": null,
   "metadata": {},
   "outputs": [],
   "source": []
  }
 ],
 "metadata": {
  "kernelspec": {
   "display_name": "Python 3",
   "language": "python",
   "name": "python3"
  },
  "language_info": {
   "codemirror_mode": {
    "name": "ipython",
    "version": 3
   },
   "file_extension": ".py",
   "mimetype": "text/x-python",
   "name": "python",
   "nbconvert_exporter": "python",
   "pygments_lexer": "ipython3",
   "version": "3.10.2"
  },
  "orig_nbformat": 4
 },
 "nbformat": 4,
 "nbformat_minor": 2
}
