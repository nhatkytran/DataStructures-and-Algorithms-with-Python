{
 "cells": [
  {
   "cell_type": "code",
   "execution_count": 27,
   "metadata": {},
   "outputs": [
    {
     "name": "stdout",
     "output_type": "stream",
     "text": [
      "2\n",
      "3\n"
     ]
    }
   ],
   "source": [
    "class Solution:\n",
    "    def similarPairs(self, words):\n",
    "        for i in range(len(words)):\n",
    "            words[i] = set(tuple(words[i]))\n",
    "        for i in range(len(words)):\n",
    "            words[i] = tuple(words[i])\n",
    "        hash_map = {}\n",
    "        for word in words:\n",
    "            hash_map[word] = hash_map.get(word, 0) + 1\n",
    "        result = 0\n",
    "        for value in hash_map.values():\n",
    "            if value > 1:\n",
    "                result += sum(i for i in range(1, value))\n",
    "        return result\n",
    "\n",
    "\n",
    "s = Solution()\n",
    "\n",
    "print(s.similarPairs([\"aba\",\"aabb\",\"abcd\",\"bac\",\"aabc\"]))\n",
    "print(s.similarPairs([\"aabb\",\"ab\",\"ba\"]))\n",
    "# print(s.similarPairs([\"dcedceadceceaeddcedc\",\"dddcebcedcdbaeaaaeab\",\"eecbeddbddeadcbbbdbb\",\"decbcbebbddceacdeadd\",\"ccbddbaedcadedbcaaae\",\"dddcaadaceaedcdceedd\",\"bbeddbcbbccddcaceeea\",\"bdabacbbdadabbbddaea\"]))\n",
    "# print(s.similarPairs([\"ofwqemdbhrcckcnqvovyjwnbqxckhfohlripwumugcirazdtwo\",\"hsrmuokwhksqkkjblkomibcifqilkwobwcpwwkjlzohffsajrt\",\"uzvsxxbdwfohaujijxmeijbwyydgjiifcqvxfzmkqgwnkpxlpp\",\"ksdoiwhffhymsxebloadgyigkveizbahnbmvmxsuuxaaegxmpe\",\"fcsjnezuizcnfsuaxpmxpdivamaijvvyyqlsjsqlkifahjuanb\",\"odfwurhxumkpwndsppoflaualeghyscdqqwpntxokxviqmjhyq\",\"jbahicbweamnlfbljwyloparlmgqlwiootzoeqovytpapzjezn\",\"vsjxngyknxpkjfexdvmoikjaiccplcwtxcfrljqavatpcoeaqe\",\"lxiztvpppvsjmnnuunvdxalvzuvxlxbdnipexklmgsssyzlesb\",\"kbmiambdsahiptndziqysctinvdekysrsslssusqwhshpwehco\",\"wuwkvgrrshrmbtpyozgzzwiyflpiuklsepljvthmxnppaspuqt\",\"lkajvmdzpsxoaqzrgrhuhhmwlgwfnruxsrjolnielwcyjvvhaa\",\"imvgnslsxyqfshgmgecdrignarewusftipgjpteocnlqsfkdcy\"]))\n",
    "# print(s.similarPairs([\"ddeebaedceeceeebbaea\",\"aebababacddbbdedaebd\",\"ddcedbcdbedbccbaadaa\",\"cbcadaacbdceceddaedb\",\"cdadedaaaddecdadddbd\",\"dbceaaceaeebcbcadcec\",\"eceabdbabcdcbdbcdabb\",\"eabcdaedbdbccccccbcc\",\"ebdaabbeebeaabddabda\",\"debdadababbbaabaeddd\",\"aacebccdeaecccbcdaac\"]))\n"
   ]
  },
  {
   "cell_type": "code",
   "execution_count": null,
   "metadata": {},
   "outputs": [],
   "source": []
  }
 ],
 "metadata": {
  "kernelspec": {
   "display_name": "Python 3",
   "language": "python",
   "name": "python3"
  },
  "language_info": {
   "codemirror_mode": {
    "name": "ipython",
    "version": 3
   },
   "file_extension": ".py",
   "mimetype": "text/x-python",
   "name": "python",
   "nbconvert_exporter": "python",
   "pygments_lexer": "ipython3",
   "version": "3.10.2"
  },
  "orig_nbformat": 4
 },
 "nbformat": 4,
 "nbformat_minor": 2
}
