{
 "cells": [
  {
   "cell_type": "code",
   "execution_count": 4,
   "metadata": {},
   "outputs": [
    {
     "name": "stdout",
     "output_type": "stream",
     "text": [
      "3\n",
      "14\n",
      "0\n"
     ]
    }
   ],
   "source": [
    "class Solution:\n",
    "    def minOperations(self, nums):\n",
    "        result = 0\n",
    "        for i in range(1, len(nums)):\n",
    "            if nums[i] <= nums[i - 1]:\n",
    "                steps = nums[i - 1] - nums[i] + 1\n",
    "                result += steps\n",
    "                nums[i] += steps\n",
    "        return result\n",
    "    \n",
    "    def minOperations(self, nums):\n",
    "        result = 0\n",
    "        prev = 0\n",
    "        for num in nums:\n",
    "            if num <= prev:\n",
    "                prev += 1\n",
    "                result += prev - num\n",
    "            else:\n",
    "                prev = num\n",
    "        return result\n",
    "\n",
    "\n",
    "s = Solution()\n",
    "\n",
    "print(s.minOperations([1,1,1]))\n",
    "print(s.minOperations([1,5,2,4,1]))\n",
    "print(s.minOperations([8]))\n"
   ]
  },
  {
   "cell_type": "code",
   "execution_count": null,
   "metadata": {},
   "outputs": [],
   "source": []
  }
 ],
 "metadata": {
  "kernelspec": {
   "display_name": "Python 3",
   "language": "python",
   "name": "python3"
  },
  "language_info": {
   "codemirror_mode": {
    "name": "ipython",
    "version": 3
   },
   "file_extension": ".py",
   "mimetype": "text/x-python",
   "name": "python",
   "nbconvert_exporter": "python",
   "pygments_lexer": "ipython3",
   "version": "3.10.2"
  },
  "orig_nbformat": 4
 },
 "nbformat": 4,
 "nbformat_minor": 2
}
