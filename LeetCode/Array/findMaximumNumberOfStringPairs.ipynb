{
 "cells": [
  {
   "cell_type": "code",
   "execution_count": 3,
   "metadata": {},
   "outputs": [
    {
     "name": "stdout",
     "output_type": "stream",
     "text": [
      "2\n",
      "1\n",
      "0\n"
     ]
    }
   ],
   "source": [
    "class Solution:\n",
    "    def maximumNumberOfStringPairs(self, words):\n",
    "        result = 0\n",
    "        hash_set = set()\n",
    "        for word in words:\n",
    "            string_word = word[::-1]\n",
    "            if string_word in hash_set:\n",
    "                result += 1\n",
    "                hash_set.discard(word)\n",
    "            else:\n",
    "                hash_set.add(word)\n",
    "        return result\n",
    "\n",
    "    \n",
    "s = Solution()\n",
    "\n",
    "print(s.maximumNumberOfStringPairs([\"cd\",\"ac\",\"dc\",\"ca\",\"zz\"]))\n",
    "print(s.maximumNumberOfStringPairs([\"ab\",\"ba\",\"cc\"]))\n",
    "print(s.maximumNumberOfStringPairs([\"aa\",\"ab\"]))\n"
   ]
  },
  {
   "cell_type": "code",
   "execution_count": null,
   "metadata": {},
   "outputs": [],
   "source": []
  }
 ],
 "metadata": {
  "kernelspec": {
   "display_name": "Python 3",
   "language": "python",
   "name": "python3"
  },
  "language_info": {
   "codemirror_mode": {
    "name": "ipython",
    "version": 3
   },
   "file_extension": ".py",
   "mimetype": "text/x-python",
   "name": "python",
   "nbconvert_exporter": "python",
   "pygments_lexer": "ipython3",
   "version": "3.10.2"
  },
  "orig_nbformat": 4
 },
 "nbformat": 4,
 "nbformat_minor": 2
}
