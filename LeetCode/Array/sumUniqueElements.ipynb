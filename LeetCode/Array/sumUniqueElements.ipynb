{
 "cells": [
  {
   "cell_type": "code",
   "execution_count": 9,
   "metadata": {},
   "outputs": [
    {
     "name": "stdout",
     "output_type": "stream",
     "text": [
      "4\n"
     ]
    }
   ],
   "source": [
    "class Solution:\n",
    "    def sumOfUnique(self, nums):\n",
    "        hash_set = set()\n",
    "        hash_set_dup = set()\n",
    "        for num in nums:\n",
    "            if num not in hash_set:\n",
    "                hash_set.add(num)\n",
    "            else:\n",
    "                hash_set_dup.add(num)\n",
    "        return sum(hash_set - hash_set_dup)\n",
    "    \n",
    "    def sumOfUnique(self, nums):\n",
    "        hash_map = {}\n",
    "        for num in nums:\n",
    "            if num not in hash_map:\n",
    "                hash_map[num] = True\n",
    "            else:\n",
    "                hash_map[num] = False\n",
    "        return sum(num for num, valid in hash_map.items() if valid)\n",
    "\n",
    "\n",
    "s = Solution()\n",
    "\n",
    "print(s.sumOfUnique([1,2,3,2]))\n"
   ]
  },
  {
   "cell_type": "code",
   "execution_count": null,
   "metadata": {},
   "outputs": [],
   "source": []
  }
 ],
 "metadata": {
  "kernelspec": {
   "display_name": "Python 3",
   "language": "python",
   "name": "python3"
  },
  "language_info": {
   "codemirror_mode": {
    "name": "ipython",
    "version": 3
   },
   "file_extension": ".py",
   "mimetype": "text/x-python",
   "name": "python",
   "nbconvert_exporter": "python",
   "pygments_lexer": "ipython3",
   "version": "3.10.2"
  },
  "orig_nbformat": 4
 },
 "nbformat": 4,
 "nbformat_minor": 2
}
