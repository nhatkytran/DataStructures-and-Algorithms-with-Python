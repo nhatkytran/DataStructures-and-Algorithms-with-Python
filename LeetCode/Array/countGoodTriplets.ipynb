{
 "cells": [
  {
   "cell_type": "code",
   "execution_count": 4,
   "metadata": {},
   "outputs": [
    {
     "name": "stdout",
     "output_type": "stream",
     "text": [
      "4\n"
     ]
    }
   ],
   "source": [
    "class Solution:\n",
    "    def countGoodTriplets(self, arr, a, b, c):\n",
    "        total = 0\n",
    "        for i in range(len(arr) - 2):\n",
    "            for j in range(i + 1, len(arr) - 1):\n",
    "                for k in range(j + 1, len(arr)):\n",
    "                    if abs(arr[i] - arr[j]) <= a \\\n",
    "                    and abs(arr[j] - arr[k]) <= b \\\n",
    "                    and abs(arr[i] - arr[k]) <= c:\n",
    "                        total += 1\n",
    "        return total\n",
    "\n",
    "\n",
    "s = Solution()\n",
    "\n",
    "print(s.countGoodTriplets([3,0,1,1,9,7], a = 7, b = 2, c = 3))\n"
   ]
  },
  {
   "cell_type": "code",
   "execution_count": null,
   "metadata": {},
   "outputs": [],
   "source": []
  }
 ],
 "metadata": {
  "kernelspec": {
   "display_name": "Python 3",
   "language": "python",
   "name": "python3"
  },
  "language_info": {
   "codemirror_mode": {
    "name": "ipython",
    "version": 3
   },
   "file_extension": ".py",
   "mimetype": "text/x-python",
   "name": "python",
   "nbconvert_exporter": "python",
   "pygments_lexer": "ipython3",
   "version": "3.10.2"
  },
  "orig_nbformat": 4
 },
 "nbformat": 4,
 "nbformat_minor": 2
}
