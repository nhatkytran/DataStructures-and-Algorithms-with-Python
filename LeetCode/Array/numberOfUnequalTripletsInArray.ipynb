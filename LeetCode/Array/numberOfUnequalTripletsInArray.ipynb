{
 "cells": [
  {
   "cell_type": "code",
   "execution_count": 7,
   "metadata": {},
   "outputs": [
    {
     "name": "stdout",
     "output_type": "stream",
     "text": [
      "3\n"
     ]
    }
   ],
   "source": [
    "class Solution:\n",
    "    def unequalTriplets(self, nums):\n",
    "        pers = [[]]\n",
    "        for num in nums:\n",
    "            add_pers = [[*per, num] for per in pers]\n",
    "            pers = [*pers, *add_pers]\n",
    "        return sum(len(set(per)) == 3 for per in pers if len(per) == 3)\n",
    "    \n",
    "    def unequalTriplets(self, nums):\n",
    "        pers = [[]]\n",
    "        for num in nums:\n",
    "            add_pers = [[*per, num] for per in pers if len(per) <= 2]\n",
    "            pers = [*pers, *add_pers]\n",
    "        return sum(len(set(per)) == 3 for per in pers if len(per) == 3)\n",
    "    \n",
    "    def unequalTriplets(self, nums):\n",
    "        result = 0\n",
    "        for i in range(len(nums) - 2):\n",
    "            for j in range(i, len(nums) - 1):\n",
    "                for k in range(j, len(nums)):\n",
    "                    if len(set([nums[i], nums[j], nums[k]])) == 3:\n",
    "                        result += 1\n",
    "        return result\n",
    "\n",
    "\n",
    "s = Solution()\n",
    "\n",
    "print(s.unequalTriplets([4,4,2,4,3]))\n"
   ]
  },
  {
   "cell_type": "code",
   "execution_count": null,
   "metadata": {},
   "outputs": [],
   "source": []
  }
 ],
 "metadata": {
  "kernelspec": {
   "display_name": "Python 3",
   "language": "python",
   "name": "python3"
  },
  "language_info": {
   "codemirror_mode": {
    "name": "ipython",
    "version": 3
   },
   "file_extension": ".py",
   "mimetype": "text/x-python",
   "name": "python",
   "nbconvert_exporter": "python",
   "pygments_lexer": "ipython3",
   "version": "3.10.2"
  },
  "orig_nbformat": 4
 },
 "nbformat": 4,
 "nbformat_minor": 2
}
