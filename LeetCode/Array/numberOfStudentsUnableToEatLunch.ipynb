{
 "cells": [
  {
   "cell_type": "code",
   "execution_count": 17,
   "metadata": {},
   "outputs": [
    {
     "name": "stdout",
     "output_type": "stream",
     "text": [
      "0\n",
      "3\n"
     ]
    }
   ],
   "source": [
    "class Solution:\n",
    "    def countStudents(self, students, sandwiches): \n",
    "        for sand in sandwiches:\n",
    "            new_row = []\n",
    "            for i in range(len(students)):\n",
    "                stu = students[i]\n",
    "                if stu == sand:\n",
    "                    new_row = students[i+1:] + new_row\n",
    "                    break\n",
    "                else:\n",
    "                    new_row.append(stu)\n",
    "            if len(new_row) == len(students):\n",
    "                return len(new_row)\n",
    "            students = new_row\n",
    "        return 0\n",
    "\n",
    "\n",
    "s = Solution()\n",
    "\n",
    "print(s.countStudents([1,1,0,0], [0,1,0,1]))\n",
    "print(s.countStudents([1,1,1,0,0,1], [1,0,0,0,1,1]))\n"
   ]
  },
  {
   "cell_type": "code",
   "execution_count": null,
   "metadata": {},
   "outputs": [],
   "source": []
  }
 ],
 "metadata": {
  "kernelspec": {
   "display_name": "Python 3",
   "language": "python",
   "name": "python3"
  },
  "language_info": {
   "codemirror_mode": {
    "name": "ipython",
    "version": 3
   },
   "file_extension": ".py",
   "mimetype": "text/x-python",
   "name": "python",
   "nbconvert_exporter": "python",
   "pygments_lexer": "ipython3",
   "version": "3.10.2"
  },
  "orig_nbformat": 4
 },
 "nbformat": 4,
 "nbformat_minor": 2
}
