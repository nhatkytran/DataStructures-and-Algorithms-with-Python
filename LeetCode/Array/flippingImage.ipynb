{
 "cells": [
  {
   "cell_type": "code",
   "execution_count": 9,
   "metadata": {},
   "outputs": [
    {
     "name": "stdout",
     "output_type": "stream",
     "text": [
      "[[1, 0, 0], [0, 1, 0], [1, 1, 1]]\n"
     ]
    }
   ],
   "source": [
    "class Solution:\n",
    "    def flipAndInvertImage(self, image):\n",
    "        n = len(image)\n",
    "        hash_map = { 0: 1, 1: 0 }\n",
    "        for row in image:\n",
    "            i = 0\n",
    "            j = n - 1\n",
    "            while i <= j:\n",
    "                row[i], row[j] = hash_map[row[j]], hash_map[row[i]]\n",
    "                i += 1\n",
    "                j -= 1\n",
    "        return image\n",
    "    \n",
    "    # 1 ^ 0 --> 1\n",
    "    # 1 ^ 1 --> 0\n",
    "    def flipAndInvertImage(self, image):\n",
    "        for row in image:\n",
    "            row.reverse()\n",
    "        for i in range(len(image)):\n",
    "            image[i] = [1 ^ num for num in image[i]]\n",
    "        return image\n",
    "\n",
    "\n",
    "s = Solution()\n",
    "\n",
    "print(s.flipAndInvertImage([[1,1,0],[1,0,1],[0,0,0]]))\n"
   ]
  },
  {
   "cell_type": "code",
   "execution_count": null,
   "metadata": {},
   "outputs": [],
   "source": []
  }
 ],
 "metadata": {
  "kernelspec": {
   "display_name": "Python 3",
   "language": "python",
   "name": "python3"
  },
  "language_info": {
   "codemirror_mode": {
    "name": "ipython",
    "version": 3
   },
   "file_extension": ".py",
   "mimetype": "text/x-python",
   "name": "python",
   "nbconvert_exporter": "python",
   "pygments_lexer": "ipython3",
   "version": "3.10.2"
  },
  "orig_nbformat": 4
 },
 "nbformat": 4,
 "nbformat_minor": 2
}
