{
 "cells": [
  {
   "cell_type": "code",
   "execution_count": 13,
   "metadata": {},
   "outputs": [
    {
     "name": "stdout",
     "output_type": "stream",
     "text": [
      "2\n"
     ]
    }
   ],
   "source": [
    "class Solution:\n",
    "    def uniqueMorseRepresentations(self, words):\n",
    "        alphabet = 'abcdefghijklmnopqrstuvwxyz'\n",
    "        alphabet_indicies = {char: index for index, char in enumerate(alphabet)}\n",
    "        morse_code = [\".-\",\"-...\",\"-.-.\",\"-..\",\".\",\"..-.\",\"--.\",\"....\",\"..\",\".---\",\"-.-\",\".-..\",\"--\",\"-.\",\"---\",\".--.\",\"--.-\",\".-.\",\"...\",\"-\",\"..-\",\"...-\",\".--\",\"-..-\",\"-.--\",\"--..\"]\n",
    "        hashset = set()\n",
    "        for word in words:\n",
    "            new_word = ''\n",
    "            for char in word:\n",
    "                new_word += morse_code[alphabet_indicies[char]]\n",
    "            hashset.add(new_word)\n",
    "        return len(hashset)\n",
    "    \n",
    "    def uniqueMorseRepresentations(self, words):\n",
    "        morse_code = [\".-\",\"-...\",\"-.-.\",\"-..\",\".\",\"..-.\",\"--.\",\"....\",\"..\",\".---\",\"-.-\",\".-..\",\"--\",\"-.\",\"---\",\".--.\",\"--.-\",\".-.\",\"...\",\"-\",\"..-\",\"...-\",\".--\",\"-..-\",\"-.--\",\"--..\"]\n",
    "        hashset = set()\n",
    "        for word in words:\n",
    "            new_word = ''\n",
    "            for char in word:\n",
    "                new_word += morse_code[ord(char) - ord('a')]\n",
    "            hashset.add(new_word)\n",
    "        return len(hashset)\n",
    "\n",
    "\n",
    "s = Solution()\n",
    "\n",
    "print(s.uniqueMorseRepresentations([\"gin\", \"zen\", \"gig\", \"msg\"]))\n"
   ]
  },
  {
   "cell_type": "code",
   "execution_count": null,
   "metadata": {},
   "outputs": [],
   "source": []
  }
 ],
 "metadata": {
  "kernelspec": {
   "display_name": "Python 3",
   "language": "python",
   "name": "python3"
  },
  "language_info": {
   "codemirror_mode": {
    "name": "ipython",
    "version": 3
   },
   "file_extension": ".py",
   "mimetype": "text/x-python",
   "name": "python",
   "nbconvert_exporter": "python",
   "pygments_lexer": "ipython3",
   "version": "3.10.2"
  },
  "orig_nbformat": 4
 },
 "nbformat": 4,
 "nbformat_minor": 2
}
