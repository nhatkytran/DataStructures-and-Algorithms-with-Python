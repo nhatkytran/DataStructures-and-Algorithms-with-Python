{
 "cells": [
  {
   "cell_type": "code",
   "execution_count": 18,
   "metadata": {},
   "outputs": [
    {
     "name": "stdout",
     "output_type": "stream",
     "text": [
      "[2, 3, 4]\n"
     ]
    }
   ],
   "source": [
    "class Solution:\n",
    "    # Memory exceeded\n",
    "    def answerQueries(self, nums, queries):\n",
    "        result = []\n",
    "        per = [[]]\n",
    "        for num in nums:\n",
    "            new_per = []\n",
    "            for arr in per:\n",
    "                new_per.append([*arr, num])\n",
    "            per = [*per, *new_per]\n",
    "        per.sort(key=lambda arr: -len(arr))\n",
    "        for num in queries:\n",
    "            for arr in per:\n",
    "                if sum(arr) <= num:\n",
    "                    result.append(len(arr))\n",
    "                    break\n",
    "        return result\n",
    "    \n",
    "    def answerQueries(self, nums, queries):\n",
    "        nums.sort()\n",
    "        result = []\n",
    "        for query in queries:\n",
    "            length = len(nums)\n",
    "            total = sum(nums)\n",
    "            ok = False\n",
    "            while length > 0:\n",
    "                total -= nums[length] if length < len(nums) else 0\n",
    "                if total <= query:\n",
    "                    result.append(length)\n",
    "                    ok = True\n",
    "                    break\n",
    "                length -= 1\n",
    "            if not ok:\n",
    "                result.append(0)\n",
    "        return result\n",
    "\n",
    "\n",
    "s = Solution()\n",
    "\n",
    "print(s.answerQueries([4,5,2,1], [3,10,21]))\n"
   ]
  },
  {
   "cell_type": "code",
   "execution_count": null,
   "metadata": {},
   "outputs": [],
   "source": []
  }
 ],
 "metadata": {
  "kernelspec": {
   "display_name": "Python 3",
   "language": "python",
   "name": "python3"
  },
  "language_info": {
   "codemirror_mode": {
    "name": "ipython",
    "version": 3
   },
   "file_extension": ".py",
   "mimetype": "text/x-python",
   "name": "python",
   "nbconvert_exporter": "python",
   "pygments_lexer": "ipython3",
   "version": "3.10.2"
  },
  "orig_nbformat": 4
 },
 "nbformat": 4,
 "nbformat_minor": 2
}
