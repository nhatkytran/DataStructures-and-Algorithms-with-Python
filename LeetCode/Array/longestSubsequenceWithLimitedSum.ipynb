{
 "cells": [
  {
   "cell_type": "code",
   "execution_count": null,
   "metadata": {},
   "outputs": [],
   "source": [
    "class Solution:\n",
    "    def answerQueries(self, nums, queries):\n",
    "        pass\n",
    "\n",
    "\n",
    "s = Solution()\n",
    "\n",
    "print(s.answerQueries([4,5,2,1], [3,10,21]))\n"
   ]
  }
 ],
 "metadata": {
  "language_info": {
   "name": "python"
  },
  "orig_nbformat": 4
 },
 "nbformat": 4,
 "nbformat_minor": 2
}
