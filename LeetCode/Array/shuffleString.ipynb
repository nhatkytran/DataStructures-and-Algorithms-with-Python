{
 "cells": [
  {
   "cell_type": "code",
   "execution_count": 6,
   "metadata": {},
   "outputs": [
    {
     "name": "stdout",
     "output_type": "stream",
     "text": [
      "leetcode\n"
     ]
    }
   ],
   "source": [
    "class Solution:\n",
    "    def restoreString(self, s, indices):\n",
    "        characters = [None] * len(indices)\n",
    "        for character, index in zip(s, indices):\n",
    "            characters[index] = character\n",
    "        return ''.join(characters)\n",
    "    \n",
    "    def restoreString(self, s, indices):\n",
    "        indices = [[index, character] for character, index in zip(s, indices)]\n",
    "        for i in range(len(indices)):\n",
    "            index, character = indices[i][0], indices[i][1]\n",
    "            indices[index].append(character)\n",
    "        return ''.join(items[-1] for items in indices)\n",
    "    \n",
    "\n",
    "s = Solution()\n",
    "\n",
    "print(s.restoreString(\"codeleet\", [4,5,6,7,0,2,1,3]))\n"
   ]
  },
  {
   "cell_type": "code",
   "execution_count": null,
   "metadata": {},
   "outputs": [],
   "source": []
  }
 ],
 "metadata": {
  "kernelspec": {
   "display_name": "Python 3",
   "language": "python",
   "name": "python3"
  },
  "language_info": {
   "codemirror_mode": {
    "name": "ipython",
    "version": 3
   },
   "file_extension": ".py",
   "mimetype": "text/x-python",
   "name": "python",
   "nbconvert_exporter": "python",
   "pygments_lexer": "ipython3",
   "version": "3.10.2"
  },
  "orig_nbformat": 4
 },
 "nbformat": 4,
 "nbformat_minor": 2
}
