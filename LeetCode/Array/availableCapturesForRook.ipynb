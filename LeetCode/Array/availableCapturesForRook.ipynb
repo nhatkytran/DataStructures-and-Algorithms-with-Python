{
 "cells": [
  {
   "cell_type": "code",
   "execution_count": 18,
   "metadata": {},
   "outputs": [
    {
     "name": "stdout",
     "output_type": "stream",
     "text": [
      "3\n"
     ]
    }
   ],
   "source": [
    "class Solution:\n",
    "    def rowTargets(self, row, start, end, step):\n",
    "        targets = 0\n",
    "        for i in range(start, end, step):\n",
    "            if row[i] == 'B':\n",
    "                break\n",
    "            if row[i] == 'p':\n",
    "                targets += 1\n",
    "                break\n",
    "        return targets\n",
    "    \n",
    "    def columnTargets(self, board, column, start, end, step):\n",
    "        targets = 0\n",
    "        for i in range(start, end, step):\n",
    "            row = board[i]\n",
    "            if row[column] == 'B':\n",
    "                break\n",
    "            if row[column] == 'p':\n",
    "                targets += 1\n",
    "                break\n",
    "        return targets\n",
    "\n",
    "    def numRookCaptures(self, board):\n",
    "        rook = []\n",
    "        for i in range(8):\n",
    "            for j in range(8):\n",
    "                if board[i][j] == 'R':\n",
    "                    rook = [i, j]\n",
    "\n",
    "        targets = 0\n",
    "        rook_row, rook_column = rook\n",
    "\n",
    "        row = board[rook_row]\n",
    "        targets += self.rowTargets(row, rook_column - 1, -1, -1)\n",
    "        targets += self.rowTargets(row, rook_column + 1, 8, 1)\n",
    "\n",
    "        targets += self.columnTargets(board, rook_column, rook_row - 1, -1, -1)\n",
    "        targets += self.columnTargets(board, rook_column, rook_row + 1, 8, 1)\n",
    "\n",
    "        return targets\n",
    "\n",
    "    \n",
    "s = Solution()\n",
    "\n",
    "print(s.numRookCaptures([[\".\",\".\",\".\",\".\",\".\",\".\",\".\",\".\"],[\".\",\".\",\".\",\"p\",\".\",\".\",\".\",\".\"],[\".\",\".\",\".\",\"R\",\".\",\".\",\".\",\"p\"],[\".\",\".\",\".\",\".\",\".\",\".\",\".\",\".\"],[\".\",\".\",\".\",\".\",\".\",\".\",\".\",\".\"],[\".\",\".\",\".\",\"p\",\".\",\".\",\".\",\".\"],[\".\",\".\",\".\",\".\",\".\",\".\",\".\",\".\"],[\".\",\".\",\".\",\".\",\".\",\".\",\".\",\".\"]]))\n"
   ]
  },
  {
   "cell_type": "code",
   "execution_count": null,
   "metadata": {},
   "outputs": [],
   "source": []
  }
 ],
 "metadata": {
  "kernelspec": {
   "display_name": "Python 3",
   "language": "python",
   "name": "python3"
  },
  "language_info": {
   "codemirror_mode": {
    "name": "ipython",
    "version": 3
   },
   "file_extension": ".py",
   "mimetype": "text/x-python",
   "name": "python",
   "nbconvert_exporter": "python",
   "pygments_lexer": "ipython3",
   "version": "3.10.2"
  },
  "orig_nbformat": 4
 },
 "nbformat": 4,
 "nbformat_minor": 2
}
