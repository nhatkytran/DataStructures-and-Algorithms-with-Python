{
 "cells": [
  {
   "cell_type": "code",
   "execution_count": 8,
   "metadata": {},
   "outputs": [
    {
     "name": "stdout",
     "output_type": "stream",
     "text": [
      "4\n",
      "0\n"
     ]
    }
   ],
   "source": [
    "class Solution:\n",
    "    def countPairs(self, nums, k):\n",
    "        result = 0\n",
    "        for i in range(len(nums)):\n",
    "            for j in range(i + 1, len(nums)):\n",
    "                if nums[i] == nums[j] and (i * j) % k == 0:\n",
    "                    result += 1\n",
    "        return result\n",
    "    \n",
    "    def countPairs(self, nums, k):\n",
    "        hash_map = {}\n",
    "        result = 0\n",
    "        for i in range(len(nums)):\n",
    "            if nums[i] in hash_map:\n",
    "                for index in hash_map[nums[i]]:\n",
    "                    if (i * index) % k == 0:\n",
    "                        result += 1\n",
    "                hash_map[nums[i]].append(i)\n",
    "            else:\n",
    "                hash_map[nums[i]] = [i]\n",
    "        return result\n",
    "\n",
    "\n",
    "s = Solution()\n",
    "\n",
    "print(s.countPairs([3,1,2,2,2,1,3], 2))\n",
    "print(s.countPairs([1,2,3,4], 1))\n"
   ]
  },
  {
   "cell_type": "code",
   "execution_count": null,
   "metadata": {},
   "outputs": [],
   "source": []
  }
 ],
 "metadata": {
  "kernelspec": {
   "display_name": "Python 3",
   "language": "python",
   "name": "python3"
  },
  "language_info": {
   "codemirror_mode": {
    "name": "ipython",
    "version": 3
   },
   "file_extension": ".py",
   "mimetype": "text/x-python",
   "name": "python",
   "nbconvert_exporter": "python",
   "pygments_lexer": "ipython3",
   "version": "3.10.2"
  },
  "orig_nbformat": 4
 },
 "nbformat": 4,
 "nbformat_minor": 2
}
