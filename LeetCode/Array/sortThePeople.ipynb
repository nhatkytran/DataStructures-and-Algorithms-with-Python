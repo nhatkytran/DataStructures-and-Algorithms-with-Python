{
 "cells": [
  {
   "cell_type": "code",
   "execution_count": 9,
   "metadata": {},
   "outputs": [
    {
     "name": "stdout",
     "output_type": "stream",
     "text": [
      "['Mary', 'Emma', 'John']\n",
      "['Bob', 'Alice', 'Bob']\n"
     ]
    }
   ],
   "source": [
    "class Solution:\n",
    "    def sortPeople(self, names, heights):\n",
    "        sorted_info = sorted(zip(names, heights), reverse=True, key=lambda info: info[-1])\n",
    "        return [info[0] for info in sorted_info]\n",
    "\n",
    "\n",
    "s = Solution()\n",
    "\n",
    "print(s.sortPeople([\"Mary\",\"John\",\"Emma\"],  [180,165,170]))\n",
    "print(s.sortPeople([\"Alice\",\"Bob\",\"Bob\"],  [155,185,150]))\n"
   ]
  },
  {
   "cell_type": "code",
   "execution_count": null,
   "metadata": {},
   "outputs": [],
   "source": []
  }
 ],
 "metadata": {
  "kernelspec": {
   "display_name": "Python 3",
   "language": "python",
   "name": "python3"
  },
  "language_info": {
   "codemirror_mode": {
    "name": "ipython",
    "version": 3
   },
   "file_extension": ".py",
   "mimetype": "text/x-python",
   "name": "python",
   "nbconvert_exporter": "python",
   "pygments_lexer": "ipython3",
   "version": "3.10.2"
  },
  "orig_nbformat": 4
 },
 "nbformat": 4,
 "nbformat_minor": 2
}
