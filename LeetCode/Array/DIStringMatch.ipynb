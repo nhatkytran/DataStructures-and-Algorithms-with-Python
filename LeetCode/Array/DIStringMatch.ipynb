{
 "cells": [
  {
   "cell_type": "code",
   "execution_count": 15,
   "metadata": {},
   "outputs": [
    {
     "name": "stdout",
     "output_type": "stream",
     "text": [
      "[0, 4, 1, 3, 2]\n"
     ]
    }
   ],
   "source": [
    "class Solution:\n",
    "    def diStringMatch(self, s):\n",
    "        result = [None] * (len(s) + 1)\n",
    "        current_I = 0\n",
    "        index_of_D = []\n",
    "        for i in range(len(s)):\n",
    "            if s[i] == 'I':\n",
    "                result[i] = current_I\n",
    "                current_I += 1\n",
    "            elif s[i] == 'D':\n",
    "                index_of_D.append(i)\n",
    "        result[-1] = current_I\n",
    "        for i in range(len(index_of_D)):\n",
    "            result[index_of_D[i]] = current_I + len(index_of_D) - i\n",
    "        return result\n",
    "\n",
    "\n",
    "s = Solution()\n",
    "\n",
    "print(s.diStringMatch(\"IDID\"))\n"
   ]
  },
  {
   "cell_type": "code",
   "execution_count": null,
   "metadata": {},
   "outputs": [],
   "source": []
  }
 ],
 "metadata": {
  "kernelspec": {
   "display_name": "Python 3",
   "language": "python",
   "name": "python3"
  },
  "language_info": {
   "codemirror_mode": {
    "name": "ipython",
    "version": 3
   },
   "file_extension": ".py",
   "mimetype": "text/x-python",
   "name": "python",
   "nbconvert_exporter": "python",
   "pygments_lexer": "ipython3",
   "version": "3.10.2"
  },
  "orig_nbformat": 4
 },
 "nbformat": 4,
 "nbformat_minor": 2
}
