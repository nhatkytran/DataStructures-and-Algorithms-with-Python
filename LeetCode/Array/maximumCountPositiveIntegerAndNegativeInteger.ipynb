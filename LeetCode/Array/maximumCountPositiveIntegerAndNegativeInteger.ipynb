{
 "cells": [
  {
   "cell_type": "code",
   "execution_count": 2,
   "metadata": {},
   "outputs": [
    {
     "name": "stdout",
     "output_type": "stream",
     "text": [
      "3\n"
     ]
    }
   ],
   "source": [
    "class Solution:\n",
    "    def maximumCount(self, nums):\n",
    "        pos, neg = 0, 0\n",
    "        for num in nums:\n",
    "            if num > 0: pos += 1\n",
    "            if num < 0: neg += 1\n",
    "        return max(pos, neg)\n",
    "\n",
    "\n",
    "s = Solution()\n",
    "\n",
    "print(s.maximumCount([-2,-1,-1,1,2,3]))\n"
   ]
  },
  {
   "cell_type": "code",
   "execution_count": null,
   "metadata": {},
   "outputs": [],
   "source": []
  }
 ],
 "metadata": {
  "kernelspec": {
   "display_name": "Python 3",
   "language": "python",
   "name": "python3"
  },
  "language_info": {
   "codemirror_mode": {
    "name": "ipython",
    "version": 3
   },
   "file_extension": ".py",
   "mimetype": "text/x-python",
   "name": "python",
   "nbconvert_exporter": "python",
   "pygments_lexer": "ipython3",
   "version": "3.10.2"
  },
  "orig_nbformat": 4
 },
 "nbformat": 4,
 "nbformat_minor": 2
}
