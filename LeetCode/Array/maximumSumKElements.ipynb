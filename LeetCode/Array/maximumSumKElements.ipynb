{
 "cells": [
  {
   "cell_type": "code",
   "execution_count": 4,
   "metadata": {},
   "outputs": [
    {
     "name": "stdout",
     "output_type": "stream",
     "text": [
      "18\n",
      "11\n"
     ]
    }
   ],
   "source": [
    "class Solution:\n",
    "    def maximizeSum(self, nums, k):\n",
    "        return max(nums) * k + sum(range(k))\n",
    "\n",
    "\n",
    "s = Solution()\n",
    "\n",
    "print(s.maximizeSum([1, 2, 3, 4, 5], 3))\n",
    "print(s.maximizeSum([5, 5, 5], 2))\n"
   ]
  },
  {
   "cell_type": "code",
   "execution_count": null,
   "metadata": {},
   "outputs": [],
   "source": []
  }
 ],
 "metadata": {
  "kernelspec": {
   "display_name": "Python 3",
   "language": "python",
   "name": "python3"
  },
  "language_info": {
   "codemirror_mode": {
    "name": "ipython",
    "version": 3
   },
   "file_extension": ".py",
   "mimetype": "text/x-python",
   "name": "python",
   "nbconvert_exporter": "python",
   "pygments_lexer": "ipython3",
   "version": "3.10.2"
  },
  "orig_nbformat": 4
 },
 "nbformat": 4,
 "nbformat_minor": 2
}
