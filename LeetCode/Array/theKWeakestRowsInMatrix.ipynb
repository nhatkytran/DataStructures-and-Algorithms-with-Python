{
 "cells": [
  {
   "cell_type": "code",
   "execution_count": 7,
   "metadata": {},
   "outputs": [
    {
     "name": "stdout",
     "output_type": "stream",
     "text": [
      "[2, 0, 3]\n"
     ]
    }
   ],
   "source": [
    "class Solution:\n",
    "    def kWeakestRows(self, mat, k):\n",
    "        for i in range(len(mat)):\n",
    "            mat[i] = sum(mat[i]), i\n",
    "        mat.sort(key=lambda item: item[0])\n",
    "        result = []\n",
    "        for i in range(k):\n",
    "            result.append(mat[i][1])\n",
    "        return result\n",
    "\n",
    "\n",
    "s = Solution()\n",
    "\n",
    "print(s.kWeakestRows([[1,1,0,0,0],\n",
    "                      [1,1,1,1,0],\n",
    "                      [1,0,0,0,0],\n",
    "                      [1,1,0,0,0],\n",
    "                      [1,1,1,1,1]], k = 3))\n"
   ]
  },
  {
   "cell_type": "code",
   "execution_count": null,
   "metadata": {},
   "outputs": [],
   "source": []
  }
 ],
 "metadata": {
  "kernelspec": {
   "display_name": "Python 3",
   "language": "python",
   "name": "python3"
  },
  "language_info": {
   "codemirror_mode": {
    "name": "ipython",
    "version": 3
   },
   "file_extension": ".py",
   "mimetype": "text/x-python",
   "name": "python",
   "nbconvert_exporter": "python",
   "pygments_lexer": "ipython3",
   "version": "3.10.2"
  },
  "orig_nbformat": 4
 },
 "nbformat": 4,
 "nbformat_minor": 2
}
