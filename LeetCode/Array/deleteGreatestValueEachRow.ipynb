{
 "cells": [
  {
   "cell_type": "code",
   "execution_count": 5,
   "metadata": {},
   "outputs": [
    {
     "name": "stdout",
     "output_type": "stream",
     "text": [
      "8\n",
      "10\n"
     ]
    }
   ],
   "source": [
    "class Solution:\n",
    "    # O(m * n**2)\n",
    "    def deleteGreatestValue(self, grid):\n",
    "        if not grid:\n",
    "            return 0\n",
    "        m = len(grid)\n",
    "        n = len(grid[0])\n",
    "        result = 0\n",
    "        for _ in range(n):\n",
    "            max_value = float('-inf')\n",
    "            for j in range(m):\n",
    "                row = grid[j]\n",
    "                row_max_value = max(row)\n",
    "                if row_max_value > max_value:\n",
    "                    max_value = row_max_value\n",
    "                row.remove(row_max_value)\n",
    "            result += max_value\n",
    "        return result\n",
    "\n",
    "    # O(m * nlogn)\n",
    "    def deleteGreatestValue(self, grid):\n",
    "        if not grid:\n",
    "            return 0\n",
    "        for row in grid:\n",
    "            row.sort()\n",
    "        result = 0\n",
    "        n = len(grid[0])\n",
    "        for i in range(n):\n",
    "            max_value = float('-inf')\n",
    "            for row in grid:\n",
    "                if row[i] > max_value:\n",
    "                    max_value = row[i]\n",
    "            result += max_value\n",
    "        return result\n",
    "\n",
    "\n",
    "s = Solution()\n",
    "\n",
    "print(s.deleteGreatestValue([[1,2,4],[3,3,1]]))\n",
    "print(s.deleteGreatestValue([[10]]))\n"
   ]
  },
  {
   "cell_type": "code",
   "execution_count": null,
   "metadata": {},
   "outputs": [],
   "source": []
  }
 ],
 "metadata": {
  "kernelspec": {
   "display_name": "Python 3",
   "language": "python",
   "name": "python3"
  },
  "language_info": {
   "codemirror_mode": {
    "name": "ipython",
    "version": 3
   },
   "file_extension": ".py",
   "mimetype": "text/x-python",
   "name": "python",
   "nbconvert_exporter": "python",
   "pygments_lexer": "ipython3",
   "version": "3.10.2"
  },
  "orig_nbformat": 4
 },
 "nbformat": 4,
 "nbformat_minor": 2
}
