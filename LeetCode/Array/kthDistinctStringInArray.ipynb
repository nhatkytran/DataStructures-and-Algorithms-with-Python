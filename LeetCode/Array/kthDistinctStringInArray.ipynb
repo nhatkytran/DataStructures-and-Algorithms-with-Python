{
 "cells": [
  {
   "cell_type": "code",
   "execution_count": 9,
   "metadata": {},
   "outputs": [
    {
     "name": "stdout",
     "output_type": "stream",
     "text": [
      "a\n",
      "aaa\n",
      "dq\n"
     ]
    }
   ],
   "source": [
    "class Solution:\n",
    "    def kthDistinct(self, arr, k):\n",
    "        hash_set = set()\n",
    "        discards = set()\n",
    "        for i in range(len(arr)):\n",
    "            if arr[i] not in hash_set and arr[i] not in discards:\n",
    "                hash_set.add(arr[i])\n",
    "            else:\n",
    "                hash_set.discard(arr[i])\n",
    "                discards.add(arr[i])\n",
    "        if len(hash_set) < k:\n",
    "            return \"\"\n",
    "        track = [char for char in arr if char in hash_set]\n",
    "        return track[k - 1]\n",
    "\n",
    "\n",
    "s = Solution()\n",
    "\n",
    "print(s.kthDistinct([\"d\",\"b\",\"c\",\"b\",\"c\",\"a\"], 2))\n",
    "print(s.kthDistinct([\"aaa\",\"aa\",\"a\"], 1))\n",
    "print(s.kthDistinct([\"c\",\"exjk\",\"nbmg\",\"kgnas\",\"s\",\"oydx\",\"ghpao\",\"c\",\"r\",\"ohdm\",\"fq\",\"ashgg\",\"mm\",\"cc\",\"mymy\",\"w\",\"t\",\"neb\",\"grjdb\",\"cukk\",\"ujyhn\",\"dq\",\"hhuo\",\"qu\",\"seslw\",\"ybulz\",\"iug\",\"rs\",\"kyfu\",\"krz\",\"nw\",\"txnn\",\"r\",\"zpuao\",\"sh\",\"rfc\",\"c\",\"hgr\",\"jfia\",\"egm\",\"gmuuv\",\"gh\",\"x\",\"nfvgv\",\"ibo\",\"al\",\"wn\",\"o\",\"dyu\",\"zgkk\",\"gdzrf\",\"m\",\"ui\",\"xwsj\",\"zeld\",\"muowr\",\"d\",\"xgiu\",\"yfu\"], 19))\n"
   ]
  },
  {
   "cell_type": "code",
   "execution_count": null,
   "metadata": {},
   "outputs": [],
   "source": []
  }
 ],
 "metadata": {
  "kernelspec": {
   "display_name": "Python 3",
   "language": "python",
   "name": "python3"
  },
  "language_info": {
   "codemirror_mode": {
    "name": "ipython",
    "version": 3
   },
   "file_extension": ".py",
   "mimetype": "text/x-python",
   "name": "python",
   "nbconvert_exporter": "python",
   "pygments_lexer": "ipython3",
   "version": "3.10.2"
  },
  "orig_nbformat": 4
 },
 "nbformat": 4,
 "nbformat_minor": 2
}
