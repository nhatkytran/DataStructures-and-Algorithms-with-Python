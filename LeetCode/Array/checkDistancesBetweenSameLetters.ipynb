{
 "cells": [
  {
   "cell_type": "code",
   "execution_count": 14,
   "metadata": {},
   "outputs": [
    {
     "name": "stdout",
     "output_type": "stream",
     "text": [
      "True\n"
     ]
    }
   ],
   "source": [
    "class Solution:\n",
    "    def checkDistances(self, s, distance):\n",
    "        alpha = 'abcdefghijklmnopqrstuvwxyz'\n",
    "        for char, dis in zip(alpha, distance):\n",
    "            try:\n",
    "                indices = []\n",
    "                while len(indices) < 2:\n",
    "                    if len(indices) == 0:\n",
    "                        indices.append(s.index(char))\n",
    "                    else:\n",
    "                        indices.append(s.index(char, indices[0] + 1))\n",
    "                if indices[1] - indices[0] - 1 != dis:\n",
    "                    return False\n",
    "            except ValueError:\n",
    "                pass\n",
    "        return True\n",
    "\n",
    "\n",
    "s = Solution()\n",
    "\n",
    "print(s.checkDistances(\"abaccb\", distance = [1,3,0,5,0,0,0,0,0,0,0,0,0,0,0,0,0,0,0,0,0,0,0,0,0,0]))\n"
   ]
  },
  {
   "cell_type": "code",
   "execution_count": null,
   "metadata": {},
   "outputs": [],
   "source": []
  }
 ],
 "metadata": {
  "kernelspec": {
   "display_name": "Python 3",
   "language": "python",
   "name": "python3"
  },
  "language_info": {
   "codemirror_mode": {
    "name": "ipython",
    "version": 3
   },
   "file_extension": ".py",
   "mimetype": "text/x-python",
   "name": "python",
   "nbconvert_exporter": "python",
   "pygments_lexer": "ipython3",
   "version": "3.10.2"
  },
  "orig_nbformat": 4
 },
 "nbformat": 4,
 "nbformat_minor": 2
}
