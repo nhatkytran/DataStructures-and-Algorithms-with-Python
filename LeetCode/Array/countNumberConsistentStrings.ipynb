{
 "cells": [
  {
   "cell_type": "code",
   "execution_count": 12,
   "metadata": {},
   "outputs": [
    {
     "name": "stdout",
     "output_type": "stream",
     "text": [
      "2\n"
     ]
    }
   ],
   "source": [
    "class Solution:\n",
    "    def countConsistentStrings(self, allowed, words):\n",
    "        allowed = set(allowed)\n",
    "        total = 0\n",
    "        for word in words:\n",
    "            if set(word).issubset(allowed):\n",
    "                total += 1\n",
    "        return total\n",
    "    \n",
    "    def countConsistentStrings(self, allowed, words):\n",
    "        allowed = set(allowed)\n",
    "        total = 0\n",
    "        for word in words:\n",
    "            word = set(word)\n",
    "            if len(word) <= len(allowed) and word.issubset(allowed):\n",
    "                total += 1\n",
    "        return total\n",
    "\n",
    "\n",
    "s = Solution()\n",
    "\n",
    "print(s.countConsistentStrings(\"ab\", [\"ad\", \"bd\", \"aaab\", \"baa\", \"badab\"]))\n"
   ]
  },
  {
   "cell_type": "code",
   "execution_count": null,
   "metadata": {},
   "outputs": [],
   "source": []
  }
 ],
 "metadata": {
  "kernelspec": {
   "display_name": "Python 3",
   "language": "python",
   "name": "python3"
  },
  "language_info": {
   "codemirror_mode": {
    "name": "ipython",
    "version": 3
   },
   "file_extension": ".py",
   "mimetype": "text/x-python",
   "name": "python",
   "nbconvert_exporter": "python",
   "pygments_lexer": "ipython3",
   "version": "3.10.2"
  },
  "orig_nbformat": 4
 },
 "nbformat": 4,
 "nbformat_minor": 2
}
