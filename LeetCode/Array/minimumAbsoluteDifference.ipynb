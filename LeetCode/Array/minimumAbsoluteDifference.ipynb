{
 "cells": [
  {
   "cell_type": "code",
   "execution_count": 3,
   "metadata": {},
   "outputs": [
    {
     "name": "stdout",
     "output_type": "stream",
     "text": [
      "[[1, 2], [2, 3], [3, 4]]\n"
     ]
    }
   ],
   "source": [
    "class Solution:\n",
    "    def minimumAbsDifference(self, arr):\n",
    "        arr.sort()\n",
    "        min_value = min(arr[i] - arr[i - 1] for i in range(1, len(arr)))\n",
    "        result = []\n",
    "        for i in range(1, len(arr)):\n",
    "            if arr[i] - arr[i - 1] == min_value:\n",
    "                result.append([arr[i - 1], arr[i]])\n",
    "        return result\n",
    "\n",
    "\n",
    "s = Solution()\n",
    "\n",
    "print(s.minimumAbsDifference([4,2,1,3]))\n"
   ]
  },
  {
   "cell_type": "code",
   "execution_count": null,
   "metadata": {},
   "outputs": [],
   "source": []
  }
 ],
 "metadata": {
  "kernelspec": {
   "display_name": "Python 3",
   "language": "python",
   "name": "python3"
  },
  "language_info": {
   "codemirror_mode": {
    "name": "ipython",
    "version": 3
   },
   "file_extension": ".py",
   "mimetype": "text/x-python",
   "name": "python",
   "nbconvert_exporter": "python",
   "pygments_lexer": "ipython3",
   "version": "3.10.2"
  },
  "orig_nbformat": 4
 },
 "nbformat": 4,
 "nbformat_minor": 2
}
