{
 "cells": [
  {
   "cell_type": "code",
   "execution_count": 5,
   "metadata": {},
   "outputs": [
    {
     "name": "stdout",
     "output_type": "stream",
     "text": [
      "['e', 'l', 'l']\n"
     ]
    }
   ],
   "source": [
    "class Solution:\n",
    "    def commonChars(self, words):\n",
    "        maps = []\n",
    "        for word in words:\n",
    "            hash_map = {}\n",
    "            for char in word:\n",
    "                hash_map[char] = hash_map.get(char, 0) + 1\n",
    "            maps.append(hash_map)\n",
    "        result = []\n",
    "        for char in list('abcdefghijklmnopqrstuvwxyz'):\n",
    "            valid, min_value = True, float('inf')\n",
    "            for map_item in maps:\n",
    "                if char not in map_item:\n",
    "                    valid = False\n",
    "                    break\n",
    "                min_value = min(min_value, map_item[char])\n",
    "            if valid:\n",
    "                result.extend([char] * min_value)\n",
    "        return result\n",
    "\n",
    "\n",
    "s = Solution()\n",
    "\n",
    "print(s.commonChars([\"bella\",\"label\",\"roller\"]))\n"
   ]
  },
  {
   "cell_type": "code",
   "execution_count": null,
   "metadata": {},
   "outputs": [],
   "source": []
  }
 ],
 "metadata": {
  "kernelspec": {
   "display_name": "Python 3",
   "language": "python",
   "name": "python3"
  },
  "language_info": {
   "codemirror_mode": {
    "name": "ipython",
    "version": 3
   },
   "file_extension": ".py",
   "mimetype": "text/x-python",
   "name": "python",
   "nbconvert_exporter": "python",
   "pygments_lexer": "ipython3",
   "version": "3.10.2"
  },
  "orig_nbformat": 4
 },
 "nbformat": 4,
 "nbformat_minor": 2
}
