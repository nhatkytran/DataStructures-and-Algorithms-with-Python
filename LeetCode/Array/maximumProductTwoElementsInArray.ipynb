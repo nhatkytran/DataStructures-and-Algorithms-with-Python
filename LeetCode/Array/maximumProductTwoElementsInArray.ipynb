{
 "cells": [
  {
   "cell_type": "code",
   "execution_count": 3,
   "metadata": {},
   "outputs": [
    {
     "name": "stdout",
     "output_type": "stream",
     "text": [
      "12\n",
      "16\n",
      "12\n"
     ]
    }
   ],
   "source": [
    "class Solution:\n",
    "    def maxProduct(self, nums):\n",
    "        max1, max2 = float('-inf'), float('-inf')\n",
    "        for num in nums:\n",
    "            if num > max1:\n",
    "                max1, max2 = num, max1\n",
    "            elif num > max2:\n",
    "                max2 = num\n",
    "        return (max1 - 1) * (max2 - 1)\n",
    "\n",
    "\n",
    "s = Solution()\n",
    "\n",
    "print(s.maxProduct([3,4,5,2]))\n",
    "print(s.maxProduct([1,5,4,5]))\n",
    "print(s.maxProduct([3,7]))\n"
   ]
  },
  {
   "cell_type": "code",
   "execution_count": null,
   "metadata": {},
   "outputs": [],
   "source": []
  }
 ],
 "metadata": {
  "kernelspec": {
   "display_name": "Python 3",
   "language": "python",
   "name": "python3"
  },
  "language_info": {
   "codemirror_mode": {
    "name": "ipython",
    "version": 3
   },
   "file_extension": ".py",
   "mimetype": "text/x-python",
   "name": "python",
   "nbconvert_exporter": "python",
   "pygments_lexer": "ipython3",
   "version": "3.10.2"
  },
  "orig_nbformat": 4
 },
 "nbformat": 4,
 "nbformat_minor": 2
}
