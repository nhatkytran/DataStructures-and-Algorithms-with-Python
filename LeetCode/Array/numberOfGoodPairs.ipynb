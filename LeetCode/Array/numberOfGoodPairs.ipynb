{
 "cells": [
  {
   "cell_type": "code",
   "execution_count": 5,
   "metadata": {},
   "outputs": [
    {
     "name": "stdout",
     "output_type": "stream",
     "text": [
      "4\n"
     ]
    }
   ],
   "source": [
    "class Solution:\n",
    "    def numIdenticalPairs(self, nums):\n",
    "        # 1 1 (2) --> 1\n",
    "        # 1 1 1 (3) --> 3\n",
    "        # 1 1 1 1 (4) --> 6\n",
    "        # 1 1 1 1 1 (5) --> 10\n",
    "        # 1 1 1 1 1 1 (6) --> 15\n",
    "        # --> 0 + 1 + 2 + 3 + (n - 1) --> n * (n - 1) / 2\n",
    "        hash_map = {}\n",
    "        for num in nums:\n",
    "            hash_map[num] = hash_map.get(num, 0) + 1\n",
    "        result = 0\n",
    "        for times in hash_map.values():\n",
    "            result += int(times * (times - 1) / 2)\n",
    "        return result\n",
    "    \n",
    "    def numIdenticalPairs(self, nums):\n",
    "        hash_map = {}\n",
    "        result = 0\n",
    "        for num in nums:\n",
    "            if num in hash_map:\n",
    "                result += hash_map[num]\n",
    "                hash_map[num] += 1\n",
    "            else:\n",
    "                hash_map[num] = 1\n",
    "        return result\n",
    "    \n",
    "\n",
    "s = Solution()\n",
    "\n",
    "print(s.numIdenticalPairs([1, 2, 3, 1, 1, 3]))\n"
   ]
  },
  {
   "cell_type": "code",
   "execution_count": null,
   "metadata": {},
   "outputs": [],
   "source": []
  }
 ],
 "metadata": {
  "kernelspec": {
   "display_name": "Python 3",
   "language": "python",
   "name": "python3"
  },
  "language_info": {
   "codemirror_mode": {
    "name": "ipython",
    "version": 3
   },
   "file_extension": ".py",
   "mimetype": "text/x-python",
   "name": "python",
   "nbconvert_exporter": "python",
   "pygments_lexer": "ipython3",
   "version": "3.10.2"
  },
  "orig_nbformat": 4
 },
 "nbformat": 4,
 "nbformat_minor": 2
}
