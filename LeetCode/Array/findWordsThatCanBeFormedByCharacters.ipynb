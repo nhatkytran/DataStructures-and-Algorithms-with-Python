{
 "cells": [
  {
   "cell_type": "code",
   "execution_count": 32,
   "metadata": {},
   "outputs": [
    {
     "name": "stdout",
     "output_type": "stream",
     "text": [
      "6\n",
      "10\n"
     ]
    }
   ],
   "source": [
    "class Solution:\n",
    "    def countCharacters(self, words, chars):\n",
    "        hash_map = {}\n",
    "        for char in chars:\n",
    "            hash_map[char] = hash_map.get(char, 0) + 1\n",
    "        result = 0\n",
    "        for word in words:\n",
    "            hm = {}\n",
    "            for char in word:\n",
    "                hm[char] = hm.get(char, 0) + 1\n",
    "            valid = True\n",
    "            for char in hm:\n",
    "                if char not in hash_map or hm[char] > hash_map[char]:\n",
    "                    valid = False\n",
    "            if valid: result += len(word)\n",
    "        return result\n",
    "\n",
    "\n",
    "s = Solution()\n",
    "\n",
    "print(s.countCharacters([\"cat\",\"bt\",\"hat\",\"tree\"], \"atach\"))\n",
    "print(s.countCharacters([\"hello\",\"world\",\"leetcode\"], \"welldonehoneyr\"))\n"
   ]
  },
  {
   "cell_type": "code",
   "execution_count": null,
   "metadata": {},
   "outputs": [],
   "source": []
  }
 ],
 "metadata": {
  "kernelspec": {
   "display_name": "Python 3",
   "language": "python",
   "name": "python3"
  },
  "language_info": {
   "codemirror_mode": {
    "name": "ipython",
    "version": 3
   },
   "file_extension": ".py",
   "mimetype": "text/x-python",
   "name": "python",
   "nbconvert_exporter": "python",
   "pygments_lexer": "ipython3",
   "version": "3.10.2"
  },
  "orig_nbformat": 4
 },
 "nbformat": 4,
 "nbformat_minor": 2
}
