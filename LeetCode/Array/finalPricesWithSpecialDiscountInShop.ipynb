{
 "cells": [
  {
   "cell_type": "code",
   "execution_count": 14,
   "metadata": {},
   "outputs": [
    {
     "name": "stdout",
     "output_type": "stream",
     "text": [
      "[4, 2, 4, 2, 3]\n"
     ]
    }
   ],
   "source": [
    "class Solution:\n",
    "    def finalPrices(self, prices):\n",
    "        for i in range(len(prices)):\n",
    "            cur_price = prices[i]\n",
    "            discount = 0\n",
    "            for j in range(i + 1, len(prices)):\n",
    "                if prices[j] <= cur_price:\n",
    "                    discount = prices[j]\n",
    "                    break\n",
    "            prices[i] = cur_price - discount\n",
    "        return prices\n",
    "    \n",
    "    def finalPrices(self, prices):\n",
    "        stack = []\n",
    "        for index, price in enumerate(prices):\n",
    "            while stack and prices[stack[-1]] >= price:\n",
    "                prices[stack.pop()] -= price\n",
    "            stack.append(index)\n",
    "        return prices\n",
    "\n",
    "\n",
    "s = Solution()\n",
    "\n",
    "print(s.finalPrices([8,4,6,2,3]))\n",
    "# print(s.finalPrices([10,1,1,6]))\n"
   ]
  },
  {
   "cell_type": "code",
   "execution_count": null,
   "metadata": {},
   "outputs": [],
   "source": []
  }
 ],
 "metadata": {
  "kernelspec": {
   "display_name": "Python 3",
   "language": "python",
   "name": "python3"
  },
  "language_info": {
   "codemirror_mode": {
    "name": "ipython",
    "version": 3
   },
   "file_extension": ".py",
   "mimetype": "text/x-python",
   "name": "python",
   "nbconvert_exporter": "python",
   "pygments_lexer": "ipython3",
   "version": "3.10.2"
  },
  "orig_nbformat": 4
 },
 "nbformat": 4,
 "nbformat_minor": 2
}
