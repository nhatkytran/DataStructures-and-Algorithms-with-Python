{
 "cells": [
  {
   "cell_type": "code",
   "execution_count": 1,
   "metadata": {},
   "outputs": [
    {
     "name": "stdout",
     "output_type": "stream",
     "text": [
      "[True, True, True, False, True]\n"
     ]
    }
   ],
   "source": [
    "class Solution:\n",
    "    def kidsWithCandies(self, candies, extraCandies):\n",
    "        max_candies = 0\n",
    "        for num in candies:\n",
    "            if num > max_candies:\n",
    "                max_candies = num\n",
    "        for i in range(len(candies)):\n",
    "            if candies[i] + extraCandies >= max_candies:\n",
    "                candies[i] = True\n",
    "            else:\n",
    "                candies[i] = False\n",
    "        return candies\n",
    "    \n",
    "    def kidsWithCandies(self, candies, extraCandies):\n",
    "        high = max(candies) - extraCandies\n",
    "        for i in range(len(candies)):\n",
    "            candies[i] = candies[i] >= high\n",
    "        return candies\n",
    "    \n",
    "\n",
    "s = Solution()\n",
    "\n",
    "print(s.kidsWithCandies([2, 3, 5, 1, 3], 3))\n"
   ]
  },
  {
   "cell_type": "code",
   "execution_count": null,
   "metadata": {},
   "outputs": [],
   "source": []
  }
 ],
 "metadata": {
  "kernelspec": {
   "display_name": "Python 3",
   "language": "python",
   "name": "python3"
  },
  "language_info": {
   "codemirror_mode": {
    "name": "ipython",
    "version": 3
   },
   "file_extension": ".py",
   "mimetype": "text/x-python",
   "name": "python",
   "nbconvert_exporter": "python",
   "pygments_lexer": "ipython3",
   "version": "3.10.2"
  },
  "orig_nbformat": 4
 },
 "nbformat": 4,
 "nbformat_minor": 2
}
