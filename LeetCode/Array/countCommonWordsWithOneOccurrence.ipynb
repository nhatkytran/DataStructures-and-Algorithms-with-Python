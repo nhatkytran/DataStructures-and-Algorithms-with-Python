{
 "cells": [
  {
   "cell_type": "code",
   "execution_count": 4,
   "metadata": {},
   "outputs": [
    {
     "name": "stdout",
     "output_type": "stream",
     "text": [
      "2\n"
     ]
    }
   ],
   "source": [
    "class Solution:\n",
    "    def countWords(self, words1, words2):\n",
    "        h1, h2 = {}, {}\n",
    "        for word in words1:\n",
    "            h1[word] = h1.get(word, 0) + 1\n",
    "        for word in words2:\n",
    "            h2[word] = h2.get(word, 0) + 1\n",
    "        s1 = set(key for key, value in h1.items() if value == 1)\n",
    "        s2 = set(key for key, value in h2.items() if value == 1)\n",
    "        return len(s1 & s2)\n",
    "\n",
    "\n",
    "s = Solution()\n",
    "\n",
    "print(s.countWords([\"leetcode\",\"is\",\"amazing\",\"as\",\"is\"], [\"amazing\",\"leetcode\",\"is\"]))\n"
   ]
  },
  {
   "cell_type": "code",
   "execution_count": null,
   "metadata": {},
   "outputs": [],
   "source": []
  }
 ],
 "metadata": {
  "kernelspec": {
   "display_name": "Python 3",
   "language": "python",
   "name": "python3"
  },
  "language_info": {
   "codemirror_mode": {
    "name": "ipython",
    "version": 3
   },
   "file_extension": ".py",
   "mimetype": "text/x-python",
   "name": "python",
   "nbconvert_exporter": "python",
   "pygments_lexer": "ipython3",
   "version": "3.10.2"
  },
  "orig_nbformat": 4
 },
 "nbformat": 4,
 "nbformat_minor": 2
}
