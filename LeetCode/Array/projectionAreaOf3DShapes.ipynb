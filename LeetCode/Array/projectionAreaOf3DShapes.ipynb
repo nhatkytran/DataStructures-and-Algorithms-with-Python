{
 "cells": [
  {
   "cell_type": "code",
   "execution_count": 3,
   "metadata": {},
   "outputs": [
    {
     "name": "stdout",
     "output_type": "stream",
     "text": [
      "17\n"
     ]
    }
   ],
   "source": [
    "class Solution:\n",
    "    def projectionArea(self, grid):\n",
    "        result = 0\n",
    "        for row in grid:\n",
    "            result += max(row)\n",
    "            result += sum(1 if num != 0 else 0 for num in row)\n",
    "        for i in range(len(grid[0])):\n",
    "            max_value = 0\n",
    "            for row in grid:\n",
    "                if row[i] > max_value:\n",
    "                    max_value = row[i]\n",
    "            result += max_value\n",
    "        return result\n",
    "\n",
    "\n",
    "s = Solution()\n",
    "\n",
    "print(s.projectionArea([[1,2],[3,4]]))\n"
   ]
  },
  {
   "cell_type": "code",
   "execution_count": null,
   "metadata": {},
   "outputs": [],
   "source": []
  }
 ],
 "metadata": {
  "kernelspec": {
   "display_name": "Python 3",
   "language": "python",
   "name": "python3"
  },
  "language_info": {
   "codemirror_mode": {
    "name": "ipython",
    "version": 3
   },
   "file_extension": ".py",
   "mimetype": "text/x-python",
   "name": "python",
   "nbconvert_exporter": "python",
   "pygments_lexer": "ipython3",
   "version": "3.10.2"
  },
  "orig_nbformat": 4
 },
 "nbformat": 4,
 "nbformat_minor": 2
}
