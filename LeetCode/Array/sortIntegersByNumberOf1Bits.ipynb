{
 "cells": [
  {
   "cell_type": "code",
   "execution_count": 23,
   "metadata": {},
   "outputs": [
    {
     "name": "stdout",
     "output_type": "stream",
     "text": [
      "[0, 1, 2, 4, 8, 3, 5, 6, 7]\n"
     ]
    }
   ],
   "source": [
    "class Solution:\n",
    "    def sortByBits(self, arr):\n",
    "        def numOfBits(num):\n",
    "            result = 0\n",
    "            while num > 0:\n",
    "                result += num & 1\n",
    "                num >>= 1\n",
    "            return result\n",
    "        # return sorted(arr, key=lambda num: (numOfBits(num), num))\n",
    "        arr.sort(key=lambda num: (numOfBits(num), num))\n",
    "        return arr\n",
    "    \n",
    "    def sortByBits(self, arr):\n",
    "        arr.sort(key=lambda num: (bin(num).count('1'), num))\n",
    "        return arr\n",
    "    \n",
    "    def sortByBits(self, arr):\n",
    "        arr.sort(key=lambda num: bin(num).count('1'))\n",
    "        bucket = [[] for _ in range(32)]\n",
    "        for num in arr:\n",
    "            bucket[bin(num).count('1')].append(num)\n",
    "        for items in bucket:\n",
    "            items.sort()\n",
    "        result = []\n",
    "        for items in bucket:\n",
    "            result.extend(items)\n",
    "        return result\n",
    "\n",
    "\n",
    "s = Solution()\n",
    "\n",
    "print(s.sortByBits([0,1,2,3,4,5,6,7,8]))\n"
   ]
  },
  {
   "cell_type": "code",
   "execution_count": null,
   "metadata": {},
   "outputs": [],
   "source": []
  }
 ],
 "metadata": {
  "kernelspec": {
   "display_name": "Python 3",
   "language": "python",
   "name": "python3"
  },
  "language_info": {
   "codemirror_mode": {
    "name": "ipython",
    "version": 3
   },
   "file_extension": ".py",
   "mimetype": "text/x-python",
   "name": "python",
   "nbconvert_exporter": "python",
   "pygments_lexer": "ipython3",
   "version": "3.10.2"
  },
  "orig_nbformat": 4
 },
 "nbformat": 4,
 "nbformat_minor": 2
}
