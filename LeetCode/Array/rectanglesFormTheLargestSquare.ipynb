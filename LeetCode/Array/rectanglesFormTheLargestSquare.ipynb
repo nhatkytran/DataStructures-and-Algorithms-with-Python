{
 "cells": [
  {
   "cell_type": "code",
   "execution_count": 6,
   "metadata": {},
   "outputs": [
    {
     "name": "stdout",
     "output_type": "stream",
     "text": [
      "3\n"
     ]
    }
   ],
   "source": [
    "class Solution:\n",
    "    def countGoodRectangles(self, rectangles):\n",
    "        squares = [min(rectangle) for rectangle in rectangles]\n",
    "        max_square = max(squares)\n",
    "        return sum(1 for square in squares if square == max_square)\n",
    "    \n",
    "    def countGoodRectangles(self, rectangles):\n",
    "        counter = 0\n",
    "        max_side = float('-inf')\n",
    "        for rect in rectangles:\n",
    "            length = min(rect)\n",
    "            if length == max_side:\n",
    "                counter += 1\n",
    "            if length > max_side:\n",
    "                max_side = length\n",
    "                counter = 1\n",
    "        return counter\n",
    "\n",
    "\n",
    "s = Solution()\n",
    "\n",
    "print(s.countGoodRectangles([[5,8],[3,9],[5,12],[16,5]]))\n"
   ]
  },
  {
   "cell_type": "code",
   "execution_count": null,
   "metadata": {},
   "outputs": [],
   "source": []
  }
 ],
 "metadata": {
  "kernelspec": {
   "display_name": "Python 3",
   "language": "python",
   "name": "python3"
  },
  "language_info": {
   "codemirror_mode": {
    "name": "ipython",
    "version": 3
   },
   "file_extension": ".py",
   "mimetype": "text/x-python",
   "name": "python",
   "nbconvert_exporter": "python",
   "pygments_lexer": "ipython3",
   "version": "3.10.2"
  },
  "orig_nbformat": 4
 },
 "nbformat": 4,
 "nbformat_minor": 2
}
