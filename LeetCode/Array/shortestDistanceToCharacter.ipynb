{
 "cells": [
  {
   "cell_type": "code",
   "execution_count": 31,
   "metadata": {},
   "outputs": [
    {
     "name": "stdout",
     "output_type": "stream",
     "text": [
      "[3, 2, 1, 0, 1, 0, 0, 1, 2, 2, 1, 0]\n"
     ]
    }
   ],
   "source": [
    "class Solution:\n",
    "    def shortestToChar(self, s, c):\n",
    "        result = []\n",
    "        indices = []\n",
    "        result = []\n",
    "        for i in range(len(s)):\n",
    "            if s[i] == c:\n",
    "                indices.append(i)\n",
    "                result.append(None)\n",
    "            else:\n",
    "                result.append([0, 0])\n",
    "        for index in indices:\n",
    "            i = index - 1\n",
    "            count = 1\n",
    "            while i >= 0 and result[i] != None:\n",
    "                result[i][0] += count\n",
    "                count += 1\n",
    "                i -= 1\n",
    "            j = index + 1\n",
    "            count = 1\n",
    "            while j < len(result) and result[j] != None:\n",
    "                result[j][1] += count\n",
    "                count += 1\n",
    "                j += 1\n",
    "        final = []\n",
    "        for item in result:\n",
    "            if item == None:\n",
    "                distance = 0\n",
    "            else:\n",
    "                distance = min(item)\n",
    "                if distance == 0:\n",
    "                    distance = max(item)\n",
    "            final.append(distance)\n",
    "        return final\n",
    "\n",
    "\n",
    "s = Solution()\n",
    "\n",
    "print(s.shortestToChar(\"loveleetcode\", \"e\"))\n"
   ]
  },
  {
   "cell_type": "code",
   "execution_count": null,
   "metadata": {},
   "outputs": [],
   "source": []
  }
 ],
 "metadata": {
  "kernelspec": {
   "display_name": "Python 3",
   "language": "python",
   "name": "python3"
  },
  "language_info": {
   "codemirror_mode": {
    "name": "ipython",
    "version": 3
   },
   "file_extension": ".py",
   "mimetype": "text/x-python",
   "name": "python",
   "nbconvert_exporter": "python",
   "pygments_lexer": "ipython3",
   "version": "3.10.2"
  },
  "orig_nbformat": 4
 },
 "nbformat": 4,
 "nbformat_minor": 2
}
