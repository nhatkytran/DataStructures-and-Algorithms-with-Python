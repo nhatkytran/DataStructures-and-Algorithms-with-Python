{
 "cells": [
  {
   "cell_type": "code",
   "execution_count": 19,
   "metadata": {},
   "outputs": [
    {
     "name": "stdout",
     "output_type": "stream",
     "text": [
      "[3, 2, 1, 0, 1, 0, 0, 1, 2, 2, 1, 0]\n"
     ]
    }
   ],
   "source": [
    "class Solution:\n",
    "    def shortestToChar(self, s, c):\n",
    "        result = []\n",
    "        indices = []\n",
    "        result = []\n",
    "        for i in range(len(s)):\n",
    "            if s[i] == c:\n",
    "                indices.append(i)\n",
    "                result.append(None)\n",
    "            else:\n",
    "                result.append([0, 0])\n",
    "        for index in indices:\n",
    "            i = index - 1\n",
    "            count = 1\n",
    "            while i >= 0 and result[i] != None:\n",
    "                result[i][0] += count\n",
    "                count += 1\n",
    "                i -= 1\n",
    "            j = index + 1\n",
    "            count = 1\n",
    "            while j < len(result) and result[j] != None:\n",
    "                result[j][1] += count\n",
    "                count += 1\n",
    "                j += 1\n",
    "        final = []\n",
    "        for item in result:\n",
    "            if item == None:\n",
    "                distance = 0\n",
    "            else:\n",
    "                distance = min(item)\n",
    "                if distance == 0:\n",
    "                    distance = max(item)\n",
    "            final.append(distance)\n",
    "        return final\n",
    "    \n",
    "    def shortestToChar(self, s, c):\n",
    "        pos = float('inf')\n",
    "        result = [float('inf')] * len(s)\n",
    "        for i in [*range(len(s)), *range(len(s))[::-1]]:\n",
    "            if s[i] == c:\n",
    "                pos = i\n",
    "            result[i] = min(result[i], abs(i - pos))\n",
    "        return result\n",
    "    \n",
    "    def shortestToChar(self, s, c):\n",
    "        result = [0 if char == c else float('inf') for char in s]\n",
    "        for i in range(1, len(s)):\n",
    "            result[i] = min(result[i], result[i - 1] + 1)\n",
    "        for i in range(len(s) - 2, -1, -1):\n",
    "            result[i] = min(result[i], result[i + 1] + 1)\n",
    "        return result\n",
    "\n",
    "\n",
    "s = Solution()\n",
    "\n",
    "print(s.shortestToChar(\"loveleetcode\", \"e\"))\n"
   ]
  },
  {
   "cell_type": "code",
   "execution_count": null,
   "metadata": {},
   "outputs": [],
   "source": []
  }
 ],
 "metadata": {
  "kernelspec": {
   "display_name": "Python 3",
   "language": "python",
   "name": "python3"
  },
  "language_info": {
   "codemirror_mode": {
    "name": "ipython",
    "version": 3
   },
   "file_extension": ".py",
   "mimetype": "text/x-python",
   "name": "python",
   "nbconvert_exporter": "python",
   "pygments_lexer": "ipython3",
   "version": "3.10.2"
  },
  "orig_nbformat": 4
 },
 "nbformat": 4,
 "nbformat_minor": 2
}
