{
 "cells": [
  {
   "cell_type": "code",
   "execution_count": 7,
   "metadata": {},
   "outputs": [
    {
     "name": "stdout",
     "output_type": "stream",
     "text": [
      "[0, 4, 1, 3, 2]\n"
     ]
    }
   ],
   "source": [
    "class Solution:\n",
    "    def createTargetArray(self, nums, index):\n",
    "        result = []\n",
    "        for i in range(len(nums)):\n",
    "            result.insert(index[i], nums[i])\n",
    "        return result\n",
    "    \n",
    "    def createTargetArray(self, nums, index):\n",
    "        result = []\n",
    "        for i in range(len(nums)):\n",
    "            result[index[i]:index[i]] = [nums[i]]\n",
    "        return result\n",
    "    \n",
    "    def createTargetArray(self, nums, index):\n",
    "        result = [None] * len(nums)\n",
    "        for i in range(len(nums)):\n",
    "            if result[index[i]] is None:\n",
    "                result[index[i]] = nums[i]\n",
    "            else:\n",
    "                temp = result[index[i]]\n",
    "                result[index[i]] = nums[i]\n",
    "                for j in range(index[i] + 1, len(nums)):\n",
    "                    result[j], temp = temp, result[j]\n",
    "        return result\n",
    "\n",
    "\n",
    "s = Solution()\n",
    "\n",
    "print(s.createTargetArray([0, 1, 2, 3, 4], [0, 1, 2, 2, 1]))\n"
   ]
  },
  {
   "cell_type": "code",
   "execution_count": null,
   "metadata": {},
   "outputs": [],
   "source": []
  }
 ],
 "metadata": {
  "kernelspec": {
   "display_name": "Python 3",
   "language": "python",
   "name": "python3"
  },
  "language_info": {
   "codemirror_mode": {
    "name": "ipython",
    "version": 3
   },
   "file_extension": ".py",
   "mimetype": "text/x-python",
   "name": "python",
   "nbconvert_exporter": "python",
   "pygments_lexer": "ipython3",
   "version": "3.10.2"
  },
  "orig_nbformat": 4
 },
 "nbformat": 4,
 "nbformat_minor": 2
}
