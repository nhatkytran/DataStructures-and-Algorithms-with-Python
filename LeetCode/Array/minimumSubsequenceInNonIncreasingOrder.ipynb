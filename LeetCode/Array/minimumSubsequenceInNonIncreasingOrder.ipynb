{
 "cells": [
  {
   "cell_type": "code",
   "execution_count": 7,
   "metadata": {},
   "outputs": [
    {
     "name": "stdout",
     "output_type": "stream",
     "text": [
      "[10, 9]\n",
      "[7, 7, 6]\n"
     ]
    }
   ],
   "source": [
    "class Solution:\n",
    "    def minSubsequence(self, nums):\n",
    "        nums.sort(reverse=True)\n",
    "        result = []\n",
    "        left = 0\n",
    "        right = sum(nums)\n",
    "        for num in nums:\n",
    "            result.append(num)\n",
    "            left += num\n",
    "            right -= num\n",
    "            if left > right:\n",
    "                break\n",
    "        return result\n",
    "    \n",
    "    def minSubsequence(self, nums):\n",
    "        nums.sort()\n",
    "        left = []\n",
    "        while sum(left) <= sum(nums):\n",
    "            left.append(nums.pop())\n",
    "        return left\n",
    "\n",
    "\n",
    "s = Solution()\n",
    "\n",
    "print(s.minSubsequence([4,3,10,9,8]))\n",
    "print(s.minSubsequence([4,4,7,6,7]))\n"
   ]
  },
  {
   "cell_type": "code",
   "execution_count": null,
   "metadata": {},
   "outputs": [],
   "source": []
  }
 ],
 "metadata": {
  "kernelspec": {
   "display_name": "Python 3",
   "language": "python",
   "name": "python3"
  },
  "language_info": {
   "codemirror_mode": {
    "name": "ipython",
    "version": 3
   },
   "file_extension": ".py",
   "mimetype": "text/x-python",
   "name": "python",
   "nbconvert_exporter": "python",
   "pygments_lexer": "ipython3",
   "version": "3.10.2"
  },
  "orig_nbformat": 4
 },
 "nbformat": 4,
 "nbformat_minor": 2
}
