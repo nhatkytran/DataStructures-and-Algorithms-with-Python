{
 "cells": [
  {
   "cell_type": "code",
   "execution_count": 26,
   "metadata": {},
   "outputs": [
    {
     "name": "stdout",
     "output_type": "stream",
     "text": [
      "34\n",
      "64\n",
      "79\n"
     ]
    }
   ],
   "source": [
    "class Solution:\n",
    "    def maxProductDifference(self, nums):\n",
    "        max1, min1 = max(nums), min(nums)\n",
    "        maxTime, minTime = 1, 1\n",
    "        max2 = float('-inf')\n",
    "        min2 = float('inf')\n",
    "        for num in nums:\n",
    "            if num > max2:\n",
    "                if num == max1:\n",
    "                    if maxTime:\n",
    "                        maxTime -= 1\n",
    "                    else:\n",
    "                        max2 = num\n",
    "                else:\n",
    "                    max2 = num\n",
    "            if num < min2:\n",
    "                if num == min1:\n",
    "                    if minTime:\n",
    "                        minTime -= 1\n",
    "                    else:\n",
    "                        min2 = num\n",
    "                else:\n",
    "                    min2 = num\n",
    "        return (max1 * max2) - (min1 * min2)\n",
    "    \n",
    "    def maxProductDifference(self, nums):\n",
    "        max1, min1 = float('-inf'), float('inf')\n",
    "        for num in nums:\n",
    "            if num > max1:\n",
    "                max1 = num\n",
    "            if num < min1:\n",
    "                min1 = num\n",
    "        maxTime, minTime = 1, 1\n",
    "        max2, min2 = float('-inf'), float('inf')\n",
    "        for num in nums:\n",
    "            if num > max2:\n",
    "                if num == max1:\n",
    "                    if maxTime:\n",
    "                        maxTime -= 1\n",
    "                    else:\n",
    "                        max2 = num\n",
    "                else:\n",
    "                    max2 = num\n",
    "            if num < min2:\n",
    "                if num == min1:\n",
    "                    if minTime:\n",
    "                        minTime -= 1\n",
    "                    else:\n",
    "                        min2 = num\n",
    "                else:\n",
    "                    min2 = num\n",
    "        return (max1 * max2) - (min1 * min2)\n",
    "    \n",
    "    def maxProductDifference(self, nums):\n",
    "        nums.sort()\n",
    "        return nums[-1] * nums[-2] - nums[0] * nums[1]\n",
    "    \n",
    "    def maxProductDifference(self, nums):\n",
    "        max1, min1 = float('-inf'), float('inf')\n",
    "        max2, min2 = float('-inf'), float('inf')\n",
    "        for num in nums:\n",
    "            if num > max1:\n",
    "                max1, max2 = num, max1\n",
    "            elif num > max2:\n",
    "                max2 = num\n",
    "            if num < min1:\n",
    "                min1, min2 = num, min1\n",
    "            elif num < min2:\n",
    "                min2 = num\n",
    "        return max1 * max2 - min1 * min2\n",
    "\n",
    "\n",
    "s = Solution()\n",
    "\n",
    "print(s.maxProductDifference([5,6,2,7,4]))\n",
    "print(s.maxProductDifference([4,2,5,9,7,4,8]))\n",
    "print(s.maxProductDifference([2,9,5,9,1]))\n"
   ]
  },
  {
   "cell_type": "code",
   "execution_count": null,
   "metadata": {},
   "outputs": [],
   "source": []
  }
 ],
 "metadata": {
  "kernelspec": {
   "display_name": "Python 3",
   "language": "python",
   "name": "python3"
  },
  "language_info": {
   "codemirror_mode": {
    "name": "ipython",
    "version": 3
   },
   "file_extension": ".py",
   "mimetype": "text/x-python",
   "name": "python",
   "nbconvert_exporter": "python",
   "pygments_lexer": "ipython3",
   "version": "3.10.2"
  },
  "orig_nbformat": 4
 },
 "nbformat": 4,
 "nbformat_minor": 2
}
