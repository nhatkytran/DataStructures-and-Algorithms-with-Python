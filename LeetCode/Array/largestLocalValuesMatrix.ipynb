{
 "cells": [
  {
   "cell_type": "code",
   "execution_count": 14,
   "metadata": {},
   "outputs": [
    {
     "name": "stdout",
     "output_type": "stream",
     "text": [
      "[9, 9]\n",
      "[8, 6]\n"
     ]
    }
   ],
   "source": [
    "class Solution:\n",
    "    def largestLocal(self, grid):\n",
    "        matrix = [[None] * (len(grid) - 2) for _ in range(len(grid) - 2)]\n",
    "        for i in range(len(matrix)):\n",
    "            for j in range(len(matrix)):\n",
    "                i_in_grid, j_in_grid = i + 1, j + 1\n",
    "                max_value = float('-inf')\n",
    "                for k in (i_in_grid - 1, i_in_grid, i_in_grid + 1):\n",
    "                    for l in (j_in_grid - 1, j_in_grid, j_in_grid + 1):\n",
    "                        if grid[k][l] > max_value: max_value = grid[k][l]\n",
    "                matrix[i][j] = max_value\n",
    "        return matrix\n",
    "\n",
    "\n",
    "s = Solution()\n",
    "\n",
    "matrix = s.largestLocal([[9,9,8,1],[5,6,2,6],[8,2,6,4],[6,2,2,2]])\n",
    "\n",
    "for matrix_row in matrix:\n",
    "    print(matrix_row)\n"
   ]
  },
  {
   "cell_type": "code",
   "execution_count": null,
   "metadata": {},
   "outputs": [],
   "source": []
  }
 ],
 "metadata": {
  "kernelspec": {
   "display_name": "Python 3",
   "language": "python",
   "name": "python3"
  },
  "language_info": {
   "codemirror_mode": {
    "name": "ipython",
    "version": 3
   },
   "file_extension": ".py",
   "mimetype": "text/x-python",
   "name": "python",
   "nbconvert_exporter": "python",
   "pygments_lexer": "ipython3",
   "version": "3.10.2"
  },
  "orig_nbformat": 4
 },
 "nbformat": 4,
 "nbformat_minor": 2
}
