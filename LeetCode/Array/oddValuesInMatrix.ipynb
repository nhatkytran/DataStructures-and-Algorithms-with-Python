{
 "cells": [
  {
   "cell_type": "code",
   "execution_count": 16,
   "metadata": {},
   "outputs": [
    {
     "name": "stdout",
     "output_type": "stream",
     "text": [
      "6\n",
      "0\n"
     ]
    }
   ],
   "source": [
    "class Solution:\n",
    "    def oddCells(self, m, n, indices):\n",
    "        matrix = [[0] * n for _ in range(m)]\n",
    "        for row_p, column_p in indices:\n",
    "            matrix[row_p] = [number + 1 for number in matrix[row_p]]\n",
    "            for row in matrix:\n",
    "                row[column_p] += 1\n",
    "        odds = 0\n",
    "        for row in matrix:\n",
    "            odds += sum(1 for number in row if number % 2 == 1)\n",
    "        return odds\n",
    "    \n",
    "    def oddCells(self, m, n, indices):\n",
    "        row = [0] * m\n",
    "        column = [0] * n\n",
    "        for r, c in indices:\n",
    "            row[r] += 1\n",
    "            column[c] += 1\n",
    "        return sum(1 for r in row for c in column if (r + c) % 2 == 1)\n",
    "\n",
    "\n",
    "s = Solution()\n",
    "\n",
    "print(s.oddCells(2, 3, [[0,1],[1,1]]))\n",
    "print(s.oddCells(2, 2, [[1,1],[0,0]]))\n"
   ]
  },
  {
   "cell_type": "code",
   "execution_count": null,
   "metadata": {},
   "outputs": [],
   "source": []
  }
 ],
 "metadata": {
  "kernelspec": {
   "display_name": "Python 3",
   "language": "python",
   "name": "python3"
  },
  "language_info": {
   "codemirror_mode": {
    "name": "ipython",
    "version": 3
   },
   "file_extension": ".py",
   "mimetype": "text/x-python",
   "name": "python",
   "nbconvert_exporter": "python",
   "pygments_lexer": "ipython3",
   "version": "3.10.2"
  },
  "orig_nbformat": 4
 },
 "nbformat": 4,
 "nbformat_minor": 2
}
