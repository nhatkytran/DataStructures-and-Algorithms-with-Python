{
 "cells": [
  {
   "cell_type": "code",
   "execution_count": null,
   "metadata": {},
   "outputs": [],
   "source": [
    "class Solution:\n",
    "    def countMatches(self, items, ruleKey, ruleValue):\n",
    "        index = None\n",
    "        category = ['type', 'color', 'name']\n",
    "        for i, rule in enumerate(category):\n",
    "            if rule == ruleKey: index = i\n",
    "        counter = 0\n",
    "        for item in items:\n",
    "            if item[index] == ruleValue:\n",
    "                counter += 1\n",
    "        return counter\n",
    "\n",
    "\n",
    "s = Solution()\n",
    "\n",
    "print(s.countMatches([[\"phone\",\"blue\",\"pixel\"],[\"computer\",\"silver\",\"lenovo\"],[\"phone\",\"gold\",\"iphone\"]], \"color\", \"silver\"))\n"
   ]
  },
  {
   "cell_type": "code",
   "execution_count": null,
   "metadata": {},
   "outputs": [],
   "source": []
  }
 ],
 "metadata": {
  "kernelspec": {
   "display_name": "Python 3",
   "language": "python",
   "name": "python3"
  },
  "language_info": {
   "codemirror_mode": {
    "name": "ipython",
    "version": 3
   },
   "file_extension": ".py",
   "mimetype": "text/x-python",
   "name": "python",
   "nbconvert_exporter": "python",
   "pygments_lexer": "ipython3",
   "version": "3.10.2"
  },
  "orig_nbformat": 4
 },
 "nbformat": 4,
 "nbformat_minor": 2
}
