{
 "cells": [
  {
   "cell_type": "code",
   "execution_count": 17,
   "metadata": {},
   "outputs": [
    {
     "name": "stdout",
     "output_type": "stream",
     "text": [
      "['Alaska', 'Dad']\n"
     ]
    }
   ],
   "source": [
    "class Solution:\n",
    "    def findWords(self, words):\n",
    "        r1, r2, r3 = 'qwertyuiop', 'asdfghjkl', 'zxcvbnm'\n",
    "        r1 = {*(r1 + r1.upper())}\n",
    "        r2 = {*(r2 + r2.upper())}\n",
    "        r3 = {*(r3 + r3.upper())}\n",
    "        return [word for word in words if \\\n",
    "                    len(set(word)) == len(set(word) & r1) or \\\n",
    "                    len(set(word)) == len(set(word) & r2) or \\\n",
    "                    len(set(word)) == len(set(word) & r3)\n",
    "               ]\n",
    "\n",
    "\n",
    "s = Solution()\n",
    "\n",
    "print(s.findWords([\"Hello\",\"Alaska\",\"Dad\",\"Peace\"]))\n"
   ]
  },
  {
   "cell_type": "code",
   "execution_count": null,
   "metadata": {},
   "outputs": [],
   "source": []
  }
 ],
 "metadata": {
  "kernelspec": {
   "display_name": "Python 3",
   "language": "python",
   "name": "python3"
  },
  "language_info": {
   "codemirror_mode": {
    "name": "ipython",
    "version": 3
   },
   "file_extension": ".py",
   "mimetype": "text/x-python",
   "name": "python",
   "nbconvert_exporter": "python",
   "pygments_lexer": "ipython3",
   "version": "3.10.2"
  },
  "orig_nbformat": 4
 },
 "nbformat": 4,
 "nbformat_minor": 2
}
