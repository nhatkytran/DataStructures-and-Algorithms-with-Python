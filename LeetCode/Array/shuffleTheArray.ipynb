{
 "cells": [
  {
   "cell_type": "code",
   "execution_count": 4,
   "metadata": {},
   "outputs": [
    {
     "name": "stdout",
     "output_type": "stream",
     "text": [
      "[2, 3, 5, 4, 1, 7]\n"
     ]
    }
   ],
   "source": [
    "class Solution:\n",
    "    def shuffle(self, nums, n):\n",
    "        result = []\n",
    "        for i in range(n):\n",
    "            result.append(nums[i])\n",
    "            result.append(nums[i + n])\n",
    "        return result\n",
    "    \n",
    "    def shuffle(self, nums, n):\n",
    "        for i in range(n):\n",
    "            nums[i] = [nums[i], nums[i + n]]\n",
    "        for i in range(n):\n",
    "            j = n - (i + 1)\n",
    "            x, y = nums[j]\n",
    "            j = j + n - i * 1\n",
    "            nums[j - 1], nums[j] = x, y\n",
    "        return nums\n",
    "    \n",
    "    # num <= 1000 --> num 32 bits --> only takes 10 bits\n",
    "    def shuffle(self, nums, n):\n",
    "        for i in range(n):\n",
    "            nums[i] <<= 10\n",
    "            nums[i] |= nums[i + n] # Store x, y\n",
    "        j = 2 * n - 1\n",
    "        for i in range(n - 1, -1, -1):\n",
    "            y = nums[i] & (2 ** 10 - 1)\n",
    "            x = nums[i] >> 10\n",
    "            nums[j] = y\n",
    "            nums[j - 1] = x\n",
    "            j -= 2\n",
    "        return nums\n",
    "\n",
    "\n",
    "s = Solution()\n",
    "\n",
    "print(s.shuffle([2, 5, 1, 3, 4, 7], 3))\n"
   ]
  },
  {
   "cell_type": "code",
   "execution_count": null,
   "metadata": {},
   "outputs": [],
   "source": []
  }
 ],
 "metadata": {
  "kernelspec": {
   "display_name": "Python 3",
   "language": "python",
   "name": "python3"
  },
  "language_info": {
   "codemirror_mode": {
    "name": "ipython",
    "version": 3
   },
   "file_extension": ".py",
   "mimetype": "text/x-python",
   "name": "python",
   "nbconvert_exporter": "python",
   "pygments_lexer": "ipython3",
   "version": "3.10.2"
  },
  "orig_nbformat": 4
 },
 "nbformat": 4,
 "nbformat_minor": 2
}
