{
 "cells": [
  {
   "cell_type": "code",
   "execution_count": 12,
   "metadata": {},
   "outputs": [
    {
     "name": "stdout",
     "output_type": "stream",
     "text": [
      "[1, 'A', 2, 'B', 3, 'C']\n"
     ]
    }
   ],
   "source": [
    "class Solution:\n",
    "    def shuffle(self, nums, n):\n",
    "        result = []\n",
    "        for i in range(n):\n",
    "            result.append(nums[i])\n",
    "            result.append(nums[i + n])\n",
    "        return result\n",
    "    \n",
    "    def shuffle(self, nums, n):\n",
    "        for i in range(n):\n",
    "            nums[i] = [nums[i], nums[i + n]]\n",
    "        for i in range(n):\n",
    "            j = n - (i + 1)\n",
    "            x, y = nums[j]\n",
    "            j = j + n - i * 1\n",
    "            nums[j - 1], nums[j] = x, y\n",
    "        return nums\n",
    "\n",
    "\n",
    "s = Solution()\n",
    "\n",
    "# print(s.shuffle([2, 5, 1, 3, 4, 7], 3))\n",
    "print(s.shuffle([1, 2, 3, 'A', 'B', 'C'], 3))\n"
   ]
  },
  {
   "cell_type": "code",
   "execution_count": null,
   "metadata": {},
   "outputs": [],
   "source": []
  }
 ],
 "metadata": {
  "kernelspec": {
   "display_name": "Python 3",
   "language": "python",
   "name": "python3"
  },
  "language_info": {
   "codemirror_mode": {
    "name": "ipython",
    "version": 3
   },
   "file_extension": ".py",
   "mimetype": "text/x-python",
   "name": "python",
   "nbconvert_exporter": "python",
   "pygments_lexer": "ipython3",
   "version": "3.10.2"
  },
  "orig_nbformat": 4
 },
 "nbformat": 4,
 "nbformat_minor": 2
}
