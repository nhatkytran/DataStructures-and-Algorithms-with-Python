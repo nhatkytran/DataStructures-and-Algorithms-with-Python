{
 "cells": [
  {
   "cell_type": "code",
   "execution_count": 5,
   "metadata": {},
   "outputs": [
    {
     "name": "stdout",
     "output_type": "stream",
     "text": [
      "24\n"
     ]
    }
   ],
   "source": [
    "class Solution:\n",
    "    def findFinalValue(self, nums, original):\n",
    "        hash_set = set(nums)\n",
    "        while original in hash_set:\n",
    "            original *= 2\n",
    "        return original\n",
    "    \n",
    "    def findFinalValue(self, nums, original):\n",
    "        hash_set = set(num for num in nums if num % original == 0)\n",
    "        while original in hash_set:\n",
    "            original *= 2\n",
    "        return original\n",
    "\n",
    "\n",
    "s = Solution()\n",
    "\n",
    "print(s.findFinalValue([5,3,6,1,12], 3))\n"
   ]
  },
  {
   "cell_type": "code",
   "execution_count": null,
   "metadata": {},
   "outputs": [],
   "source": []
  }
 ],
 "metadata": {
  "kernelspec": {
   "display_name": "Python 3",
   "language": "python",
   "name": "python3"
  },
  "language_info": {
   "codemirror_mode": {
    "name": "ipython",
    "version": 3
   },
   "file_extension": ".py",
   "mimetype": "text/x-python",
   "name": "python",
   "nbconvert_exporter": "python",
   "pygments_lexer": "ipython3",
   "version": "3.10.2"
  },
  "orig_nbformat": 4
 },
 "nbformat": 4,
 "nbformat_minor": 2
}
