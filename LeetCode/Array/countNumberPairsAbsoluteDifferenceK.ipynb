{
 "cells": [
  {
   "cell_type": "code",
   "execution_count": 7,
   "metadata": {},
   "outputs": [
    {
     "name": "stdout",
     "output_type": "stream",
     "text": [
      "4\n",
      "0\n",
      "3\n"
     ]
    }
   ],
   "source": [
    "class Solution:\n",
    "    def countKDifference(self, nums, k):\n",
    "        result = 0\n",
    "        for i in range(len(nums)):\n",
    "            for j in range(i, len(nums)):\n",
    "                if abs(nums[i] - nums[j]) == k:\n",
    "                    result += 1\n",
    "        return result\n",
    "    \n",
    "    def countKDifference(self, nums, k):\n",
    "        result = 0\n",
    "        hash_map = {}\n",
    "        for num in nums:\n",
    "            if num + k in hash_map:\n",
    "                result += hash_map[num + k]\n",
    "            if num - k in hash_map:\n",
    "                result += hash_map[num - k]\n",
    "            #\n",
    "            if num not in hash_map:\n",
    "                hash_map[num] = 1\n",
    "            else:\n",
    "                hash_map[num] += 1\n",
    "        return result\n",
    "    \n",
    "    def countKDifference(self, nums, k):\n",
    "        result = 0\n",
    "        nums.sort()\n",
    "        hash_map = {}\n",
    "        for num in nums:\n",
    "            if num - k in hash_map:\n",
    "                result += hash_map[num - k]\n",
    "            hash_map[num] = 1 if num not in hash_map else hash_map[num] + 1\n",
    "        return result\n",
    "\n",
    "\n",
    "s = Solution()\n",
    "\n",
    "print(s.countKDifference([1,2,2,1], 1))\n",
    "print(s.countKDifference([1,3], 3))\n",
    "print(s.countKDifference([3,2,1,5,4], 2))\n"
   ]
  },
  {
   "cell_type": "code",
   "execution_count": null,
   "metadata": {},
   "outputs": [],
   "source": []
  }
 ],
 "metadata": {
  "kernelspec": {
   "display_name": "Python 3",
   "language": "python",
   "name": "python3"
  },
  "language_info": {
   "codemirror_mode": {
    "name": "ipython",
    "version": 3
   },
   "file_extension": ".py",
   "mimetype": "text/x-python",
   "name": "python",
   "nbconvert_exporter": "python",
   "pygments_lexer": "ipython3",
   "version": "3.10.2"
  },
  "orig_nbformat": 4
 },
 "nbformat": 4,
 "nbformat_minor": 2
}
