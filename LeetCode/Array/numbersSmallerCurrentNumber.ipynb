{
 "cells": [
  {
   "cell_type": "code",
   "execution_count": 4,
   "metadata": {},
   "outputs": [
    {
     "name": "stdout",
     "output_type": "stream",
     "text": [
      "[4, 0, 1, 1, 3]\n"
     ]
    }
   ],
   "source": [
    "class Solution:\n",
    "    def smallerNumbersThanCurrent(self, nums):\n",
    "        result = []\n",
    "        for i in range(len(nums)):\n",
    "            current_num = nums[i]\n",
    "            quantity = 0\n",
    "            for j in range(len(nums)):\n",
    "                if j != i:\n",
    "                    if nums[j] < current_num:\n",
    "                        quantity += 1\n",
    "            result.append(quantity)\n",
    "        return result\n",
    "    \n",
    "    def smallerNumbersThanCurrent(self, nums):\n",
    "        sorted_nums = sorted(nums)\n",
    "        hash_map = {}\n",
    "        result = []\n",
    "        for i in range(len(sorted_nums)):\n",
    "            if sorted_nums[i] not in hash_map:\n",
    "                hash_map[sorted_nums[i]] = i\n",
    "        for num in nums:\n",
    "            result.append(hash_map[num])\n",
    "        return result\n",
    "    \n",
    "    # Already told the range of the given numbers is between 1 and 100\n",
    "    def smallerNumbersThanCurrent(self, nums):\n",
    "        count = [0] * 102\n",
    "        for num in nums:\n",
    "            count[num + 1] += 1\n",
    "        for i in range(1, 102):\n",
    "            count[i] += count[i - 1]\n",
    "        return [count[num] for num in nums]\n",
    "    \n",
    "\n",
    "s = Solution()\n",
    "\n",
    "print(s.smallerNumbersThanCurrent([8, 1, 2, 2, 3]))"
   ]
  },
  {
   "cell_type": "code",
   "execution_count": null,
   "metadata": {},
   "outputs": [],
   "source": []
  }
 ],
 "metadata": {
  "kernelspec": {
   "display_name": "Python 3",
   "language": "python",
   "name": "python3"
  },
  "language_info": {
   "codemirror_mode": {
    "name": "ipython",
    "version": 3
   },
   "file_extension": ".py",
   "mimetype": "text/x-python",
   "name": "python",
   "nbconvert_exporter": "python",
   "pygments_lexer": "ipython3",
   "version": "3.10.2"
  },
  "orig_nbformat": 4
 },
 "nbformat": 4,
 "nbformat_minor": 2
}
