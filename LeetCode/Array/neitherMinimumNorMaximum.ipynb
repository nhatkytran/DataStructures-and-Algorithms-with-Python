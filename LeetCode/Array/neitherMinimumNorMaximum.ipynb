{
 "cells": [
  {
   "cell_type": "code",
   "execution_count": 6,
   "metadata": {},
   "outputs": [
    {
     "name": "stdout",
     "output_type": "stream",
     "text": [
      "4\n"
     ]
    }
   ],
   "source": [
    "class Solution:\n",
    "    def findNonMinOrMax(self, nums):\n",
    "        if len(nums) <= 2:\n",
    "            return - 1\n",
    "        mi, ma = float('inf'), float('-inf')\n",
    "        for num in nums:\n",
    "            if num > ma:\n",
    "                ma = num\n",
    "            if num < mi:\n",
    "                mi = num\n",
    "        for num in nums:\n",
    "            if num != mi and num != ma:\n",
    "                return num\n",
    "        return -1\n",
    "\n",
    "\n",
    "s = Solution()\n",
    "\n",
    "print(s.findNonMinOrMax([2,4,25]))\n"
   ]
  },
  {
   "cell_type": "code",
   "execution_count": null,
   "metadata": {},
   "outputs": [],
   "source": []
  }
 ],
 "metadata": {
  "kernelspec": {
   "display_name": "Python 3",
   "language": "python",
   "name": "python3"
  },
  "language_info": {
   "codemirror_mode": {
    "name": "ipython",
    "version": 3
   },
   "file_extension": ".py",
   "mimetype": "text/x-python",
   "name": "python",
   "nbconvert_exporter": "python",
   "pygments_lexer": "ipython3",
   "version": "3.10.2"
  },
  "orig_nbformat": 4
 },
 "nbformat": 4,
 "nbformat_minor": 2
}
