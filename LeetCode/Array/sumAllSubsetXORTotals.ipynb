{
 "cells": [
  {
   "cell_type": "code",
   "execution_count": 22,
   "metadata": {},
   "outputs": [
    {
     "name": "stdout",
     "output_type": "stream",
     "text": [
      "1\n",
      "6\n",
      "28\n",
      "480\n",
      "464\n"
     ]
    }
   ],
   "source": [
    "class Solution:\n",
    "    def subsetXORSum(self, nums):\n",
    "        subsets = ['']\n",
    "        for num in nums:\n",
    "            new_subsets = [subset + f'{num};' for subset in subsets]\n",
    "            subsets = [*subsets, *new_subsets]\n",
    "        result = 0\n",
    "        for subset in subsets:\n",
    "            if subset:\n",
    "                first = None\n",
    "                for char in subset.strip(';').split(';'):\n",
    "                    num = int(char)\n",
    "                    if not first:\n",
    "                        first = num\n",
    "                    else:\n",
    "                        first = first ^ num\n",
    "                result += first\n",
    "        return result\n",
    "    \n",
    "    # Calculate XOR on the fly\n",
    "    def subsetXORSum(self, nums):\n",
    "        subsets = [0]\n",
    "        for num in nums:\n",
    "            new_subsets = [sub ^ num for sub in subsets]\n",
    "            subsets.extend(new_subsets)\n",
    "        return sum(subsets)\n",
    "    \n",
    "    def subsetXORSum(self, nums):\n",
    "        def inner(nums, index, prevXOR):\n",
    "            if index == len(nums):\n",
    "                return prevXOR\n",
    "            return inner(nums, index + 1, prevXOR) + inner(nums, index + 1, prevXOR ^ nums[index])\n",
    "        return inner(nums, 0, 0)\n",
    "\n",
    "\n",
    "s = Solution()\n",
    "\n",
    "print(s.subsetXORSum([1]))\n",
    "print(s.subsetXORSum([1, 3]))\n",
    "print(s.subsetXORSum([5, 1, 6]))\n",
    "print(s.subsetXORSum([3, 4, 5, 6, 7, 8]))\n",
    "print(s.subsetXORSum([5, 17, 17, 12, 17]))\n"
   ]
  },
  {
   "cell_type": "code",
   "execution_count": null,
   "metadata": {},
   "outputs": [],
   "source": []
  }
 ],
 "metadata": {
  "kernelspec": {
   "display_name": "Python 3",
   "language": "python",
   "name": "python3"
  },
  "language_info": {
   "codemirror_mode": {
    "name": "ipython",
    "version": 3
   },
   "file_extension": ".py",
   "mimetype": "text/x-python",
   "name": "python",
   "nbconvert_exporter": "python",
   "pygments_lexer": "ipython3",
   "version": "3.10.2"
  },
  "orig_nbformat": 4
 },
 "nbformat": 4,
 "nbformat_minor": 2
}
