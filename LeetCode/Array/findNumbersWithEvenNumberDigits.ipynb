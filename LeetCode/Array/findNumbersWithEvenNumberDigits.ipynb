{
 "cells": [
  {
   "cell_type": "code",
   "execution_count": 1,
   "metadata": {},
   "outputs": [
    {
     "name": "stdout",
     "output_type": "stream",
     "text": [
      "2\n"
     ]
    }
   ],
   "source": [
    "class Solution:\n",
    "    def findNumbers(self, nums):\n",
    "        from math import floor, log10\n",
    "        def get_digit(num):\n",
    "            return floor(log10(num)) + 1\n",
    "        return sum(1 if get_digit(num) % 2 == 0 else 0 for num in nums)\n",
    "\n",
    "\n",
    "s = Solution()\n",
    "\n",
    "print(s.findNumbers([12,345,2,6,7896]))\n"
   ]
  },
  {
   "cell_type": "code",
   "execution_count": null,
   "metadata": {},
   "outputs": [],
   "source": []
  }
 ],
 "metadata": {
  "kernelspec": {
   "display_name": "Python 3",
   "language": "python",
   "name": "python3"
  },
  "language_info": {
   "codemirror_mode": {
    "name": "ipython",
    "version": 3
   },
   "file_extension": ".py",
   "mimetype": "text/x-python",
   "name": "python",
   "nbconvert_exporter": "python",
   "pygments_lexer": "ipython3",
   "version": "3.10.2"
  },
  "orig_nbformat": 4
 },
 "nbformat": 4,
 "nbformat_minor": 2
}
