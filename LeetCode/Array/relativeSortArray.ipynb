{
 "cells": [
  {
   "cell_type": "code",
   "execution_count": 2,
   "metadata": {},
   "outputs": [
    {
     "name": "stdout",
     "output_type": "stream",
     "text": [
      "[2, 2, 2, 1, 4, 3, 3, 9, 6, 7, 19]\n"
     ]
    }
   ],
   "source": [
    "class Solution:\n",
    "    def relativeSortArray(self, arr1, arr2):\n",
    "        arr_in, arr_not_in = [], []\n",
    "        hash_set = set(arr2)\n",
    "        for num in arr1:\n",
    "            if num in hash_set:\n",
    "                arr_in.append(num)\n",
    "            else:\n",
    "                arr_not_in.append(num)\n",
    "        arr_not_in.sort()\n",
    "        hash_map = {}\n",
    "        for num in arr_in:\n",
    "            hash_map[num] = hash_map.get(num, 0) + 1\n",
    "        result = []\n",
    "        for num in arr2:\n",
    "            result.extend([num] * hash_map[num])\n",
    "        return result + arr_not_in\n",
    "\n",
    "\n",
    "s = Solution()\n",
    "\n",
    "print(s.relativeSortArray([2,3,1,3,2,4,6,7,9,2,19], [2,1,4,3,9,6]))\n"
   ]
  },
  {
   "cell_type": "code",
   "execution_count": null,
   "metadata": {},
   "outputs": [],
   "source": []
  }
 ],
 "metadata": {
  "kernelspec": {
   "display_name": "Python 3",
   "language": "python",
   "name": "python3"
  },
  "language_info": {
   "codemirror_mode": {
    "name": "ipython",
    "version": 3
   },
   "file_extension": ".py",
   "mimetype": "text/x-python",
   "name": "python",
   "nbconvert_exporter": "python",
   "pygments_lexer": "ipython3",
   "version": "3.10.2"
  },
  "orig_nbformat": 4
 },
 "nbformat": 4,
 "nbformat_minor": 2
}
