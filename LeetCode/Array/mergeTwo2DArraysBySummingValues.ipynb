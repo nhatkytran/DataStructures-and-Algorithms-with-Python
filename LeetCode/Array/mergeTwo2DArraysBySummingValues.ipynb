{
 "cells": [
  {
   "cell_type": "code",
   "execution_count": 3,
   "metadata": {},
   "outputs": [
    {
     "name": "stdout",
     "output_type": "stream",
     "text": [
      "[[1, 6], [2, 3], [3, 2], [4, 6]]\n",
      "[[1, 3], [2, 4], [3, 6], [4, 3], [5, 5]]\n"
     ]
    }
   ],
   "source": [
    "class Solution:\n",
    "    def mergeArrays(self, nums1, nums2):\n",
    "        result = []\n",
    "        i, j = 0, 0\n",
    "        while i < len(nums1) and j < len(nums2):\n",
    "            id1, value1 = nums1[i]\n",
    "            id2, value2 = nums2[j]\n",
    "            item = []\n",
    "            if id1 == id2:\n",
    "                item = [id1, value1 + value2]\n",
    "                i += 1\n",
    "                j += 1\n",
    "            if id1 < id2:\n",
    "                item = [id1, value1]\n",
    "                i += 1\n",
    "            if id1 > id2:\n",
    "                item = [id2, value2]\n",
    "                j += 1\n",
    "            result.append(item)\n",
    "        result.extend(nums1[i:])\n",
    "        result.extend(nums2[j:])\n",
    "        return result\n",
    "\n",
    "\n",
    "s = Solution()\n",
    "\n",
    "print(s.mergeArrays([[1,2],[2,3],[4,5]], [[1,4],[3,2],[4,1]]))\n",
    "print(s.mergeArrays([[2,4],[3,6],[5,5]], [[1,3],[4,3]]))\n"
   ]
  },
  {
   "cell_type": "code",
   "execution_count": null,
   "metadata": {},
   "outputs": [],
   "source": []
  }
 ],
 "metadata": {
  "kernelspec": {
   "display_name": "Python 3",
   "language": "python",
   "name": "python3"
  },
  "language_info": {
   "codemirror_mode": {
    "name": "ipython",
    "version": 3
   },
   "file_extension": ".py",
   "mimetype": "text/x-python",
   "name": "python",
   "nbconvert_exporter": "python",
   "pygments_lexer": "ipython3",
   "version": "3.10.2"
  },
  "orig_nbformat": 4
 },
 "nbformat": 4,
 "nbformat_minor": 2
}
