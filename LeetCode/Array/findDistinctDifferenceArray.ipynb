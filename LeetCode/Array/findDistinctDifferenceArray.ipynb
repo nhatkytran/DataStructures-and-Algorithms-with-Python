{
 "cells": [
  {
   "cell_type": "code",
   "execution_count": 2,
   "metadata": {},
   "outputs": [
    {
     "name": "stdout",
     "output_type": "stream",
     "text": [
      "[-3, -1, 1, 3, 5]\n",
      "[-2, -1, 0, 2, 3]\n"
     ]
    }
   ],
   "source": [
    "class Solution:\n",
    "    def distinctDifferenceArray(self, nums):\n",
    "        result = []\n",
    "        d_pre = set()\n",
    "        for i in range(len(nums)):\n",
    "            d_pre.add(nums[i])\n",
    "            result.append(len(d_pre) - len(set(nums[(i + 1):])))\n",
    "        return result\n",
    "\n",
    "\n",
    "s = Solution()\n",
    "\n",
    "print(s.distinctDifferenceArray([1,2,3,4,5]))\n",
    "print(s.distinctDifferenceArray([3,2,3,4,2]))\n"
   ]
  },
  {
   "cell_type": "code",
   "execution_count": null,
   "metadata": {},
   "outputs": [],
   "source": []
  }
 ],
 "metadata": {
  "kernelspec": {
   "display_name": "Python 3",
   "language": "python",
   "name": "python3"
  },
  "language_info": {
   "codemirror_mode": {
    "name": "ipython",
    "version": 3
   },
   "file_extension": ".py",
   "mimetype": "text/x-python",
   "name": "python",
   "nbconvert_exporter": "python",
   "pygments_lexer": "ipython3",
   "version": "3.10.2"
  },
  "orig_nbformat": 4
 },
 "nbformat": 4,
 "nbformat_minor": 2
}
