{
 "cells": [
  {
   "cell_type": "code",
   "execution_count": 6,
   "metadata": {},
   "outputs": [
    {
     "name": "stdout",
     "output_type": "stream",
     "text": [
      "[2, 4, 4, 4]\n"
     ]
    }
   ],
   "source": [
    "class Solution:\n",
    "    def decompressRLElist(self, nums):\n",
    "        result = []\n",
    "        for i in range(int(len(nums) / 2)):\n",
    "            first_index = i * 2\n",
    "            second_index = i * 2 + 1\n",
    "            for _ in range(nums[first_index]):\n",
    "                result.append(nums[second_index])\n",
    "        return result\n",
    "\n",
    "\n",
    "s = Solution()\n",
    "\n",
    "print(s.decompressRLElist([1, 2, 3, 4]))\n"
   ]
  },
  {
   "cell_type": "code",
   "execution_count": null,
   "metadata": {},
   "outputs": [],
   "source": []
  }
 ],
 "metadata": {
  "kernelspec": {
   "display_name": "Python 3",
   "language": "python",
   "name": "python3"
  },
  "language_info": {
   "codemirror_mode": {
    "name": "ipython",
    "version": 3
   },
   "file_extension": ".py",
   "mimetype": "text/x-python",
   "name": "python",
   "nbconvert_exporter": "python",
   "pygments_lexer": "ipython3",
   "version": "3.10.2"
  },
  "orig_nbformat": 4
 },
 "nbformat": 4,
 "nbformat_minor": 2
}
