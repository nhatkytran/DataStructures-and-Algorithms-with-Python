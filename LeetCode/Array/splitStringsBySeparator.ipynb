{
 "cells": [
  {
   "cell_type": "code",
   "execution_count": 5,
   "metadata": {},
   "outputs": [
    {
     "name": "stdout",
     "output_type": "stream",
     "text": [
      "['one', 'two', 'three', 'four', 'five', 'six']\n"
     ]
    }
   ],
   "source": [
    "class Solution:\n",
    "    def splitWordsBySeparator(self, words, separator):\n",
    "        result = []\n",
    "        for word in words:\n",
    "            for char in word.split(separator):\n",
    "                if char: result.append(char)\n",
    "        return result\n",
    "\n",
    "\n",
    "s = Solution()\n",
    "\n",
    "print(s.splitWordsBySeparator([\"one.two.three\",\"four.five\",\"six\"], separator = \".\"))\n"
   ]
  },
  {
   "cell_type": "code",
   "execution_count": null,
   "metadata": {},
   "outputs": [],
   "source": []
  }
 ],
 "metadata": {
  "kernelspec": {
   "display_name": "Python 3",
   "language": "python",
   "name": "python3"
  },
  "language_info": {
   "codemirror_mode": {
    "name": "ipython",
    "version": 3
   },
   "file_extension": ".py",
   "mimetype": "text/x-python",
   "name": "python",
   "nbconvert_exporter": "python",
   "pygments_lexer": "ipython3",
   "version": "3.10.2"
  },
  "orig_nbformat": 4
 },
 "nbformat": 4,
 "nbformat_minor": 2
}
