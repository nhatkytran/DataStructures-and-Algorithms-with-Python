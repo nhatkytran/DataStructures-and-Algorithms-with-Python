{
 "cells": [
  {
   "cell_type": "code",
   "execution_count": 4,
   "metadata": {},
   "outputs": [
    {
     "name": "stdout",
     "output_type": "stream",
     "text": [
      "3\n"
     ]
    }
   ],
   "source": [
    "class Solution:\n",
    "    def minimumOperations(self, nums):\n",
    "        result = 0\n",
    "        while max(nums) > 0:\n",
    "            min_val = min([num for num in nums if num > 0])\n",
    "            nums = [num - min_val if num > 0 else num for num in nums]\n",
    "            result += 1\n",
    "        return result\n",
    "\n",
    "    def minimumOperations(self, nums):\n",
    "        return len(set(nums) - {0})\n",
    "\n",
    "\n",
    "s = Solution()\n",
    "\n",
    "print(s.minimumOperations([1,5,0,3,5]))\n"
   ]
  },
  {
   "cell_type": "code",
   "execution_count": null,
   "metadata": {},
   "outputs": [],
   "source": []
  }
 ],
 "metadata": {
  "kernelspec": {
   "display_name": "Python 3",
   "language": "python",
   "name": "python3"
  },
  "language_info": {
   "codemirror_mode": {
    "name": "ipython",
    "version": 3
   },
   "file_extension": ".py",
   "mimetype": "text/x-python",
   "name": "python",
   "nbconvert_exporter": "python",
   "pygments_lexer": "ipython3",
   "version": "3.10.2"
  },
  "orig_nbformat": 4
 },
 "nbformat": 4,
 "nbformat_minor": 2
}
