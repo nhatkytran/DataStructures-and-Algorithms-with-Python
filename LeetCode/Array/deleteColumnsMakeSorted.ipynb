{
 "cells": [
  {
   "cell_type": "code",
   "execution_count": 11,
   "metadata": {},
   "outputs": [
    {
     "name": "stdout",
     "output_type": "stream",
     "text": [
      "1\n",
      "0\n",
      "3\n"
     ]
    }
   ],
   "source": [
    "class Solution:\n",
    "    def minDeletionSize(self, strs):\n",
    "        result = 0\n",
    "        for i in range(len(strs[0])):\n",
    "            start = 'a'\n",
    "            for word in strs:\n",
    "                if word[i] < start:\n",
    "                    result += 1\n",
    "                    break\n",
    "                start = word[i]\n",
    "        return result\n",
    "\n",
    "\n",
    "s = Solution()\n",
    "\n",
    "print(s.minDeletionSize([\"cba\",\"daf\",\"ghi\"]))\n",
    "print(s.minDeletionSize([\"a\",\"b\"]))\n",
    "print(s.minDeletionSize([\"zyx\",\"wvu\",\"tsr\"]))\n"
   ]
  },
  {
   "cell_type": "code",
   "execution_count": null,
   "metadata": {},
   "outputs": [],
   "source": []
  }
 ],
 "metadata": {
  "kernelspec": {
   "display_name": "Python 3",
   "language": "python",
   "name": "python3"
  },
  "language_info": {
   "codemirror_mode": {
    "name": "ipython",
    "version": 3
   },
   "file_extension": ".py",
   "mimetype": "text/x-python",
   "name": "python",
   "nbconvert_exporter": "python",
   "pygments_lexer": "ipython3",
   "version": "3.10.2"
  },
  "orig_nbformat": 4
 },
 "nbformat": 4,
 "nbformat_minor": 2
}
