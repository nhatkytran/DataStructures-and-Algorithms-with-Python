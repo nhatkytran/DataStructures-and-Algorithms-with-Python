{
 "cells": [
  {
   "cell_type": "code",
   "execution_count": 4,
   "metadata": {},
   "outputs": [
    {
     "name": "stdout",
     "output_type": "stream",
     "text": [
      "[0, 1, 2, 3, 4, 5]\n"
     ]
    }
   ],
   "source": [
    "class Solution:\n",
    "    def buildArray(self, nums):\n",
    "        result = []\n",
    "        for num in nums:\n",
    "            result.append(nums[num])\n",
    "        return result\n",
    "    \n",
    "    # O(n) time and O(1) space complexity --> Store 2 index at once --> (i, nums[i])\n",
    "\n",
    "    def buildArray(self, nums):\n",
    "        pass\n",
    "    \n",
    "\n",
    "s = Solution()\n",
    "\n",
    "print(s.buildArray([0, 2, 1, 5, 3, 4]))\n",
    "# print(s.buildArray([5, 0, 1, 2, 3, 4]))\n"
   ]
  },
  {
   "cell_type": "code",
   "execution_count": null,
   "metadata": {},
   "outputs": [],
   "source": []
  }
 ],
 "metadata": {
  "kernelspec": {
   "display_name": "Python 3",
   "language": "python",
   "name": "python3"
  },
  "language_info": {
   "codemirror_mode": {
    "name": "ipython",
    "version": 3
   },
   "file_extension": ".py",
   "mimetype": "text/x-python",
   "name": "python",
   "nbconvert_exporter": "python",
   "pygments_lexer": "ipython3",
   "version": "3.10.2"
  },
  "orig_nbformat": 4
 },
 "nbformat": 4,
 "nbformat_minor": 2
}
