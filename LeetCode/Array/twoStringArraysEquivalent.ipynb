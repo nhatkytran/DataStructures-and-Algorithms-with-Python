{
 "cells": [
  {
   "cell_type": "code",
   "execution_count": 6,
   "metadata": {},
   "outputs": [
    {
     "name": "stdout",
     "output_type": "stream",
     "text": [
      "True\n"
     ]
    }
   ],
   "source": [
    "class Solution:\n",
    "    def arrayStringsAreEqual(self, word1, word2):\n",
    "        return ''.join(word1) == ''.join(word2)\n",
    "    \n",
    "    def generator(self, word):\n",
    "        for char in word:\n",
    "            for letter in char:\n",
    "                yield letter\n",
    "        yield None # In case length of two strings are different\n",
    "    \n",
    "    def arrayStringsAreEqual(self, word1, word2):\n",
    "        for letter1, letter2 in zip(self.generator(word1), self.generator(word2)):\n",
    "            if letter1 != letter2:\n",
    "                return False\n",
    "        return True\n",
    "    \n",
    "\n",
    "    def arrayStringsAreEqual(self, word1, word2):\n",
    "        i, j = 0, 0\n",
    "        m, n = 0, 0\n",
    "        while i < len(word1) and j < len(word2):\n",
    "            char1, char2 = word1[i], word2[j]\n",
    "            while m < len(char1) and n < len(char2):\n",
    "                if char1[m] != char2[n]:\n",
    "                    return False\n",
    "                m += 1\n",
    "                n += 1\n",
    "            if m == len(char1):\n",
    "                m = 0\n",
    "                i += 1\n",
    "            if n == len(char2):\n",
    "                n = 0\n",
    "                j += 1\n",
    "        return i == len(word1) and j == len(word2)\n",
    "    \n",
    "\n",
    "s = Solution()\n",
    "\n",
    "print(s.arrayStringsAreEqual([\"ab\", \"c\"], [\"a\", \"bc\"]))\n"
   ]
  },
  {
   "cell_type": "code",
   "execution_count": null,
   "metadata": {},
   "outputs": [],
   "source": []
  }
 ],
 "metadata": {
  "kernelspec": {
   "display_name": "Python 3",
   "language": "python",
   "name": "python3"
  },
  "language_info": {
   "codemirror_mode": {
    "name": "ipython",
    "version": 3
   },
   "file_extension": ".py",
   "mimetype": "text/x-python",
   "name": "python",
   "nbconvert_exporter": "python",
   "pygments_lexer": "ipython3",
   "version": "3.10.2"
  },
  "orig_nbformat": 4
 },
 "nbformat": 4,
 "nbformat_minor": 2
}
