{
 "cells": [
  {
   "cell_type": "code",
   "execution_count": 4,
   "metadata": {},
   "outputs": [
    {
     "name": "stdout",
     "output_type": "stream",
     "text": [
      "[2, 4, 3, 1]\n",
      "[0]\n",
      "[0, 2, 1]\n"
     ]
    }
   ],
   "source": [
    "class Solution:\n",
    "    def sortArrayByParity(self, nums):\n",
    "        slow = 0\n",
    "        fast = 0\n",
    "        while fast < len(nums):\n",
    "            if nums[fast] % 2 == 0:\n",
    "                nums[slow], nums[fast] = nums[fast], nums[slow]\n",
    "                slow += 1\n",
    "            fast += 1\n",
    "        return nums\n",
    "\n",
    "\n",
    "s = Solution()\n",
    "\n",
    "print(s.sortArrayByParity([3,1,2,4]))\n",
    "print(s.sortArrayByParity([0]))\n",
    "print(s.sortArrayByParity([0, 1, 2]))\n"
   ]
  },
  {
   "cell_type": "code",
   "execution_count": null,
   "metadata": {},
   "outputs": [],
   "source": []
  }
 ],
 "metadata": {
  "kernelspec": {
   "display_name": "Python 3",
   "language": "python",
   "name": "python3"
  },
  "language_info": {
   "codemirror_mode": {
    "name": "ipython",
    "version": 3
   },
   "file_extension": ".py",
   "mimetype": "text/x-python",
   "name": "python",
   "nbconvert_exporter": "python",
   "pygments_lexer": "ipython3",
   "version": "3.10.2"
  },
  "orig_nbformat": 4
 },
 "nbformat": 4,
 "nbformat_minor": 2
}
