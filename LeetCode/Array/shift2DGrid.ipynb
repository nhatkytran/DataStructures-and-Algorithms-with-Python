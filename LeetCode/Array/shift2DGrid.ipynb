{
 "cells": [
  {
   "cell_type": "code",
   "execution_count": 24,
   "metadata": {},
   "outputs": [
    {
     "name": "stdout",
     "output_type": "stream",
     "text": [
      "[[9, 1, 2], [3, 4, 5], [6, 7, 8]]\n",
      "[[6], [5], [1], [2], [3], [4], [7]]\n"
     ]
    }
   ],
   "source": [
    "class Solution:\n",
    "    def shiftGrid(self, grid, k):\n",
    "        arr = []\n",
    "        for i in range(len(grid) - 1, -1, -1):\n",
    "            for j in range(len(grid[i]) - 1, -1, -1):\n",
    "                arr.append(grid[i][j])\n",
    "        for i in range(k):\n",
    "            arr.append(arr[i])\n",
    "        rev = []\n",
    "        for i in range(k, len(arr)):\n",
    "            rev.append(arr[i])\n",
    "        result = []\n",
    "        for i in range(len(grid) - 1, -1, -1):\n",
    "            row = []\n",
    "            for j in range(0, len(grid[i])):\n",
    "                row.append(rev[(i + 1) * len(grid[i]) - (j + 1)])\n",
    "            result.append(row)\n",
    "        return result\n",
    "\n",
    "\n",
    "s = Solution()\n",
    "\n",
    "print(s.shiftGrid([[1,2,3],[4,5,6],[7,8,9]], k = 1))\n",
    "print(s.shiftGrid([[1],[2],[3],[4],[7],[6],[5]], k = 23))\n"
   ]
  },
  {
   "cell_type": "code",
   "execution_count": null,
   "metadata": {},
   "outputs": [],
   "source": []
  }
 ],
 "metadata": {
  "kernelspec": {
   "display_name": "Python 3",
   "language": "python",
   "name": "python3"
  },
  "language_info": {
   "codemirror_mode": {
    "name": "ipython",
    "version": 3
   },
   "file_extension": ".py",
   "mimetype": "text/x-python",
   "name": "python",
   "nbconvert_exporter": "python",
   "pygments_lexer": "ipython3",
   "version": "3.10.2"
  },
  "orig_nbformat": 4
 },
 "nbformat": 4,
 "nbformat_minor": 2
}
