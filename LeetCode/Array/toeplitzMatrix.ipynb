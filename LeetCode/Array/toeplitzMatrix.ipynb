{
 "cells": [
  {
   "cell_type": "code",
   "execution_count": 3,
   "metadata": {},
   "outputs": [
    {
     "name": "stdout",
     "output_type": "stream",
     "text": [
      "True\n",
      "False\n"
     ]
    }
   ],
   "source": [
    "class Solution:\n",
    "    def isToeplitzMatrix(self, matrix):\n",
    "        for i in range(len(matrix) - 1):\n",
    "            row1 = matrix[i]\n",
    "            row2 = matrix[i + 1]\n",
    "            for j in range(len(row1)):\n",
    "                if j < len(row2) - 1:\n",
    "                    if row1[j] != row2[j + 1]:\n",
    "                        return False\n",
    "        return True\n",
    "\n",
    "\n",
    "s = Solution()\n",
    "\n",
    "print(s.isToeplitzMatrix([[1,2,3,4],[5,1,2,3],[9,5,1,2]]))\n",
    "print(s.isToeplitzMatrix([[1,2],[2,2]]))\n"
   ]
  },
  {
   "cell_type": "code",
   "execution_count": null,
   "metadata": {},
   "outputs": [],
   "source": []
  }
 ],
 "metadata": {
  "kernelspec": {
   "display_name": "Python 3",
   "language": "python",
   "name": "python3"
  },
  "language_info": {
   "codemirror_mode": {
    "name": "ipython",
    "version": 3
   },
   "file_extension": ".py",
   "mimetype": "text/x-python",
   "name": "python",
   "nbconvert_exporter": "python",
   "pygments_lexer": "ipython3",
   "version": "3.10.2"
  },
  "orig_nbformat": 4
 },
 "nbformat": 4,
 "nbformat_minor": 2
}
