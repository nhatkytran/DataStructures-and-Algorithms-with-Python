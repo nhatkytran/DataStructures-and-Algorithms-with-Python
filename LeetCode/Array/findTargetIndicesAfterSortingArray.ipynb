{
 "cells": [
  {
   "cell_type": "code",
   "execution_count": 3,
   "metadata": {},
   "outputs": [
    {
     "name": "stdout",
     "output_type": "stream",
     "text": [
      "[1, 2]\n"
     ]
    }
   ],
   "source": [
    "class Solution:\n",
    "    def targetIndices(self, nums, target):\n",
    "        nums.sort()\n",
    "        result = []\n",
    "        for i in range(len(nums)):\n",
    "            if target == nums[i]:\n",
    "                result.append(i)\n",
    "        return result\n",
    "    \n",
    "    def targetIndices(self, nums, target):\n",
    "        less = 0\n",
    "        equal = 0\n",
    "        for num in nums:\n",
    "            if num < target:\n",
    "                less += 1\n",
    "            elif num == target:\n",
    "                equal += 1\n",
    "        return list(range(less, less + equal))\n",
    "\n",
    "\n",
    "s = Solution()\n",
    "\n",
    "print(s.targetIndices([1,2,5,2,3], 2))\n"
   ]
  },
  {
   "cell_type": "code",
   "execution_count": null,
   "metadata": {},
   "outputs": [],
   "source": []
  }
 ],
 "metadata": {
  "kernelspec": {
   "display_name": "Python 3",
   "language": "python",
   "name": "python3"
  },
  "language_info": {
   "codemirror_mode": {
    "name": "ipython",
    "version": 3
   },
   "file_extension": ".py",
   "mimetype": "text/x-python",
   "name": "python",
   "nbconvert_exporter": "python",
   "pygments_lexer": "ipython3",
   "version": "3.10.2"
  },
  "orig_nbformat": 4
 },
 "nbformat": 4,
 "nbformat_minor": 2
}
