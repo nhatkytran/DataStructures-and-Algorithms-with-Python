{
 "cells": [
  {
   "cell_type": "code",
   "execution_count": 1,
   "metadata": {},
   "outputs": [],
   "source": [
    "class OrderedStream:\n",
    "    def __init__(self, n):\n",
    "        self.pointer = 1\n",
    "        self.stream = [None] * (n + 1)\n",
    "\n",
    "    def insert(self, idKey, value):\n",
    "        if len(self.stream) <= 1:\n",
    "            return []\n",
    "        self.stream[idKey] = value\n",
    "        result = []\n",
    "        while self.pointer < len(self.stream) and self.stream[self.pointer] is not None:\n",
    "            result.append(self.stream[self.pointer])\n",
    "            self.pointer += 1\n",
    "        return result\n"
   ]
  },
  {
   "cell_type": "code",
   "execution_count": 1,
   "metadata": {},
   "outputs": [
    {
     "data": {
      "text/plain": [
       "[]"
      ]
     },
     "execution_count": 1,
     "metadata": {},
     "output_type": "execute_result"
    }
   ],
   "source": []
  }
 ],
 "metadata": {
  "kernelspec": {
   "display_name": "Python 3",
   "language": "python",
   "name": "python3"
  },
  "language_info": {
   "codemirror_mode": {
    "name": "ipython",
    "version": 3
   },
   "file_extension": ".py",
   "mimetype": "text/x-python",
   "name": "python",
   "nbconvert_exporter": "python",
   "pygments_lexer": "ipython3",
   "version": "3.10.2"
  },
  "orig_nbformat": 4
 },
 "nbformat": 4,
 "nbformat_minor": 2
}
