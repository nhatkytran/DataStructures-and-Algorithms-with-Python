{
 "cells": [
  {
   "cell_type": "code",
   "execution_count": 2,
   "metadata": {},
   "outputs": [
    {
     "name": "stdout",
     "output_type": "stream",
     "text": [
      "ada\n",
      "racecar\n",
      "\n"
     ]
    }
   ],
   "source": [
    "class Solution:\n",
    "    def firstPalindrome(self, words):\n",
    "        def check_palindrome(word):\n",
    "            i, j = 0, len(word) - 1\n",
    "            while i <= j:\n",
    "                if word[i] != word[j]: return False\n",
    "                i, j = i + 1, j - 1\n",
    "            return True\n",
    "        for word in words:\n",
    "            if check_palindrome(word):\n",
    "                return word\n",
    "        return \"\"\n",
    "    \n",
    "    def firstPalindrome(self, words):\n",
    "        for word in words:\n",
    "            if word == word[::-1]:\n",
    "                return word\n",
    "        return \"\"\n",
    "\n",
    "\n",
    "s = Solution()\n",
    "\n",
    "print(s.firstPalindrome([\"abc\",\"car\",\"ada\",\"racecar\",\"cool\"]))\n",
    "print(s.firstPalindrome([\"notapalindrome\",\"racecar\"]))\n",
    "print(s.firstPalindrome([\"def\",\"ghi\"]))\n"
   ]
  },
  {
   "cell_type": "code",
   "execution_count": null,
   "metadata": {},
   "outputs": [],
   "source": []
  }
 ],
 "metadata": {
  "kernelspec": {
   "display_name": "Python 3",
   "language": "python",
   "name": "python3"
  },
  "language_info": {
   "codemirror_mode": {
    "name": "ipython",
    "version": 3
   },
   "file_extension": ".py",
   "mimetype": "text/x-python",
   "name": "python",
   "nbconvert_exporter": "python",
   "pygments_lexer": "ipython3",
   "version": "3.10.2"
  },
  "orig_nbformat": 4
 },
 "nbformat": 4,
 "nbformat_minor": 2
}
