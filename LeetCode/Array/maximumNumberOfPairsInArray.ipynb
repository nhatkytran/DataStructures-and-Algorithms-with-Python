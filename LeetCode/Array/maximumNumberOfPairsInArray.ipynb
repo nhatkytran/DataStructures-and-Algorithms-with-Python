{
 "cells": [
  {
   "cell_type": "code",
   "execution_count": 19,
   "metadata": {},
   "outputs": [
    {
     "name": "stdout",
     "output_type": "stream",
     "text": [
      "[3, 1]\n"
     ]
    }
   ],
   "source": [
    "class Solution:\n",
    "    def numberOfPairs(self, nums):\n",
    "        hash_map = {}\n",
    "        for num in nums:\n",
    "            hash_map[num] = hash_map.get(num, 0) + 1\n",
    "        pairs, lefts = 0, 0\n",
    "        for value in hash_map.values():\n",
    "            pairs += value // 2\n",
    "            lefts += value % 2\n",
    "        return [pairs, lefts]\n",
    "    \n",
    "    def numberOfPairs(self, nums):\n",
    "        hash_set = set()\n",
    "        pairs = 0\n",
    "        for num in nums:\n",
    "            if num not in hash_set:\n",
    "                hash_set.add(num)\n",
    "            else:\n",
    "                hash_set.discard(num)\n",
    "                pairs += 1\n",
    "        return [pairs, len(hash_set)]\n",
    "    \n",
    "    # This solution based on the constraints of the problem, not for all cases\n",
    "    # 1 <= nums.length <= 100\n",
    "    # 0 <= nums[i] <= 100\n",
    "    def numberOfPairs(self, nums):\n",
    "        arr = [0] * 101\n",
    "        hash_set = set()\n",
    "        for num in nums:\n",
    "            arr[num] += 1\n",
    "            hash_set.add(num)\n",
    "        pairs, lefts = 0, 0\n",
    "        for num in hash_set:\n",
    "            pairs += arr[num] // 2\n",
    "            lefts += arr[num] % 2\n",
    "        return [pairs, lefts]\n",
    "\n",
    "\n",
    "s = Solution()\n",
    "\n",
    "print(s.numberOfPairs([1,3,2,1,3,2,2]))\n"
   ]
  },
  {
   "cell_type": "code",
   "execution_count": null,
   "metadata": {},
   "outputs": [],
   "source": []
  }
 ],
 "metadata": {
  "kernelspec": {
   "display_name": "Python 3",
   "language": "python",
   "name": "python3"
  },
  "language_info": {
   "codemirror_mode": {
    "name": "ipython",
    "version": 3
   },
   "file_extension": ".py",
   "mimetype": "text/x-python",
   "name": "python",
   "nbconvert_exporter": "python",
   "pygments_lexer": "ipython3",
   "version": "3.10.2"
  },
  "orig_nbformat": 4
 },
 "nbformat": 4,
 "nbformat_minor": 2
}
