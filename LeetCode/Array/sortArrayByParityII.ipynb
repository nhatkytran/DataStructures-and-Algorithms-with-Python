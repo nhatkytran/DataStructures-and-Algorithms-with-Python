{
 "cells": [
  {
   "cell_type": "code",
   "execution_count": 1,
   "metadata": {},
   "outputs": [
    {
     "name": "stdout",
     "output_type": "stream",
     "text": [
      "[2, 7, 4, 5]\n"
     ]
    }
   ],
   "source": [
    "class Solution:\n",
    "    def sortArrayByParityII(self, nums):\n",
    "        odds = []\n",
    "        evens = []\n",
    "        for num in nums:\n",
    "            if num % 2 == 0:\n",
    "                evens.append(num)\n",
    "            else:\n",
    "                odds.append(num)\n",
    "        for i in range(len(nums)):\n",
    "            if i % 2 == 0:\n",
    "                nums[i] = evens.pop()\n",
    "            else:\n",
    "                nums[i] = odds.pop()\n",
    "        return nums\n",
    "\n",
    "\n",
    "s = Solution()\n",
    "\n",
    "print(s.sortArrayByParityII([4,2,5,7]))\n"
   ]
  },
  {
   "cell_type": "code",
   "execution_count": null,
   "metadata": {},
   "outputs": [],
   "source": []
  }
 ],
 "metadata": {
  "kernelspec": {
   "display_name": "Python 3",
   "language": "python",
   "name": "python3"
  },
  "language_info": {
   "codemirror_mode": {
    "name": "ipython",
    "version": 3
   },
   "file_extension": ".py",
   "mimetype": "text/x-python",
   "name": "python",
   "nbconvert_exporter": "python",
   "pygments_lexer": "ipython3",
   "version": "3.10.2"
  },
  "orig_nbformat": 4
 },
 "nbformat": 4,
 "nbformat_minor": 2
}
