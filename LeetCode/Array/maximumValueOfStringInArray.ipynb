{
 "cells": [
  {
   "cell_type": "code",
   "execution_count": 4,
   "metadata": {},
   "outputs": [
    {
     "name": "stdout",
     "output_type": "stream",
     "text": [
      "5\n"
     ]
    }
   ],
   "source": [
    "class Solution:\n",
    "    def maximumValue(self, strs):\n",
    "        max_value = float('-inf')\n",
    "        for str_ in strs:\n",
    "            try:\n",
    "                num = int(str_)\n",
    "            except ValueError:\n",
    "                num = len(str_)\n",
    "            if num > max_value:\n",
    "                max_value = num\n",
    "        return max_value\n",
    "    \n",
    "    def maximumValue(self, strs):\n",
    "        max_value = float('-inf')\n",
    "        for str_ in strs:\n",
    "            if str_.isdigit(): max_value = max(max_value, int(str_))\n",
    "            else: max_value = max(max_value, len(str_))\n",
    "        return max_value\n",
    "\n",
    "\n",
    "s = Solution()\n",
    "\n",
    "print(s.maximumValue([\"alic3\",\"bob\",\"3\",\"4\",\"00000\"]))\n"
   ]
  },
  {
   "cell_type": "code",
   "execution_count": null,
   "metadata": {},
   "outputs": [],
   "source": []
  }
 ],
 "metadata": {
  "kernelspec": {
   "display_name": "Python 3",
   "language": "python",
   "name": "python3"
  },
  "language_info": {
   "codemirror_mode": {
    "name": "ipython",
    "version": 3
   },
   "file_extension": ".py",
   "mimetype": "text/x-python",
   "name": "python",
   "nbconvert_exporter": "python",
   "pygments_lexer": "ipython3",
   "version": "3.10.2"
  },
  "orig_nbformat": 4
 },
 "nbformat": 4,
 "nbformat_minor": 2
}
