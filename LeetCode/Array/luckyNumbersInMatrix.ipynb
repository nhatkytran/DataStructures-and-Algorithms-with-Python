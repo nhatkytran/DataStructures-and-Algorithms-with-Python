{
 "cells": [
  {
   "cell_type": "code",
   "execution_count": 11,
   "metadata": {},
   "outputs": [
    {
     "name": "stdout",
     "output_type": "stream",
     "text": [
      "[15]\n"
     ]
    }
   ],
   "source": [
    "class Solution:\n",
    "    def luckyNumbers (self, matrix):\n",
    "        min_set = set(min(row) for row in matrix)\n",
    "        max_set = set()\n",
    "        for i in range(len(matrix[0])):\n",
    "            max_value = float('-inf')\n",
    "            for row in matrix:\n",
    "                max_value = max(max_value, row[i])\n",
    "            max_set.add(max_value)\n",
    "        return list(min_set & max_set)\n",
    "    \n",
    "    def luckyNumbers (self, matrix):\n",
    "        min_set = set(min(row) for row in matrix)\n",
    "        max_set = set(max(col) for col in zip(*matrix))\n",
    "        return list(min_set & max_set)\n",
    "    \n",
    "s = Solution()\n",
    "\n",
    "print(s.luckyNumbers([[3,7,8],[9,11,13],[15,16,17]]))\n"
   ]
  },
  {
   "cell_type": "code",
   "execution_count": null,
   "metadata": {},
   "outputs": [],
   "source": []
  }
 ],
 "metadata": {
  "kernelspec": {
   "display_name": "Python 3",
   "language": "python",
   "name": "python3"
  },
  "language_info": {
   "codemirror_mode": {
    "name": "ipython",
    "version": 3
   },
   "file_extension": ".py",
   "mimetype": "text/x-python",
   "name": "python",
   "nbconvert_exporter": "python",
   "pygments_lexer": "ipython3",
   "version": "3.10.2"
  },
  "orig_nbformat": 4
 },
 "nbformat": 4,
 "nbformat_minor": 2
}
