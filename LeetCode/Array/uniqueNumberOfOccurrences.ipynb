{
 "cells": [
  {
   "cell_type": "code",
   "execution_count": 1,
   "metadata": {},
   "outputs": [
    {
     "name": "stdout",
     "output_type": "stream",
     "text": [
      "True\n"
     ]
    }
   ],
   "source": [
    "class Solution:\n",
    "    def uniqueOccurrences(self, arr):\n",
    "        hash_map = {}\n",
    "        for num in arr:\n",
    "            hash_map[num] = hash_map.get(num, 0) + 1\n",
    "        hash_set = set()\n",
    "        for num in hash_map.values():\n",
    "            if num in hash_set:\n",
    "                return False\n",
    "            hash_set.add(num)\n",
    "        return True\n",
    "    \n",
    "\n",
    "s = Solution()\n",
    "\n",
    "print(s.uniqueOccurrences([1,2,2,1,1,3]))\n"
   ]
  },
  {
   "cell_type": "code",
   "execution_count": null,
   "metadata": {},
   "outputs": [],
   "source": []
  }
 ],
 "metadata": {
  "kernelspec": {
   "display_name": "Python 3",
   "language": "python",
   "name": "python3"
  },
  "language_info": {
   "codemirror_mode": {
    "name": "ipython",
    "version": 3
   },
   "file_extension": ".py",
   "mimetype": "text/x-python",
   "name": "python",
   "nbconvert_exporter": "python",
   "pygments_lexer": "ipython3",
   "version": "3.10.2"
  },
  "orig_nbformat": 4
 },
 "nbformat": 4,
 "nbformat_minor": 2
}
