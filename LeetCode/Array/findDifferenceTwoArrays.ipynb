{
 "cells": [
  {
   "cell_type": "code",
   "execution_count": 9,
   "metadata": {},
   "outputs": [
    {
     "name": "stdout",
     "output_type": "stream",
     "text": [
      "[[1, 3], [4, 6]]\n"
     ]
    }
   ],
   "source": [
    "class Solution:\n",
    "    def findDifference(self, nums1, nums2):\n",
    "        set1 = set(nums1)\n",
    "        set2 = set(nums2)\n",
    "        return [list(set1 - set2), list(set2 - set1)]\n",
    "    \n",
    "    def findDifference(self, nums1, nums2):\n",
    "        hash_set = set(nums1) & set(nums2)\n",
    "        return [[num for num in nums1 if num not in hash_set], [num for num in nums2 if num not in hash_set]]\n",
    "\n",
    "\n",
    "s = Solution()\n",
    "\n",
    "print(s.findDifference([1,2,3], [2,4,6]))\n"
   ]
  },
  {
   "cell_type": "code",
   "execution_count": null,
   "metadata": {},
   "outputs": [],
   "source": []
  }
 ],
 "metadata": {
  "kernelspec": {
   "display_name": "Python 3",
   "language": "python",
   "name": "python3"
  },
  "language_info": {
   "codemirror_mode": {
    "name": "ipython",
    "version": 3
   },
   "file_extension": ".py",
   "mimetype": "text/x-python",
   "name": "python",
   "nbconvert_exporter": "python",
   "pygments_lexer": "ipython3",
   "version": "3.10.2"
  },
  "orig_nbformat": 4
 },
 "nbformat": 4,
 "nbformat_minor": 2
}
