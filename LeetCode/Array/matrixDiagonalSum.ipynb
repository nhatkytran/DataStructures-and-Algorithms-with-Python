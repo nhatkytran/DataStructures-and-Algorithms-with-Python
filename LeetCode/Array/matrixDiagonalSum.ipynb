{
 "cells": [
  {
   "cell_type": "code",
   "execution_count": 9,
   "metadata": {},
   "outputs": [
    {
     "name": "stdout",
     "output_type": "stream",
     "text": [
      "25\n",
      "8\n",
      "5\n"
     ]
    }
   ],
   "source": [
    "class Solution:\n",
    "    def diagonalSum(self, mat):\n",
    "        if not mat or not mat[0]:\n",
    "            return 0\n",
    "        result = 0\n",
    "        i = 0\n",
    "        j = len(mat[0]) - 1\n",
    "        for row in mat:\n",
    "            result += (row[i] + row[j])\n",
    "            i += 1\n",
    "            j -= 1\n",
    "        if len(mat[0]) % 2 == 1:\n",
    "            mid_row = mat[len(mat) // 2]\n",
    "            mid_value = mid_row[len(mid_row) // 2]\n",
    "            result -= mid_value\n",
    "        return result\n",
    "\n",
    "\n",
    "s = Solution()\n",
    "\n",
    "print(s.diagonalSum([[1,2,3],\n",
    "                     [4,5,6],\n",
    "                     [7,8,9]]))\n",
    "print(s.diagonalSum([[1,1,1,1],\n",
    "                     [1,1,1,1],\n",
    "                     [1,1,1,1],\n",
    "                     [1,1,1,1]]))\n",
    "print(s.diagonalSum([[5]]))\n"
   ]
  },
  {
   "cell_type": "code",
   "execution_count": null,
   "metadata": {},
   "outputs": [],
   "source": []
  }
 ],
 "metadata": {
  "kernelspec": {
   "display_name": "Python 3",
   "language": "python",
   "name": "python3"
  },
  "language_info": {
   "codemirror_mode": {
    "name": "ipython",
    "version": 3
   },
   "file_extension": ".py",
   "mimetype": "text/x-python",
   "name": "python",
   "nbconvert_exporter": "python",
   "pygments_lexer": "ipython3",
   "version": "3.10.2"
  },
  "orig_nbformat": 4
 },
 "nbformat": 4,
 "nbformat_minor": 2
}
