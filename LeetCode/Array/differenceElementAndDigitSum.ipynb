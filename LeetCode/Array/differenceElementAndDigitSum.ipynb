{
 "cells": [
  {
   "cell_type": "code",
   "execution_count": 4,
   "metadata": {},
   "outputs": [
    {
     "name": "stdout",
     "output_type": "stream",
     "text": [
      "9\n"
     ]
    }
   ],
   "source": [
    "class Solution:\n",
    "    def differenceOfSum(self, nums):\n",
    "        digit_sum_each = [sum(int(digit_num) for digit_num in str(num)) for num in nums]\n",
    "        return abs(sum(nums) - sum(digit_sum_each))\n",
    "    \n",
    "    def differenceOfSum(self, nums):\n",
    "        element_sum = 0\n",
    "        digit_sum = 0\n",
    "        for num in nums:\n",
    "            element_sum += num\n",
    "            for digit_num in str(num):\n",
    "                digit_sum += int(digit_num)\n",
    "        return abs(element_sum - digit_sum)\n",
    "\n",
    "\n",
    "s = Solution()\n",
    "\n",
    "print(s.differenceOfSum([1, 15, 6, 3]))\n"
   ]
  },
  {
   "cell_type": "code",
   "execution_count": null,
   "metadata": {},
   "outputs": [],
   "source": []
  }
 ],
 "metadata": {
  "kernelspec": {
   "display_name": "Python 3",
   "language": "python",
   "name": "python3"
  },
  "language_info": {
   "codemirror_mode": {
    "name": "ipython",
    "version": 3
   },
   "file_extension": ".py",
   "mimetype": "text/x-python",
   "name": "python",
   "nbconvert_exporter": "python",
   "pygments_lexer": "ipython3",
   "version": "3.10.2"
  },
  "orig_nbformat": 4
 },
 "nbformat": 4,
 "nbformat_minor": 2
}
