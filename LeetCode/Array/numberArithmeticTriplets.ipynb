{
 "cells": [
  {
   "cell_type": "code",
   "execution_count": 8,
   "metadata": {},
   "outputs": [
    {
     "name": "stdout",
     "output_type": "stream",
     "text": [
      "None\n"
     ]
    }
   ],
   "source": [
    "class Solution:\n",
    "    def arithmeticTriplets(self, nums, diff):\n",
    "        result = 0\n",
    "        for i in range(len(nums)):\n",
    "            valid = [False, False]\n",
    "            for j in range(i - 1, -1, -1):\n",
    "                if nums[i] - nums[j] < diff:\n",
    "                    continue\n",
    "                elif nums[i] - nums[j] == diff:\n",
    "                    valid[0] = True\n",
    "                    break\n",
    "                else: break\n",
    "            for j in range(i + 1, len(nums)):\n",
    "                if nums[j] - nums[i] < diff:\n",
    "                    continue\n",
    "                elif nums[j] - nums[i] == diff:\n",
    "                    valid[-1] = True\n",
    "                    break\n",
    "                else: break\n",
    "            if all(valid): result += 1\n",
    "        return result\n",
    "    \n",
    "    def arithmeticTriplets(self, nums, diff):\n",
    "        pass\n",
    "\n",
    "\n",
    "s = Solution()\n",
    "\n",
    "print(s.arithmeticTriplets([0, 1, 4, 6, 7, 10], 3))\n"
   ]
  },
  {
   "cell_type": "code",
   "execution_count": null,
   "metadata": {},
   "outputs": [],
   "source": []
  }
 ],
 "metadata": {
  "kernelspec": {
   "display_name": "Python 3",
   "language": "python",
   "name": "python3"
  },
  "language_info": {
   "codemirror_mode": {
    "name": "ipython",
    "version": 3
   },
   "file_extension": ".py",
   "mimetype": "text/x-python",
   "name": "python",
   "nbconvert_exporter": "python",
   "pygments_lexer": "ipython3",
   "version": "3.10.2"
  },
  "orig_nbformat": 4
 },
 "nbformat": 4,
 "nbformat_minor": 2
}
