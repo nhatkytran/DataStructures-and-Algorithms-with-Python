{
 "cells": [
  {
   "cell_type": "code",
   "execution_count": 6,
   "metadata": {},
   "outputs": [
    {
     "name": "stdout",
     "output_type": "stream",
     "text": [
      "2\n"
     ]
    }
   ],
   "source": [
    "class Solution:\n",
    "    def findGCD(self, nums):\n",
    "        max_num = float('-inf')\n",
    "        min_num = float('inf')\n",
    "        for num in nums:\n",
    "            if num > max_num: max_num = num\n",
    "            if num < min_num: min_num = num\n",
    "        for num in range(min_num, 0, -1):\n",
    "            if min_num % num == 0 and max_num % num == 0:\n",
    "                return num\n",
    "            \n",
    "    def findGCD(self, nums):\n",
    "        max_num = float('-inf')\n",
    "        min_num = float('inf')\n",
    "        for num in nums:\n",
    "            if num > max_num: max_num = num\n",
    "            if num < min_num: min_num = num\n",
    "        while min_num:\n",
    "            min_num, max_num = max_num % min_num, min_num\n",
    "        return max_num\n",
    "\n",
    "\n",
    "s = Solution()\n",
    "\n",
    "print(s.findGCD([2,5,6,9,10]))\n"
   ]
  },
  {
   "cell_type": "code",
   "execution_count": null,
   "metadata": {},
   "outputs": [],
   "source": []
  }
 ],
 "metadata": {
  "kernelspec": {
   "display_name": "Python 3",
   "language": "python",
   "name": "python3"
  },
  "language_info": {
   "codemirror_mode": {
    "name": "ipython",
    "version": 3
   },
   "file_extension": ".py",
   "mimetype": "text/x-python",
   "name": "python",
   "nbconvert_exporter": "python",
   "pygments_lexer": "ipython3",
   "version": "3.10.2"
  },
  "orig_nbformat": 4
 },
 "nbformat": 4,
 "nbformat_minor": 2
}
