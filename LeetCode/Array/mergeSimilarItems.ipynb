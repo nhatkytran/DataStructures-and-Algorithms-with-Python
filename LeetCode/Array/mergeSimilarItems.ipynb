{
 "cells": [
  {
   "cell_type": "code",
   "execution_count": 6,
   "metadata": {},
   "outputs": [
    {
     "name": "stdout",
     "output_type": "stream",
     "text": [
      "[[1, 6], [3, 9], [4, 5]]\n"
     ]
    }
   ],
   "source": [
    "class Solution:\n",
    "    def mergeSimilarItems(self, items1, items2):\n",
    "        map1 = {key: value for key, value in items1}\n",
    "        map2 = {key: value for key, value in items2}\n",
    "        result = []\n",
    "        for key in map1:\n",
    "            if key in map2:\n",
    "                item = [key, map1[key] + map2[key]]\n",
    "            else:\n",
    "                item = [key, map1[key]]\n",
    "            result.append(item)\n",
    "        for key, value in map2:\n",
    "            if key not in map1:\n",
    "                result.append([key, value])\n",
    "        result.sort(key=lambda arr: arr[0])\n",
    "        return result\n",
    "\n",
    "\n",
    "s = Solution()\n",
    "\n",
    "print(s.mergeSimilarItems([[1,1],[4,5],[3,8]], [[3,1],[1,5]]))\n"
   ]
  },
  {
   "cell_type": "code",
   "execution_count": null,
   "metadata": {},
   "outputs": [],
   "source": []
  }
 ],
 "metadata": {
  "kernelspec": {
   "display_name": "Python 3",
   "language": "python",
   "name": "python3"
  },
  "language_info": {
   "codemirror_mode": {
    "name": "ipython",
    "version": 3
   },
   "file_extension": ".py",
   "mimetype": "text/x-python",
   "name": "python",
   "nbconvert_exporter": "python",
   "pygments_lexer": "ipython3",
   "version": "3.10.2"
  },
  "orig_nbformat": 4
 },
 "nbformat": 4,
 "nbformat_minor": 2
}
