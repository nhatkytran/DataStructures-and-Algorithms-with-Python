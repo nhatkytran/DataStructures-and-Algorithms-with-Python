{
 "cells": [
  {
   "cell_type": "code",
   "execution_count": 6,
   "metadata": {},
   "outputs": [
    {
     "name": "stdout",
     "output_type": "stream",
     "text": [
      "[15, 1, 11, 22]\n"
     ]
    }
   ],
   "source": [
    "class Solution:\n",
    "    def leftRigthDifference(self, nums):\n",
    "        sum_left = 0\n",
    "        sum_right = sum(num for num in nums)\n",
    "        result = []\n",
    "        for i in range(len(nums)):\n",
    "            sum_left += nums[i - 1] if i > 0 else 0\n",
    "            sum_right -= nums[i]\n",
    "            result.append(abs(sum_right - sum_left))\n",
    "        return result\n",
    "    \n",
    "    def leftRigthDifference(self, nums):\n",
    "        sum_left = 0\n",
    "        sum_right = sum(nums[i] for i in range(1, len(nums)))\n",
    "        for i in range(len(nums)):\n",
    "            ab = abs(sum_right - sum_left)\n",
    "            sum_left += nums[i]\n",
    "            sum_right -= nums[i + 1] if i < len(nums) - 1 else 0\n",
    "            nums[i] = ab\n",
    "        return nums\n",
    "\n",
    "\n",
    "s = Solution()\n",
    "\n",
    "print(s.leftRigthDifference([10, 4, 8, 3]))"
   ]
  },
  {
   "cell_type": "code",
   "execution_count": null,
   "metadata": {},
   "outputs": [],
   "source": []
  }
 ],
 "metadata": {
  "kernelspec": {
   "display_name": "Python 3",
   "language": "python",
   "name": "python3"
  },
  "language_info": {
   "codemirror_mode": {
    "name": "ipython",
    "version": 3
   },
   "file_extension": ".py",
   "mimetype": "text/x-python",
   "name": "python",
   "nbconvert_exporter": "python",
   "pygments_lexer": "ipython3",
   "version": "3.10.2"
  },
  "orig_nbformat": 4
 },
 "nbformat": 4,
 "nbformat_minor": 2
}
