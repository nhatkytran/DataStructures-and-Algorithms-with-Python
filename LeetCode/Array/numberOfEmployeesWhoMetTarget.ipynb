{
 "cells": [
  {
   "cell_type": "code",
   "execution_count": 3,
   "metadata": {},
   "outputs": [
    {
     "name": "stdout",
     "output_type": "stream",
     "text": [
      "3\n"
     ]
    }
   ],
   "source": [
    "class Solution:\n",
    "    def numberOfEmployeesWhoMetTarget(self, hours, target):\n",
    "        return sum(1 for hour in hours if hour >= target)\n",
    "    \n",
    "    def numberOfEmployeesWhoMetTarget(self, hours, target):\n",
    "        return sum(hour >= target for hour in hours)\n",
    "\n",
    "\n",
    "s = Solution()\n",
    "\n",
    "print(s.numberOfEmployeesWhoMetTarget([0,1,2,3,4], 2))\n"
   ]
  },
  {
   "cell_type": "code",
   "execution_count": null,
   "metadata": {},
   "outputs": [],
   "source": []
  }
 ],
 "metadata": {
  "kernelspec": {
   "display_name": "Python 3",
   "language": "python",
   "name": "python3"
  },
  "language_info": {
   "codemirror_mode": {
    "name": "ipython",
    "version": 3
   },
   "file_extension": ".py",
   "mimetype": "text/x-python",
   "name": "python",
   "nbconvert_exporter": "python",
   "pygments_lexer": "ipython3",
   "version": "3.10.2"
  },
  "orig_nbformat": 4
 },
 "nbformat": 4,
 "nbformat_minor": 2
}
