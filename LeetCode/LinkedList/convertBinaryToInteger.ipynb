{
 "cells": [
  {
   "cell_type": "code",
   "execution_count": 13,
   "metadata": {},
   "outputs": [],
   "source": [
    "class Solution:\n",
    "    def getDecimalValue(self, head):\n",
    "        length = 0\n",
    "        current = head\n",
    "        while current:\n",
    "            length += 1\n",
    "            current = current.next\n",
    "        decimal_value = 0\n",
    "        start_index = length - 1\n",
    "        while start_index >= 0:\n",
    "            decimal_value += head.val * 2 ** start_index\n",
    "            start_index -= 1\n",
    "            head = head.next\n",
    "        return decimal_value\n",
    "    \n",
    "    def getDecimalValue(self, head):\n",
    "        result = 0\n",
    "        while head:\n",
    "            result = (result << 1) | head.val\n",
    "            head = head.next\n",
    "        return result\n",
    "    \n",
    "    def getDecimalValue(self, head):\n",
    "        result = 0\n",
    "        while head:\n",
    "            result = result * 2 + head.val\n",
    "            head = head.next\n",
    "        return result\n"
   ]
  },
  {
   "cell_type": "code",
   "execution_count": null,
   "metadata": {},
   "outputs": [],
   "source": []
  }
 ],
 "metadata": {
  "kernelspec": {
   "display_name": "Python 3",
   "language": "python",
   "name": "python3"
  },
  "language_info": {
   "codemirror_mode": {
    "name": "ipython",
    "version": 3
   },
   "file_extension": ".py",
   "mimetype": "text/x-python",
   "name": "python",
   "nbconvert_exporter": "python",
   "pygments_lexer": "ipython3",
   "version": "3.10.2"
  },
  "orig_nbformat": 4
 },
 "nbformat": 4,
 "nbformat_minor": 2
}
