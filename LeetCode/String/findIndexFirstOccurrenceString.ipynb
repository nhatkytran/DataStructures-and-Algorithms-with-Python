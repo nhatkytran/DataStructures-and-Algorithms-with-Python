{
 "cells": [
  {
   "cell_type": "code",
   "execution_count": 15,
   "metadata": {},
   "outputs": [
    {
     "name": "stdout",
     "output_type": "stream",
     "text": [
      "-1\n"
     ]
    }
   ],
   "source": [
    "class Solution:\n",
    "    def strStr(self, haystack, needle):\n",
    "        for i in range(len(haystack) - len(needle) + 1):\n",
    "            for j in range(len(needle)):\n",
    "                if needle[j] != haystack[i + j]: break\n",
    "            else:\n",
    "                return i\n",
    "        return -1\n",
    "    \n",
    "    def strStr(self, haystack, needle):\n",
    "        lps = [0] * len(needle)\n",
    "        prevLPS = 0\n",
    "        index = 1\n",
    "        while index < len(needle):\n",
    "            if needle[index] == needle[prevLPS]:\n",
    "                lps[index] = prevLPS + 1\n",
    "                prevLPS += 1\n",
    "                index += 1\n",
    "            else:\n",
    "                if prevLPS == 0:\n",
    "                    lps[index] = 0\n",
    "                    index += 1\n",
    "                else:\n",
    "                    prevLPS = lps[prevLPS - 1]\n",
    "        i = 0\n",
    "        j = 0\n",
    "        while i < len(haystack):\n",
    "            if haystack[i] == needle[j]:\n",
    "                i += 1\n",
    "                j += 1\n",
    "            else:\n",
    "                if j == 0:\n",
    "                    i += 1\n",
    "                else:\n",
    "                    j = lps[j - 1]\n",
    "            if j == len(needle):\n",
    "                return i - j\n",
    "        return -1\n",
    "\n",
    "\n",
    "s = Solution()\n",
    "\n",
    "# print(s.strStr(\"sadbutsad\", \"sad\"))\n",
    "# print(s.strStr(\"leetcode\", \"leeto\"))\n",
    "\n",
    "# 5 --> -1\n",
    "print(s.strStr(\"mississippi\", \"issipi\"))\n"
   ]
  },
  {
   "cell_type": "code",
   "execution_count": null,
   "metadata": {},
   "outputs": [],
   "source": []
  }
 ],
 "metadata": {
  "kernelspec": {
   "display_name": "Python 3",
   "language": "python",
   "name": "python3"
  },
  "language_info": {
   "codemirror_mode": {
    "name": "ipython",
    "version": 3
   },
   "file_extension": ".py",
   "mimetype": "text/x-python",
   "name": "python",
   "nbconvert_exporter": "python",
   "pygments_lexer": "ipython3",
   "version": "3.10.2"
  },
  "orig_nbformat": 4
 },
 "nbformat": 4,
 "nbformat_minor": 2
}
