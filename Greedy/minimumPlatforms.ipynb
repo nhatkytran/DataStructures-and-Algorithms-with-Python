{
 "cells": [
  {
   "cell_type": "code",
   "execution_count": 10,
   "metadata": {},
   "outputs": [
    {
     "name": "stdout",
     "output_type": "stream",
     "text": [
      "3\n",
      "1\n"
     ]
    }
   ],
   "source": [
    "# https://www.youtube.com/watch?v=dxVcMDI7vyI&list=PLgUwDviBIf0pmWCl2nepwGDO05a0-7EfJ&index=2\n",
    "\n",
    "def minimumPlatforms(n, arrs, deps):\n",
    "    num = 1\n",
    "    current_platforms = [[0, 0]]\n",
    "    trains = [*zip(arrs, deps)]\n",
    "    for train in trains:\n",
    "        arr, dep = train\n",
    "        has_place = False\n",
    "        for i in range(len(current_platforms)):\n",
    "            if arr > current_platforms[i][1]:\n",
    "                current_platforms[i] = [arr, dep]\n",
    "                has_place = True\n",
    "                break\n",
    "        if not has_place:\n",
    "            current_platforms.append([arr, dep])\n",
    "            num += 1\n",
    "        current_platforms.sort(key=lambda x: x[1])\n",
    "    return num\n",
    "\n",
    "\n",
    "print(minimumPlatforms(6, [900, 940, 950, 1100, 1500, 1800], [910, 1200, 1120, 1130, 1900, 2000]))\n",
    "print(minimumPlatforms(3, [900, 1100, 1235], [1000, 1200, 1240]))\n"
   ]
  },
  {
   "cell_type": "code",
   "execution_count": null,
   "metadata": {},
   "outputs": [],
   "source": []
  }
 ],
 "metadata": {
  "kernelspec": {
   "display_name": "Python 3",
   "language": "python",
   "name": "python3"
  },
  "language_info": {
   "codemirror_mode": {
    "name": "ipython",
    "version": 3
   },
   "file_extension": ".py",
   "mimetype": "text/x-python",
   "name": "python",
   "nbconvert_exporter": "python",
   "pygments_lexer": "ipython3",
   "version": "3.10.2"
  }
 },
 "nbformat": 4,
 "nbformat_minor": 2
}
