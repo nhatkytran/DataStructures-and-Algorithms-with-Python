{
 "cells": [
  {
   "cell_type": "code",
   "execution_count": null,
   "metadata": {},
   "outputs": [],
   "source": [
    "# Graph\n",
    "\n",
    "# - Collection of nodes and edges\n",
    "\n",
    "# Directed graph\n",
    "\n",
    "# A --> C\n",
    "# |     |\n",
    "# \\/    \\/\n",
    "# B <-- E\n",
    "# |\n",
    "# \\/\n",
    "# D <-- F\n",
    "\n",
    "# Ajacency List\n",
    "\n",
    "# {\n",
    "#   a: [b, c],\n",
    "#   b: [d],\n",
    "#   c: [e],\n",
    "#   d: [],\n",
    "#   e: [b],\n",
    "#   f: [d]\n",
    "# }\n",
    "\n",
    "# Depth First Traversal\n",
    "# => Stack\n",
    "# => Explore one direction as far as possible before switching directions\n",
    "\n",
    "# Breadth First Traversal\n",
    "# => Queue\n",
    "# => Explore all direction evenly\n",
    "\n",
    "# Undirected graph\n",
    "\n",
    "# A -- C\n",
    "# |    |\n",
    "# B -- E\n",
    "# |\n",
    "# D -- F\n",
    "\n",
    "# Edges List\n",
    "\n",
    "# [\n",
    "#   [i, j],\n",
    "#   [k, i],\n",
    "#   [m, k],\n",
    "#   [k, l],\n",
    "#   [o, n],\n",
    "# ]\n",
    "\n",
    "# Adjacency List\n",
    "\n",
    "# {\n",
    "#   i: [j, k],\n",
    "#   j: [i],\n",
    "#   k: [i, m, l],\n",
    "#   m: [k],\n",
    "#   l: [k],\n",
    "#   o: [n],\n",
    "#   n: [o]\n",
    "# }\n"
   ]
  }
 ],
 "metadata": {
  "kernelspec": {
   "display_name": "Python 3.9.5 64-bit",
   "language": "python",
   "name": "python3"
  },
  "language_info": {
   "name": "python",
   "version": "3.9.5"
  },
  "orig_nbformat": 4,
  "vscode": {
   "interpreter": {
    "hash": "b8bdd4e700647ba2b08c59e5df8b7da1dcf50a218bcd4c1bcd9b3dc92e8788e5"
   }
  }
 },
 "nbformat": 4,
 "nbformat_minor": 2
}
