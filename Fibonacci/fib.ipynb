{
 "cells": [
  {
   "cell_type": "code",
   "execution_count": null,
   "metadata": {},
   "outputs": [],
   "source": [
    "def fib(number):\n",
    "    if number == 0:\n",
    "        return 0\n",
    "    if number == 1 or number == 2:\n",
    "        return 1\n",
    "    f0, f1 = 0, 1\n",
    "    for i in range(2, number + 1):\n",
    "        f0, f1 = f1, f0 + f1\n",
    "    return f1\n",
    "\n",
    "\n",
    "def recursive_fib(number):\n",
    "    if number <= 2:\n",
    "        return 1\n",
    "    return fib(number - 1) + fib(number - 2)\n",
    "\n",
    "\n",
    "def recursive_fib_memoi():\n",
    "    memo = {}\n",
    "    def inner(number):\n",
    "        if number <= 2:\n",
    "            return 1\n",
    "        try:\n",
    "            return memo[number]\n",
    "        except KeyError:\n",
    "            result = inner(number - 1) + inner(number - 2)\n",
    "            memo[number] = result\n",
    "            return result\n",
    "    return inner\n"
   ]
  },
  {
   "cell_type": "code",
   "execution_count": null,
   "metadata": {},
   "outputs": [],
   "source": []
  }
 ],
 "metadata": {
  "kernelspec": {
   "display_name": "Python 3.9.5 64-bit",
   "language": "python",
   "name": "python3"
  },
  "language_info": {
   "codemirror_mode": {
    "name": "ipython",
    "version": 3
   },
   "file_extension": ".py",
   "mimetype": "text/x-python",
   "name": "python",
   "nbconvert_exporter": "python",
   "pygments_lexer": "ipython3",
   "version": "3.9.5"
  },
  "orig_nbformat": 4,
  "vscode": {
   "interpreter": {
    "hash": "b8bdd4e700647ba2b08c59e5df8b7da1dcf50a218bcd4c1bcd9b3dc92e8788e5"
   }
  }
 },
 "nbformat": 4,
 "nbformat_minor": 2
}
