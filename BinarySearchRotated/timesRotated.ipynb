{
 "cells": [
  {
   "cell_type": "code",
   "execution_count": 68,
   "metadata": {},
   "outputs": [],
   "source": [
    "def times(list_):\n",
    "    left = 0\n",
    "    right = len(list_) - 1\n",
    "    result = 0\n",
    "    while left <= right:\n",
    "        if list_[left] < list_[right]:\n",
    "            return left\n",
    "        middle = left + (right - left) // 2\n",
    "        prev = (middle - 1 + len(list_)) % len(list_)\n",
    "        if list_[middle] < list_[prev]:\n",
    "            return middle\n",
    "        if list_[left] < list_[middle]:\n",
    "            left = middle + 1\n",
    "        if list_[middle] <= list_[right]:\n",
    "            right = middle - 1\n",
    "    return result\n",
    "\n",
    "\n",
    "# print(times([]))\n",
    "# print(times([1, 2, 3]))\n",
    "# print(times([1, 1, 1]))\n",
    "# print('--')\n",
    "# print(times([3, 4, 5, 0, 1, 2]))\n",
    "# print('--')\n",
    "print(times([10, 3, 3, 3, 3, 3, 3, 3, 3, 3, 3, 3, 3]))"
   ]
  },
  {
   "cell_type": "code",
   "execution_count": null,
   "metadata": {},
   "outputs": [],
   "source": []
  }
 ],
 "metadata": {
  "kernelspec": {
   "display_name": "Python 3.9.5 64-bit",
   "language": "python",
   "name": "python3"
  },
  "language_info": {
   "name": "python",
   "version": "3.9.5"
  },
  "orig_nbformat": 4,
  "vscode": {
   "interpreter": {
    "hash": "b8bdd4e700647ba2b08c59e5df8b7da1dcf50a218bcd4c1bcd9b3dc92e8788e5"
   }
  }
 },
 "nbformat": 4,
 "nbformat_minor": 2
}
