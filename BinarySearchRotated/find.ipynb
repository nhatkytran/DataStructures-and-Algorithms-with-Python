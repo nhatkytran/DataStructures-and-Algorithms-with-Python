{
 "cells": [
  {
   "cell_type": "code",
   "execution_count": 7,
   "metadata": {},
   "outputs": [],
   "source": [
    "def find(list_, target):\n",
    "    left = 0\n",
    "    right = len(list_) - 1\n",
    "    while left <= right:\n",
    "        middle = left + (right - left) // 2\n",
    "        if list_[middle] == target:\n",
    "            return middle\n",
    "        if list_[left] <= list_[middle]:\n",
    "            if list_[left] > target or list_[middle] < target:\n",
    "                left = middle + 1\n",
    "            else:\n",
    "                right = middle - 1\n",
    "        else:\n",
    "            if list_[middle] > target or list_[right] < target:\n",
    "                right = middle - 1\n",
    "            else:\n",
    "                left = middle + 1\n",
    "    return -1\n",
    "\n",
    "\n",
    "def recursive_find(list_, target):\n",
    "    left = 0\n",
    "    right = len(list_) - 1\n",
    "    def inner(list_, target, left, right):\n",
    "        if left > right:\n",
    "            return -1\n",
    "        middle = left + (right - left) // 2\n",
    "        if list_[middle] == target:\n",
    "            return middle\n",
    "        if list_[left] <= list_[middle]:\n",
    "            if list_[left] <= target < list_[middle]:\n",
    "                return inner(list_, target, left, middle - 1)\n",
    "            else:\n",
    "                return inner(list_, target, middle + 1, right)\n",
    "        else:\n",
    "            if list_[middle] < target <= list_[right]:\n",
    "                return inner(list_, target, middle + 1, right)\n",
    "            else:\n",
    "                return inner(list_, target, left, middle - 1)\n",
    "    return inner(list_, target, left, right)\n"
   ]
  },
  {
   "cell_type": "code",
   "execution_count": null,
   "metadata": {},
   "outputs": [],
   "source": []
  }
 ],
 "metadata": {
  "kernelspec": {
   "display_name": "Python 3.9.5 64-bit",
   "language": "python",
   "name": "python3"
  },
  "language_info": {
   "codemirror_mode": {
    "name": "ipython",
    "version": 3
   },
   "file_extension": ".py",
   "mimetype": "text/x-python",
   "name": "python",
   "nbconvert_exporter": "python",
   "pygments_lexer": "ipython3",
   "version": "3.9.5"
  },
  "orig_nbformat": 4,
  "vscode": {
   "interpreter": {
    "hash": "b8bdd4e700647ba2b08c59e5df8b7da1dcf50a218bcd4c1bcd9b3dc92e8788e5"
   }
  }
 },
 "nbformat": 4,
 "nbformat_minor": 2
}
