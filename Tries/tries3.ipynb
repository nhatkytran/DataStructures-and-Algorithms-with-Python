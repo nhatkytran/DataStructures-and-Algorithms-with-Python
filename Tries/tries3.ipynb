{
 "cells": [
  {
   "cell_type": "code",
   "execution_count": 6,
   "metadata": {},
   "outputs": [
    {
     "name": "stdout",
     "output_type": "stream",
     "text": [
      "ninja\n"
     ]
    }
   ],
   "source": [
    "class Trie:\n",
    "    def __init__(self):\n",
    "        self.links = [None] * 26\n",
    "        self.flag = False\n",
    "\n",
    "    def index(self, char):\n",
    "        return ord(char) - ord('a')\n",
    "    \n",
    "    def contains(self, char):\n",
    "        return self.links[self.index(char)] is not None\n",
    "    \n",
    "    def push(self, char):\n",
    "        self.links[self.index(char)] = self.__class__()\n",
    "\n",
    "    def get(self, char):\n",
    "        return self.links[self.index(char)]\n",
    "    \n",
    "    def setEnd(self):\n",
    "        self.flag = True\n",
    "\n",
    "    def isEnd(self):\n",
    "        return self.flag\n",
    "\n",
    "\n",
    "class Tries:\n",
    "    def __init__(self):\n",
    "        self.root = Trie()\n",
    "\n",
    "    def insert(self, word):\n",
    "        cur = self.root\n",
    "        for char in word:\n",
    "            if not cur.contains(char):\n",
    "                cur.push(char)\n",
    "            cur = cur.get(char)\n",
    "        cur.setEnd()\n",
    "\n",
    "    def allPrefixesComplete(self, word):\n",
    "        cur = self.root\n",
    "        for char in word:\n",
    "            if not cur.contains(char):\n",
    "                return False\n",
    "            cur = cur.get(char)\n",
    "            if not cur.isEnd():\n",
    "                return False\n",
    "        return cur.isEnd()\n",
    "\n",
    "\n",
    "words = ['n', 'ninja', 'ninj', 'ni', 'nin', 'ninga']\n",
    "\n",
    "def findLongestAllPrefixes(words):\n",
    "    tries = Tries()\n",
    "    for word in words:\n",
    "        tries.insert(word)\n",
    "    foundString = ''\n",
    "    for word in words:\n",
    "        if tries.allPrefixesComplete(word):\n",
    "            if len(word) > len(foundString) or \\\n",
    "            (len(word) == len(foundString) and word < foundString):\n",
    "                foundString = word\n",
    "    return foundString\n",
    "\n",
    "\n",
    "print(findLongestAllPrefixes(words))\n"
   ]
  },
  {
   "cell_type": "code",
   "execution_count": null,
   "metadata": {},
   "outputs": [],
   "source": []
  }
 ],
 "metadata": {
  "kernelspec": {
   "display_name": "Python 3",
   "language": "python",
   "name": "python3"
  },
  "language_info": {
   "codemirror_mode": {
    "name": "ipython",
    "version": 3
   },
   "file_extension": ".py",
   "mimetype": "text/x-python",
   "name": "python",
   "nbconvert_exporter": "python",
   "pygments_lexer": "ipython3",
   "version": "3.10.2"
  },
  "orig_nbformat": 4
 },
 "nbformat": 4,
 "nbformat_minor": 2
}
