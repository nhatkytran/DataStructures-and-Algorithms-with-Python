{
 "cells": [
  {
   "cell_type": "code",
   "execution_count": 3,
   "metadata": {},
   "outputs": [
    {
     "name": "stdout",
     "output_type": "stream",
     "text": [
      "8\n"
     ]
    }
   ],
   "source": [
    "def subString(word):\n",
    "    distinct = set()\n",
    "    for i in range(len(word)):\n",
    "        string = ''\n",
    "        for j in range(i, len(word)):\n",
    "            string +=  word[j]\n",
    "            distinct.add(string)\n",
    "    return len(distinct) + 1\n",
    "\n",
    "\n",
    "print(subString('abab')) # 7 + 1 (empty string)\n",
    "\n",
    "# Solution is not good for Sapce Complexity because we ne to \\\n",
    "# store all substrings -->  Implement Tries\n"
   ]
  },
  {
   "cell_type": "code",
   "execution_count": 6,
   "metadata": {},
   "outputs": [
    {
     "name": "stdout",
     "output_type": "stream",
     "text": [
      "8\n"
     ]
    }
   ],
   "source": [
    "class Trie:\n",
    "    def __init__(self):\n",
    "        self.links = [None] * 26\n",
    "\n",
    "    def index(self, char):\n",
    "        return ord(char) - ord('a')\n",
    "\n",
    "    def contains(self, char):\n",
    "        return self.links[self.index(char)] is not None\n",
    "    \n",
    "    def push(self, char):\n",
    "        self.links[self.index(char)] = self.__class__()\n",
    "\n",
    "    def get(self, char):\n",
    "        return self.links[self.index(char)]\n",
    "\n",
    "\n",
    "class Tries:\n",
    "    def __init__(self):\n",
    "        self.root = Trie()\n",
    "\n",
    "    def countSubstrings(self, word):\n",
    "        result = 0\n",
    "        for i in range(len(word)):\n",
    "            cur = self.root\n",
    "            for j in range(i, len(word)):\n",
    "                if not cur.contains(word[j]):\n",
    "                    cur.push(word[j])\n",
    "                    result += 1\n",
    "                cur = cur.get(word[j])\n",
    "        return result + 1\n",
    "\n",
    "\n",
    "def countSubstrings(word):\n",
    "    return Tries().countSubstrings(word)\n",
    "\n",
    "\n",
    "print(countSubstrings('abab'))\n"
   ]
  },
  {
   "cell_type": "code",
   "execution_count": null,
   "metadata": {},
   "outputs": [],
   "source": []
  }
 ],
 "metadata": {
  "kernelspec": {
   "display_name": "Python 3",
   "language": "python",
   "name": "python3"
  },
  "language_info": {
   "codemirror_mode": {
    "name": "ipython",
    "version": 3
   },
   "file_extension": ".py",
   "mimetype": "text/x-python",
   "name": "python",
   "nbconvert_exporter": "python",
   "pygments_lexer": "ipython3",
   "version": "3.10.2"
  },
  "orig_nbformat": 4
 },
 "nbformat": 4,
 "nbformat_minor": 2
}
