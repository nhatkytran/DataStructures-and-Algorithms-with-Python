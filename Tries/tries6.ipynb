{
 "cells": [
  {
   "cell_type": "code",
   "execution_count": 2,
   "metadata": {},
   "outputs": [
    {
     "name": "stdout",
     "output_type": "stream",
     "text": [
      "[7, 7, 7, 2]\n"
     ]
    }
   ],
   "source": [
    "def maxXOR(queries, arr):\n",
    "    ans = []\n",
    "    for x, a in queries:\n",
    "        max_value = 0\n",
    "        for num in arr:\n",
    "            if num <= a:\n",
    "                max_value = max(max_value, x ^ num)\n",
    "        ans.append(max_value)\n",
    "    return ans\n",
    "\n",
    "\n",
    "queries = [[3, 4], [5, 2], [2, 5], [3, 1]]\n",
    "arr = [1, 3, 2, 5, 4]\n",
    "\n",
    "print(maxXOR(queries, arr))\n"
   ]
  },
  {
   "cell_type": "code",
   "execution_count": null,
   "metadata": {},
   "outputs": [],
   "source": []
  }
 ],
 "metadata": {
  "kernelspec": {
   "display_name": "Python 3",
   "language": "python",
   "name": "python3"
  },
  "language_info": {
   "codemirror_mode": {
    "name": "ipython",
    "version": 3
   },
   "file_extension": ".py",
   "mimetype": "text/x-python",
   "name": "python",
   "nbconvert_exporter": "python",
   "pygments_lexer": "ipython3",
   "version": "3.10.2"
  },
  "orig_nbformat": 4
 },
 "nbformat": 4,
 "nbformat_minor": 2
}
