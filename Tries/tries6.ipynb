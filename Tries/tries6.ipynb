{
 "cells": [
  {
   "cell_type": "code",
   "execution_count": 2,
   "metadata": {},
   "outputs": [
    {
     "name": "stdout",
     "output_type": "stream",
     "text": [
      "[7, 7, 7, 2]\n"
     ]
    }
   ],
   "source": [
    "def maxXOR(queries, arr):\n",
    "    ans = []\n",
    "    for x, a in queries:\n",
    "        max_value = 0\n",
    "        for num in arr:\n",
    "            if num <= a:\n",
    "                max_value = max(max_value, x ^ num)\n",
    "        ans.append(max_value)\n",
    "    return ans\n",
    "\n",
    "\n",
    "queries = [[3, 4], [5, 2], [2, 5], [3, 1]]\n",
    "arr = [1, 3, 2, 5, 4]\n",
    "\n",
    "print(maxXOR(queries, arr))\n"
   ]
  },
  {
   "cell_type": "code",
   "execution_count": 7,
   "metadata": {},
   "outputs": [
    {
     "name": "stdout",
     "output_type": "stream",
     "text": [
      "[7, 7, 7, 2]\n"
     ]
    }
   ],
   "source": [
    "class Trie:\n",
    "    def __init__(self):\n",
    "        self.links = [None] * 2\n",
    "\n",
    "    def contains(self, bit):\n",
    "        return self.links[int(bit)] is not None\n",
    "    \n",
    "    def push(self, bit):\n",
    "        self.links[int(bit)] = self.__class__()\n",
    "\n",
    "    def get(self, bit):\n",
    "        return self.links[int(bit)]\n",
    "\n",
    "\n",
    "class Tries:\n",
    "    def __init__(self):\n",
    "        self.root = Trie()\n",
    "\n",
    "    def insert(self, bits):\n",
    "        cur = self.root\n",
    "        for bit in bits:\n",
    "            if not cur.contains(bit):\n",
    "                cur.push(bit)\n",
    "            cur = cur.get(bit)\n",
    "\n",
    "    def getMax(self, bits):\n",
    "        cur = self.root\n",
    "        max_value = 0\n",
    "        for i in range(len(bits)):\n",
    "            bit = int(bits[i])\n",
    "            if cur.contains(1 ^ bit):\n",
    "                max_value |= (1 << len(bits) - 1 - i)\n",
    "                cur = cur.get(1 ^ bit)\n",
    "            else:\n",
    "                cur = cur.get(bit)\n",
    "        return max_value\n",
    "\n",
    "\n",
    "def maxXOR(queries, arr):\n",
    "    size = len(queries)\n",
    "    for i in range(size):\n",
    "        queries[i] = [*queries[i], i]\n",
    "    queries.sort(key=lambda query: query[1])\n",
    "    arr.sort()\n",
    "    tries = Tries()\n",
    "    result = [None] * size\n",
    "    index, n = 0, len(arr)\n",
    "    for query in queries:\n",
    "        x, a, i = query\n",
    "        while (index < n and arr[index] <= a):\n",
    "            tries.insert('{:032b}'.format(arr[index]))\n",
    "            index += 1\n",
    "        if index == 0: result[i] = -1\n",
    "        else: result[i] = tries.getMax('{:032b}'.format(x))\n",
    "    return result\n",
    "\n",
    "\n",
    "print(maxXOR([[3, 4], [5, 2], [2, 5], [3, 1]], [1, 3, 2, 5, 4]))\n"
   ]
  },
  {
   "cell_type": "code",
   "execution_count": null,
   "metadata": {},
   "outputs": [],
   "source": []
  }
 ],
 "metadata": {
  "kernelspec": {
   "display_name": "Python 3",
   "language": "python",
   "name": "python3"
  },
  "language_info": {
   "codemirror_mode": {
    "name": "ipython",
    "version": 3
   },
   "file_extension": ".py",
   "mimetype": "text/x-python",
   "name": "python",
   "nbconvert_exporter": "python",
   "pygments_lexer": "ipython3",
   "version": "3.10.2"
  },
  "orig_nbformat": 4
 },
 "nbformat": 4,
 "nbformat_minor": 2
}
