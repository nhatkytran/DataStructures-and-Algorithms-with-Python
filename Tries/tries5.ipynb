{
 "cells": [
  {
   "cell_type": "code",
   "execution_count": 2,
   "metadata": {},
   "outputs": [
    {
     "name": "stdout",
     "output_type": "stream",
     "text": [
      "15\n"
     ]
    }
   ],
   "source": [
    "def find_max(nums, x):\n",
    "    return max(num ^ x for num in nums)\n",
    "\n",
    "\n",
    "print(find_max([9, 8, 7, 5, 4], 8))\n"
   ]
  },
  {
   "cell_type": "code",
   "execution_count": 10,
   "metadata": {},
   "outputs": [
    {
     "name": "stdout",
     "output_type": "stream",
     "text": [
      "15\n"
     ]
    }
   ],
   "source": [
    "# '{:032b}'.format(10)\n",
    "# '00000000000000000000000000001010'\n",
    "\n",
    "class Trie:\n",
    "    def __init__(self):\n",
    "        self.links = [None] * 2\n",
    "\n",
    "    def contains(self, bit):\n",
    "        return self.links[bit] is not None\n",
    "    \n",
    "    def push(self, bit):\n",
    "        self.links[bit] = self.__class__()\n",
    "\n",
    "    def get(self, bit):\n",
    "        return self.links[bit]\n",
    "\n",
    "\n",
    "class Tries:\n",
    "    def __init__(self):\n",
    "        self.root = Trie()\n",
    "\n",
    "    def insert(self, numBit):\n",
    "        cur = self.root\n",
    "        for bit in numBit:\n",
    "            bit = int(bit)\n",
    "            if not cur.contains(bit):\n",
    "                cur.push(bit)\n",
    "            cur = cur.get(bit)\n",
    "\n",
    "    def getMax(self, numBit):\n",
    "        cur = self.root\n",
    "        max_value = 0\n",
    "        for i in range(len(numBit)):\n",
    "            bit = int(numBit[i])\n",
    "            if cur.contains(bit ^ 1): # 1 - bit\n",
    "                cur = cur.get(bit ^ 1)\n",
    "                max_value = max_value | (1 << len(numBit) - 1 - i)\n",
    "            else:\n",
    "                cur = cur.get(bit)\n",
    "        return max_value\n",
    "\n",
    "\n",
    "def maxXOR(arr1, arr2):\n",
    "    tries = Tries()\n",
    "    for num in arr1:\n",
    "        tries.insert('{:032b}'.format(num))\n",
    "    max_value = 0\n",
    "    for num in arr2:\n",
    "        max_value = max(max_value, tries.getMax('{:032b}'.format(num)))\n",
    "    return max_value\n",
    "\n",
    "\n",
    "print(maxXOR([6, 8], [7, 8, 2]))\n"
   ]
  },
  {
   "cell_type": "code",
   "execution_count": null,
   "metadata": {},
   "outputs": [],
   "source": []
  }
 ],
 "metadata": {
  "kernelspec": {
   "display_name": "Python 3",
   "language": "python",
   "name": "python3"
  },
  "language_info": {
   "codemirror_mode": {
    "name": "ipython",
    "version": 3
   },
   "file_extension": ".py",
   "mimetype": "text/x-python",
   "name": "python",
   "nbconvert_exporter": "python",
   "pygments_lexer": "ipython3",
   "version": "3.10.2"
  },
  "orig_nbformat": 4
 },
 "nbformat": 4,
 "nbformat_minor": 2
}
