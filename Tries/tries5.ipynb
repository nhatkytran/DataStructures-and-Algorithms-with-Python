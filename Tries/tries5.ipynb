{
 "cells": [
  {
   "cell_type": "code",
   "execution_count": 2,
   "metadata": {},
   "outputs": [
    {
     "name": "stdout",
     "output_type": "stream",
     "text": [
      "15\n"
     ]
    }
   ],
   "source": [
    "def find_max(nums, x):\n",
    "    return max(num ^ x for num in nums)\n",
    "\n",
    "\n",
    "print(find_max([9, 8, 7, 5, 4], 8))\n"
   ]
  },
  {
   "cell_type": "code",
   "execution_count": null,
   "metadata": {},
   "outputs": [],
   "source": [
    "class Trie:\n",
    "    def __init__(self):\n",
    "        self.links = [None] * 2\n",
    "\n",
    "    def contains(self, bit):\n",
    "        return self.links[bit] is not None\n",
    "    \n",
    "    def push(self, bit):\n",
    "        self.links[bit] = self.__class__()\n",
    "\n",
    "    def get(self, bit):\n",
    "        return self.links[bit]\n",
    "\n",
    "\n",
    "class Tries:\n",
    "    def __init__(self):\n",
    "        self.root = Trie()\n",
    "\n",
    "    def insert(self):\n",
    "        pass\n",
    "\n",
    "    def getMax(self):\n",
    "        pass\n"
   ]
  }
 ],
 "metadata": {
  "kernelspec": {
   "display_name": "Python 3",
   "language": "python",
   "name": "python3"
  },
  "language_info": {
   "codemirror_mode": {
    "name": "ipython",
    "version": 3
   },
   "file_extension": ".py",
   "mimetype": "text/x-python",
   "name": "python",
   "nbconvert_exporter": "python",
   "pygments_lexer": "ipython3",
   "version": "3.10.2"
  },
  "orig_nbformat": 4
 },
 "nbformat": 4,
 "nbformat_minor": 2
}
