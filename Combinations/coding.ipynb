{
  "cells": [
    {
      "cell_type": "code",
      "execution_count": 18,
      "metadata": {},
      "outputs": [
        {
          "name": "stdout",
          "output_type": "stream",
          "text": [
            "[[], ['a'], ['b'], ['c'], ['a', 'b'], ['a', 'c'], ['b', 'c'], ['a', 'b', 'c']]\n"
          ]
        }
      ],
      "source": [
        "# Iterator solution\n",
        "def combi(list_):\n",
        "    list_iter = iter(list_)\n",
        "    result = [[], [next(list_iter)]]\n",
        "    result_helper = [*result]\n",
        "    for item in list_iter:\n",
        "        for comb in result_helper:\n",
        "            result.append([*comb, item])\n",
        "        result_helper = [*result]\n",
        "    alpha = sorted(result)\n",
        "    return sorted(alpha, key=lambda x: len(x))\n",
        "    \n",
        "\n",
        "print(combi(['a', 'b', 'c']))"
      ]
    },
    {
      "cell_type": "code",
      "execution_count": null,
      "metadata": {},
      "outputs": [],
      "source": []
    }
  ],
  "metadata": {
    "kernelspec": {
      "display_name": "Python 3.9.5 64-bit",
      "language": "python",
      "name": "python3"
    },
    "language_info": {
      "codemirror_mode": {
        "name": "ipython",
        "version": 3
      },
      "file_extension": ".py",
      "mimetype": "text/x-python",
      "name": "python",
      "nbconvert_exporter": "python",
      "pygments_lexer": "ipython3",
      "version": "3.9.5"
    },
    "orig_nbformat": 4,
    "vscode": {
      "interpreter": {
        "hash": "b8bdd4e700647ba2b08c59e5df8b7da1dcf50a218bcd4c1bcd9b3dc92e8788e5"
      }
    }
  },
  "nbformat": 4,
  "nbformat_minor": 2
}
