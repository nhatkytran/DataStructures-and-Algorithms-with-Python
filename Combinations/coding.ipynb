{
  "cells": [
    {
      "cell_type": "code",
      "execution_count": 25,
      "metadata": {},
      "outputs": [],
      "source": [
        "def combi(list_):\n",
        "    result = [[]]\n",
        "    for item in list_:\n",
        "        for i in range(len(result)):\n",
        "            result.append([*result[i], item])\n",
        "    return result\n",
        "\n",
        "\n",
        "def recursive_combi(list_):\n",
        "    def inner(list_, result=[[]], pointer=0):\n",
        "        if pointer == len(list_):\n",
        "            return result if result else [[]]\n",
        "        for i in range(len(result)):\n",
        "            result.append([*result[i], list_[pointer]])\n",
        "        return inner(list_, result, pointer + 1)\n",
        "    return inner(list_)\n",
        "\n",
        "\n",
        "def iterr(list_):\n",
        "    result = [[]]\n",
        "    list_iter = iter(list_)\n",
        "    try:\n",
        "        while True:\n",
        "            item = next(list_iter)\n",
        "            for i in range(len(result)):\n",
        "                result.append([*result[i], item])\n",
        "    except StopIteration:\n",
        "        return result\n",
        "\n",
        "\n",
        "def recursive_iter(list_):\n",
        "    list_iter = iter(list_)\n",
        "    def inner(list_iter, result=[[]]):\n",
        "        try:\n",
        "            item = next(list_iter)\n",
        "            for i in range(len(result)):\n",
        "                result.append([*result[i], item])\n",
        "            return inner(list_iter, result)\n",
        "        except StopIteration:\n",
        "            return result\n",
        "    return inner(list_iter)\n",
        "\n",
        "\n",
        "# /////////////////////////////////////////////\n",
        "def plus(list_):\n",
        "    result = [[]]\n",
        "    for item in list_:\n",
        "        combsWithout = result\n",
        "        combWith = ([*comb, item] for comb in combsWithout)\n",
        "        result = (*combsWithout, *combWith)\n",
        "    return result\n",
        "\n",
        "\n",
        "def recursive_plus(list_):\n",
        "    if not len(list_):\n",
        "        return [[]]\n",
        "    first = list_[0]\n",
        "    combsWithout = recursive_plus(list_[1:])\n",
        "    combsWith = ([*comb, first] for comb in combsWithout)\n",
        "    return (*combsWith, *combsWithout)\n",
        "\n",
        "\n",
        "def recursive_iter(list_):\n",
        "    list_iter = iter(list_)\n",
        "    def inner(list_iter):\n",
        "        try:\n",
        "            first = next(list_iter)\n",
        "            combsWithout = inner(list_iter)\n",
        "            combsWith = ([*comb, first] for comb in combsWithout)\n",
        "            return (*combsWith, *combsWithout)\n",
        "        except StopIteration:\n",
        "            return [[]]\n",
        "    return inner(list_iter)\n"
      ]
    },
    {
      "cell_type": "code",
      "execution_count": null,
      "metadata": {},
      "outputs": [],
      "source": []
    }
  ],
  "metadata": {
    "kernelspec": {
      "display_name": "Python 3.9.5 64-bit",
      "language": "python",
      "name": "python3"
    },
    "language_info": {
      "codemirror_mode": {
        "name": "ipython",
        "version": 3
      },
      "file_extension": ".py",
      "mimetype": "text/x-python",
      "name": "python",
      "nbconvert_exporter": "python",
      "pygments_lexer": "ipython3",
      "version": "3.9.5"
    },
    "orig_nbformat": 4,
    "vscode": {
      "interpreter": {
        "hash": "b8bdd4e700647ba2b08c59e5df8b7da1dcf50a218bcd4c1bcd9b3dc92e8788e5"
      }
    }
  },
  "nbformat": 4,
  "nbformat_minor": 2
}
