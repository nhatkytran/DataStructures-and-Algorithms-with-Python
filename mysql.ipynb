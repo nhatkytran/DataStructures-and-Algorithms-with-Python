{
 "cells": [
  {
   "cell_type": "code",
   "execution_count": 1,
   "metadata": {},
   "outputs": [
    {
     "ename": "SyntaxError",
     "evalue": "invalid syntax (2964459882.py, line 1)",
     "output_type": "error",
     "traceback": [
      "\u001b[0;36m  Input \u001b[0;32mIn [1]\u001b[0;36m\u001b[0m\n\u001b[0;31m    CREATE TABLE users (\u001b[0m\n\u001b[0m           ^\u001b[0m\n\u001b[0;31mSyntaxError\u001b[0m\u001b[0;31m:\u001b[0m invalid syntax\n"
     ]
    }
   ],
   "source": [
    "CREATE TABLE users (\n",
    "    id INT PRIMARY KEY AUTO_INCREMENT,\n",
    "    user_name VARCHAR(255) UNIQUE NOT NULL,\n",
    "    created_at TIMESTAMP DEFAULT NOW()\n",
    ");\n",
    "\n",
    "CREATE TABLE photos (\n",
    "    id INT PRIMARY KEY AUTO_INCREMENT,\n",
    "    image_url VARCHAR(255) NOT NULL,\n",
    "    user_id INT NOT NULL,\n",
    "    created_at TIMESTAMP DEFAULT NOW(),\n",
    "    FOREIGN KEY (user_id) REFERENCES users (id)\n",
    ");\n",
    "\n",
    "CREATE TABLE comments (\n",
    "    id INT PRIMARY KEY AUTO_INCREMENT,\n",
    "    comment_text VARCHAR(255) NOT NULL,\n",
    "    user_id INT NOT NULL,\n",
    "    photo_id INT NOT NULL,\n",
    "    created_at TIMESTAMP DEFAULT NOW(),\n",
    "    FOREIGN KEY (user_id) REFERENCES users (id),\n",
    "    FOREIGN KEY (photo_id) REFERENCES users(id)\n",
    ");\n",
    "\n",
    "CREATE TABLE likes (\n",
    "    user_id INT NOT NULL,\n",
    "    photo_id INT NOT NULL,\n",
    "    FOREIGN KEY (user_id) REFERENCES users (id),\n",
    "    FOREIGN KEY (photo_id) REFERENCES users (id),\n",
    "    PRIMARY KEY (user_id, photo_id)\n",
    ");\n",
    "\n",
    "CREATE TABLE follows (\n",
    "    follower_id INT NOT NULL,\n",
    "    followee_id INT NOT NULL,\n",
    "    created_at TIMESTAMP DEFAULT NOW(),\n",
    "    FOREIGN KEY (follower_id) REFERENCES users (id),\n",
    "    FOREIGN KEY (followee_id) REFERENCES users (id),\n",
    "    PRIMARY KEY (follower_id, followee_id)\n",
    ");\n",
    "\n",
    "CREATE TABLE tags (\n",
    "    id INT PRIMARY KEY AUTO_INCREMENT,\n",
    "    tag_name VARCHAR(255) UNIQUE,\n",
    "    created_at TIMESTAMP DEFAULT NOW()\n",
    ");\n",
    "\n",
    "CREATE TABLE photo_tags (\n",
    "    photo_id INT NOT NULL,\n",
    "    tag_id INT NOT NULL,\n",
    "    FOREIGN KEY (photo_id) REFERENCES photos (id),\n",
    "    FOREIGN KEY (tag_id) REFERENCES tags (id),\n",
    "    PRIMARY KEY (photo_id, tag_id)\n",
    ");\n"
   ]
  },
  {
   "cell_type": "code",
   "execution_count": null,
   "metadata": {},
   "outputs": [],
   "source": []
  }
 ],
 "metadata": {
  "kernelspec": {
   "display_name": "Python 3",
   "language": "python",
   "name": "python3"
  },
  "language_info": {
   "codemirror_mode": {
    "name": "ipython",
    "version": 3
   },
   "file_extension": ".py",
   "mimetype": "text/x-python",
   "name": "python",
   "nbconvert_exporter": "python",
   "pygments_lexer": "ipython3",
   "version": "3.9.5 (v3.9.5:0a7dcbdb13, May  3 2021, 13:17:02) \n[Clang 6.0 (clang-600.0.57)]"
  },
  "orig_nbformat": 4,
  "vscode": {
   "interpreter": {
    "hash": "b8bdd4e700647ba2b08c59e5df8b7da1dcf50a218bcd4c1bcd9b3dc92e8788e5"
   }
  }
 },
 "nbformat": 4,
 "nbformat_minor": 2
}
