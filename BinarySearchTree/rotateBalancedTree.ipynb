{
 "cells": [
  {
   "cell_type": "code",
   "execution_count": 8,
   "metadata": {},
   "outputs": [
    {
     "name": "stdout",
     "output_type": "stream",
     "text": [
      "True\n"
     ]
    }
   ],
   "source": [
    "#    A  ==>    B\n",
    "#  B         C    A\n",
    "# C\n",
    "\n",
    "#     A  ==>      A\n",
    "#  B            C\n",
    "#     C       D\n",
    "#  D        B\n",
    "\n",
    "class Node:\n",
    "    def __init__(self, value):\n",
    "        self.value = value\n",
    "        self.left = None\n",
    "        self.right = None\n",
    "\n",
    "\n",
    "class BST:\n",
    "    def __init__(self):\n",
    "        self.root = None\n",
    "\n",
    "    def see(self):\n",
    "        if not self.root:\n",
    "            raise ValueError('No root found!')\n",
    "        queue = [self.root]\n",
    "        while queue:\n",
    "            popped = queue.pop(0)\n",
    "            print(popped.value)\n",
    "            if popped.left: queue.append(popped.left)\n",
    "            if popped.right: queue.append(popped.right)\n",
    "\n",
    "    def insert(self, value):\n",
    "        self.root = self.insert_travel(value, self.root)\n",
    "        if not self.check_balance():\n",
    "            pass\n",
    "\n",
    "    def insert_travel(self, value, current):\n",
    "        if not current:\n",
    "            return Node(value)\n",
    "        if value < current.value:\n",
    "            current.left = self.insert_travel(value, current.left)\n",
    "        if value > current.value:\n",
    "            current.right = self.insert_travel(value, current.right)\n",
    "        return current\n",
    "\n",
    "    def check_balance(self, root_node=None):\n",
    "        if not root_node:\n",
    "            root_node = self.root\n",
    "        return self.balance_travel(root_node)\n",
    "\n",
    "    def balance_travel(self, current):\n",
    "        def inner(current):\n",
    "            if not current:\n",
    "                return True, -1\n",
    "            left_ok, left_height = inner(current.left)\n",
    "            if not left_ok:\n",
    "                return False, None\n",
    "            right_ok, right_height = inner(current.right)\n",
    "            if not right_ok:\n",
    "                return False, None\n",
    "            if not abs(left_height - right_height) <= 1:\n",
    "                return False, None\n",
    "            return True, max(left_height, right_height) + 1\n",
    "        return inner(current)[0]\n",
    "\n",
    "    \n",
    "\n",
    "\n",
    "bst = BST()\n",
    "\n",
    "numbers = [15, 10, 20, 8, 12, 17, 25]\n",
    "for number in numbers:\n",
    "    bst.insert(number)\n",
    "\n",
    "a = Node(1)\n",
    "b = Node(2)\n",
    "c = Node(3)\n",
    "d = Node(4)\n",
    "e = Node(5)\n",
    "f = Node(6)\n",
    "g = Node(7)\n",
    "h = Node(8)\n",
    "a.left = b\n",
    "a.right = d\n",
    "b.left = c\n",
    "# b.right = e\n",
    "# c.left = f\n",
    "# d.right = g\n",
    "# g.right = h\n",
    "\n",
    "\n",
    "print(bst.check_balance(a))\n",
    "\n",
    "        "
   ]
  },
  {
   "cell_type": "code",
   "execution_count": null,
   "metadata": {},
   "outputs": [],
   "source": []
  }
 ],
 "metadata": {
  "kernelspec": {
   "display_name": "Python 3.9.5 64-bit",
   "language": "python",
   "name": "python3"
  },
  "language_info": {
   "codemirror_mode": {
    "name": "ipython",
    "version": 3
   },
   "file_extension": ".py",
   "mimetype": "text/x-python",
   "name": "python",
   "nbconvert_exporter": "python",
   "pygments_lexer": "ipython3",
   "version": "3.9.5"
  },
  "orig_nbformat": 4,
  "vscode": {
   "interpreter": {
    "hash": "b8bdd4e700647ba2b08c59e5df8b7da1dcf50a218bcd4c1bcd9b3dc92e8788e5"
   }
  }
 },
 "nbformat": 4,
 "nbformat_minor": 2
}
