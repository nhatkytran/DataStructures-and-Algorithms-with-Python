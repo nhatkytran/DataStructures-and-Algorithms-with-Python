{
 "cells": [
  {
   "cell_type": "code",
   "execution_count": 13,
   "metadata": {},
   "outputs": [
    {
     "name": "stdout",
     "output_type": "stream",
     "text": [
      "2\n",
      "1\n",
      "3\n"
     ]
    }
   ],
   "source": [
    "class Node:\n",
    "    def __init__(self, value):\n",
    "        self.value = value\n",
    "        self.left = None\n",
    "        self.right = None\n",
    "\n",
    "\n",
    "class BalancedBST:\n",
    "    def __init__(self):\n",
    "        self.root = None\n",
    "\n",
    "    def see(self, root_node=None):\n",
    "        if not root_node:\n",
    "            if not self.root: raise ValueError\n",
    "            root_node = self.root\n",
    "        queue = [root_node]\n",
    "        while queue:\n",
    "            popped = queue.pop(0)\n",
    "            print(popped.value)\n",
    "            if popped.left: queue.append(popped.left)\n",
    "            if popped.right: queue.append(popped.right)\n",
    "\n",
    "    def min_node(self, root_node=None):\n",
    "        if not root_node:\n",
    "            if not self.root: raise ValueError\n",
    "            root_node = self.root\n",
    "        return self.min_node_travel(root_node)\n",
    "\n",
    "    def min_node_travel(self, current):\n",
    "        if not current.left: return current\n",
    "        return self.min_node_travel(current.left)\n",
    "\n",
    "    def max_node(self, root_node=None):\n",
    "        if not root_node:\n",
    "            if not self.root: raise ValueError\n",
    "            root_node = self.root\n",
    "        return self.max_node_travel(root_node)\n",
    "\n",
    "    def max_node_travel(self, current):\n",
    "        if not current.right: return current\n",
    "        return self.max_node_travel(current.right)\n",
    "\n",
    "    def left_rotate(self, root_node):\n",
    "        count = 0\n",
    "        while root_node.left.right:\n",
    "            left = root_node.left\n",
    "            right = root_node.left.right\n",
    "            min_right = self.min_node(right)\n",
    "            root_node.left = right\n",
    "            left.right = None\n",
    "            min_right.left = left\n",
    "            count += 1\n",
    "        count = count or 1\n",
    "        for _ in range(count):\n",
    "            left = root_node.left\n",
    "            root_node.left = None\n",
    "            left.right = root_node\n",
    "            root_node = left\n",
    "        return root_node\n",
    "\n",
    "    def right_rotate(self, root_node):\n",
    "        count = 0\n",
    "        while root_node.right.left:\n",
    "            right = root_node.right\n",
    "            left = root_node.right.left\n",
    "            max_left = self.max_node(left)\n",
    "            root_node.right = left\n",
    "            right.left = None\n",
    "            max_left.right = right\n",
    "            count += 1\n",
    "        count = count or 1\n",
    "        for _ in range(count):\n",
    "            right = root_node.right\n",
    "            root_node.right = None\n",
    "            right.left = root_node\n",
    "            root_node = right\n",
    "        return root_node\n",
    "\n",
    "bst = BalancedBST()\n",
    "\n",
    "a = Node(3)\n",
    "b = Node(2)\n",
    "c = Node(1)\n",
    "c.right = a\n",
    "a.left = b\n",
    "\n",
    "bst.see(bst.right_rotate(c))"
   ]
  },
  {
   "cell_type": "code",
   "execution_count": null,
   "metadata": {},
   "outputs": [],
   "source": []
  }
 ],
 "metadata": {
  "kernelspec": {
   "display_name": "Python 3.9.5 64-bit",
   "language": "python",
   "name": "python3"
  },
  "language_info": {
   "codemirror_mode": {
    "name": "ipython",
    "version": 3
   },
   "file_extension": ".py",
   "mimetype": "text/x-python",
   "name": "python",
   "nbconvert_exporter": "python",
   "pygments_lexer": "ipython3",
   "version": "3.9.5"
  },
  "orig_nbformat": 4,
  "vscode": {
   "interpreter": {
    "hash": "b8bdd4e700647ba2b08c59e5df8b7da1dcf50a218bcd4c1bcd9b3dc92e8788e5"
   }
  }
 },
 "nbformat": 4,
 "nbformat_minor": 2
}
