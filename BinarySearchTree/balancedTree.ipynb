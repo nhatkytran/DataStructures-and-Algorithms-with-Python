{
 "cells": [
  {
   "cell_type": "code",
   "execution_count": 10,
   "metadata": {},
   "outputs": [
    {
     "name": "stdout",
     "output_type": "stream",
     "text": [
      "15\n",
      "10\n",
      "20\n",
      "8\n",
      "12\n",
      "17\n",
      "25\n",
      "9\n"
     ]
    }
   ],
   "source": [
    "class BST:\n",
    "    def __init__(self):\n",
    "        self.root = None\n",
    "\n",
    "    class Node:\n",
    "        def __init__(self, value):\n",
    "            self.value = value\n",
    "            self.left = None\n",
    "            self.right = None\n",
    "\n",
    "    def see(self):\n",
    "        if not self.root:\n",
    "            raise ValueError('No root found!')\n",
    "        queue = [self.root]\n",
    "        while queue:\n",
    "            popped = queue.pop(0)\n",
    "            print(popped.value)\n",
    "            if popped.left:\n",
    "                queue.append(popped.left)\n",
    "            if popped.right:\n",
    "                queue.append(popped.right)\n",
    "\n",
    "    def insert(self, value):\n",
    "        self.root = self.insert_travel(value, self.root)\n",
    "\n",
    "    def insert_travel(self, value, current):\n",
    "        if not current:\n",
    "            return self.Node(value)\n",
    "        if value < current.value:\n",
    "            current.left = self.insert_travel(value, current.left)\n",
    "        if value > current.value:\n",
    "            current.right = self.insert_travel(value, current.right)\n",
    "        return current\n",
    "\n",
    "    def height(self):\n",
    "        return self.height_travel(self.root)\n",
    "\n",
    "    def height_travel(self, current):\n",
    "        if not current:\n",
    "            return -1\n",
    "        return 1 + max(self.height_travel(current.left), self.height_travel(current.right))\n",
    "\n",
    "    def check_balance(self):\n",
    "        return balance_travel(self.root)\n",
    "\n",
    "    def balance_travel(self, current):\n",
    "        return True or False\n",
    "\n",
    "\n",
    "bst = BST()\n",
    "\n",
    "numbers = [15, 10, 20, 8, 12, 17, 25, 9]\n",
    "for number in numbers:\n",
    "    bst.insert(number)\n",
    "\n",
    "bst.see()\n"
   ]
  },
  {
   "cell_type": "code",
   "execution_count": null,
   "metadata": {},
   "outputs": [],
   "source": []
  }
 ],
 "metadata": {
  "kernelspec": {
   "display_name": "Python 3.10.2 64-bit",
   "language": "python",
   "name": "python3"
  },
  "language_info": {
   "codemirror_mode": {
    "name": "ipython",
    "version": 3
   },
   "file_extension": ".py",
   "mimetype": "text/x-python",
   "name": "python",
   "nbconvert_exporter": "python",
   "pygments_lexer": "ipython3",
   "version": "3.10.2"
  },
  "orig_nbformat": 4,
  "vscode": {
   "interpreter": {
    "hash": "aee8b7b246df8f9039afb4144a1f6fd8d2ca17a180786b69acc140d282b71a49"
   }
  }
 },
 "nbformat": 4,
 "nbformat_minor": 2
}
