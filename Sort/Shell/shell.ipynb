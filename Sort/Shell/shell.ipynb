{
 "cells": [
  {
   "cell_type": "code",
   "execution_count": 48,
   "metadata": {},
   "outputs": [
    {
     "name": "stdout",
     "output_type": "stream",
     "text": [
      "[9, 14, 21, 25, 30, 55, 62, 70, 77, 80]\n"
     ]
    }
   ],
   "source": [
    "from time import perf_counter\n",
    "\n",
    "\n",
    "def shuttle(numbers):\n",
    "    for i in range(1, len(numbers)):\n",
    "        hole = i\n",
    "        while hole > 0 and numbers[hole - 1] > numbers[hole]:\n",
    "            numbers[hole], numbers[hole - 1] = numbers[hole - 1], numbers[hole]\n",
    "            hole -= 1\n",
    "    return numbers\n",
    "\n",
    "\n",
    "def shell(numbers):\n",
    "    gap = len(numbers) // 2\n",
    "    while gap > 0:\n",
    "        for i in range(gap, len(numbers)):\n",
    "            hole = i\n",
    "            while hole >= gap and numbers[hole - gap] > numbers[hole]:\n",
    "                numbers[hole], numbers[hole - gap] = numbers[hole - gap], numbers[hole]\n",
    "                hole -= gap\n",
    "        gap = gap // 2\n",
    "    return numbers\n",
    "\n",
    "\n",
    "def shell(numbers):\n",
    "    def inner(gap):\n",
    "        if gap < 1:\n",
    "            return numbers\n",
    "        for i in range(gap, len(numbers)):\n",
    "            hole = i\n",
    "            while hole >= gap and numbers[hole - gap] > numbers[hole]:\n",
    "                numbers[hole], numbers[hole - 1] = numbers[hole - 1], numbers[hole]\n",
    "                hole -= gap\n",
    "        return inner(gap // 2)\n",
    "    return inner(len(numbers) // 2)\n",
    "\n",
    "\n",
    "print(shell([77, 62, 14, 9, 30, 21, 80, 25, 70, 55]))\n"
   ]
  },
  {
   "cell_type": "code",
   "execution_count": null,
   "metadata": {},
   "outputs": [],
   "source": []
  }
 ],
 "metadata": {
  "kernelspec": {
   "display_name": "Python 3.9.5 64-bit",
   "language": "python",
   "name": "python3"
  },
  "language_info": {
   "codemirror_mode": {
    "name": "ipython",
    "version": 3
   },
   "file_extension": ".py",
   "mimetype": "text/x-python",
   "name": "python",
   "nbconvert_exporter": "python",
   "pygments_lexer": "ipython3",
   "version": "3.9.5"
  },
  "orig_nbformat": 4,
  "vscode": {
   "interpreter": {
    "hash": "b8bdd4e700647ba2b08c59e5df8b7da1dcf50a218bcd4c1bcd9b3dc92e8788e5"
   }
  }
 },
 "nbformat": 4,
 "nbformat_minor": 2
}
