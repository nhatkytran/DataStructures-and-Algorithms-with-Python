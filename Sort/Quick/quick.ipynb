{
 "cells": [
  {
   "cell_type": "code",
   "execution_count": 44,
   "metadata": {},
   "outputs": [
    {
     "name": "stdout",
     "output_type": "stream",
     "text": [
      "[1, 2, 3, 4, 5, 6, 7, 8]\n"
     ]
    }
   ],
   "source": [
    "def partition(numbers, start, end):\n",
    "    pivot = numbers[end]\n",
    "    index = start\n",
    "    for j in range(start, end):\n",
    "        if numbers[j] <= pivot:\n",
    "            numbers[index], numbers[j] = numbers[j], numbers[index]\n",
    "            index += 1\n",
    "    numbers[end], numbers[index] = numbers[index], pivot\n",
    "    return index\n",
    "\n",
    "\n",
    "def partition(numbers, start, end):\n",
    "    pivot = numbers[end]\n",
    "    def inner(index=start, j=start):\n",
    "        if j == end:\n",
    "            numbers[end], numbers[index] = numbers[index], pivot\n",
    "            return index\n",
    "        if numbers[j] <= pivot:\n",
    "            numbers[index], numbers[j] = numbers[j], numbers[index]\n",
    "            index += 1\n",
    "        return inner(index, j + 1)\n",
    "    return inner()\n",
    "\n",
    "\n",
    "def quick_sort(numbers):\n",
    "    def inner(start, end):\n",
    "        if start < end:\n",
    "            pivot_index = partition(numbers, start, end)\n",
    "            inner(start, pivot_index - 1)\n",
    "            inner(pivot_index + 1, end)\n",
    "    inner(0, len(numbers) - 1)\n",
    "    return numbers\n",
    "    \n",
    "\n",
    "print(quick_sort([7, 2, 1, 6, 8, 5, 3, 4]))\n"
   ]
  },
  {
   "cell_type": "code",
   "execution_count": null,
   "metadata": {},
   "outputs": [],
   "source": []
  }
 ],
 "metadata": {
  "kernelspec": {
   "display_name": "Python 3.9.5 64-bit",
   "language": "python",
   "name": "python3"
  },
  "language_info": {
   "codemirror_mode": {
    "name": "ipython",
    "version": 3
   },
   "file_extension": ".py",
   "mimetype": "text/x-python",
   "name": "python",
   "nbconvert_exporter": "python",
   "pygments_lexer": "ipython3",
   "version": "3.9.5"
  },
  "orig_nbformat": 4,
  "vscode": {
   "interpreter": {
    "hash": "b8bdd4e700647ba2b08c59e5df8b7da1dcf50a218bcd4c1bcd9b3dc92e8788e5"
   }
  }
 },
 "nbformat": 4,
 "nbformat_minor": 2
}
