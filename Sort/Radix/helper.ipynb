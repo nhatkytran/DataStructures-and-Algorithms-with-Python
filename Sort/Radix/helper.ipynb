{
 "cells": [
  {
   "cell_type": "code",
   "execution_count": 13,
   "metadata": {},
   "outputs": [],
   "source": [
    "def get_digit(number, i):\n",
    "    return (abs(number) // 10 ** i) % 10\n",
    "\n",
    "\n",
    "def get_digit(number, i):\n",
    "    str_number = str(number)\n",
    "    length = len(str_number)\n",
    "    if i >= length:\n",
    "        return 0\n",
    "    return int(str_number[::-1][i])\n",
    "\n",
    "\n",
    "digit_count = lambda number: len(str(abs(number)))\n",
    "\n",
    "\n",
    "from math import floor, log10\n",
    "\n",
    "\n",
    "def digit_count(number):\n",
    "    if number == 0:\n",
    "        return 1\n",
    "    return floor(log10(abs(number))) + 1\n",
    "\n",
    "\n",
    "def most_digit(numbers): return max(digit_count(number) for number in numbers)\n"
   ]
  },
  {
   "cell_type": "code",
   "execution_count": null,
   "metadata": {},
   "outputs": [],
   "source": []
  }
 ],
 "metadata": {
  "kernelspec": {
   "display_name": "Python 3.9.5 64-bit",
   "language": "python",
   "name": "python3"
  },
  "language_info": {
   "codemirror_mode": {
    "name": "ipython",
    "version": 3
   },
   "file_extension": ".py",
   "mimetype": "text/x-python",
   "name": "python",
   "nbconvert_exporter": "python",
   "pygments_lexer": "ipython3",
   "version": "3.9.5"
  },
  "orig_nbformat": 4,
  "vscode": {
   "interpreter": {
    "hash": "b8bdd4e700647ba2b08c59e5df8b7da1dcf50a218bcd4c1bcd9b3dc92e8788e5"
   }
  }
 },
 "nbformat": 4,
 "nbformat_minor": 2
}
