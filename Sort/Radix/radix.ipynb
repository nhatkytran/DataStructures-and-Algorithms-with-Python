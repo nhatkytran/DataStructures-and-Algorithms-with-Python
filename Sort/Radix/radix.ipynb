{
 "cells": [
  {
   "cell_type": "code",
   "execution_count": 29,
   "metadata": {},
   "outputs": [
    {
     "name": "stdout",
     "output_type": "stream",
     "text": [
      "[1, 7, 10, 82, 577, 743, 2030, 2599, 3138, 3221, 4127, 4793, 5622, 9420, 9680]\n"
     ]
    }
   ],
   "source": [
    "import math\n",
    "\n",
    "get_digit = lambda number, i: (number // 10 ** i) % 10\n",
    "\n",
    "len_digit = lambda number: 1 if number == 0 \\\n",
    "    else math.floor(math.log10(number)) + 1\n",
    "\n",
    "most_digit = lambda numbers: max(len_digit(number) for number in numbers)\n",
    "\n",
    "\n",
    "def radix(numbers):\n",
    "    most_digit_value = most_digit(numbers)\n",
    "\n",
    "    for i in range(most_digit_value): # O(k)\n",
    "        index_array = list([] for _ in range(10))\n",
    "\n",
    "        for number in numbers: # O(n)\n",
    "            digit_of_number = get_digit(number, i)\n",
    "            index_array[digit_of_number].append(number)\n",
    "\n",
    "        j = 0\n",
    "        for sorted_numbers in index_array: # 10\n",
    "            for number in sorted_numbers: # O(n)\n",
    "                numbers[j] = number\n",
    "                j += 1\n",
    "\n",
    "    return numbers\n",
    "\n",
    "\n",
    "# => O(n * k)\n",
    "\n",
    "\n",
    "numbers = [3221, 1, 10, 9680, 577, 9420, 7, 5622,\n",
    "            4793, 2030, 3138, 82, 2599, 743, 4127]\n",
    "\n",
    "print(radix(numbers))\n"
   ]
  },
  {
   "cell_type": "code",
   "execution_count": null,
   "metadata": {},
   "outputs": [],
   "source": []
  }
 ],
 "metadata": {
  "kernelspec": {
   "display_name": "Python 3.9.5 64-bit",
   "language": "python",
   "name": "python3"
  },
  "language_info": {
   "codemirror_mode": {
    "name": "ipython",
    "version": 3
   },
   "file_extension": ".py",
   "mimetype": "text/x-python",
   "name": "python",
   "nbconvert_exporter": "python",
   "pygments_lexer": "ipython3",
   "version": "3.9.5"
  },
  "orig_nbformat": 4,
  "vscode": {
   "interpreter": {
    "hash": "b8bdd4e700647ba2b08c59e5df8b7da1dcf50a218bcd4c1bcd9b3dc92e8788e5"
   }
  }
 },
 "nbformat": 4,
 "nbformat_minor": 2
}
