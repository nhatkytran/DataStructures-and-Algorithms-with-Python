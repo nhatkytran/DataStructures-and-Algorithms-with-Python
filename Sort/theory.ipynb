{
 "cells": [
  {
   "cell_type": "code",
   "execution_count": null,
   "metadata": {},
   "outputs": [],
   "source": [
    "# Bubble sort => O(n ** 2)\n",
    "# Selection sort => O(n ** 2)\n",
    "# Insertion sort => O(n ** 2)\n",
    "\n",
    "# Merge sort => O(nlogn)\n",
    "# Quick sort => O(nlogn) or O(n ** 2)\n",
    "\n",
    "# Counting sort\n",
    "# Radix sort\n",
    "# Bucket sort\n",
    "\n",
    "# Shuttle sort\n",
    "# Shell sort (faster than insertion sort and shuttle sort)\n"
   ]
  }
 ],
 "metadata": {
  "kernelspec": {
   "display_name": "Python 3.9.5 64-bit",
   "language": "python",
   "name": "python3"
  },
  "language_info": {
   "name": "python",
   "version": "3.9.5"
  },
  "orig_nbformat": 4,
  "vscode": {
   "interpreter": {
    "hash": "b8bdd4e700647ba2b08c59e5df8b7da1dcf50a218bcd4c1bcd9b3dc92e8788e5"
   }
  }
 },
 "nbformat": 4,
 "nbformat_minor": 2
}
