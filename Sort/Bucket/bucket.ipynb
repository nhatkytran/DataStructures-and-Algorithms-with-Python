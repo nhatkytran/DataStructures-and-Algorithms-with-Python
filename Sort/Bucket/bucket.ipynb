{
 "cells": [
  {
   "cell_type": "code",
   "execution_count": 17,
   "metadata": {},
   "outputs": [
    {
     "name": "stdout",
     "output_type": "stream",
     "text": [
      "[11, 12, 22, 27, 31, 33, 42, 47, 55, 56, 68, 69]\n"
     ]
    }
   ],
   "source": [
    "import math\n",
    "\n",
    "\n",
    "def get_digit(number, index):\n",
    "    return (abs(number) // 10 ** index) % 10\n",
    "\n",
    "\n",
    "def len_digit(number):\n",
    "    return math.floor(math.log10(abs(number))) + 1\n",
    "\n",
    "\n",
    "def insertion_sort(numbers):\n",
    "    for i in range(1, len(numbers)):\n",
    "        first_value = numbers[i]\n",
    "        hole = i\n",
    "        while hole > 0 and numbers[hole - 1] > first_value:\n",
    "            numbers[hole] = numbers[hole - 1]\n",
    "            hole -= 1\n",
    "        numbers[hole] = first_value\n",
    "    return numbers\n",
    "\n",
    "\n",
    "def bucket(numbers):\n",
    "    index_array = [[] for _ in range(10)]\n",
    "    for number in numbers:\n",
    "        digit = get_digit(number, len_digit(number) - 1)\n",
    "        index_array[digit].append(number)\n",
    "    for i in range(len(index_array)):\n",
    "        if len(index_array):\n",
    "            insertion_sort(index_array[i])\n",
    "    index = 0\n",
    "    for sorted_numbers in index_array:\n",
    "        for number in sorted_numbers:\n",
    "            numbers[index] = number\n",
    "            index += 1\n",
    "    return numbers\n",
    "\n",
    "\n",
    "print(bucket([11, 12, 27, 22, 33, 31, 47, 42, 55, 56, 69, 68]))\n"
   ]
  },
  {
   "cell_type": "code",
   "execution_count": null,
   "metadata": {},
   "outputs": [],
   "source": []
  }
 ],
 "metadata": {
  "kernelspec": {
   "display_name": "Python 3.9.5 64-bit",
   "language": "python",
   "name": "python3"
  },
  "language_info": {
   "codemirror_mode": {
    "name": "ipython",
    "version": 3
   },
   "file_extension": ".py",
   "mimetype": "text/x-python",
   "name": "python",
   "nbconvert_exporter": "python",
   "pygments_lexer": "ipython3",
   "version": "3.9.5"
  },
  "orig_nbformat": 4,
  "vscode": {
   "interpreter": {
    "hash": "b8bdd4e700647ba2b08c59e5df8b7da1dcf50a218bcd4c1bcd9b3dc92e8788e5"
   }
  }
 },
 "nbformat": 4,
 "nbformat_minor": 2
}
