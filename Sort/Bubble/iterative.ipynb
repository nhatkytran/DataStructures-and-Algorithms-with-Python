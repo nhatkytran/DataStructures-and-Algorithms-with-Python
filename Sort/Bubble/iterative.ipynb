{
 "cells": [
  {
   "cell_type": "code",
   "execution_count": 33,
   "metadata": {},
   "outputs": [
    {
     "name": "stdout",
     "output_type": "stream",
     "text": [
      "[7, 5, 4, 3, 2, 1]\n"
     ]
    }
   ],
   "source": [
    "# Optimization\n",
    "\n",
    "# - (- i) => Last elements are already sorted\n",
    "# - If in previous loop, no swap happens => break (swapped == True)\n",
    "\n",
    "\n",
    "# Start pointer\n",
    "\n",
    "# Min --> Max\n",
    "def sort(numbers):\n",
    "    for i in range(len(numbers) - 1):\n",
    "        swapped = False\n",
    "        for j in range(len(numbers) - i - 1):\n",
    "            if numbers[j] > numbers[j + 1]:\n",
    "                numbers[j], numbers[j + 1] = numbers[j + 1], numbers[j]\n",
    "                swapped = True\n",
    "        if not swapped:\n",
    "            break\n",
    "        print(numbers)\n",
    "    return numbers\n",
    "\n",
    "\n",
    "# Max --> Min\n",
    "def sort(numbers):\n",
    "    for i in range(len(numbers) - 1):\n",
    "        swapped = False\n",
    "        for j in range(len(numbers) - i - 1):\n",
    "            if numbers[j] < numbers[j + 1]:\n",
    "                numbers[j], numbers[j + 1] = numbers[j + 1], numbers[j]\n",
    "                swapped = True\n",
    "        if not swapped:\n",
    "            break\n",
    "    return numbers\n",
    "\n",
    "\n",
    "# End pointer\n",
    "\n",
    "\n",
    "# Min --> Max\n",
    "def sort(numbers):\n",
    "    for i in range(len(numbers) - 1):\n",
    "        swapped = False\n",
    "        for j in range(len(numbers) - i - 1):\n",
    "            new_j = len(numbers) - (j + 1)\n",
    "            if numbers[new_j] < numbers[new_j - 1]:\n",
    "                numbers[new_j - 1], numbers[new_j] = numbers[new_j], numbers[new_j - 1]\n",
    "                swapped = True\n",
    "        if not swapped:\n",
    "            break\n",
    "    return numbers\n",
    "\n",
    "\n",
    "# Max --> Min\n",
    "def sort(numbers):\n",
    "    for i in range(len(numbers) - 1):\n",
    "        swapped = False\n",
    "        for j in range(len(numbers) - i - 1):\n",
    "            new_j = len(numbers) - (j + 1)\n",
    "            if numbers[new_j] > numbers[new_j - 1]:\n",
    "                numbers[new_j], numbers[new_j - 1] = numbers[new_j - 1], numbers[new_j]\n",
    "                swapped = True\n",
    "        if not swapped:\n",
    "            break\n",
    "    return numbers\n",
    "\n",
    "\n",
    "print(sort([5, 3, 4, 7, 1, 2]))\n"
   ]
  },
  {
   "cell_type": "code",
   "execution_count": null,
   "metadata": {},
   "outputs": [],
   "source": []
  }
 ],
 "metadata": {
  "kernelspec": {
   "display_name": "Python 3.9.5 64-bit",
   "language": "python",
   "name": "python3"
  },
  "language_info": {
   "codemirror_mode": {
    "name": "ipython",
    "version": 3
   },
   "file_extension": ".py",
   "mimetype": "text/x-python",
   "name": "python",
   "nbconvert_exporter": "python",
   "pygments_lexer": "ipython3",
   "version": "3.9.5"
  },
  "orig_nbformat": 4,
  "vscode": {
   "interpreter": {
    "hash": "b8bdd4e700647ba2b08c59e5df8b7da1dcf50a218bcd4c1bcd9b3dc92e8788e5"
   }
  }
 },
 "nbformat": 4,
 "nbformat_minor": 2
}
