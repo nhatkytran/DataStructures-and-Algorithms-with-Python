{
 "cells": [
  {
   "cell_type": "code",
   "execution_count": 30,
   "metadata": {},
   "outputs": [
    {
     "name": "stdout",
     "output_type": "stream",
     "text": [
      "[5, 3, 4, 7, 1, 2]\n"
     ]
    }
   ],
   "source": [
    "def sort(numbers):\n",
    "    def inner(i=0):\n",
    "        if i == len(numbers) - 1:\n",
    "            return\n",
    "        min_index = i\n",
    "        for j in range((i + 1), len(numbers)):\n",
    "            if numbers[j] < numbers[min_index]:\n",
    "                min_index = j\n",
    "        if i != min_index:\n",
    "            numbers[i], numbers[min_index] = numbers[min_index], numbers[i]\n",
    "        inner(i + 1)\n",
    "    inner()\n",
    "    return numbers\n",
    "\n",
    "\n",
    "def sort(numbers):\n",
    "    def inner(i=0):\n",
    "        if i == len(numbers) - 1:\n",
    "            return numbers\n",
    "        max_index = i\n",
    "        for j in range((i + 1), len(numbers)):\n",
    "            if numbers[j] > numbers[max_index]:\n",
    "                max_index = j\n",
    "        if i != max_index:\n",
    "            numbers[i], numbers[max_index] = numbers[max_index], numbers[i]\n",
    "        return inner(i + 1)\n",
    "    return numbers\n",
    "\n",
    "\n",
    "print(sort([5, 3, 4, 7, 1, 2]))\n",
    "\n"
   ]
  },
  {
   "cell_type": "code",
   "execution_count": null,
   "metadata": {},
   "outputs": [],
   "source": []
  }
 ],
 "metadata": {
  "kernelspec": {
   "display_name": "Python 3.9.5 64-bit",
   "language": "python",
   "name": "python3"
  },
  "language_info": {
   "codemirror_mode": {
    "name": "ipython",
    "version": 3
   },
   "file_extension": ".py",
   "mimetype": "text/x-python",
   "name": "python",
   "nbconvert_exporter": "python",
   "pygments_lexer": "ipython3",
   "version": "3.9.5"
  },
  "orig_nbformat": 4,
  "vscode": {
   "interpreter": {
    "hash": "b8bdd4e700647ba2b08c59e5df8b7da1dcf50a218bcd4c1bcd9b3dc92e8788e5"
   }
  }
 },
 "nbformat": 4,
 "nbformat_minor": 2
}
