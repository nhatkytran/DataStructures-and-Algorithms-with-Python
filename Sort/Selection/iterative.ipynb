{
 "cells": [
  {
   "cell_type": "code",
   "execution_count": 1,
   "metadata": {},
   "outputs": [
    {
     "name": "stdout",
     "output_type": "stream",
     "text": [
      "[7, 5, 4, 3, 2, 1]\n"
     ]
    }
   ],
   "source": [
    "# Optimization\n",
    "\n",
    "# - No need to check the last position\n",
    "# - If min index is current index => no swap\n",
    "\n",
    "\n",
    "# Start pointer\n",
    "\n",
    "# Min --> Max\n",
    "def sort(numbers):\n",
    "    for i in range(len(numbers) - 1):\n",
    "        min_index = i\n",
    "        for j in range((i + 1),len(numbers)):\n",
    "            if numbers[j] < numbers[min_index]:\n",
    "                min_index = j\n",
    "        if i != min_index:\n",
    "            numbers[i], numbers[min_index] = numbers[min_index], numbers[i]\n",
    "    return numbers\n",
    "\n",
    "\n",
    "# Max --> Min\n",
    "def sort(numbers):\n",
    "    for i in range(len(numbers) - 1):\n",
    "        max_index = i\n",
    "        for j in range((i + 1), len(numbers)):\n",
    "            if numbers[j] > numbers[max_index]:\n",
    "                max_index = j\n",
    "        if i != max_index:\n",
    "            numbers[i], numbers[max_index] = numbers[max_index], numbers[i]\n",
    "    return numbers\n",
    "\n",
    "\n",
    "# End pointer\n",
    "\n",
    "# Min --> Max\n",
    "def sort(numbers):\n",
    "    length = len(numbers)\n",
    "    for i in range(length - 1):\n",
    "        new_i = length - (i + 1)\n",
    "        max_index = new_i\n",
    "        for j in range((i + 1), length):\n",
    "            new_j = length - (j + 1)\n",
    "            if numbers[new_j] > numbers[max_index]:\n",
    "                max_index = new_j\n",
    "        if new_i != max_index:\n",
    "            numbers[new_i], numbers[max_index] = numbers[max_index], numbers[new_i]\n",
    "    return numbers\n",
    "\n",
    "\n",
    "# Max --> Min\n",
    "def sort(numbers):\n",
    "    length = len(numbers)\n",
    "    for i in range(length - 1):\n",
    "        new_i = length - (i + 1)\n",
    "        min_index = new_i\n",
    "        for j in range((i + 1), length):\n",
    "            new_j = length - (j + 1)\n",
    "            if numbers[new_j] < numbers[min_index]:\n",
    "                min_index = new_j\n",
    "        if new_i != min_index:\n",
    "            numbers[new_i], numbers[min_index] = numbers[min_index], numbers[new_i]\n",
    "    return numbers\n",
    "\n",
    "\n",
    "print(sort([5, 3, 4, 7, 1, 2]))\n"
   ]
  },
  {
   "cell_type": "code",
   "execution_count": null,
   "metadata": {},
   "outputs": [],
   "source": []
  }
 ],
 "metadata": {
  "kernelspec": {
   "display_name": "Python 3.9.5 64-bit",
   "language": "python",
   "name": "python3"
  },
  "language_info": {
   "codemirror_mode": {
    "name": "ipython",
    "version": 3
   },
   "file_extension": ".py",
   "mimetype": "text/x-python",
   "name": "python",
   "nbconvert_exporter": "python",
   "pygments_lexer": "ipython3",
   "version": "3.9.5"
  },
  "orig_nbformat": 4,
  "vscode": {
   "interpreter": {
    "hash": "b8bdd4e700647ba2b08c59e5df8b7da1dcf50a218bcd4c1bcd9b3dc92e8788e5"
   }
  }
 },
 "nbformat": 4,
 "nbformat_minor": 2
}
