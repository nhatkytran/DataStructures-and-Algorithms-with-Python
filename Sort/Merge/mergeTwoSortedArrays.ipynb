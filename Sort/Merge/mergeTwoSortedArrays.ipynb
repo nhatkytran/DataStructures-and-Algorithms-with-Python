{
 "cells": [
  {
   "cell_type": "code",
   "execution_count": 11,
   "metadata": {},
   "outputs": [
    {
     "name": "stdout",
     "output_type": "stream",
     "text": [
      "[4, 5, 7, 8, 8, 9]\n"
     ]
    }
   ],
   "source": [
    "def merge(array1, array2):\n",
    "    result = []\n",
    "    i = j = 0\n",
    "    while i < len(array1) and j < len(array2):\n",
    "        if array1[i] <= array2[j]:\n",
    "            result.append(array1[i])\n",
    "            i += 1\n",
    "        else:\n",
    "            result.append(array2[j])\n",
    "            j += 1\n",
    "    while i < len(array1):\n",
    "        result.append(array1[i])\n",
    "        i += 1\n",
    "    while j < len(array2):\n",
    "        result.append(array2[j])\n",
    "        j += 1\n",
    "    return result\n",
    "\n",
    "\n",
    "def merge(array1, array2):\n",
    "    result = []\n",
    "    i = j = 0\n",
    "    while i < len(array1) and j < len(array2):\n",
    "        if array1[i] <= array2[j]:\n",
    "            result.append(array1[i])\n",
    "            i += 1\n",
    "        else:\n",
    "            result.append(array2[j])\n",
    "            j += 1\n",
    "    result.extend(array1[i:] if i < len(array1) else array2[j:])\n",
    "    return result\n",
    "\n",
    "\n",
    "def merge(array1, array2):\n",
    "    result = []\n",
    "    def inner(i=0, j=0):\n",
    "        if i < len(array1) and j < len(array2):\n",
    "            if array1[i] <= array2[j]:\n",
    "                result.append(array1[i])\n",
    "                i += 1\n",
    "            else:\n",
    "                result.append(array2[j])\n",
    "                j += 1\n",
    "            return inner(i, j)\n",
    "        result.extend(array1[i:] if i < len(array1) else array2[j:])\n",
    "        return result\n",
    "    return inner()\n",
    "\n",
    "\n",
    "print(merge([5, 8, 9], [4, 7, 8]))\n"
   ]
  },
  {
   "cell_type": "code",
   "execution_count": null,
   "metadata": {},
   "outputs": [],
   "source": []
  }
 ],
 "metadata": {
  "kernelspec": {
   "display_name": "Python 3.9.5 64-bit",
   "language": "python",
   "name": "python3"
  },
  "language_info": {
   "codemirror_mode": {
    "name": "ipython",
    "version": 3
   },
   "file_extension": ".py",
   "mimetype": "text/x-python",
   "name": "python",
   "nbconvert_exporter": "python",
   "pygments_lexer": "ipython3",
   "version": "3.9.5"
  },
  "orig_nbformat": 4,
  "vscode": {
   "interpreter": {
    "hash": "b8bdd4e700647ba2b08c59e5df8b7da1dcf50a218bcd4c1bcd9b3dc92e8788e5"
   }
  }
 },
 "nbformat": 4,
 "nbformat_minor": 2
}
