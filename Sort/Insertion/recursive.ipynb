{
 "cells": [
  {
   "cell_type": "code",
   "execution_count": 28,
   "metadata": {},
   "outputs": [],
   "source": [
    "def sort(numbers):\n",
    "    def inner(i=1):\n",
    "        try:\n",
    "            first_number = numbers[i]\n",
    "            for j in range(i):\n",
    "                if numbers[i] < numbers[j]:\n",
    "                    del numbers[i]\n",
    "                    numbers.insert(j, first_number)\n",
    "                    break\n",
    "            return inner(i + 1)\n",
    "        except IndexError:\n",
    "            return numbers\n",
    "    return inner()\n",
    "\n",
    "\n",
    "def sort(numbers):\n",
    "    def inner(i=1):\n",
    "        try:\n",
    "            first_number = numbers[i]\n",
    "            hole = i\n",
    "            while hole > 0 and first_number < numbers[hole - 1]:\n",
    "                numbers[hole] = numbers[hole - 1]\n",
    "                hole -= 1\n",
    "            numbers[hole] = first_number\n",
    "            return inner(i + 1)\n",
    "        except IndexError:\n",
    "            return numbers\n",
    "    return inner()\n",
    "\n",
    "\n",
    "def sort(numbers):\n",
    "    def inner(i=1):\n",
    "        try:\n",
    "            first_number = numbers[i]\n",
    "            j = i - 1\n",
    "            while j >= 0 and first_number < numbers[j]:\n",
    "                numbers[j + 1] = numbers[j]\n",
    "                j -= 1\n",
    "            numbers[j + 1] = first_number\n",
    "            return inner(i + 1)\n",
    "        except IndexError:\n",
    "            return numbers\n",
    "    return inner()\n"
   ]
  },
  {
   "cell_type": "code",
   "execution_count": null,
   "metadata": {},
   "outputs": [],
   "source": []
  }
 ],
 "metadata": {
  "kernelspec": {
   "display_name": "Python 3.9.5 64-bit",
   "language": "python",
   "name": "python3"
  },
  "language_info": {
   "codemirror_mode": {
    "name": "ipython",
    "version": 3
   },
   "file_extension": ".py",
   "mimetype": "text/x-python",
   "name": "python",
   "nbconvert_exporter": "python",
   "pygments_lexer": "ipython3",
   "version": "3.9.5"
  },
  "orig_nbformat": 4,
  "vscode": {
   "interpreter": {
    "hash": "b8bdd4e700647ba2b08c59e5df8b7da1dcf50a218bcd4c1bcd9b3dc92e8788e5"
   }
  }
 },
 "nbformat": 4,
 "nbformat_minor": 2
}
