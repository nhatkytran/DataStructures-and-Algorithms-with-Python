{
 "cells": [
  {
   "cell_type": "code",
   "execution_count": 1,
   "metadata": {},
   "outputs": [
    {
     "name": "stdout",
     "output_type": "stream",
     "text": [
      "[1, 1, 2, 2, 4, 5, 7]\n"
     ]
    }
   ],
   "source": [
    "def counting(numbers):\n",
    "    result = [None] * len(numbers)\n",
    "\n",
    "    # Count how many times each number appears\n",
    "    counting = [0] * (max(numbers) + 1)\n",
    "    for number in numbers:\n",
    "        counting[number] += 1\n",
    "    # --> [0, 2, 2, 0, 1, 1, 0, 1]\n",
    "\n",
    "    # Get index of each number\n",
    "    for i in range(1, len(counting)):\n",
    "        counting[i] += counting[i - 1]\n",
    "    # --> [0, 2, 4, 4, 5, 6, 6, 7]\n",
    "\n",
    "    # Get final result\n",
    "    for number in numbers:\n",
    "        index = counting[number] - 1\n",
    "        result[index] = number\n",
    "        counting[number] -= 1\n",
    "\n",
    "    return result\n",
    "\n",
    "\n",
    "print(counting([1, 4, 1, 2, 7, 5, 2]))\n"
   ]
  },
  {
   "cell_type": "code",
   "execution_count": null,
   "metadata": {},
   "outputs": [],
   "source": []
  }
 ],
 "metadata": {
  "kernelspec": {
   "display_name": "Python 3.9.5 64-bit",
   "language": "python",
   "name": "python3"
  },
  "language_info": {
   "codemirror_mode": {
    "name": "ipython",
    "version": 3
   },
   "file_extension": ".py",
   "mimetype": "text/x-python",
   "name": "python",
   "nbconvert_exporter": "python",
   "pygments_lexer": "ipython3",
   "version": "3.10.2"
  },
  "orig_nbformat": 4,
  "vscode": {
   "interpreter": {
    "hash": "b8bdd4e700647ba2b08c59e5df8b7da1dcf50a218bcd4c1bcd9b3dc92e8788e5"
   }
  }
 },
 "nbformat": 4,
 "nbformat_minor": 2
}
