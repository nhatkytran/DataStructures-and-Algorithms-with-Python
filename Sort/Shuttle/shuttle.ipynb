{
 "cells": [
  {
   "cell_type": "code",
   "execution_count": 5,
   "metadata": {},
   "outputs": [
    {
     "name": "stdout",
     "output_type": "stream",
     "text": [
      "[1, 2, 3, 4, 5, 7]\n"
     ]
    }
   ],
   "source": [
    "# Shuttle is like Insertion sort but Shuttle sort swap immediately\n",
    "\n",
    "\n",
    "def shuttle(numbers):\n",
    "    for i in range(1, len(numbers)):\n",
    "        hole = i\n",
    "        while hole > 0 and numbers[hole - 1] > numbers[hole]:\n",
    "            numbers[hole], numbers[hole - 1] = numbers[hole - 1], numbers[hole]\n",
    "            hole -= 1\n",
    "    return numbers\n",
    "\n",
    "\n",
    "def shuttle(numbers):\n",
    "    def inner(index=1):\n",
    "        if index == len(numbers):\n",
    "            return numbers\n",
    "        hole = index\n",
    "        while hole > 0 and numbers[hole - 1] > numbers[hole]:\n",
    "            numbers[hole], numbers[hole - 1] = numbers[hole - 1], numbers[hole]\n",
    "            hole -= 1\n",
    "        return inner(index + 1)\n",
    "    return inner()\n",
    "\n",
    "\n",
    "print(shuttle([5, 3, 4, 7, 1, 2]))\n"
   ]
  },
  {
   "cell_type": "code",
   "execution_count": null,
   "metadata": {},
   "outputs": [],
   "source": []
  }
 ],
 "metadata": {
  "kernelspec": {
   "display_name": "Python 3.9.5 64-bit",
   "language": "python",
   "name": "python3"
  },
  "language_info": {
   "codemirror_mode": {
    "name": "ipython",
    "version": 3
   },
   "file_extension": ".py",
   "mimetype": "text/x-python",
   "name": "python",
   "nbconvert_exporter": "python",
   "pygments_lexer": "ipython3",
   "version": "3.9.5"
  },
  "orig_nbformat": 4,
  "vscode": {
   "interpreter": {
    "hash": "b8bdd4e700647ba2b08c59e5df8b7da1dcf50a218bcd4c1bcd9b3dc92e8788e5"
   }
  }
 },
 "nbformat": 4,
 "nbformat_minor": 2
}
