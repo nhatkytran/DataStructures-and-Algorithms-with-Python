{
 "cells": [
  {
   "cell_type": "code",
   "execution_count": 10,
   "metadata": {},
   "outputs": [
    {
     "name": "stdout",
     "output_type": "stream",
     "text": [
      "(False, ' extra keys: None.c, None.b')\n"
     ]
    }
   ],
   "source": [
    "def match_keys(data, valid, path):\n",
    "    data_keys = data.keys()\n",
    "    valid_keys = valid.keys()\n",
    "    \n",
    "    missing_keys = valid_keys - data_keys\n",
    "    extra_keys = data_keys - valid_keys\n",
    "\n",
    "    if missing_keys or extra_keys:\n",
    "        missing_message = ('missing keys: ' + ', '.join({f'{path}.{key}' for key in missing_keys})) \\\n",
    "                            if missing_keys else ''\n",
    "        extra_message = ('extra keys: ' + ', '.join(f'{path}.{key}' for key in extra_keys)) \\\n",
    "                            if extra_keys else ''\n",
    "        return False, ' '.join((missing_message, extra_message))\n",
    "    else:\n",
    "        return True, None\n",
    "\n",
    "\n",
    "print(match_keys({'a': 1, 'b': 2, 'c': 3}, {'a': 1}, None))\n"
   ]
  },
  {
   "cell_type": "markdown",
   "metadata": {},
   "source": []
  }
 ],
 "metadata": {
  "kernelspec": {
   "display_name": "Python 3.9.5 64-bit",
   "language": "python",
   "name": "python3"
  },
  "language_info": {
   "codemirror_mode": {
    "name": "ipython",
    "version": 3
   },
   "file_extension": ".py",
   "mimetype": "text/x-python",
   "name": "python",
   "nbconvert_exporter": "python",
   "pygments_lexer": "ipython3",
   "version": "3.9.5"
  },
  "orig_nbformat": 4,
  "vscode": {
   "interpreter": {
    "hash": "b8bdd4e700647ba2b08c59e5df8b7da1dcf50a218bcd4c1bcd9b3dc92e8788e5"
   }
  }
 },
 "nbformat": 4,
 "nbformat_minor": 2
}
