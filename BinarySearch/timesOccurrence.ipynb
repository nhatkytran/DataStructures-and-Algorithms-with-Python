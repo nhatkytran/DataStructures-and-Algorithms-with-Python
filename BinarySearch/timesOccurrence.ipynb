{
 "cells": [
  {
   "cell_type": "code",
   "execution_count": null,
   "metadata": {},
   "outputs": [],
   "source": [
    "def position(list_, target, status):\n",
    "    left = 0\n",
    "    right = len(list_) - 1\n",
    "    result = -1\n",
    "    while left <= right:\n",
    "        middle = left + (right - left) // 2\n",
    "        if list_[middle] == target:\n",
    "            result = middle\n",
    "            if status == 'first':\n",
    "                right = middle - 1\n",
    "            if status == 'last':\n",
    "                left = middle + 1\n",
    "        if list_[middle] < target:\n",
    "            left = middle + 1\n",
    "        if list_[middle] > target:\n",
    "            right = middle - 1\n",
    "    return result\n",
    "\n",
    "\n",
    "def recursive_position(list_, target, status, left=None, right=None, result=-1):\n",
    "    if left is None or right is None:\n",
    "        left = 0\n",
    "        right = len(list_) - 1\n",
    "    if left > right:\n",
    "        return result\n",
    "    middle = left + (right - left) // 2\n",
    "    if list_[middle] == target:\n",
    "        result = middle\n",
    "        if status == 'first':\n",
    "            return recursive_position(list_, target, status, left, middle - 1, result)\n",
    "        if status == 'last':\n",
    "            return recursive_position(list_, target, status, middle + 1, right, result)\n",
    "    if list_[middle] < target:\n",
    "        return recursive_position(list_, target, status, middle + 1, right, result)\n",
    "    if list_[middle] > target:\n",
    "        return recursive_position(list_, target, status, left, middle - 1, result)\n",
    "\n",
    "\n",
    "def times_first_and_last(list_, target):\n",
    "    count = 0\n",
    "    first_index = position(list_, target, 'first')\n",
    "    if first_index == -1:\n",
    "        return count\n",
    "    last_index = position(list_, target, 'last')\n",
    "    return last_index - first_index + 1\n",
    "\n",
    "\n",
    "print(times([2, 4, 10, 10, 10, 10, 18, 20], 10))\n",
    "print(times([2, 4, 5, 10, 10, 10, 10, 18, 20], 10))\n",
    "print(times([2, 4, 10, 10, 10, 10, 15, 18, 20], 10))\n",
    "print(times([2, 4, 10, 10, 10, 10, 18, 20], 100))\n",
    "print(times([2, 4, 5, 10, 10, 10, 10, 18, 20], 100))\n",
    "print(times([2, 4, 10, 10, 10, 10, 15, 18, 20], 100))\n",
    "print(times([10, 10, 10, 10, 15, 18, 20], 10))\n",
    "print(times([2, 4, 10, 10, 10, 10], 10))\n"
   ]
  },
  {
   "cell_type": "code",
   "execution_count": null,
   "metadata": {},
   "outputs": [],
   "source": []
  }
 ],
 "metadata": {
  "kernelspec": {
   "display_name": "Python 3.9.5 64-bit",
   "language": "python",
   "name": "python3"
  },
  "language_info": {
   "codemirror_mode": {
    "name": "ipython",
    "version": 3
   },
   "file_extension": ".py",
   "mimetype": "text/x-python",
   "name": "python",
   "nbconvert_exporter": "python",
   "pygments_lexer": "ipython3",
   "version": "3.9.5"
  },
  "orig_nbformat": 4,
  "vscode": {
   "interpreter": {
    "hash": "b8bdd4e700647ba2b08c59e5df8b7da1dcf50a218bcd4c1bcd9b3dc92e8788e5"
   }
  }
 },
 "nbformat": 4,
 "nbformat_minor": 2
}
