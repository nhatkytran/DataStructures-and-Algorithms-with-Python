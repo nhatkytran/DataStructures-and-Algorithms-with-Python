{
 "cells": [
  {
   "cell_type": "code",
   "execution_count": 13,
   "metadata": {},
   "outputs": [],
   "source": [
    "def largest(list_, target):\n",
    "    left = 0\n",
    "    right = len(list_) - 1\n",
    "    result = -1\n",
    "    while left <= right:\n",
    "        middle = left + (right - left) // 2\n",
    "        if list_[middle] < target:\n",
    "            result = middle\n",
    "            left = middle + 1\n",
    "        if list_[middle] >= target:\n",
    "            right = middle - 1\n",
    "    return result\n",
    "\n",
    "\n",
    "def recursive_largest(list_, target, left=None, right=None, result=-1):\n",
    "    if left is None or right is None:\n",
    "        left = 0\n",
    "        right = len(list_) - 1\n",
    "    if left > right:\n",
    "        return result\n",
    "    middle = left + (right - left) // 2\n",
    "    if list_[middle] < target:\n",
    "        result = middle\n",
    "        return recursive_largest(list_, target, middle + 1, right, result)\n",
    "    if list_[middle] >= target:\n",
    "        return recursive_largest(list_, target, left, middle - 1, result)\n"
   ]
  },
  {
   "cell_type": "code",
   "execution_count": null,
   "metadata": {},
   "outputs": [],
   "source": []
  }
 ],
 "metadata": {
  "kernelspec": {
   "display_name": "Python 3.9.5 64-bit",
   "language": "python",
   "name": "python3"
  },
  "language_info": {
   "codemirror_mode": {
    "name": "ipython",
    "version": 3
   },
   "file_extension": ".py",
   "mimetype": "text/x-python",
   "name": "python",
   "nbconvert_exporter": "python",
   "pygments_lexer": "ipython3",
   "version": "3.9.5"
  },
  "orig_nbformat": 4,
  "vscode": {
   "interpreter": {
    "hash": "b8bdd4e700647ba2b08c59e5df8b7da1dcf50a218bcd4c1bcd9b3dc92e8788e5"
   }
  }
 },
 "nbformat": 4,
 "nbformat_minor": 2
}
