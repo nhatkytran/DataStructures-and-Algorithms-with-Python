{
 "cells": [
  {
   "cell_type": "code",
   "execution_count": 10,
   "metadata": {},
   "outputs": [
    {
     "name": "stdout",
     "output_type": "stream",
     "text": [
      "dp --> [None, None, 1, 2, 3, 5]\n",
      "5\n",
      "dp --> [None, None, 1, 2, 3, 5, 8, 13, 21, 34, 55, 89, 144, 233, 377, 610, 987, 1597, 2584, 4181, 6765, 10946, 17711, 28657, 46368, 75025, 121393, 196418, 317811, 514229, 832040, 1346269, 2178309, 3524578, 5702887, 9227465, 14930352, 24157817, 39088169, 63245986, 102334155, 165580141, 267914296, 433494437, 701408733, 1134903170, 1836311903, 2971215073, 4807526976, 7778742049, 12586269025]\n",
      "12586269025\n"
     ]
    }
   ],
   "source": [
    "# Memoization\n",
    "# Time complexity --> O(n)\n",
    "# Space complexity --> O(n)\n",
    "\n",
    "\n",
    "def fib(n):\n",
    "    dp = [None] * (n + 1)\n",
    "    def inner(n):\n",
    "        if n <= 1:\n",
    "            return n\n",
    "        if dp[n] is not None:\n",
    "            return dp[n]\n",
    "        result = inner(n - 1) + inner(n - 2)\n",
    "        dp[n] = result\n",
    "        return result\n",
    "    final_result = inner(n)\n",
    "    print('dp -->', dp)\n",
    "    return final_result\n",
    "\n",
    "\n",
    "print(fib(5))\n",
    "print(fib(50))\n"
   ]
  },
  {
   "cell_type": "code",
   "execution_count": 15,
   "metadata": {},
   "outputs": [
    {
     "name": "stdout",
     "output_type": "stream",
     "text": [
      "dp --> [0, 1, 1, 2, 3, 5]\n",
      "5\n",
      "dp --> [0, 1, 1, 2, 3, 5, 8, 13, 21, 34, 55, 89, 144, 233, 377, 610, 987, 1597, 2584, 4181, 6765, 10946, 17711, 28657, 46368, 75025, 121393, 196418, 317811, 514229, 832040, 1346269, 2178309, 3524578, 5702887, 9227465, 14930352, 24157817, 39088169, 63245986, 102334155, 165580141, 267914296, 433494437, 701408733, 1134903170, 1836311903, 2971215073, 4807526976, 7778742049, 12586269025]\n",
      "12586269025\n",
      "---\n"
     ]
    }
   ],
   "source": [
    "# Tabulation\n",
    "# Time complexity --> O(n)\n",
    "# Space complexity --> O(n)\n",
    "\n",
    "\n",
    "def fib(n):\n",
    "    if n <= 1: return n\n",
    "    dp = [None] * (n + 1)\n",
    "    dp[0], dp[1] = 0, 1\n",
    "    for i in range(2, n + 1):\n",
    "        dp[i] = dp[i - 1] + dp[i - 2]\n",
    "    print('dp -->', dp)\n",
    "    return dp[n]\n",
    "\n",
    "\n",
    "print(fib(5))\n",
    "print(fib(50))\n"
   ]
  },
  {
   "cell_type": "code",
   "execution_count": 18,
   "metadata": {},
   "outputs": [
    {
     "name": "stdout",
     "output_type": "stream",
     "text": [
      "5\n",
      "12586269025\n"
     ]
    }
   ],
   "source": [
    "# Tabulation\n",
    "# Time complexity --> O(n)\n",
    "# Space complexity --> O(1)\n",
    "\n",
    "\n",
    "def fib(n):\n",
    "    if n <= 1: return n\n",
    "    d0, d1 = 0, 1\n",
    "    for _ in range(2, n + 1):\n",
    "        d1, d0 = d0 + d1, d1\n",
    "    return d1\n",
    "\n",
    "\n",
    "print(fib(5))\n",
    "print(fib(50))\n"
   ]
  },
  {
   "cell_type": "code",
   "execution_count": null,
   "metadata": {},
   "outputs": [],
   "source": []
  }
 ],
 "metadata": {
  "kernelspec": {
   "display_name": "Python 3",
   "language": "python",
   "name": "python3"
  },
  "language_info": {
   "codemirror_mode": {
    "name": "ipython",
    "version": 3
   },
   "file_extension": ".py",
   "mimetype": "text/x-python",
   "name": "python",
   "nbconvert_exporter": "python",
   "pygments_lexer": "ipython3",
   "version": "3.10.2"
  }
 },
 "nbformat": 4,
 "nbformat_minor": 2
}
