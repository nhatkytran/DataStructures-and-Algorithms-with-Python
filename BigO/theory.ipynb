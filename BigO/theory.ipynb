{
 "cells": [
  {
   "cell_type": "code",
   "execution_count": 1,
   "metadata": {},
   "outputs": [],
   "source": [
    "# BigO focues on how thing scale\n",
    "# Input size is important and solve worst case scenario\n",
    "\n",
    "# Product rule: Get rid of constant term\n",
    "# O(2 * n) => O(n)\n",
    "# O(n / 2) => O((1 / 2) * n) => O(n)\n",
    "# O(12) => O(12 * 1) => O(1)\n",
    "\n",
    "# Sum rule: BigO is the sum of multiple terms, keep the largest term, drop the rest\n",
    "# O(n + 1) => O(n)\n",
    "# O(2(n ** 2) + 100n) => O(n ** 2 + n ) => O(n ** 2)\n",
    "\n",
    "# Analyzing recursive code with Space Complexity\n",
    "# => Should consider the space taken by recursive calls on the call stack\n",
    "\n",
    "# ////////////////////////////////////////////////////////////\n",
    "# Constant O(1): The number of steps does not depend on the input size\n",
    "# Logarithmic O(log(n)): The number of steps can be expressed as a logarithm on the input size\n",
    "# Linear O(n)\n",
    "# Loglinear O(n * log(n)): Has linear behavior nested in log steps, bigger than O(n) but smaller than O(n ** 2)\n",
    "# Polynomial O(n ** c)\n",
    "# Exponential O(c ** n)\n",
    "# Factorial O(n!)\n"
   ]
  },
  {
   "cell_type": "code",
   "execution_count": null,
   "metadata": {},
   "outputs": [],
   "source": []
  }
 ],
 "metadata": {
  "kernelspec": {
   "display_name": "Python 3.9.5 64-bit",
   "language": "python",
   "name": "python3"
  },
  "language_info": {
   "codemirror_mode": {
    "name": "ipython",
    "version": 3
   },
   "file_extension": ".py",
   "mimetype": "text/x-python",
   "name": "python",
   "nbconvert_exporter": "python",
   "pygments_lexer": "ipython3",
   "version": "3.9.5"
  },
  "orig_nbformat": 4,
  "vscode": {
   "interpreter": {
    "hash": "b8bdd4e700647ba2b08c59e5df8b7da1dcf50a218bcd4c1bcd9b3dc92e8788e5"
   }
  }
 },
 "nbformat": 4,
 "nbformat_minor": 2
}
