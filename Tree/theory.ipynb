{
 "cells": [
  {
   "cell_type": "code",
   "execution_count": 2,
   "metadata": {},
   "outputs": [],
   "source": [
    "# What's a tree?\n",
    "\n",
    "# A collection of nodes and edges where:\n",
    "# - There is one root\n",
    "# - There is only one unique path between any two nodes\n",
    "\n",
    "# Root node => have no parent\n",
    "# Leaf node => have no child\n",
    "\n",
    "# What's a binary tree?\n",
    "\n",
    "# Tree where each node has at most two children\n",
    "# Exactly one root\n",
    "# There is only one unique path between any two nodes\n",
    "\n",
    "# Empty tree => Tree that has no node => Every empty tree is a binary tree\n",
    "\n",
    "# Breadth First Traversal\n",
    "# Depth First Traversal\n",
    "\n",
    "# 3 Renditions of Depth First Traversal\n",
    "\n",
    "# - Pre-order: Self, Left, Right\n",
    "# - Post-order: Left, Right, Self\n",
    "# - In-order: Left, Self, Right\n"
   ]
  },
  {
   "cell_type": "code",
   "execution_count": null,
   "metadata": {},
   "outputs": [],
   "source": []
  }
 ],
 "metadata": {
  "kernelspec": {
   "display_name": "Python 3.9.5 64-bit",
   "language": "python",
   "name": "python3"
  },
  "language_info": {
   "codemirror_mode": {
    "name": "ipython",
    "version": 3
   },
   "file_extension": ".py",
   "mimetype": "text/x-python",
   "name": "python",
   "nbconvert_exporter": "python",
   "pygments_lexer": "ipython3",
   "version": "3.9.5"
  },
  "orig_nbformat": 4,
  "vscode": {
   "interpreter": {
    "hash": "b8bdd4e700647ba2b08c59e5df8b7da1dcf50a218bcd4c1bcd9b3dc92e8788e5"
   }
  }
 },
 "nbformat": 4,
 "nbformat_minor": 2
}
