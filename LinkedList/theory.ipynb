{
 "cells": [
  {
   "cell_type": "code",
   "execution_count": 1,
   "metadata": {},
   "outputs": [],
   "source": [
    "# What's special about linked list?\n",
    "# - Data structure where values are chained sequentially\n",
    "# - More efficient for insertion / deletion than arrays\n",
    "# - Does not require contiguous memory addressing\n",
    "\n",
    "# => Accessing data in linked list => O(n)\n",
    "\n",
    "# Special: does not require contiguous memory addressing to store data\n",
    "\n",
    "#           Array   Linked List\n",
    "# ------------------------------\n",
    "# Access    O(1)    O(n)\n",
    "# Insert    O(n)    O(1)\n",
    "# Deletion  O(n)    O(1)\n",
    "\n",
    "# Linked list structure: composed of nodes that contain\n",
    "# a sorted value and a reference to the next node"
   ]
  }
 ],
 "metadata": {
  "kernelspec": {
   "display_name": "Python 3.9.5 64-bit",
   "language": "python",
   "name": "python3"
  },
  "language_info": {
   "codemirror_mode": {
    "name": "ipython",
    "version": 3
   },
   "file_extension": ".py",
   "mimetype": "text/x-python",
   "name": "python",
   "nbconvert_exporter": "python",
   "pygments_lexer": "ipython3",
   "version": "3.9.5"
  },
  "orig_nbformat": 4,
  "vscode": {
   "interpreter": {
    "hash": "b8bdd4e700647ba2b08c59e5df8b7da1dcf50a218bcd4c1bcd9b3dc92e8788e5"
   }
  }
 },
 "nbformat": 4,
 "nbformat_minor": 2
}
