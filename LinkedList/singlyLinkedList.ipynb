{
 "cells": [
  {
   "cell_type": "code",
   "execution_count": 13,
   "metadata": {},
   "outputs": [],
   "source": [
    "class LinkedList:\n",
    "    def __init__(self):\n",
    "        self.head = None\n",
    "    \n",
    "    class Node:\n",
    "      def __init__(self, value):\n",
    "        self.value = value\n",
    "        self.next = None\n",
    "\n",
    "    def __len__(self):\n",
    "        count = 0\n",
    "        current = self.head\n",
    "        while current:\n",
    "            count += 1\n",
    "            current = current.next\n",
    "        return count\n",
    "    \n",
    "    def __repr__(self):\n",
    "        string = ''\n",
    "        current = self.head\n",
    "        while current:\n",
    "            string += f'{current.value} --> '\n",
    "            current = current.next\n",
    "        return string\n",
    "    \n",
    "    def append(self, value):\n",
    "        if not self.head:\n",
    "            self.head = self.Node(value)\n",
    "            return;\n",
    "        current = self.head\n",
    "        while (current.next != None):\n",
    "            current = current.next\n",
    "        current.next = self.Node(value)\n",
    "    \n",
    "    def contains(self, value):\n",
    "        current = self.head\n",
    "        while current:\n",
    "            if current.value == value:\n",
    "                return True\n",
    "            current = current.next\n",
    "        return False\n",
    "    \n",
    "    def sum(self):\n",
    "        total = 0\n",
    "        current = self.head\n",
    "        while current:\n",
    "            total += current.value\n",
    "            current = current.next\n",
    "        return total\n",
    "    \n",
    "    def remove(self, value):\n",
    "        prev = None\n",
    "        current = self.head\n",
    "        while current:\n",
    "            if current.value == value:\n",
    "                if not prev:\n",
    "                    self.head = self.head.next\n",
    "                    return\n",
    "                prev.next = current.next\n",
    "                return\n",
    "            prev = current\n",
    "            current = current.next\n",
    "\n",
    "\n",
    "linked_list = LinkedList()\n"
   ]
  },
  {
   "cell_type": "code",
   "execution_count": null,
   "metadata": {},
   "outputs": [],
   "source": []
  }
 ],
 "metadata": {
  "kernelspec": {
   "display_name": "Python 3.9.5 64-bit",
   "language": "python",
   "name": "python3"
  },
  "language_info": {
   "codemirror_mode": {
    "name": "ipython",
    "version": 3
   },
   "file_extension": ".py",
   "mimetype": "text/x-python",
   "name": "python",
   "nbconvert_exporter": "python",
   "pygments_lexer": "ipython3",
   "version": "3.9.5"
  },
  "orig_nbformat": 4,
  "vscode": {
   "interpreter": {
    "hash": "b8bdd4e700647ba2b08c59e5df8b7da1dcf50a218bcd4c1bcd9b3dc92e8788e5"
   }
  }
 },
 "nbformat": 4,
 "nbformat_minor": 2
}
