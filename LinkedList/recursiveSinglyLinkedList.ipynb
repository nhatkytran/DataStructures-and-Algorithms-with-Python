{
 "cells": [
  {
   "cell_type": "code",
   "execution_count": 4,
   "metadata": {},
   "outputs": [],
   "source": [
    "class LinkedList:\n",
    "    def __init__(self):\n",
    "        self.head = None\n",
    "    \n",
    "    class Node:\n",
    "      def __init__(self, value):\n",
    "        self.value = value\n",
    "        self.next = None\n",
    "\n",
    "    def __len__(self):\n",
    "        return self._length(self.head)\n",
    "\n",
    "    def _length(self, current):\n",
    "        if current is None:\n",
    "            return 0\n",
    "        return 1 + self._length(current.next)\n",
    "    \n",
    "    def __repr__(self):\n",
    "        return self._repr(self.head)\n",
    "\n",
    "    def _repr(self, current):\n",
    "        if current is None:\n",
    "            return '';\n",
    "        return f'{current.value} --> ' + self._repr(current.next)\n",
    "    \n",
    "    def append(self, value):\n",
    "        if self.head is None:\n",
    "            self.head = self.Node(value)\n",
    "            return\n",
    "        self._append(value, self.head)\n",
    "\n",
    "    def _append(self, value, current):\n",
    "        if current.next is None:\n",
    "            current.next = self.Node(value)\n",
    "            return\n",
    "        self._append(value, current.next)\n",
    "    \n",
    "    def contains(self, value):\n",
    "        return self._contains(value, self.head)\n",
    "    \n",
    "    def _contains(self, value, current):\n",
    "        if current is None:\n",
    "            return False\n",
    "        if current.value == value:\n",
    "            return True\n",
    "        return self._contains(value, current.next)\n",
    "\n",
    "\n",
    "linked_list = LinkedList()\n",
    "\n",
    "\n",
    "def sum_linked_list(linked_list_head):\n",
    "    if linked_list_head is None:\n",
    "        return 0\n",
    "    return linked_list_head.value + sum_linked_list(linked_list_head.next)\n"
   ]
  },
  {
   "cell_type": "code",
   "execution_count": null,
   "metadata": {},
   "outputs": [],
   "source": []
  }
 ],
 "metadata": {
  "kernelspec": {
   "display_name": "Python 3.9.5 64-bit",
   "language": "python",
   "name": "python3"
  },
  "language_info": {
   "codemirror_mode": {
    "name": "ipython",
    "version": 3
   },
   "file_extension": ".py",
   "mimetype": "text/x-python",
   "name": "python",
   "nbconvert_exporter": "python",
   "pygments_lexer": "ipython3",
   "version": "3.9.5"
  },
  "orig_nbformat": 4,
  "vscode": {
   "interpreter": {
    "hash": "b8bdd4e700647ba2b08c59e5df8b7da1dcf50a218bcd4c1bcd9b3dc92e8788e5"
   }
  }
 },
 "nbformat": 4,
 "nbformat_minor": 2
}
